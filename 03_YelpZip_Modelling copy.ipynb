{
 "cells": [
  {
   "cell_type": "code",
   "execution_count": null,
   "metadata": {
    "executionInfo": {
     "elapsed": 5858,
     "status": "ok",
     "timestamp": 1740227595364,
     "user": {
      "displayName": "joc",
      "userId": "03257841468945552602"
     },
     "user_tz": -480
    },
    "id": "-jMIBikVVMBN"
   },
   "outputs": [],
   "source": [
    "import joblib\n",
    "import os\n",
    "\n",
    "# Data Manipulation\n",
    "import pandas as pd\n",
    "import numpy as np\n",
    "\n",
    "# Machine Learning\n",
    "from sklearn.compose import ColumnTransformer\n",
    "from sklearn.preprocessing import MinMaxScaler\n",
    "from sklearn.model_selection import train_test_split, cross_val_score\n",
    "from sklearn.feature_extraction.text import TfidfVectorizer\n",
    "from sklearn.linear_model import LogisticRegression\n",
    "from sklearn.ensemble import RandomForestClassifier\n",
    "from sklearn.svm import SVC\n",
    "from sklearn.naive_bayes import MultinomialNB\n",
    "from imblearn.over_sampling import SMOTE\n",
    "from imblearn.combine import SMOTETomek\n",
    "from sklearn.metrics import classification_report, accuracy_score, silhouette_score, roc_auc_score, confusion_matrix, ConfusionMatrixDisplay\n",
    "\n",
    "# Visualization\n",
    "import matplotlib.pyplot as plt\n",
    "import seaborn as sns"
   ]
  },
  {
   "cell_type": "markdown",
   "metadata": {
    "id": "pz13AEZyqNEf"
   },
   "source": [
    "# Load Dataset"
   ]
  },
  {
   "cell_type": "code",
   "execution_count": 2,
   "metadata": {},
   "outputs": [],
   "source": [
    "def reduce_memory(df):\n",
    "    start_mem = df.memory_usage().sum() / 1024**2\n",
    "    print(f\"Initial memory usage: {start_mem:.2f} MB\")\n",
    "\n",
    "    for col in df.columns:\n",
    "        col_type = df[col].dtype\n",
    "\n",
    "        if col_type != object and col_type != 'category':\n",
    "            c_min = df[col].min()\n",
    "            c_max = df[col].max()\n",
    "\n",
    "            if str(col_type).startswith('int'):\n",
    "                if c_min > np.iinfo(np.int8).min and c_max < np.iinfo(np.int8).max:\n",
    "                    df[col] = df[col].astype(np.int8)\n",
    "                elif c_min > np.iinfo(np.int16).min and c_max < np.iinfo(np.int16).max:\n",
    "                    df[col] = df[col].astype(np.int16)\n",
    "                elif c_min > np.iinfo(np.int32).min and c_max < np.iinfo(np.int32).max:\n",
    "                    df[col] = df[col].astype(np.int32)\n",
    "            else:\n",
    "                df[col] = pd.to_numeric(df[col], downcast='float')\n",
    "        else:\n",
    "            df[col] = df[col].astype('category')\n",
    "\n",
    "    end_mem = df.memory_usage().sum() / 1024**2\n",
    "    print(f'Memory usage after optimization: {end_mem:.2f} MB')\n",
    "    print(f'Reduced by {(start_mem - end_mem) / start_mem:.1%}')\n",
    "\n",
    "    return df"
   ]
  },
  {
   "cell_type": "code",
   "execution_count": 3,
   "metadata": {
    "executionInfo": {
     "elapsed": 1852,
     "status": "ok",
     "timestamp": 1740227908008,
     "user": {
      "displayName": "joc",
      "userId": "03257841468945552602"
     },
     "user_tz": -480
    },
    "id": "HYeDtjmBqMg2"
   },
   "outputs": [
    {
     "name": "stdout",
     "output_type": "stream",
     "text": [
      "Initial memory usage: 3822.33 MB\n",
      "Memory usage after optimization: 1909.73 MB\n",
      "Reduced by 50.0%\n",
      "Initial memory usage: 3822.33 MB\n",
      "Memory usage after optimization: 1909.64 MB\n",
      "Reduced by 50.0%\n",
      "Initial memory usage: 3822.33 MB\n",
      "Memory usage after optimization: 1909.64 MB\n",
      "Reduced by 50.0%\n",
      "Initial memory usage: 3822.33 MB\n",
      "Memory usage after optimization: 1909.64 MB\n",
      "Reduced by 50.0%\n",
      "Initial memory usage: 990.75 MB\n",
      "Memory usage after optimization: 495.00 MB\n",
      "Reduced by 50.0%\n"
     ]
    }
   ],
   "source": [
    "chunk_size = 100000\n",
    "chunks = pd.read_csv(\"00_dataset/without_stopwords/train_features.csv\", chunksize=chunk_size, low_memory=False)\n",
    "\n",
    "df_trainChunks = [reduce_memory(chunk) for chunk in chunks]\n",
    "df_train = pd.concat(df_trainChunks, axis=0)\n",
    "\n",
    "# df_train = pd.read_csv(\"00_dataset/without_stopwords/train_features.csv\")"
   ]
  },
  {
   "cell_type": "code",
   "execution_count": 9,
   "metadata": {},
   "outputs": [
    {
     "data": {
      "text/plain": [
       "0                       float32\n",
       "1                       float32\n",
       "2                       float32\n",
       "3                       float32\n",
       "4                       float32\n",
       "                         ...   \n",
       "uppercase_ratio         float32\n",
       "duplicate_word_count      int16\n",
       "emoji_count                int8\n",
       "avg_word_length         float32\n",
       "label                      int8\n",
       "Length: 5010, dtype: object"
      ]
     },
     "execution_count": 9,
     "metadata": {},
     "output_type": "execute_result"
    }
   ],
   "source": [
    "df_train.dtypes"
   ]
  },
  {
   "cell_type": "code",
   "execution_count": 5,
   "metadata": {},
   "outputs": [
    {
     "name": "stdout",
     "output_type": "stream",
     "text": [
      "Initial memory usage: 3822.33 MB\n",
      "Memory usage after optimization: 1909.64 MB\n",
      "Reduced by 50.0%\n",
      "Initial memory usage: 829.14 MB\n",
      "Memory usage after optimization: 414.24 MB\n",
      "Reduced by 50.0%\n",
      "Initial memory usage: 2325.73 MB\n",
      "Memory usage after optimization: 1161.94 MB\n",
      "Reduced by 50.0%\n"
     ]
    }
   ],
   "source": [
    "chunk_size = 100000\n",
    "chunks_test = pd.read_csv(\"00_dataset/without_stopwords/test_features.csv\", chunksize=chunk_size, low_memory=False)\n",
    "chunks_val = pd.read_csv(\"00_dataset/without_stopwords/val_features.csv\", chunksize=chunk_size, low_memory=False)\n",
    "\n",
    "df_testChunks = [reduce_memory(chunk_test) for chunk_test in chunks_test]\n",
    "df_test = pd.concat(df_testChunks, axis=0)\n",
    "\n",
    "df_valChunks = [reduce_memory(chunk_val) for chunk_val in chunks_val]\n",
    "df_val = pd.concat(df_valChunks, axis=0)\n",
    "\n",
    "# df_test = pd.read_csv(\"00_dataset/without_stopwords/test_features.csv\", low_memory=False)\n",
    "# df_val = pd.read_csv(\"00_dataset/without_stopwords/val_features.csv\", low_memory=False)"
   ]
  },
  {
   "cell_type": "code",
   "execution_count": 6,
   "metadata": {},
   "outputs": [
    {
     "data": {
      "text/html": [
       "<div>\n",
       "<style scoped>\n",
       "    .dataframe tbody tr th:only-of-type {\n",
       "        vertical-align: middle;\n",
       "    }\n",
       "\n",
       "    .dataframe tbody tr th {\n",
       "        vertical-align: top;\n",
       "    }\n",
       "\n",
       "    .dataframe thead th {\n",
       "        text-align: right;\n",
       "    }\n",
       "</style>\n",
       "<table border=\"1\" class=\"dataframe\">\n",
       "  <thead>\n",
       "    <tr style=\"text-align: right;\">\n",
       "      <th></th>\n",
       "      <th>0</th>\n",
       "      <th>1</th>\n",
       "      <th>2</th>\n",
       "      <th>3</th>\n",
       "      <th>4</th>\n",
       "      <th>5</th>\n",
       "      <th>6</th>\n",
       "      <th>7</th>\n",
       "      <th>8</th>\n",
       "      <th>9</th>\n",
       "      <th>...</th>\n",
       "      <th>sentiment_score</th>\n",
       "      <th>vader_score</th>\n",
       "      <th>review_length</th>\n",
       "      <th>exclamation_count</th>\n",
       "      <th>question_count</th>\n",
       "      <th>uppercase_ratio</th>\n",
       "      <th>duplicate_word_count</th>\n",
       "      <th>emoji_count</th>\n",
       "      <th>avg_word_length</th>\n",
       "      <th>label</th>\n",
       "    </tr>\n",
       "  </thead>\n",
       "  <tbody>\n",
       "    <tr>\n",
       "      <th>0</th>\n",
       "      <td>0.0</td>\n",
       "      <td>0.0</td>\n",
       "      <td>0.0</td>\n",
       "      <td>0.0</td>\n",
       "      <td>0.0</td>\n",
       "      <td>0.0</td>\n",
       "      <td>0.0</td>\n",
       "      <td>0.0</td>\n",
       "      <td>0.0</td>\n",
       "      <td>0.0</td>\n",
       "      <td>...</td>\n",
       "      <td>0.194444</td>\n",
       "      <td>0.9611</td>\n",
       "      <td>73</td>\n",
       "      <td>0</td>\n",
       "      <td>0</td>\n",
       "      <td>0.027708</td>\n",
       "      <td>23</td>\n",
       "      <td>0</td>\n",
       "      <td>4.452055</td>\n",
       "      <td>0</td>\n",
       "    </tr>\n",
       "    <tr>\n",
       "      <th>1</th>\n",
       "      <td>0.0</td>\n",
       "      <td>0.0</td>\n",
       "      <td>0.0</td>\n",
       "      <td>0.0</td>\n",
       "      <td>0.0</td>\n",
       "      <td>0.0</td>\n",
       "      <td>0.0</td>\n",
       "      <td>0.0</td>\n",
       "      <td>0.0</td>\n",
       "      <td>0.0</td>\n",
       "      <td>...</td>\n",
       "      <td>0.187037</td>\n",
       "      <td>0.9422</td>\n",
       "      <td>46</td>\n",
       "      <td>1</td>\n",
       "      <td>0</td>\n",
       "      <td>0.030534</td>\n",
       "      <td>12</td>\n",
       "      <td>0</td>\n",
       "      <td>4.717391</td>\n",
       "      <td>0</td>\n",
       "    </tr>\n",
       "    <tr>\n",
       "      <th>2</th>\n",
       "      <td>0.0</td>\n",
       "      <td>0.0</td>\n",
       "      <td>0.0</td>\n",
       "      <td>0.0</td>\n",
       "      <td>0.0</td>\n",
       "      <td>0.0</td>\n",
       "      <td>0.0</td>\n",
       "      <td>0.0</td>\n",
       "      <td>0.0</td>\n",
       "      <td>0.0</td>\n",
       "      <td>...</td>\n",
       "      <td>-0.147253</td>\n",
       "      <td>0.7906</td>\n",
       "      <td>38</td>\n",
       "      <td>0</td>\n",
       "      <td>0</td>\n",
       "      <td>0.031579</td>\n",
       "      <td>9</td>\n",
       "      <td>0</td>\n",
       "      <td>4.026316</td>\n",
       "      <td>0</td>\n",
       "    </tr>\n",
       "    <tr>\n",
       "      <th>3</th>\n",
       "      <td>0.0</td>\n",
       "      <td>0.0</td>\n",
       "      <td>0.0</td>\n",
       "      <td>0.0</td>\n",
       "      <td>0.0</td>\n",
       "      <td>0.0</td>\n",
       "      <td>0.0</td>\n",
       "      <td>0.0</td>\n",
       "      <td>0.0</td>\n",
       "      <td>0.0</td>\n",
       "      <td>...</td>\n",
       "      <td>0.253842</td>\n",
       "      <td>0.9874</td>\n",
       "      <td>108</td>\n",
       "      <td>8</td>\n",
       "      <td>0</td>\n",
       "      <td>0.076923</td>\n",
       "      <td>41</td>\n",
       "      <td>0</td>\n",
       "      <td>4.185185</td>\n",
       "      <td>0</td>\n",
       "    </tr>\n",
       "    <tr>\n",
       "      <th>4</th>\n",
       "      <td>0.0</td>\n",
       "      <td>0.0</td>\n",
       "      <td>0.0</td>\n",
       "      <td>0.0</td>\n",
       "      <td>0.0</td>\n",
       "      <td>0.0</td>\n",
       "      <td>0.0</td>\n",
       "      <td>0.0</td>\n",
       "      <td>0.0</td>\n",
       "      <td>0.0</td>\n",
       "      <td>...</td>\n",
       "      <td>0.257143</td>\n",
       "      <td>0.8903</td>\n",
       "      <td>53</td>\n",
       "      <td>0</td>\n",
       "      <td>0</td>\n",
       "      <td>0.040134</td>\n",
       "      <td>21</td>\n",
       "      <td>0</td>\n",
       "      <td>4.660378</td>\n",
       "      <td>0</td>\n",
       "    </tr>\n",
       "  </tbody>\n",
       "</table>\n",
       "<p>5 rows × 5010 columns</p>\n",
       "</div>"
      ],
      "text/plain": [
       "     0    1    2    3    4    5    6    7    8    9  ...  sentiment_score  \\\n",
       "0  0.0  0.0  0.0  0.0  0.0  0.0  0.0  0.0  0.0  0.0  ...         0.194444   \n",
       "1  0.0  0.0  0.0  0.0  0.0  0.0  0.0  0.0  0.0  0.0  ...         0.187037   \n",
       "2  0.0  0.0  0.0  0.0  0.0  0.0  0.0  0.0  0.0  0.0  ...        -0.147253   \n",
       "3  0.0  0.0  0.0  0.0  0.0  0.0  0.0  0.0  0.0  0.0  ...         0.253842   \n",
       "4  0.0  0.0  0.0  0.0  0.0  0.0  0.0  0.0  0.0  0.0  ...         0.257143   \n",
       "\n",
       "   vader_score  review_length  exclamation_count  question_count  \\\n",
       "0       0.9611             73                  0               0   \n",
       "1       0.9422             46                  1               0   \n",
       "2       0.7906             38                  0               0   \n",
       "3       0.9874            108                  8               0   \n",
       "4       0.8903             53                  0               0   \n",
       "\n",
       "   uppercase_ratio  duplicate_word_count  emoji_count  avg_word_length  label  \n",
       "0         0.027708                    23            0         4.452055      0  \n",
       "1         0.030534                    12            0         4.717391      0  \n",
       "2         0.031579                     9            0         4.026316      0  \n",
       "3         0.076923                    41            0         4.185185      0  \n",
       "4         0.040134                    21            0         4.660378      0  \n",
       "\n",
       "[5 rows x 5010 columns]"
      ]
     },
     "execution_count": 6,
     "metadata": {},
     "output_type": "execute_result"
    }
   ],
   "source": [
    "df_train.head()"
   ]
  },
  {
   "cell_type": "code",
   "execution_count": 7,
   "metadata": {},
   "outputs": [],
   "source": [
    "# Separate into X and y\n",
    "X_train = df_train.drop(columns=[\"label\"])\n",
    "y_train = df_train[\"label\"]\n",
    "\n",
    "X_test = df_test.drop(columns=[\"label\"])\n",
    "y_test = df_test[\"label\"]\n",
    "\n",
    "X_val = df_val.drop(columns=[\"label\"])\n",
    "y_val = df_val[\"label\"]"
   ]
  },
  {
   "cell_type": "code",
   "execution_count": null,
   "metadata": {},
   "outputs": [],
   "source": [
    "# Feature Scaling\n",
    "ct_mm = ColumnTransformer(transformers=[('MinMaxScaler', MinMaxScaler(), ['sentiment_score', 'vader_score', 'review_length', 'exclamation_count', 'question_count', 'uppercase_ratio', 'duplicate_word_count', 'emoji_count', 'avg_word_length'])], remainder='passthrough')\n",
    "X_train_mmscaled = ct_mm.fit_transform(X_train)\n",
    "X_test_mmscaled = ct_mm.transform(X_test)\n",
    "X_val_mmscaled = ct_mm.transform(X_val)"
   ]
  },
  {
   "cell_type": "code",
   "execution_count": null,
   "metadata": {},
   "outputs": [
    {
     "name": "stdout",
     "output_type": "stream",
     "text": [
      "ColumnTransformer Min Max Scaler saved successfully.\n"
     ]
    }
   ],
   "source": [
    "joblib.dump(ct_mm, '00_dataset/without_stopwords/column_transformer_minMaxScaler.joblib')\n",
    "print(\"ColumnTransformer Min Max Scaler saved successfully.\")"
   ]
  },
  {
   "cell_type": "code",
   "execution_count": 26,
   "metadata": {},
   "outputs": [
    {
     "name": "stdout",
     "output_type": "stream",
     "text": [
      "Train Class Distribution:\n",
      " label\n",
      "0    0.867799\n",
      "1    0.132201\n",
      "Name: proportion, dtype: float64\n",
      "\n",
      "Validation Class Distribution:\n",
      " label\n",
      "0    0.867797\n",
      "1    0.132203\n",
      "Name: proportion, dtype: float64\n",
      "\n",
      "Test Class Distribution:\n",
      " label\n",
      "0    0.867797\n",
      "1    0.132203\n",
      "Name: proportion, dtype: float64\n"
     ]
    }
   ],
   "source": [
    "# Check class distribution after split\n",
    "print(\"Train Class Distribution:\\n\", y_train.value_counts(normalize=True))\n",
    "print(\"\\nValidation Class Distribution:\\n\", y_val.value_counts(normalize=True))\n",
    "print(\"\\nTest Class Distribution:\\n\", y_test.value_counts(normalize=True))"
   ]
  },
  {
   "cell_type": "code",
   "execution_count": 27,
   "metadata": {},
   "outputs": [
    {
     "name": "stdout",
     "output_type": "stream",
     "text": [
      "Contains negative values: False\n"
     ]
    }
   ],
   "source": [
    "print(\"Contains negative values:\", np.any(X_train_mmscaled < 0))\n"
   ]
  },
  {
   "cell_type": "code",
   "execution_count": null,
   "metadata": {},
   "outputs": [],
   "source": [
    "# # Load the latest saved model\n",
    "# nb = joblib.load('multinomial_nb_batch_X.joblib')  # Replace X with your last completed batch number\n",
    "\n",
    "# # Continue training from the next batch\n",
    "# for i in range(X+1, num_batches):\n",
    "#     start = i * batch_size\n",
    "#     end = min(start + batch_size, X_train_scaled.shape[0])\n",
    "    \n",
    "#     X_batch = X_train_scaled[start:end]\n",
    "#     y_batch = y_train[start:end]\n",
    "    \n",
    "#     nb.partial_fit(X_batch, y_batch)\n",
    "#     joblib.dump(nb, f'multinomial_nb_batch_{i}.joblib')\n",
    "#     print(f'Resumed: Batch {i+1}/{num_batches} completed and saved.')"
   ]
  },
  {
   "cell_type": "markdown",
   "metadata": {},
   "source": [
    "## Balanced Model"
   ]
  },
  {
   "cell_type": "code",
   "execution_count": null,
   "metadata": {},
   "outputs": [
    {
     "name": "stdout",
     "output_type": "stream",
     "text": [
      "Batch 1/9 completed and saved.\n",
      "Batch 2/9 completed and saved.\n",
      "Batch 3/9 completed and saved.\n",
      "Batch 4/9 completed and saved.\n",
      "Batch 5/9 completed and saved.\n",
      "Batch 6/9 completed and saved.\n",
      "Batch 7/9 completed and saved.\n",
      "Batch 8/9 completed and saved.\n",
      "Batch 9/9 completed and saved.\n"
     ]
    }
   ],
   "source": [
    "os.makedirs('00_dataset/without_stopwords/nb_classweights', exist_ok=True)\n",
    "\n",
    "# Define the model\n",
    "nb = MultinomialNB(class_prior=[0.5, 0.5])\n",
    "\n",
    "batch_size = 50000\n",
    "num_batches = int(np.ceil(X_train_mmscaled.shape[0] / batch_size))\n",
    "\n",
    "for i in range(num_batches):\n",
    "    start = i * batch_size\n",
    "    end = min(start + batch_size, X_train_mmscaled.shape[0])\n",
    "    \n",
    "    X_batch = X_train_mmscaled[start:end]\n",
    "    y_batch = y_train[start:end]\n",
    "    \n",
    "    if i == 0:\n",
    "        # Initial fit with all possible classes\n",
    "        nb.partial_fit(X_batch, y_batch, classes=np.array([0, 1]))\n",
    "    else:\n",
    "        nb.partial_fit(X_batch, y_batch)\n",
    "    \n",
    "    # Save the model after each batch\n",
    "    joblib.dump(nb, f'00_dataset/without_stopwords/nb_classweights/multinomial_nb_batch_{i}.joblib')\n",
    "    print(f'Batch {i+1}/{num_batches} completed and saved.')"
   ]
  },
  {
   "cell_type": "code",
   "execution_count": null,
   "metadata": {},
   "outputs": [
    {
     "name": "stdout",
     "output_type": "stream",
     "text": [
      "Validation Accuracy: 0.6436\n",
      "\n",
      "Classification Report:\n",
      "               precision    recall  f1-score   support\n",
      "\n",
      "           0       0.93      0.64      0.76     52802\n",
      "           1       0.22      0.68      0.34      8044\n",
      "\n",
      "    accuracy                           0.64     60846\n",
      "   macro avg       0.58      0.66      0.55     60846\n",
      "weighted avg       0.84      0.64      0.70     60846\n",
      "\n"
     ]
    },
    {
     "data": {
      "text/plain": [
       "<sklearn.metrics._plot.confusion_matrix.ConfusionMatrixDisplay at 0x1be40815640>"
      ]
     },
     "execution_count": 32,
     "metadata": {},
     "output_type": "execute_result"
    },
    {
     "data": {
      "image/png": "[encoded data removed]",
      "text/plain": [
       "<Figure size 640x480 with 2 Axes>"
      ]
     },
     "metadata": {},
     "output_type": "display_data"
    }
   ],
   "source": [
    "# Load the last saved model\n",
    "nb = joblib.load('00_dataset/without_stopwords/nb_classweights/multinomial_nb_batch_X.joblib') # Replace X with the last batch number\n",
    "\n",
    "# Predict on validation data\n",
    "y_val_pred = nb.predict(X_val_mmscaled)\n",
    "\n",
    "# Evaluate performance\n",
    "accuracy = accuracy_score(y_val, y_val_pred)\n",
    "print(f\"Validation Accuracy: {accuracy:.4f}\")\n",
    "\n",
    "print(\"\\nClassification Report:\\n\", classification_report(y_val, y_val_pred))\n",
    "\n",
    "# Generate confusion matrix\n",
    "cm = confusion_matrix(y_val, y_val_pred)\n",
    "\n",
    "# Display confusion matrix\n",
    "disp = ConfusionMatrixDisplay(confusion_matrix=cm, display_labels=[0, 1])\n",
    "disp.plot(cmap=\"Blues\")  # Choose a color map for visualization"
   ]
  },
  {
   "cell_type": "code",
   "execution_count": null,
   "metadata": {},
   "outputs": [],
   "source": [
    "os.makedirs('00_dataset/without_stopwords/lr_classweights', exist_ok=True)\n",
    "\n",
    "lr = LogisticRegression(max_iter=1000, solver='saga', n_jobs=-1, random_state=42, class_weight='balanced')\n",
    "lr.fit(X_train_mmscaled, y_train)\n",
    "\n",
    "joblib.dump(lr, '00_dataset/without_stopwords/lr_classweights/lr_full.joblib')\n",
    "print(\"Logistic Regression training completed and saved.\")"
   ]
  },
  {
   "cell_type": "code",
   "execution_count": null,
   "metadata": {},
   "outputs": [],
   "source": [
    "smote = SMOTE(sampling_strategy='auto', random_state=42)\n",
    "X_train_smote, y_train_smote = smote.fit_resample(X_train_mmscaled, y_train)"
   ]
  },
  {
   "cell_type": "code",
   "execution_count": null,
   "metadata": {},
   "outputs": [],
   "source": [
    "nb_smote = MultinomialNB(class_prior=[0.5, 0.5])\n",
    "nb_smote.fit(X_train_smote, y_train_smote)\n",
    "\n",
    "# Save the model\n",
    "joblib.dump(nb_smote, '00_dataset/without_stopwords/nb_classweights/nb_smote.joblib')\n",
    "print(\"Naive Bayes with SMOTE training completed and saved.\")"
   ]
  },
  {
   "cell_type": "code",
   "execution_count": null,
   "metadata": {},
   "outputs": [],
   "source": [
    "# Train Logistic Regression\n",
    "lr_smote = LogisticRegression(class_weight='balanced', max_iter=1000, solver='saga')\n",
    "lr_smote.fit(X_train_smote, y_train_smote)\n",
    "\n",
    "# Save the model\n",
    "joblib.dump(lr_smote, '00_dataset/without_stopwords/lr_classweights/lr_smote.joblib')\n",
    "print(\"Logistic Regression with SMOTE training completed and saved.\")"
   ]
  }
 ],
 "metadata": {
  "colab": {
   "authorship_tag": "ABX9TyO6Iv3wImR/68tHMhlvmBj2",
   "collapsed_sections": [
    "5LAdCfvbsB2Q",
    "kN6Ff2xnpcYW",
    "BRw6BrTTtID5"
   ],
   "provenance": []
  },
  "kernelspec": {
   "display_name": "Python 3",
   "name": "python3"
  },
  "language_info": {
   "codemirror_mode": {
    "name": "ipython",
    "version": 3
   },
   "file_extension": ".py",
   "mimetype": "text/x-python",
   "name": "python",
   "nbconvert_exporter": "python",
   "pygments_lexer": "ipython3",
   "version": "3.12.3"
  }
 },
 "nbformat": 4,
 "nbformat_minor": 0
}
