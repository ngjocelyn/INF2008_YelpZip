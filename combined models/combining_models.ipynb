{
  "nbformat": 4,
  "nbformat_minor": 0,
  "metadata": {
    "colab": {
      "provenance": []
    },
    "kernelspec": {
      "name": "python3",
      "display_name": "Python 3"
    },
    "language_info": {
      "name": "python"
    }
  },
  "cells": [
    {
      "cell_type": "markdown",
      "source": [
        "# MCC and PRAUC have same weights"
      ],
      "metadata": {
        "id": "P6u82ZiUBTXp"
      }
    },
    {
      "cell_type": "code",
      "source": [
        "import pandas as pd\n",
        "from sklearn.metrics import (\n",
        "    accuracy_score, precision_score, recall_score, f1_score, balanced_accuracy_score,\n",
        "    matthews_corrcoef, roc_auc_score, precision_recall_curve, auc\n",
        ")\n",
        "\n",
        "# Load model predictions\n",
        "team1_df = pd.read_csv(\"team1_probabilities.csv\")\n",
        "team2_df = pd.read_csv(\"team2_probabilities.csv\")\n",
        "\n",
        "# Load MCC and PR_AUC values\n",
        "model_acc_df = pd.read_csv('indiv_team_accuracy.csv',\n",
        "                           header=None,\n",
        "                           names=[\"team\", \"Accuracy\", \"Balanced Accuracy\", \"MCC\", \"PR_AUC_1\"])\n",
        "\n",
        "# Extract MCC and PR-AUC for both teams\n",
        "mcc_1, pr_auc_1 = model_acc_df.loc[model_acc_df['team'] == 'team1', ['MCC', 'PR_AUC_1']].values[0]\n",
        "mcc_2, pr_auc_2 = model_acc_df.loc[model_acc_df['team'] == 'team2', ['MCC', 'PR_AUC_1']].values[0]\n",
        "\n",
        "# Compute simple average weights\n",
        "w1 = (mcc_1 + pr_auc_1) / (mcc_1 + pr_auc_1 + mcc_2 + pr_auc_2)\n",
        "w2 = (mcc_2 + pr_auc_2) / (mcc_1 + pr_auc_1 + mcc_2 + pr_auc_2)\n",
        "\n",
        "# Compute weighted probability for Class 1 (Spam)\n",
        "team1_prob = team1_df[\"Prob (Class 1 - Spam)\"]\n",
        "team2_prob = team2_df[\"Prob (Class 1 - Spam)\"]\n",
        "final_prob = w1 * team1_prob + w2 * team2_prob\n",
        "\n",
        "# Assign labels based on 0.5 threshold\n",
        "predicted_label = (final_prob >= 0.5).astype(int)\n",
        "y_true = team1_df[\"Actual Label\"]\n",
        "\n",
        "# Compute basic metrics\n",
        "accuracy = accuracy_score(y_true, predicted_label)\n",
        "precision = precision_score(y_true, predicted_label)\n",
        "recall = recall_score(y_true, predicted_label)\n",
        "f1 = f1_score(y_true, predicted_label)\n",
        "balanced_acc = balanced_accuracy_score(y_true, predicted_label)\n",
        "mcc = matthews_corrcoef(y_true, predicted_label)\n",
        "\n",
        "# Compute ROC-AUC for each class\n",
        "roc_auc_0 = roc_auc_score(y_true, predicted_label, average=None)\n",
        "roc_auc_1 = roc_auc_score(y_true, predicted_label)\n",
        "\n",
        "# Compute PR-AUC for each class\n",
        "precision_0, recall_0, _ = precision_recall_curve(y_true == 0, predicted_label)\n",
        "precision_1, recall_1, _ = precision_recall_curve(y_true == 1, predicted_label)\n",
        "pr_auc_0 = auc(recall_0, precision_0)\n",
        "pr_auc_1 = auc(recall_1, precision_1)\n",
        "\n",
        "# Save metrics to a DataFrame\n",
        "metrics_df = pd.DataFrame([{\n",
        "    \"Model\": \"Simple\",  # New column added at the start\n",
        "    \"Accuracy\": accuracy,\n",
        "    \"Balanced Accuracy\": balanced_acc,\n",
        "    \"Precision\": precision,\n",
        "    \"Recall\": recall,\n",
        "    \"F1-score\": f1,\n",
        "    \"MCC\": mcc,\n",
        "    \"PR-AUC (Class 0 - Real)\": pr_auc_0,\n",
        "    \"PR-AUC (Class 1 - Fake)\": pr_auc_1,\n",
        "    \"ROC-AUC (Class 0 - Real)\": roc_auc_0,\n",
        "    \"ROC-AUC (Class 1 - Fake)\": roc_auc_1\n",
        "}])\n",
        "\n",
        "# Save to CSV\n",
        "metrics_df.to_csv(\"weight_comparison.csv\", index=False)\n",
        "\n",
        "print(\"Metrics saved to weight_comparison.csv ✅\")\n"
      ],
      "metadata": {
        "colab": {
          "base_uri": "https://localhost:8080/"
        },
        "id": "geToWC3jBnNM",
        "outputId": "e73b3774-de5c-4942-abb1-128f25e58d0d"
      },
      "execution_count": 12,
      "outputs": [
        {
          "output_type": "stream",
          "name": "stdout",
          "text": [
            "Metrics saved to weight_comparison.csv ✅\n"
          ]
        },
        {
          "output_type": "stream",
          "name": "stderr",
          "text": [
            "<ipython-input-12-7ec5539188bf>:9: DtypeWarning: Columns (9) have mixed types. Specify dtype option on import or set low_memory=False.\n",
            "  team2_df = pd.read_csv(\"team2_probabilities.csv\")\n"
          ]
        }
      ]
    },
    {
      "cell_type": "markdown",
      "source": [
        "# PR-AUC only"
      ],
      "metadata": {
        "id": "S-W29fqNDvK0"
      }
    },
    {
      "cell_type": "code",
      "source": [
        "import pandas as pd\n",
        "from sklearn.metrics import (\n",
        "    accuracy_score, precision_score, recall_score, f1_score, balanced_accuracy_score,\n",
        "    matthews_corrcoef, roc_auc_score, precision_recall_curve, auc\n",
        ")\n",
        "\n",
        "# Load model probability outputs\n",
        "team1_df = pd.read_csv(\"team1_probabilities.csv\")\n",
        "team2_df = pd.read_csv(\"team2_probabilities.csv\")\n",
        "\n",
        "# Load PR-AUC scores\n",
        "model_acc_df = pd.read_csv('indiv_team_accuracy.csv',\n",
        "                           header=None,\n",
        "                           names=[\"team\", \"Accuracy\", \"Balanced Accuracy\", \"MCC\", \"PR_AUC_1\"])\n",
        "pr_auc_team1 = model_acc_df.loc[model_acc_df[\"team\"] == \"team1\", \"PR_AUC_1\"].values[0]\n",
        "pr_auc_team2 = model_acc_df.loc[model_acc_df[\"team\"] == \"team2\", \"PR_AUC_1\"].values[0]\n",
        "\n",
        "# Normalize PR-AUC weights so they sum to 1\n",
        "total_pr_auc = pr_auc_team1 + pr_auc_team2\n",
        "w1 = pr_auc_team1 / total_pr_auc\n",
        "w2 = pr_auc_team2 / total_pr_auc\n",
        "\n",
        "# Compute weighted probability for Class 1 (Fake)\n",
        "weighted_prob_1 = (w1 * team1_df[\"Prob (Class 1 - Spam)\"]) + (w2 * team2_df[\"Prob (Class 1 - Spam)\"])\n",
        "\n",
        "# Convert weighted probabilities into final labels (Threshold: 0.5)\n",
        "final_pred_labels = (weighted_prob_1 >= 0.5).astype(int)\n",
        "y_true = team1_df[\"Actual Label\"]\n",
        "\n",
        "# Compute basic metrics\n",
        "accuracy = accuracy_score(y_true, final_pred_labels)\n",
        "precision = precision_score(y_true, final_pred_labels)\n",
        "recall = recall_score(y_true, final_pred_labels)\n",
        "f1 = f1_score(y_true, final_pred_labels)\n",
        "balanced_acc = balanced_accuracy_score(y_true, final_pred_labels)\n",
        "mcc = matthews_corrcoef(y_true, final_pred_labels)\n",
        "\n",
        "# Compute ROC-AUC for each class\n",
        "roc_auc_0 = roc_auc_score(y_true, final_pred_labels, average=None)\n",
        "roc_auc_1 = roc_auc_score(y_true, final_pred_labels)\n",
        "\n",
        "# Compute PR-AUC for each class\n",
        "precision_0, recall_0, _ = precision_recall_curve(y_true == 0, final_pred_labels)\n",
        "precision_1, recall_1, _ = precision_recall_curve(y_true == 1, final_pred_labels)\n",
        "pr_auc_0 = auc(recall_0, precision_0)\n",
        "pr_auc_1 = auc(recall_1, precision_1)\n",
        "\n",
        "# Save metrics to a DataFrame\n",
        "metrics_df = pd.DataFrame([{\n",
        "    \"Model\": \"PR-AUC\",\n",
        "    \"Accuracy\": accuracy,\n",
        "    \"Balanced Accuracy\": balanced_acc,\n",
        "    \"Precision\": precision,\n",
        "    \"Recall\": recall,\n",
        "    \"F1-score\": f1,\n",
        "    \"MCC\": mcc,\n",
        "    \"PR-AUC (Class 0 - Real)\": pr_auc_0,\n",
        "    \"PR-AUC (Class 1 - Fake)\": pr_auc_1,\n",
        "    \"ROC-AUC (Class 0 - Real)\": roc_auc_0,\n",
        "    \"ROC-AUC (Class 1 - Fake)\": roc_auc_1\n",
        "}])\n",
        "\n",
        "# Append to existing weight_comparison.csv\n",
        "metrics_df.to_csv(\"weight_comparison.csv\", mode='a', header=False, index=False)\n",
        "\n",
        "print(\"Metrics appended to weight_comparison.csv ✅\")\n"
      ],
      "metadata": {
        "colab": {
          "base_uri": "https://localhost:8080/"
        },
        "id": "q7f51dSYC_gi",
        "outputId": "eb2af2cc-bab2-4d5d-fa69-8814d4a5267c"
      },
      "execution_count": 13,
      "outputs": [
        {
          "output_type": "stream",
          "name": "stdout",
          "text": [
            "Metrics appended to weight_comparison.csv ✅\n"
          ]
        },
        {
          "output_type": "stream",
          "name": "stderr",
          "text": [
            "<ipython-input-13-8d41a0275afb>:9: DtypeWarning: Columns (9) have mixed types. Specify dtype option on import or set low_memory=False.\n",
            "  team2_df = pd.read_csv(\"team2_probabilities.csv\")\n"
          ]
        }
      ]
    },
    {
      "cell_type": "markdown",
      "source": [
        "# MCC Only"
      ],
      "metadata": {
        "id": "YqsK-MzjFJ5T"
      }
    },
    {
      "cell_type": "code",
      "source": [
        "import pandas as pd\n",
        "from sklearn.metrics import (\n",
        "    accuracy_score, precision_score, recall_score, f1_score, balanced_accuracy_score,\n",
        "    matthews_corrcoef, roc_auc_score, precision_recall_curve, auc\n",
        ")\n",
        "\n",
        "# Load model probability outputs\n",
        "team1_df = pd.read_csv(\"team1_probabilities.csv\")\n",
        "team2_df = pd.read_csv(\"team2_probabilities.csv\")\n",
        "\n",
        "# Load MCC scores\n",
        "model_acc_df = pd.read_csv('indiv_team_accuracy.csv',\n",
        "                           header=None,\n",
        "                           names=[\"team\", \"Accuracy\", \"Balanced Accuracy\", \"MCC\", \"PR_AUC_1\"])\n",
        "\n",
        "# Extract MCC values\n",
        "mcc_team1 = model_acc_df.loc[model_acc_df[\"team\"] == \"team1\", \"MCC\"].values[0]\n",
        "mcc_team2 = model_acc_df.loc[model_acc_df[\"team\"] == \"team2\", \"MCC\"].values[0]\n",
        "\n",
        "# Compute weights using only MCC\n",
        "total_weight = mcc_team1 + mcc_team2\n",
        "w1 = mcc_team1 / total_weight\n",
        "w2 = mcc_team2 / total_weight\n",
        "\n",
        "# Compute weighted probability for Class 1 (Spam)\n",
        "weighted_prob_1 = (w1 * team1_df[\"Prob (Class 1 - Spam)\"]) + (w2 * team2_df[\"Prob (Class 1 - Spam)\"])\n",
        "\n",
        "# Convert weighted probabilities into final labels (Threshold: 0.5)\n",
        "final_pred_labels = (weighted_prob_1 >= 0.5).astype(int)\n",
        "\n",
        "# Extract actual labels (assumed same for both teams)\n",
        "y_true = team1_df[\"Actual Label\"]\n",
        "y_pred = final_pred_labels\n",
        "\n",
        "# Compute evaluation metrics\n",
        "accuracy = accuracy_score(y_true, y_pred)\n",
        "precision = precision_score(y_true, y_pred)\n",
        "recall = recall_score(y_true, y_pred)\n",
        "f1 = f1_score(y_true, y_pred)\n",
        "balanced_acc = balanced_accuracy_score(y_true, y_pred)\n",
        "mcc = matthews_corrcoef(y_true, y_pred)\n",
        "\n",
        "# Compute ROC-AUC for each class\n",
        "roc_auc_0 = roc_auc_score(y_true, y_pred, average=None)\n",
        "roc_auc_1 = roc_auc_score(y_true, y_pred)\n",
        "\n",
        "# Compute PR-AUC for each class\n",
        "precision_0, recall_0, _ = precision_recall_curve(y_true == 0, y_pred)\n",
        "precision_1, recall_1, _ = precision_recall_curve(y_true == 1, y_pred)\n",
        "pr_auc_0 = auc(recall_0, precision_0)\n",
        "pr_auc_1 = auc(recall_1, precision_1)\n",
        "\n",
        "# Create DataFrame for metrics\n",
        "metrics_df = pd.DataFrame([{\n",
        "    \"Model\": \"MCC\",\n",
        "    \"Accuracy\": accuracy,\n",
        "    \"Balanced Accuracy\": balanced_acc,\n",
        "    \"Precision\": precision,\n",
        "    \"Recall\": recall,\n",
        "    \"F1-score\": f1,\n",
        "    \"MCC\": mcc,\n",
        "    \"PR-AUC (Class 0 - Real)\": pr_auc_0,\n",
        "    \"PR-AUC (Class 1 - Fake)\": pr_auc_1,\n",
        "    \"ROC-AUC (Class 0 - Real)\": roc_auc_0,\n",
        "    \"ROC-AUC (Class 1 - Fake)\": roc_auc_1\n",
        "}])\n",
        "\n",
        "# Append to existing weight_comparison.csv\n",
        "metrics_df.to_csv(\"weight_comparison.csv\", mode='a', header=False, index=False)\n",
        "\n",
        "print(\"Metrics appended to weight_comparison.csv ✅\")\n",
        "\n"
      ],
      "metadata": {
        "colab": {
          "base_uri": "https://localhost:8080/"
        },
        "id": "HYRPm2pvAgTN",
        "outputId": "4942b837-f1bd-478d-c320-510cac1268be"
      },
      "execution_count": 14,
      "outputs": [
        {
          "output_type": "stream",
          "name": "stdout",
          "text": [
            "Metrics appended to weight_comparison.csv ✅\n"
          ]
        },
        {
          "output_type": "stream",
          "name": "stderr",
          "text": [
            "<ipython-input-14-d570248bbd81>:9: DtypeWarning: Columns (9) have mixed types. Specify dtype option on import or set low_memory=False.\n",
            "  team2_df = pd.read_csv(\"team2_probabilities.csv\")\n"
          ]
        }
      ]
    },
    {
      "cell_type": "markdown",
      "source": [
        "# 0.7 * PR-AUC + 0.3 * MCC"
      ],
      "metadata": {
        "id": "kA8siLpoEm1R"
      }
    },
    {
      "cell_type": "code",
      "source": [
        "import pandas as pd\n",
        "import numpy as np\n",
        "from sklearn.metrics import (\n",
        "    accuracy_score, precision_score, recall_score, f1_score, balanced_accuracy_score,\n",
        "    matthews_corrcoef, roc_auc_score, precision_recall_curve, auc\n",
        ")\n",
        "\n",
        "# Load model probability outputs\n",
        "team1_df = pd.read_csv(\"team1_probabilities.csv\")\n",
        "team2_df = pd.read_csv(\"team2_probabilities.csv\")\n",
        "\n",
        "# Load PR-AUC and MCC scores\n",
        "model_acc_df = pd.read_csv('indiv_team_accuracy.csv',\n",
        "                           header=None,\n",
        "                           names=[\"team\", \"Accuracy\", \"Balanced Accuracy\", \"MCC\", \"PR_AUC_1\"]\n",
        "                           )\n",
        "pr_auc_team1 = model_acc_df.loc[model_acc_df[\"team\"] == \"team1\", \"PR_AUC_1\"].values[0]\n",
        "pr_auc_team2 = model_acc_df.loc[model_acc_df[\"team\"] == \"team2\", \"PR_AUC_1\"].values[0]\n",
        "mcc_team1 = model_acc_df.loc[model_acc_df[\"team\"] == \"team1\", \"MCC\"].values[0]\n",
        "mcc_team2 = model_acc_df.loc[model_acc_df[\"team\"] == \"team2\", \"MCC\"].values[0]\n",
        "\n",
        "# Compute combined weights (70% PR-AUC, 30% MCC)\n",
        "weight_team1 = (0.7 * pr_auc_team1) + (0.3 * mcc_team1)\n",
        "weight_team2 = (0.7 * pr_auc_team2) + (0.3 * mcc_team2)\n",
        "\n",
        "# Normalize weights so they sum to 1\n",
        "total_weight = weight_team1 + weight_team2\n",
        "w1 = weight_team1 / total_weight\n",
        "w2 = weight_team2 / total_weight\n",
        "\n",
        "# Compute weighted probability for Class 1 (Fake)\n",
        "weighted_prob_1 = (w1 * team1_df[\"Prob (Class 1 - Spam)\"]) + (w2 * team2_df[\"Prob (Class 1 - Spam)\"])\n",
        "\n",
        "# Convert weighted probabilities into final labels (Threshold: 0.5)\n",
        "final_pred_labels = (weighted_prob_1 >= 0.5).astype(int)\n",
        "\n",
        "# Load actual labels (assumed same for both teams)\n",
        "y_true = team1_df[\"Actual Label\"]\n",
        "\n",
        "# Compute evaluation metrics\n",
        "accuracy = accuracy_score(y_true, final_pred_labels)\n",
        "precision = precision_score(y_true, final_pred_labels)\n",
        "recall = recall_score(y_true, final_pred_labels)\n",
        "f1 = f1_score(y_true, final_pred_labels)\n",
        "balanced_acc = balanced_accuracy_score(y_true, final_pred_labels)\n",
        "mcc = matthews_corrcoef(y_true, final_pred_labels)\n",
        "\n",
        "# Compute ROC-AUC and PR-AUC\n",
        "roc_auc_0 = roc_auc_score(y_true, final_pred_labels)\n",
        "roc_auc_1 = roc_auc_score(y_true, final_pred_labels)\n",
        "precision_0, recall_0, _ = precision_recall_curve(y_true == 0, final_pred_labels)\n",
        "precision_1, recall_1, _ = precision_recall_curve(y_true == 1, final_pred_labels)\n",
        "pr_auc_0 = auc(recall_0, precision_0)\n",
        "pr_auc_1 = auc(recall_1, precision_1)\n",
        "\n",
        "# Create metrics DataFrame\n",
        "metrics_df = pd.DataFrame([{\n",
        "    \"Model\": \"0.7PR-AUC\",\n",
        "    \"Accuracy\": accuracy,\n",
        "    \"Balanced Accuracy\": balanced_acc,\n",
        "    \"Precision\": precision,\n",
        "    \"Recall\": recall,\n",
        "    \"F1-score\": f1,\n",
        "    \"MCC\": mcc,\n",
        "    \"PR-AUC (Class 0 - Real)\": pr_auc_0,\n",
        "    \"PR-AUC (Class 1 - Fake)\": pr_auc_1,\n",
        "    \"ROC-AUC (Class 0 - Real)\": roc_auc_0,\n",
        "    \"ROC-AUC (Class 1 - Fake)\": roc_auc_1\n",
        "}])\n",
        "\n",
        "# Append to existing weight_comparison.csv\n",
        "metrics_df.to_csv(\"weight_comparison.csv\", mode='a', header=False, index=False)\n",
        "\n",
        "print(\"Metrics appended to weight_comparison.csv ✅\")"
      ],
      "metadata": {
        "colab": {
          "base_uri": "https://localhost:8080/"
        },
        "id": "dYv04qgfBo2D",
        "outputId": "8569f63e-b6aa-41b1-f1ad-e0d8d905f338"
      },
      "execution_count": 15,
      "outputs": [
        {
          "output_type": "stream",
          "name": "stdout",
          "text": [
            "Metrics appended to weight_comparison.csv ✅\n"
          ]
        },
        {
          "output_type": "stream",
          "name": "stderr",
          "text": [
            "<ipython-input-15-ccd65b31c2d8>:10: DtypeWarning: Columns (9) have mixed types. Specify dtype option on import or set low_memory=False.\n",
            "  team2_df = pd.read_csv(\"team2_probabilities.csv\")\n"
          ]
        }
      ]
    },
    {
      "cell_type": "markdown",
      "source": [
        "# 0.7 * MCC + 0.3 * PR-AUC"
      ],
      "metadata": {
        "id": "UF6u3w9yICJ3"
      }
    },
    {
      "cell_type": "code",
      "source": [
        "import pandas as pd\n",
        "import numpy as np\n",
        "\n",
        "# Load model probability outputs\n",
        "team1_df = pd.read_csv(\"team1_probabilities.csv\")\n",
        "team2_df = pd.read_csv(\"team2_probabilities.csv\")\n",
        "\n",
        "# Load MCC and PR-AUC scores\n",
        "model_acc_df = pd.read_csv('indiv_team_accuracy.csv',\n",
        "                 header=None,\n",
        "                 names=[\"team\", \"Accuracy\", \"Balanced Accuracy\", \"MCC\", \"PR_AUC_1\"]\n",
        "                 )\n",
        "mcc_team1 = model_acc_df.loc[model_acc_df[\"team\"] == \"team1\", \"MCC\"].values[0]\n",
        "mcc_team2 = model_acc_df.loc[model_acc_df[\"team\"] == \"team2\", \"MCC\"].values[0]\n",
        "pr_auc_team1 = model_acc_df.loc[model_acc_df[\"team\"] == \"team1\", \"PR_AUC_1\"].values[0]\n",
        "pr_auc_team2 = model_acc_df.loc[model_acc_df[\"team\"] == \"team2\", \"PR_AUC_1\"].values[0]\n",
        "\n",
        "# Compute weighted score (70% MCC + 30% PR-AUC_1)\n",
        "score_team1 = (0.7 * mcc_team1) + (0.3 * pr_auc_team1)\n",
        "score_team2 = (0.7 * mcc_team2) + (0.3 * pr_auc_team2)\n",
        "\n",
        "# Normalize weights so they sum to 1\n",
        "total_score = score_team1 + score_team2\n",
        "w1 = score_team1 / total_score\n",
        "w2 = score_team2 / total_score\n",
        "\n",
        "# Compute weighted probability for Class 1 (Fake)\n",
        "weighted_prob_1 = (w1 * team1_df[\"Prob (Class 1 - Spam)\"]) + (w2 * team2_df[\"Prob (Class 1 - Spam)\"])\n",
        "\n",
        "# Convert weighted probabilities into final labels (Threshold: 0.5)\n",
        "final_pred_labels = (weighted_prob_1 >= 0.5).astype(int)\n",
        "\n",
        "# Extract actual labels\n",
        "y_true = team1_df[\"Actual Label\"]  # Assumed same for both teams\n",
        "\n",
        "# Compute evaluation metrics\n",
        "from sklearn.metrics import (\n",
        "    accuracy_score, precision_score, recall_score, f1_score, balanced_accuracy_score,\n",
        "    matthews_corrcoef, roc_auc_score, precision_recall_curve, auc\n",
        ")\n",
        "\n",
        "accuracy = accuracy_score(y_true, final_pred_labels)\n",
        "precision = precision_score(y_true, final_pred_labels)\n",
        "recall = recall_score(y_true, final_pred_labels)\n",
        "f1 = f1_score(y_true, final_pred_labels)\n",
        "balanced_acc = balanced_accuracy_score(y_true, final_pred_labels)\n",
        "mcc = matthews_corrcoef(y_true, final_pred_labels)\n",
        "\n",
        "# Compute ROC-AUC for each class\n",
        "roc_auc_0 = roc_auc_score(y_true, final_pred_labels, average=None)\n",
        "roc_auc_1 = roc_auc_score(y_true, final_pred_labels)\n",
        "\n",
        "# Compute PR-AUC for each class\n",
        "precision_0, recall_0, _ = precision_recall_curve(y_true == 0, final_pred_labels)\n",
        "precision_1, recall_1, _ = precision_recall_curve(y_true == 1, final_pred_labels)\n",
        "pr_auc_0 = auc(recall_0, precision_0)\n",
        "pr_auc_1 = auc(recall_1, precision_1)\n",
        "\n",
        "# Create the results DataFrame\n",
        "metrics_df = pd.DataFrame([{\n",
        "    \"Model\": \"0.7MCC\",\n",
        "    \"Accuracy\": accuracy,\n",
        "    \"Balanced Accuracy\": balanced_acc,\n",
        "    \"Precision\": precision,\n",
        "    \"Recall\": recall,\n",
        "    \"F1-score\": f1,\n",
        "    \"MCC\": mcc,\n",
        "    \"PR-AUC (Class 0 - Real)\": pr_auc_0,\n",
        "    \"PR-AUC (Class 1 - Fake)\": pr_auc_1,\n",
        "    \"ROC-AUC (Class 0 - Real)\": roc_auc_0,\n",
        "    \"ROC-AUC (Class 1 - Fake)\": roc_auc_1\n",
        "}])\n",
        "\n",
        "# Append to existing weight_comparison.csv\n",
        "metrics_df.to_csv(\"weight_comparison.csv\", mode='a', header=False, index=False)\n",
        "\n",
        "print(\"Metrics appended to weight_comparison.csv ✅\")\n"
      ],
      "metadata": {
        "colab": {
          "base_uri": "https://localhost:8080/"
        },
        "id": "cMKR7WxSB9a8",
        "outputId": "74b64004-ec23-4dfa-ce12-7325cf287c95"
      },
      "execution_count": 16,
      "outputs": [
        {
          "output_type": "stream",
          "name": "stdout",
          "text": [
            "Metrics appended to weight_comparison.csv ✅\n"
          ]
        },
        {
          "output_type": "stream",
          "name": "stderr",
          "text": [
            "<ipython-input-16-9156ff2e7d3c>:6: DtypeWarning: Columns (9) have mixed types. Specify dtype option on import or set low_memory=False.\n",
            "  team2_df = pd.read_csv(\"team2_probabilities.csv\")\n"
          ]
        }
      ]
    },
    {
      "cell_type": "markdown",
      "source": [
        "# Plot Graph"
      ],
      "metadata": {
        "id": "UjwIzNPkPasa"
      }
    },
    {
      "cell_type": "code",
      "source": [
        "import pandas as pd\n",
        "import matplotlib.pyplot as plt\n",
        "import seaborn as sns\n",
        "\n",
        "# Load the final accuracy CSV\n",
        "df = pd.read_csv(\"weight_comparison.csv\")\n",
        "\n",
        "# Set model names as index\n",
        "df.set_index(\"Model\", inplace=True)\n",
        "\n",
        "# Exclude ROC-AUC (Class 0) to keep the graph less cluttered (optional)\n",
        "df = df.drop(columns=['Accuracy', 'Precision', 'Recall', 'F1-score',\n",
        "           'PR-AUC (Class 0 - Real)', 'ROC-AUC (Class 0 - Real)',\n",
        "           'ROC-AUC (Class 1 - Fake)'])\n",
        "\n",
        "# Transpose the dataframe for better visualization\n",
        "df_transposed = df.T\n",
        "\n",
        "# Plot grouped bar chart\n",
        "plt.figure(figsize=(12, 6))\n",
        "df_transposed.plot(kind=\"bar\", figsize=(14, 7), colormap=\"tab10\")\n",
        "\n",
        "# Customize the plot\n",
        "plt.title(\"Comparison of Different Weight Combinations\", fontsize=14)\n",
        "plt.xlabel(\"Metrics\", fontsize=12)\n",
        "plt.ylabel(\"Score\", fontsize=12)\n",
        "plt.xticks(rotation=0, ha=\"right\")\n",
        "plt.legend(title=\"Models\", bbox_to_anchor=(1.05, 1), loc=\"upper left\")\n",
        "\n",
        "# Show the plot\n",
        "plt.tight_layout()\n",
        "plt.show()\n"
      ],
      "metadata": {
        "colab": {
          "base_uri": "https://localhost:8080/",
          "height": 656
        },
        "id": "-tTb9rOTW-e_",
        "outputId": "9dcd05c7-8a5d-42b5-a468-8e6f08f901eb"
      },
      "execution_count": 11,
      "outputs": [
        {
          "output_type": "display_data",
          "data": {
            "text/plain": [
              "<Figure size 1200x600 with 0 Axes>"
            ]
          },
          "metadata": {}
        },
        {
          "output_type": "display_data",
          "data": {
            "text/plain": [
              "<Figure size 1400x700 with 1 Axes>"
            ],
            "image/png": "[encoded data removed]"
          },
          "metadata": {}
        }
      ]
    },
    {
      "cell_type": "markdown",
      "source": [
        "# Best weight to use is MCC\n",
        "compare combined results with individual team results"
      ],
      "metadata": {
        "id": "b37coZBWUI-a"
      }
    },
    {
      "cell_type": "code",
      "source": [
        "import pandas as pd\n",
        "\n",
        "# Load weight comparison CSV\n",
        "weight_df = pd.read_csv(\"weight_comparison.csv\")\n",
        "\n",
        "# Find the row where 'Model' is 'MCC'\n",
        "mcc_row = weight_df[weight_df[\"Model\"] == \"MCC\"]\n",
        "\n",
        "# Select the columns that match indiv_team_accuracy.csv structure\n",
        "selected_columns = [\"Accuracy\", \"Balanced Accuracy\", \"MCC\", \"PR-AUC (Class 1 - Fake)\"]\n",
        "\n",
        "# Extract values\n",
        "new_row_values = mcc_row[selected_columns].values[0]  # Convert to array\n",
        "\n",
        "# Load indiv_team_accuracy.csv\n",
        "team_acc_df = pd.read_csv(\"indiv_team_accuracy.csv\", names=[\"team\", \"Accuracy\", \"Balanced Accuracy\", \"MCC\", \"PR_AUC_1\"])\n",
        "\n",
        "# Create new row for the 'combined' team\n",
        "new_row = pd.DataFrame([[\"combined\"] + list(new_row_values)], columns=team_acc_df.columns)\n",
        "\n",
        "# Append the new row to the existing data\n",
        "team_model_comparison_df = pd.concat([team_acc_df, new_row], ignore_index=True)\n",
        "\n",
        "# Save as a new CSV file\n",
        "team_model_comparison_df.to_csv(\"team_model_comparison.csv\", index=False, header=False)\n",
        "\n",
        "print(\"New team comparison saved as team_model_comparison.csv ✅\")\n"
      ],
      "metadata": {
        "colab": {
          "base_uri": "https://localhost:8080/"
        },
        "id": "ewqeeOEAGLwy",
        "outputId": "c02da436-fe71-4da0-d785-a4ef3d11829a"
      },
      "execution_count": 17,
      "outputs": [
        {
          "output_type": "stream",
          "name": "stdout",
          "text": [
            "New team comparison saved as team_model_comparison.csv ✅\n"
          ]
        }
      ]
    },
    {
      "source": [
        "import pandas as pd\n",
        "import matplotlib.pyplot as plt\n",
        "import numpy as np\n",
        "\n",
        "# Load the CSV file into a DataFrame\n",
        "df = pd.read_csv('team_model_comparison.csv'\n",
        "                  ,header=None\n",
        "                  ,names=[\"team\", \"Accuracy\", \"Balanced Accuracy\", \"MCC\", \"PR-AUC Class 1\"]\n",
        "                )\n",
        "\n",
        "\n",
        "# Define the metrics and teams\n",
        "metrics = ['Accuracy','Balanced Accuracy', 'MCC', 'PR-AUC Class 1']\n",
        "# Drop rows with NaN values in the 'team' column\n",
        "df = df.dropna(subset=['team'])\n",
        "teams = df['team'].astype(str)  # Convert team names to strings\n",
        "\n",
        "# Set the bar height and positions\n",
        "bar_width = 0.2\n",
        "index = np.arange(len(metrics))\n",
        "\n",
        "# Create a figure and axes\n",
        "plt.figure(figsize=(10, 6))\n",
        "\n",
        "# Plot the bars for each team (horizontal bars)\n",
        "for i, team in enumerate(teams):\n",
        "    plt.barh(index + i * bar_width, df.loc[df['team'] == team, metrics].values.flatten(), bar_width, label=team)\n",
        "\n",
        "# Add labels and title\n",
        "plt.xlabel('Scores')\n",
        "plt.ylabel('Metrics')\n",
        "plt.title('Performance Comparison by Metric')\n",
        "\n",
        "# Set y-ticks to show the metrics\n",
        "plt.yticks(index + bar_width * (len(teams) - 1) / 2, metrics)\n",
        "\n",
        "# Show the legend, customizing handles to remove red\n",
        "handles, labels = plt.gca().get_legend_handles_labels()\n",
        "# Assuming 'team1' is the red legend entry\n",
        "# Remove the handle and label corresponding to 'team1'\n",
        "handles = [h for h, l in zip(handles, labels) if l != '[]']\n",
        "labels = [l for l in labels if l != '[]']\n",
        "plt.legend(handles, labels, title='Teams')\n",
        "\n",
        "# Display the graph\n",
        "plt.tight_layout()\n",
        "plt.show()"
      ],
      "cell_type": "code",
      "metadata": {
        "colab": {
          "base_uri": "https://localhost:8080/",
          "height": 607
        },
        "id": "5P0H47QEmavu",
        "outputId": "5cb8a957-7626-4991-d6bd-b165436663b3"
      },
      "execution_count": 20,
      "outputs": [
        {
          "output_type": "display_data",
          "data": {
            "text/plain": [
              "<Figure size 1000x600 with 1 Axes>"
            ],
            "image/png": "[encoded data removed]"
          },
          "metadata": {}
        }
      ]
    },
    {
      "cell_type": "code",
      "source": [],
      "metadata": {
        "id": "vHfHar1xmFOm"
      },
      "execution_count": null,
      "outputs": []
    }
  ]
}