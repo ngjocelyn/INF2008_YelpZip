{
  "nbformat": 4,
  "nbformat_minor": 0,
  "metadata": {
    "colab": {
      "provenance": []
    },
    "kernelspec": {
      "name": "python3",
      "display_name": "Python 3"
    },
    "language_info": {
      "name": "python"
    }
  },
  "cells": [
    {
      "cell_type": "code",
      "source": [
        "model_acc_df = pd.read_csv('indiv_team_accuracy.csv',\n",
        "                 header=None,\n",
        "                 names=[\"team\", \"MCC\", \"PR_AUC_1\"]\n",
        "                 )\n",
        "model_acc_df"
      ],
      "metadata": {
        "colab": {
          "base_uri": "https://localhost:8080/",
          "height": 125
        },
        "id": "KXl_Y3DuVql5",
        "outputId": "68aa68e7-baca-4b41-f39b-4276ef763dcc"
      },
      "execution_count": 51,
      "outputs": [
        {
          "output_type": "execute_result",
          "data": {
            "text/plain": [
              "         team     MCC  PR_AUC_1\n",
              "team1  0.5877  0.1898    0.2623\n",
              "team2  0.7380  0.3240    0.3188"
            ],
            "text/html": [
              "\n",
              "  <div id=\"df-cfd3b3ef-ef11-4ca8-a6c9-273f9545534a\" class=\"colab-df-container\">\n",
              "    <div>\n",
              "<style scoped>\n",
              "    .dataframe tbody tr th:only-of-type {\n",
              "        vertical-align: middle;\n",
              "    }\n",
              "\n",
              "    .dataframe tbody tr th {\n",
              "        vertical-align: top;\n",
              "    }\n",
              "\n",
              "    .dataframe thead th {\n",
              "        text-align: right;\n",
              "    }\n",
              "</style>\n",
              "<table border=\"1\" class=\"dataframe\">\n",
              "  <thead>\n",
              "    <tr style=\"text-align: right;\">\n",
              "      <th></th>\n",
              "      <th>team</th>\n",
              "      <th>MCC</th>\n",
              "      <th>PR_AUC_1</th>\n",
              "    </tr>\n",
              "  </thead>\n",
              "  <tbody>\n",
              "    <tr>\n",
              "      <th>team1</th>\n",
              "      <td>0.5877</td>\n",
              "      <td>0.1898</td>\n",
              "      <td>0.2623</td>\n",
              "    </tr>\n",
              "    <tr>\n",
              "      <th>team2</th>\n",
              "      <td>0.7380</td>\n",
              "      <td>0.3240</td>\n",
              "      <td>0.3188</td>\n",
              "    </tr>\n",
              "  </tbody>\n",
              "</table>\n",
              "</div>\n",
              "    <div class=\"colab-df-buttons\">\n",
              "\n",
              "  <div class=\"colab-df-container\">\n",
              "    <button class=\"colab-df-convert\" onclick=\"convertToInteractive('df-cfd3b3ef-ef11-4ca8-a6c9-273f9545534a')\"\n",
              "            title=\"Convert this dataframe to an interactive table.\"\n",
              "            style=\"display:none;\">\n",
              "\n",
              "  <svg xmlns=\"http://www.w3.org/2000/svg\" height=\"24px\" viewBox=\"0 -960 960 960\">\n",
              "    <path d=\"M120-120v-720h720v720H120Zm60-500h600v-160H180v160Zm220 220h160v-160H400v160Zm0 220h160v-160H400v160ZM180-400h160v-160H180v160Zm440 0h160v-160H620v160ZM180-180h160v-160H180v160Zm440 0h160v-160H620v160Z\"/>\n",
              "  </svg>\n",
              "    </button>\n",
              "\n",
              "  <style>\n",
              "    .colab-df-container {\n",
              "      display:flex;\n",
              "      gap: 12px;\n",
              "    }\n",
              "\n",
              "    .colab-df-convert {\n",
              "      background-color: #E8F0FE;\n",
              "      border: none;\n",
              "      border-radius: 50%;\n",
              "      cursor: pointer;\n",
              "      display: none;\n",
              "      fill: #1967D2;\n",
              "      height: 32px;\n",
              "      padding: 0 0 0 0;\n",
              "      width: 32px;\n",
              "    }\n",
              "\n",
              "    .colab-df-convert:hover {\n",
              "      background-color: #E2EBFA;\n",
              "      box-shadow: 0px 1px 2px rgba(60, 64, 67, 0.3), 0px 1px 3px 1px rgba(60, 64, 67, 0.15);\n",
              "      fill: #174EA6;\n",
              "    }\n",
              "\n",
              "    .colab-df-buttons div {\n",
              "      margin-bottom: 4px;\n",
              "    }\n",
              "\n",
              "    [theme=dark] .colab-df-convert {\n",
              "      background-color: #3B4455;\n",
              "      fill: #D2E3FC;\n",
              "    }\n",
              "\n",
              "    [theme=dark] .colab-df-convert:hover {\n",
              "      background-color: #434B5C;\n",
              "      box-shadow: 0px 1px 3px 1px rgba(0, 0, 0, 0.15);\n",
              "      filter: drop-shadow(0px 1px 2px rgba(0, 0, 0, 0.3));\n",
              "      fill: #FFFFFF;\n",
              "    }\n",
              "  </style>\n",
              "\n",
              "    <script>\n",
              "      const buttonEl =\n",
              "        document.querySelector('#df-cfd3b3ef-ef11-4ca8-a6c9-273f9545534a button.colab-df-convert');\n",
              "      buttonEl.style.display =\n",
              "        google.colab.kernel.accessAllowed ? 'block' : 'none';\n",
              "\n",
              "      async function convertToInteractive(key) {\n",
              "        const element = document.querySelector('#df-cfd3b3ef-ef11-4ca8-a6c9-273f9545534a');\n",
              "        const dataTable =\n",
              "          await google.colab.kernel.invokeFunction('convertToInteractive',\n",
              "                                                    [key], {});\n",
              "        if (!dataTable) return;\n",
              "\n",
              "        const docLinkHtml = 'Like what you see? Visit the ' +\n",
              "          '<a target=\"_blank\" href=https://colab.research.google.com/notebooks/data_table.ipynb>data table notebook</a>'\n",
              "          + ' to learn more about interactive tables.';\n",
              "        element.innerHTML = '';\n",
              "        dataTable['output_type'] = 'display_data';\n",
              "        await google.colab.output.renderOutput(dataTable, element);\n",
              "        const docLink = document.createElement('div');\n",
              "        docLink.innerHTML = docLinkHtml;\n",
              "        element.appendChild(docLink);\n",
              "      }\n",
              "    </script>\n",
              "  </div>\n",
              "\n",
              "\n",
              "<div id=\"df-97106532-52c1-4497-83fc-664d9816b87c\">\n",
              "  <button class=\"colab-df-quickchart\" onclick=\"quickchart('df-97106532-52c1-4497-83fc-664d9816b87c')\"\n",
              "            title=\"Suggest charts\"\n",
              "            style=\"display:none;\">\n",
              "\n",
              "<svg xmlns=\"http://www.w3.org/2000/svg\" height=\"24px\"viewBox=\"0 0 24 24\"\n",
              "     width=\"24px\">\n",
              "    <g>\n",
              "        <path d=\"M19 3H5c-1.1 0-2 .9-2 2v14c0 1.1.9 2 2 2h14c1.1 0 2-.9 2-2V5c0-1.1-.9-2-2-2zM9 17H7v-7h2v7zm4 0h-2V7h2v10zm4 0h-2v-4h2v4z\"/>\n",
              "    </g>\n",
              "</svg>\n",
              "  </button>\n",
              "\n",
              "<style>\n",
              "  .colab-df-quickchart {\n",
              "      --bg-color: #E8F0FE;\n",
              "      --fill-color: #1967D2;\n",
              "      --hover-bg-color: #E2EBFA;\n",
              "      --hover-fill-color: #174EA6;\n",
              "      --disabled-fill-color: #AAA;\n",
              "      --disabled-bg-color: #DDD;\n",
              "  }\n",
              "\n",
              "  [theme=dark] .colab-df-quickchart {\n",
              "      --bg-color: #3B4455;\n",
              "      --fill-color: #D2E3FC;\n",
              "      --hover-bg-color: #434B5C;\n",
              "      --hover-fill-color: #FFFFFF;\n",
              "      --disabled-bg-color: #3B4455;\n",
              "      --disabled-fill-color: #666;\n",
              "  }\n",
              "\n",
              "  .colab-df-quickchart {\n",
              "    background-color: var(--bg-color);\n",
              "    border: none;\n",
              "    border-radius: 50%;\n",
              "    cursor: pointer;\n",
              "    display: none;\n",
              "    fill: var(--fill-color);\n",
              "    height: 32px;\n",
              "    padding: 0;\n",
              "    width: 32px;\n",
              "  }\n",
              "\n",
              "  .colab-df-quickchart:hover {\n",
              "    background-color: var(--hover-bg-color);\n",
              "    box-shadow: 0 1px 2px rgba(60, 64, 67, 0.3), 0 1px 3px 1px rgba(60, 64, 67, 0.15);\n",
              "    fill: var(--button-hover-fill-color);\n",
              "  }\n",
              "\n",
              "  .colab-df-quickchart-complete:disabled,\n",
              "  .colab-df-quickchart-complete:disabled:hover {\n",
              "    background-color: var(--disabled-bg-color);\n",
              "    fill: var(--disabled-fill-color);\n",
              "    box-shadow: none;\n",
              "  }\n",
              "\n",
              "  .colab-df-spinner {\n",
              "    border: 2px solid var(--fill-color);\n",
              "    border-color: transparent;\n",
              "    border-bottom-color: var(--fill-color);\n",
              "    animation:\n",
              "      spin 1s steps(1) infinite;\n",
              "  }\n",
              "\n",
              "  @keyframes spin {\n",
              "    0% {\n",
              "      border-color: transparent;\n",
              "      border-bottom-color: var(--fill-color);\n",
              "      border-left-color: var(--fill-color);\n",
              "    }\n",
              "    20% {\n",
              "      border-color: transparent;\n",
              "      border-left-color: var(--fill-color);\n",
              "      border-top-color: var(--fill-color);\n",
              "    }\n",
              "    30% {\n",
              "      border-color: transparent;\n",
              "      border-left-color: var(--fill-color);\n",
              "      border-top-color: var(--fill-color);\n",
              "      border-right-color: var(--fill-color);\n",
              "    }\n",
              "    40% {\n",
              "      border-color: transparent;\n",
              "      border-right-color: var(--fill-color);\n",
              "      border-top-color: var(--fill-color);\n",
              "    }\n",
              "    60% {\n",
              "      border-color: transparent;\n",
              "      border-right-color: var(--fill-color);\n",
              "    }\n",
              "    80% {\n",
              "      border-color: transparent;\n",
              "      border-right-color: var(--fill-color);\n",
              "      border-bottom-color: var(--fill-color);\n",
              "    }\n",
              "    90% {\n",
              "      border-color: transparent;\n",
              "      border-bottom-color: var(--fill-color);\n",
              "    }\n",
              "  }\n",
              "</style>\n",
              "\n",
              "  <script>\n",
              "    async function quickchart(key) {\n",
              "      const quickchartButtonEl =\n",
              "        document.querySelector('#' + key + ' button');\n",
              "      quickchartButtonEl.disabled = true;  // To prevent multiple clicks.\n",
              "      quickchartButtonEl.classList.add('colab-df-spinner');\n",
              "      try {\n",
              "        const charts = await google.colab.kernel.invokeFunction(\n",
              "            'suggestCharts', [key], {});\n",
              "      } catch (error) {\n",
              "        console.error('Error during call to suggestCharts:', error);\n",
              "      }\n",
              "      quickchartButtonEl.classList.remove('colab-df-spinner');\n",
              "      quickchartButtonEl.classList.add('colab-df-quickchart-complete');\n",
              "    }\n",
              "    (() => {\n",
              "      let quickchartButtonEl =\n",
              "        document.querySelector('#df-97106532-52c1-4497-83fc-664d9816b87c button');\n",
              "      quickchartButtonEl.style.display =\n",
              "        google.colab.kernel.accessAllowed ? 'block' : 'none';\n",
              "    })();\n",
              "  </script>\n",
              "</div>\n",
              "\n",
              "  <div id=\"id_5cdea46b-f9d1-4f9d-a724-725a3d0f7a73\">\n",
              "    <style>\n",
              "      .colab-df-generate {\n",
              "        background-color: #E8F0FE;\n",
              "        border: none;\n",
              "        border-radius: 50%;\n",
              "        cursor: pointer;\n",
              "        display: none;\n",
              "        fill: #1967D2;\n",
              "        height: 32px;\n",
              "        padding: 0 0 0 0;\n",
              "        width: 32px;\n",
              "      }\n",
              "\n",
              "      .colab-df-generate:hover {\n",
              "        background-color: #E2EBFA;\n",
              "        box-shadow: 0px 1px 2px rgba(60, 64, 67, 0.3), 0px 1px 3px 1px rgba(60, 64, 67, 0.15);\n",
              "        fill: #174EA6;\n",
              "      }\n",
              "\n",
              "      [theme=dark] .colab-df-generate {\n",
              "        background-color: #3B4455;\n",
              "        fill: #D2E3FC;\n",
              "      }\n",
              "\n",
              "      [theme=dark] .colab-df-generate:hover {\n",
              "        background-color: #434B5C;\n",
              "        box-shadow: 0px 1px 3px 1px rgba(0, 0, 0, 0.15);\n",
              "        filter: drop-shadow(0px 1px 2px rgba(0, 0, 0, 0.3));\n",
              "        fill: #FFFFFF;\n",
              "      }\n",
              "    </style>\n",
              "    <button class=\"colab-df-generate\" onclick=\"generateWithVariable('model_acc_df')\"\n",
              "            title=\"Generate code using this dataframe.\"\n",
              "            style=\"display:none;\">\n",
              "\n",
              "  <svg xmlns=\"http://www.w3.org/2000/svg\" height=\"24px\"viewBox=\"0 0 24 24\"\n",
              "       width=\"24px\">\n",
              "    <path d=\"M7,19H8.4L18.45,9,17,7.55,7,17.6ZM5,21V16.75L18.45,3.32a2,2,0,0,1,2.83,0l1.4,1.43a1.91,1.91,0,0,1,.58,1.4,1.91,1.91,0,0,1-.58,1.4L9.25,21ZM18.45,9,17,7.55Zm-12,3A5.31,5.31,0,0,0,4.9,8.1,5.31,5.31,0,0,0,1,6.5,5.31,5.31,0,0,0,4.9,4.9,5.31,5.31,0,0,0,6.5,1,5.31,5.31,0,0,0,8.1,4.9,5.31,5.31,0,0,0,12,6.5,5.46,5.46,0,0,0,6.5,12Z\"/>\n",
              "  </svg>\n",
              "    </button>\n",
              "    <script>\n",
              "      (() => {\n",
              "      const buttonEl =\n",
              "        document.querySelector('#id_5cdea46b-f9d1-4f9d-a724-725a3d0f7a73 button.colab-df-generate');\n",
              "      buttonEl.style.display =\n",
              "        google.colab.kernel.accessAllowed ? 'block' : 'none';\n",
              "\n",
              "      buttonEl.onclick = () => {\n",
              "        google.colab.notebook.generateWithVariable('model_acc_df');\n",
              "      }\n",
              "      })();\n",
              "    </script>\n",
              "  </div>\n",
              "\n",
              "    </div>\n",
              "  </div>\n"
            ],
            "application/vnd.google.colaboratory.intrinsic+json": {
              "type": "dataframe",
              "variable_name": "model_acc_df",
              "summary": "{\n  \"name\": \"model_acc_df\",\n  \"rows\": 2,\n  \"fields\": [\n    {\n      \"column\": \"team\",\n      \"properties\": {\n        \"dtype\": \"number\",\n        \"std\": 0.10627814921233808,\n        \"min\": 0.5877,\n        \"max\": 0.738,\n        \"num_unique_values\": 2,\n        \"samples\": [\n          0.738,\n          0.5877\n        ],\n        \"semantic_type\": \"\",\n        \"description\": \"\"\n      }\n    },\n    {\n      \"column\": \"MCC\",\n      \"properties\": {\n        \"dtype\": \"number\",\n        \"std\": 0.09489373003523469,\n        \"min\": 0.1898,\n        \"max\": 0.324,\n        \"num_unique_values\": 2,\n        \"samples\": [\n          0.324,\n          0.1898\n        ],\n        \"semantic_type\": \"\",\n        \"description\": \"\"\n      }\n    },\n    {\n      \"column\": \"PR_AUC_1\",\n      \"properties\": {\n        \"dtype\": \"number\",\n        \"std\": 0.03995153313703993,\n        \"min\": 0.2623,\n        \"max\": 0.3188,\n        \"num_unique_values\": 2,\n        \"samples\": [\n          0.3188,\n          0.2623\n        ],\n        \"semantic_type\": \"\",\n        \"description\": \"\"\n      }\n    }\n  ]\n}"
            }
          },
          "metadata": {},
          "execution_count": 51
        }
      ]
    },
    {
      "cell_type": "markdown",
      "source": [
        "# MCC and PRAUC have same weights"
      ],
      "metadata": {
        "id": "P6u82ZiUBTXp"
      }
    },
    {
      "cell_type": "code",
      "source": [
        "import pandas as pd\n",
        "\n",
        "# Load model predictions\n",
        "team1_df = pd.read_csv(\"team1_probabilities.csv\")\n",
        "team2_df = pd.read_csv(\"team2_probabilities.csv\")\n",
        "\n",
        "# Load MCC and PR_AUC values\n",
        "model_acc_df = pd.read_csv('indiv_team_accuracy.csv',\n",
        "                 header=None,\n",
        "                 names=[\"team\", \"MCC\", \"PR_AUC_1\"]\n",
        "                 )\n",
        "\n",
        "# Extract MCC and PR-AUC for both teams\n",
        "mcc_1, pr_auc_1 = model_acc_df.loc[model_acc_df['team'] == 'team1', ['MCC', 'PR_AUC_1']].values[0]\n",
        "mcc_2, pr_auc_2 = model_acc_df.loc[model_acc_df['team'] == 'team2', ['MCC', 'PR_AUC_1']].values[0]\n",
        "\n",
        "# Compute simple average weights\n",
        "w1 = (mcc_1 + pr_auc_1) / (mcc_1 + pr_auc_1 + mcc_2 + pr_auc_2)\n",
        "w2 = (mcc_2 + pr_auc_2) / (mcc_1 + pr_auc_1 + mcc_2 + pr_auc_2)\n",
        "\n",
        "# Compute weighted probability for Class 1 (Spam)\n",
        "team1_prob = team1_df[\"Prob (Class 1 - Spam)\"]\n",
        "team2_prob = team2_df[\"Prob (Class 1 - Spam)\"]\n",
        "final_prob = w1 * team1_prob + w2 * team2_prob\n",
        "\n",
        "# Assign labels based on 0.5 threshold\n",
        "team1_label = (team1_prob >= 0.5).astype(int)\n",
        "team2_label = (team2_prob >= 0.5).astype(int)\n",
        "predicted_label = (final_prob >= 0.5).astype(int)\n",
        "\n",
        "# Create output dataframe\n",
        "output_df = pd.DataFrame({\n",
        "    \"Actual Label\": team1_df[\"Actual Label\"],\n",
        "    \"team1_label\": team1_label,\n",
        "    \"team2_label\": team2_label,\n",
        "    \"predicted_label\": predicted_label\n",
        "})\n",
        "\n",
        "# Save the result as CSV\n",
        "output_df.to_csv(\"simple_final_predictions.csv\", index=False)\n",
        "\n",
        "print(\"Final predictions saved to final_predictions.csv\")\n"
      ],
      "metadata": {
        "colab": {
          "base_uri": "https://localhost:8080/"
        },
        "id": "c6Ry0Qgq-I9R",
        "outputId": "d29a4077-1c5f-4c24-e02f-260392f81e87"
      },
      "execution_count": 5,
      "outputs": [
        {
          "output_type": "stream",
          "name": "stderr",
          "text": [
            "<ipython-input-5-9f8676d3f453>:5: DtypeWarning: Columns (9) have mixed types. Specify dtype option on import or set low_memory=False.\n",
            "  team2_df = pd.read_csv(\"team2_probabilities.csv\")\n"
          ]
        },
        {
          "output_type": "stream",
          "name": "stdout",
          "text": [
            "Final predictions saved to final_predictions.csv\n"
          ]
        }
      ]
    },
    {
      "cell_type": "code",
      "source": [
        "import pandas as pd\n",
        "from sklearn.metrics import (\n",
        "    accuracy_score, precision_score, recall_score, f1_score, balanced_accuracy_score,\n",
        "    matthews_corrcoef, roc_auc_score, precision_recall_curve, auc\n",
        ")\n",
        "\n",
        "# Load the final predictions\n",
        "output_df = pd.read_csv(\"simple_final_predictions.csv\")\n",
        "\n",
        "# Extract actual and predicted labels\n",
        "y_true = output_df[\"Actual Label\"]\n",
        "y_pred = output_df[\"predicted_label\"]\n",
        "\n",
        "# Compute basic metrics\n",
        "accuracy = accuracy_score(y_true, y_pred)\n",
        "precision = precision_score(y_true, y_pred)\n",
        "recall = recall_score(y_true, y_pred)\n",
        "f1 = f1_score(y_true, y_pred)\n",
        "balanced_acc = balanced_accuracy_score(y_true, y_pred)\n",
        "mcc = matthews_corrcoef(y_true, y_pred)\n",
        "\n",
        "# Compute ROC-AUC for each class\n",
        "roc_auc_0 = roc_auc_score(y_true, y_pred, average=None)\n",
        "roc_auc_1 = roc_auc_score(y_true, y_pred)\n",
        "\n",
        "# Compute PR-AUC for each class\n",
        "precision_0, recall_0, _ = precision_recall_curve(y_true == 0, y_pred)\n",
        "precision_1, recall_1, _ = precision_recall_curve(y_true == 1, y_pred)\n",
        "pr_auc_0 = auc(recall_0, precision_0)\n",
        "pr_auc_1 = auc(recall_1, precision_1)\n",
        "\n",
        "# Save metrics to a DataFrame\n",
        "metrics_df = pd.DataFrame([{\n",
        "    \"Accuracy\": accuracy,\n",
        "    \"Balanced Accuracy\": balanced_acc,\n",
        "    \"Precision\": precision,\n",
        "    \"Recall\": recall,\n",
        "    \"F1-score\": f1,\n",
        "    \"MCC\": mcc,\n",
        "    \"PR-AUC (Class 0 - Real)\": pr_auc_0,\n",
        "    \"PR-AUC (Class 1 - Fake)\": pr_auc_1,\n",
        "    \"ROC-AUC (Class 0 - Real)\": roc_auc_0,\n",
        "    \"ROC-AUC (Class 1 - Fake)\": roc_auc_1\n",
        "}])\n",
        "\n",
        "# Save to CSV\n",
        "metrics_df.to_csv(\"simple_final_metrics.csv\", index=False)\n",
        "\n",
        "print(\"Metrics saved to final_metrics.csv ✅\")\n"
      ],
      "metadata": {
        "colab": {
          "base_uri": "https://localhost:8080/"
        },
        "id": "ALXARSGvB556",
        "outputId": "6332b957-4978-4d3f-f8fc-045d9bcc35ea"
      },
      "execution_count": 7,
      "outputs": [
        {
          "output_type": "stream",
          "name": "stdout",
          "text": [
            "Metrics saved to final_metrics.csv ✅\n"
          ]
        }
      ]
    },
    {
      "cell_type": "markdown",
      "source": [
        "# PR-AUC only"
      ],
      "metadata": {
        "id": "S-W29fqNDvK0"
      }
    },
    {
      "cell_type": "code",
      "source": [
        "import pandas as pd\n",
        "import numpy as np\n",
        "\n",
        "# Load model probability outputs\n",
        "team1_df = pd.read_csv(\"team1_probabilities.csv\")\n",
        "team2_df = pd.read_csv(\"team2_probabilities.csv\")\n",
        "\n",
        "# Load PR-AUC scores\n",
        "model_acc_df = pd.read_csv('indiv_team_accuracy.csv',\n",
        "                 header=None,\n",
        "                 names=[\"team\", \"MCC\", \"PR_AUC_1\"]\n",
        "                 )\n",
        "pr_auc_team1 = model_acc_df.loc[model_acc_df[\"team\"] == \"team1\", \"PR_AUC_1\"].values[0]\n",
        "pr_auc_team2 = model_acc_df.loc[model_acc_df[\"team\"] == \"team2\", \"PR_AUC_1\"].values[0]\n",
        "\n",
        "# Normalize PR-AUC weights so they sum to 1\n",
        "total_pr_auc = pr_auc_team1 + pr_auc_team2\n",
        "w1 = pr_auc_team1 / total_pr_auc\n",
        "w2 = pr_auc_team2 / total_pr_auc\n",
        "\n",
        "# Compute weighted probability for Class 1 (Fake)\n",
        "weighted_prob_1 = (w1 * team1_df[\"Prob (Class 1 - Spam)\"]) + (w2 * team2_df[\"Prob (Class 1 - Spam)\"])\n",
        "\n",
        "# Convert weighted probabilities into final labels (Threshold: 0.5)\n",
        "final_pred_labels = (weighted_prob_1 >= 0.5).astype(int)\n",
        "\n",
        "# Create final output DataFrame\n",
        "final_df = pd.DataFrame({\n",
        "    \"Actual Label\": team1_df[\"Actual Label\"],  # Assumed same for both teams\n",
        "    \"team1_label\": team1_df[\"Predicted Label\"],\n",
        "    \"team2_label\": team2_df[\"Predicted Label\"],\n",
        "    \"predicted_label\": final_pred_labels\n",
        "})\n",
        "\n",
        "# Save to CSV\n",
        "final_df.to_csv(\"PR-AUC_final_predictions.csv\", index=False)\n",
        "\n",
        "print(\"Weighted predictions saved to final_predictions.csv ✅\")\n"
      ],
      "metadata": {
        "colab": {
          "base_uri": "https://localhost:8080/"
        },
        "id": "9aKuNNP6CGyt",
        "outputId": "12756beb-9858-4c37-8d51-a920288729ac"
      },
      "execution_count": 10,
      "outputs": [
        {
          "output_type": "stream",
          "name": "stdout",
          "text": [
            "Weighted predictions saved to final_predictions.csv ✅\n"
          ]
        },
        {
          "output_type": "stream",
          "name": "stderr",
          "text": [
            "<ipython-input-10-1d8ab75ffad7>:6: DtypeWarning: Columns (9) have mixed types. Specify dtype option on import or set low_memory=False.\n",
            "  team2_df = pd.read_csv(\"team2_probabilities.csv\")\n"
          ]
        }
      ]
    },
    {
      "cell_type": "code",
      "source": [
        "import pandas as pd\n",
        "from sklearn.metrics import (\n",
        "    accuracy_score, precision_score, recall_score, f1_score, balanced_accuracy_score,\n",
        "    matthews_corrcoef, roc_auc_score, precision_recall_curve, auc\n",
        ")\n",
        "\n",
        "# Load the final predictions\n",
        "output_df = pd.read_csv(\"PR-AUC_final_predictions.csv\")\n",
        "\n",
        "# Extract actual and predicted labels\n",
        "y_true = output_df[\"Actual Label\"]\n",
        "y_pred = output_df[\"predicted_label\"]\n",
        "\n",
        "# Compute basic metrics\n",
        "accuracy = accuracy_score(y_true, y_pred)\n",
        "precision = precision_score(y_true, y_pred)\n",
        "recall = recall_score(y_true, y_pred)\n",
        "f1 = f1_score(y_true, y_pred)\n",
        "balanced_acc = balanced_accuracy_score(y_true, y_pred)\n",
        "mcc = matthews_corrcoef(y_true, y_pred)\n",
        "\n",
        "# Compute ROC-AUC for each class\n",
        "roc_auc_0 = roc_auc_score(y_true, y_pred, average=None)\n",
        "roc_auc_1 = roc_auc_score(y_true, y_pred)\n",
        "\n",
        "# Compute PR-AUC for each class\n",
        "precision_0, recall_0, _ = precision_recall_curve(y_true == 0, y_pred)\n",
        "precision_1, recall_1, _ = precision_recall_curve(y_true == 1, y_pred)\n",
        "pr_auc_0 = auc(recall_0, precision_0)\n",
        "pr_auc_1 = auc(recall_1, precision_1)\n",
        "\n",
        "# Save metrics to a DataFrame\n",
        "metrics_df = pd.DataFrame([{\n",
        "    \"Accuracy\": accuracy,\n",
        "    \"Balanced Accuracy\": balanced_acc,\n",
        "    \"Precision\": precision,\n",
        "    \"Recall\": recall,\n",
        "    \"F1-score\": f1,\n",
        "    \"MCC\": mcc,\n",
        "    \"PR-AUC (Class 0 - Real)\": pr_auc_0,\n",
        "    \"PR-AUC (Class 1 - Fake)\": pr_auc_1,\n",
        "    \"ROC-AUC (Class 0 - Real)\": roc_auc_0,\n",
        "    \"ROC-AUC (Class 1 - Fake)\": roc_auc_1\n",
        "}])\n",
        "\n",
        "# Save to CSV\n",
        "metrics_df.to_csv(\"PR-AUC_final_metrics.csv\", index=False)\n",
        "\n",
        "print(\"Metrics saved to final_metrics.csv ✅\")\n"
      ],
      "metadata": {
        "colab": {
          "base_uri": "https://localhost:8080/"
        },
        "id": "840Mt4BVD575",
        "outputId": "7c631b3e-066a-46bd-9888-68ef01cf93b5"
      },
      "execution_count": 11,
      "outputs": [
        {
          "output_type": "stream",
          "name": "stdout",
          "text": [
            "Metrics saved to final_metrics.csv ✅\n"
          ]
        }
      ]
    },
    {
      "cell_type": "markdown",
      "source": [
        "# MCC Only"
      ],
      "metadata": {
        "id": "YqsK-MzjFJ5T"
      }
    },
    {
      "cell_type": "code",
      "source": [
        "import pandas as pd\n",
        "import numpy as np\n",
        "\n",
        "# Load model probability outputs\n",
        "team1_df = pd.read_csv(\"team1_probabilities.csv\")\n",
        "team2_df = pd.read_csv(\"team2_probabilities.csv\")\n",
        "\n",
        "# Load MCC scores\n",
        "model_acc_df = pd.read_csv('indiv_team_accuracy.csv',\n",
        "                 header=None,\n",
        "                 names=[\"team\", \"MCC\", \"PR_AUC_1\"]\n",
        "                 )\n",
        "mcc_team1 = model_acc_df.loc[model_acc_df[\"team\"] == \"team1\", \"MCC\"].values[0]\n",
        "mcc_team2 = model_acc_df.loc[model_acc_df[\"team\"] == \"team2\", \"MCC\"].values[0]\n",
        "\n",
        "# Compute weights using only MCC\n",
        "weight_team1 = mcc_team1\n",
        "weight_team2 = mcc_team2\n",
        "\n",
        "# Normalize weights so they sum to 1\n",
        "total_weight = weight_team1 + weight_team2\n",
        "w1 = weight_team1 / total_weight\n",
        "w2 = weight_team2 / total_weight\n",
        "\n",
        "# Compute weighted probability for Class 1 (Fake)\n",
        "weighted_prob_1 = (w1 * team1_df[\"Prob (Class 1 - Spam)\"]) + (w2 * team2_df[\"Prob (Class 1 - Spam)\"])\n",
        "\n",
        "# Convert weighted probabilities into final labels (Threshold: 0.5)\n",
        "final_pred_labels = (weighted_prob_1 >= 0.5).astype(int)\n",
        "\n",
        "# Create final output DataFrame\n",
        "final_df = pd.DataFrame({\n",
        "    \"Actual Label\": team1_df[\"Actual Label\"],  # Assumed same for both teams\n",
        "    \"team1_label\": team1_df[\"Predicted Label\"],\n",
        "    \"team2_label\": team2_df[\"Predicted Label\"],\n",
        "    \"predicted_label\": final_pred_labels\n",
        "})\n",
        "\n",
        "# Save to CSV\n",
        "final_df.to_csv(\"MCC_final_predictions_mcc.csv\", index=False)\n",
        "\n",
        "print(\"Weighted predictions based on MCC saved to final_predictions_mcc.csv ✅\")\n"
      ],
      "metadata": {
        "colab": {
          "base_uri": "https://localhost:8080/"
        },
        "id": "N7Htz5AmFCyG",
        "outputId": "65c5346e-4c59-4e7a-d582-b242505920e9"
      },
      "execution_count": 15,
      "outputs": [
        {
          "output_type": "stream",
          "name": "stdout",
          "text": [
            "Weighted predictions based on MCC saved to final_predictions_mcc.csv ✅\n"
          ]
        },
        {
          "output_type": "stream",
          "name": "stderr",
          "text": [
            "<ipython-input-15-0e10d48d048d>:6: DtypeWarning: Columns (9) have mixed types. Specify dtype option on import or set low_memory=False.\n",
            "  team2_df = pd.read_csv(\"team2_probabilities.csv\")\n"
          ]
        }
      ]
    },
    {
      "cell_type": "code",
      "source": [
        "import pandas as pd\n",
        "from sklearn.metrics import (\n",
        "    accuracy_score, precision_score, recall_score, f1_score, balanced_accuracy_score,\n",
        "    matthews_corrcoef, roc_auc_score, precision_recall_curve, auc\n",
        ")\n",
        "\n",
        "# Load the final predictions\n",
        "output_df = pd.read_csv(\"MCC_final_predictions_mcc.csv\")\n",
        "\n",
        "# Extract actual and predicted labels\n",
        "y_true = output_df[\"Actual Label\"]\n",
        "y_pred = output_df[\"predicted_label\"]\n",
        "\n",
        "# Compute basic metrics\n",
        "accuracy = accuracy_score(y_true, y_pred)\n",
        "precision = precision_score(y_true, y_pred)\n",
        "recall = recall_score(y_true, y_pred)\n",
        "f1 = f1_score(y_true, y_pred)\n",
        "balanced_acc = balanced_accuracy_score(y_true, y_pred)\n",
        "mcc = matthews_corrcoef(y_true, y_pred)\n",
        "\n",
        "# Compute ROC-AUC for each class\n",
        "roc_auc_0 = roc_auc_score(y_true, y_pred, average=None)\n",
        "roc_auc_1 = roc_auc_score(y_true, y_pred)\n",
        "\n",
        "# Compute PR-AUC for each class\n",
        "precision_0, recall_0, _ = precision_recall_curve(y_true == 0, y_pred)\n",
        "precision_1, recall_1, _ = precision_recall_curve(y_true == 1, y_pred)\n",
        "pr_auc_0 = auc(recall_0, precision_0)\n",
        "pr_auc_1 = auc(recall_1, precision_1)\n",
        "\n",
        "# Save metrics to a DataFrame\n",
        "metrics_df = pd.DataFrame([{\n",
        "    \"Accuracy\": accuracy,\n",
        "    \"Balanced Accuracy\": balanced_acc,\n",
        "    \"Precision\": precision,\n",
        "    \"Recall\": recall,\n",
        "    \"F1-score\": f1,\n",
        "    \"MCC\": mcc,\n",
        "    \"PR-AUC (Class 0 - Real)\": pr_auc_0,\n",
        "    \"PR-AUC (Class 1 - Fake)\": pr_auc_1,\n",
        "    \"ROC-AUC (Class 0 - Real)\": roc_auc_0,\n",
        "    \"ROC-AUC (Class 1 - Fake)\": roc_auc_1\n",
        "}])\n",
        "\n",
        "# Save to CSV\n",
        "metrics_df.to_csv(\"MCC_final_metrics_mcc.csv\", index=False)\n",
        "\n",
        "print(\"Metrics for MCC-based weighted predictions saved to final_metrics_mcc.csv ✅\")\n"
      ],
      "metadata": {
        "colab": {
          "base_uri": "https://localhost:8080/"
        },
        "id": "mkyEkx92FXr8",
        "outputId": "de15feb6-a3c2-42d4-f6a8-b325ee35cb90"
      },
      "execution_count": 16,
      "outputs": [
        {
          "output_type": "stream",
          "name": "stdout",
          "text": [
            "Metrics for MCC-based weighted predictions saved to final_metrics_mcc.csv ✅\n"
          ]
        }
      ]
    },
    {
      "cell_type": "markdown",
      "source": [
        "# 0.7 * PR-AUC + 0.3 * MCC"
      ],
      "metadata": {
        "id": "kA8siLpoEm1R"
      }
    },
    {
      "cell_type": "code",
      "source": [
        "import pandas as pd\n",
        "import numpy as np\n",
        "\n",
        "# Load model probability outputs\n",
        "team1_df = pd.read_csv(\"team1_probabilities.csv\")\n",
        "team2_df = pd.read_csv(\"team2_probabilities.csv\")\n",
        "\n",
        "# Load PR-AUC and MCC scores\n",
        "model_acc_df = pd.read_csv('indiv_team_accuracy.csv',\n",
        "                 header=None,\n",
        "                 names=[\"team\", \"MCC\", \"PR_AUC_1\"]\n",
        "                 )\n",
        "pr_auc_team1 = model_acc_df.loc[model_acc_df[\"team\"] == \"team1\", \"PR_AUC_1\"].values[0]\n",
        "pr_auc_team2 = model_acc_df.loc[model_acc_df[\"team\"] == \"team2\", \"PR_AUC_1\"].values[0]\n",
        "mcc_team1 = model_acc_df.loc[model_acc_df[\"team\"] == \"team1\", \"MCC\"].values[0]\n",
        "mcc_team2 = model_acc_df.loc[model_acc_df[\"team\"] == \"team2\", \"MCC\"].values[0]\n",
        "\n",
        "# Compute combined weights (70% PR-AUC, 30% MCC)\n",
        "weight_team1 = (0.7 * pr_auc_team1) + (0.3 * mcc_team1)\n",
        "weight_team2 = (0.7 * pr_auc_team2) + (0.3 * mcc_team2)\n",
        "\n",
        "# Normalize weights so they sum to 1\n",
        "total_weight = weight_team1 + weight_team2\n",
        "w1 = weight_team1 / total_weight\n",
        "w2 = weight_team2 / total_weight\n",
        "\n",
        "# Compute weighted probability for Class 1 (Fake)\n",
        "weighted_prob_1 = (w1 * team1_df[\"Prob (Class 1 - Spam)\"]) + (w2 * team2_df[\"Prob (Class 1 - Spam)\"])\n",
        "\n",
        "# Convert weighted probabilities into final labels (Threshold: 0.5)\n",
        "final_pred_labels = (weighted_prob_1 >= 0.5).astype(int)\n",
        "\n",
        "# Create final output DataFrame\n",
        "final_df = pd.DataFrame({\n",
        "    \"Actual Label\": team1_df[\"Actual Label\"],  # Assumed same for both teams\n",
        "    \"team1_label\": team1_df[\"Predicted Label\"],\n",
        "    \"team2_label\": team2_df[\"Predicted Label\"],\n",
        "    \"predicted_label\": final_pred_labels\n",
        "})\n",
        "\n",
        "# Save to CSV\n",
        "final_df.to_csv(\"0.7PR-AUC_final_predictions.csv\", index=False)\n",
        "\n",
        "print(\"Weighted predictions saved to final_predictions.csv ✅\")\n"
      ],
      "metadata": {
        "colab": {
          "base_uri": "https://localhost:8080/"
        },
        "id": "2WWs6xqREQbJ",
        "outputId": "b03657e5-8e54-4c4b-a767-f7160079a305"
      },
      "execution_count": 12,
      "outputs": [
        {
          "output_type": "stream",
          "name": "stderr",
          "text": [
            "<ipython-input-12-c6f25c1e6ce2>:6: DtypeWarning: Columns (9) have mixed types. Specify dtype option on import or set low_memory=False.\n",
            "  team2_df = pd.read_csv(\"team2_probabilities.csv\")\n"
          ]
        },
        {
          "output_type": "stream",
          "name": "stdout",
          "text": [
            "Weighted predictions saved to final_predictions.csv ✅\n"
          ]
        }
      ]
    },
    {
      "cell_type": "code",
      "source": [
        "import pandas as pd\n",
        "from sklearn.metrics import (\n",
        "    accuracy_score, precision_score, recall_score, f1_score, balanced_accuracy_score,\n",
        "    matthews_corrcoef, roc_auc_score, precision_recall_curve, auc\n",
        ")\n",
        "\n",
        "# Load the final predictions\n",
        "output_df = pd.read_csv(\"0.7PR-AUC_final_predictions.csv\")\n",
        "\n",
        "# Extract actual and predicted labels\n",
        "y_true = output_df[\"Actual Label\"]\n",
        "y_pred = output_df[\"predicted_label\"]\n",
        "\n",
        "# Compute basic metrics\n",
        "accuracy = accuracy_score(y_true, y_pred)\n",
        "precision = precision_score(y_true, y_pred)\n",
        "recall = recall_score(y_true, y_pred)\n",
        "f1 = f1_score(y_true, y_pred)\n",
        "balanced_acc = balanced_accuracy_score(y_true, y_pred)\n",
        "mcc = matthews_corrcoef(y_true, y_pred)\n",
        "\n",
        "# Compute ROC-AUC for each class\n",
        "roc_auc_0 = roc_auc_score(y_true, y_pred, average=None)\n",
        "roc_auc_1 = roc_auc_score(y_true, y_pred)\n",
        "\n",
        "# Compute PR-AUC for each class\n",
        "precision_0, recall_0, _ = precision_recall_curve(y_true == 0, y_pred)\n",
        "precision_1, recall_1, _ = precision_recall_curve(y_true == 1, y_pred)\n",
        "pr_auc_0 = auc(recall_0, precision_0)\n",
        "pr_auc_1 = auc(recall_1, precision_1)\n",
        "\n",
        "# Save metrics to a DataFrame\n",
        "metrics_df = pd.DataFrame([{\n",
        "    \"Accuracy\": accuracy,\n",
        "    \"Balanced Accuracy\": balanced_acc,\n",
        "    \"Precision\": precision,\n",
        "    \"Recall\": recall,\n",
        "    \"F1-score\": f1,\n",
        "    \"MCC\": mcc,\n",
        "    \"PR-AUC (Class 0 - Real)\": pr_auc_0,\n",
        "    \"PR-AUC (Class 1 - Fake)\": pr_auc_1,\n",
        "    \"ROC-AUC (Class 0 - Real)\": roc_auc_0,\n",
        "    \"ROC-AUC (Class 1 - Fake)\": roc_auc_1\n",
        "}])\n",
        "\n",
        "# Save to CSV\n",
        "metrics_df.to_csv(\"0.7PR-AUC_final_metrics.csv\", index=False)\n",
        "\n",
        "print(\"Metrics saved to final_metrics.csv ✅\")\n"
      ],
      "metadata": {
        "colab": {
          "base_uri": "https://localhost:8080/"
        },
        "id": "vp_Acm89E1C9",
        "outputId": "0b7acd5a-edbd-4d2e-c33e-b7fb2cb466ba"
      },
      "execution_count": 14,
      "outputs": [
        {
          "output_type": "stream",
          "name": "stdout",
          "text": [
            "Metrics saved to final_metrics.csv ✅\n"
          ]
        }
      ]
    },
    {
      "cell_type": "markdown",
      "source": [
        "# 0.7 * MCC + 0.3 * PR-AUC"
      ],
      "metadata": {
        "id": "UF6u3w9yICJ3"
      }
    },
    {
      "cell_type": "code",
      "source": [
        "import pandas as pd\n",
        "import numpy as np\n",
        "\n",
        "# Load model probability outputs\n",
        "team1_df = pd.read_csv(\"team1_probabilities.csv\")\n",
        "team2_df = pd.read_csv(\"team2_probabilities.csv\")\n",
        "\n",
        "# Load MCC and PR-AUC scores\n",
        "model_acc_df = pd.read_csv('indiv_team_accuracy.csv',\n",
        "                 header=None,\n",
        "                 names=[\"team\", \"MCC\", \"PR_AUC_1\"]\n",
        "                 )\n",
        "mcc_team1 = model_acc_df.loc[model_acc_df[\"team\"] == \"team1\", \"MCC\"].values[0]\n",
        "mcc_team2 = model_acc_df.loc[model_acc_df[\"team\"] == \"team2\", \"MCC\"].values[0]\n",
        "pr_auc_team1 = model_acc_df.loc[model_acc_df[\"team\"] == \"team1\", \"PR_AUC_1\"].values[0]\n",
        "pr_auc_team2 = model_acc_df.loc[model_acc_df[\"team\"] == \"team2\", \"PR_AUC_1\"].values[0]\n",
        "\n",
        "# Compute weighted score (70% MCC + 30% PR-AUC_1)\n",
        "score_team1 = (0.7 * mcc_team1) + (0.3 * pr_auc_team1)\n",
        "score_team2 = (0.7 * mcc_team2) + (0.3 * pr_auc_team2)\n",
        "\n",
        "# Normalize weights so they sum to 1\n",
        "total_score = score_team1 + score_team2\n",
        "w1 = score_team1 / total_score\n",
        "w2 = score_team2 / total_score\n",
        "\n",
        "# Compute weighted probability for Class 1 (Fake)\n",
        "weighted_prob_1 = (w1 * team1_df[\"Prob (Class 1 - Spam)\"]) + (w2 * team2_df[\"Prob (Class 1 - Spam)\"])\n",
        "\n",
        "# Convert weighted probabilities into final labels (Threshold: 0.5)\n",
        "final_pred_labels = (weighted_prob_1 >= 0.5).astype(int)\n",
        "\n",
        "# Create final output DataFrame\n",
        "final_df = pd.DataFrame({\n",
        "    \"Actual Label\": team1_df[\"Actual Label\"],  # Assumed same for both teams\n",
        "    \"team1_label\": team1_df[\"Predicted Label\"],\n",
        "    \"team2_label\": team2_df[\"Predicted Label\"],\n",
        "    \"predicted_label\": final_pred_labels\n",
        "})\n",
        "\n",
        "# Save to CSV\n",
        "final_df.to_csv(\"0.7MCC_final_predictions.csv\", index=False)\n",
        "\n",
        "print(\"Weighted predictions using 70% MCC + 30% PR-AUC saved to final_predictions_mcc_prauc.csv ✅\")\n"
      ],
      "metadata": {
        "colab": {
          "base_uri": "https://localhost:8080/"
        },
        "id": "N2BdyB4QIGxu",
        "outputId": "0028eb28-7242-4b01-f00a-bc0f3b074efb"
      },
      "execution_count": 19,
      "outputs": [
        {
          "output_type": "stream",
          "name": "stderr",
          "text": [
            "<ipython-input-19-2a9de0268d29>:6: DtypeWarning: Columns (9) have mixed types. Specify dtype option on import or set low_memory=False.\n",
            "  team2_df = pd.read_csv(\"team2_probabilities.csv\")\n"
          ]
        },
        {
          "output_type": "stream",
          "name": "stdout",
          "text": [
            "Weighted predictions using 70% MCC + 30% PR-AUC saved to final_predictions_mcc_prauc.csv ✅\n"
          ]
        }
      ]
    },
    {
      "cell_type": "code",
      "source": [
        "import pandas as pd\n",
        "from sklearn.metrics import (\n",
        "    accuracy_score, precision_score, recall_score, f1_score, balanced_accuracy_score,\n",
        "    matthews_corrcoef, roc_auc_score, precision_recall_curve, auc\n",
        ")\n",
        "\n",
        "# Load the final predictions\n",
        "output_df = pd.read_csv(\"0.7MCC_final_predictions.csv\")\n",
        "\n",
        "# Extract actual and predicted labels\n",
        "y_true = output_df[\"Actual Label\"]\n",
        "y_pred = output_df[\"predicted_label\"]\n",
        "\n",
        "# Compute basic metrics\n",
        "accuracy = accuracy_score(y_true, y_pred)\n",
        "precision = precision_score(y_true, y_pred)\n",
        "recall = recall_score(y_true, y_pred)\n",
        "f1 = f1_score(y_true, y_pred)\n",
        "balanced_acc = balanced_accuracy_score(y_true, y_pred)\n",
        "mcc = matthews_corrcoef(y_true, y_pred)\n",
        "\n",
        "# Compute ROC-AUC for each class\n",
        "roc_auc_0 = roc_auc_score(y_true, y_pred, average=None)\n",
        "roc_auc_1 = roc_auc_score(y_true, y_pred)\n",
        "\n",
        "# Compute PR-AUC for each class\n",
        "precision_0, recall_0, _ = precision_recall_curve(y_true == 0, y_pred)\n",
        "precision_1, recall_1, _ = precision_recall_curve(y_true == 1, y_pred)\n",
        "pr_auc_0 = auc(recall_0, precision_0)\n",
        "pr_auc_1 = auc(recall_1, precision_1)\n",
        "\n",
        "# Save metrics to a DataFrame\n",
        "metrics_df = pd.DataFrame([{\n",
        "    \"Accuracy\": accuracy,\n",
        "    \"Balanced Accuracy\": balanced_acc,\n",
        "    \"Precision\": precision,\n",
        "    \"Recall\": recall,\n",
        "    \"F1-score\": f1,\n",
        "    \"MCC\": mcc,\n",
        "    \"PR-AUC (Class 0 - Real)\": pr_auc_0,\n",
        "    \"PR-AUC (Class 1 - Fake)\": pr_auc_1,\n",
        "    \"ROC-AUC (Class 0 - Real)\": roc_auc_0,\n",
        "    \"ROC-AUC (Class 1 - Fake)\": roc_auc_1\n",
        "}])\n",
        "\n",
        "# Save to CSV\n",
        "metrics_df.to_csv(\"0.7MCC_final_metrics.csv\", index=False)\n",
        "\n",
        "print(\"Metrics for 70% MCC + 30% PR-AUC weighted predictions saved to final_metrics_mcc_prauc.csv ✅\")\n"
      ],
      "metadata": {
        "colab": {
          "base_uri": "https://localhost:8080/"
        },
        "id": "ulef8FYvIV-Q",
        "outputId": "3ce82d69-0790-4fd5-db8e-c5569c528d14"
      },
      "execution_count": 20,
      "outputs": [
        {
          "output_type": "stream",
          "name": "stdout",
          "text": [
            "Metrics for 70% MCC + 30% PR-AUC weighted predictions saved to final_metrics_mcc_prauc.csv ✅\n"
          ]
        }
      ]
    },
    {
      "cell_type": "markdown",
      "source": [
        "# Plot Graph"
      ],
      "metadata": {
        "id": "UjwIzNPkPasa"
      }
    },
    {
      "cell_type": "code",
      "source": [
        "import pandas as pd\n",
        "import matplotlib.pyplot as plt\n",
        "import seaborn as sns\n",
        "\n",
        "# Load the final accuracy CSV\n",
        "df = pd.read_csv(\"weight_comparison.csv\")\n",
        "\n",
        "# Set model names as index\n",
        "df.set_index(\"Model\", inplace=True)\n",
        "\n",
        "# Exclude ROC-AUC (Class 0) to keep the graph less cluttered (optional)\n",
        "df = df.drop(columns=['Accuracy', 'Precision', 'Recall', 'F1-score',\n",
        "           'PR-AUC (Class 0 - Real)', 'ROC-AUC (Class 0 - Real)',\n",
        "           'ROC-AUC (Class 1 - Fake)'])\n",
        "\n",
        "# Transpose the dataframe for better visualization\n",
        "df_transposed = df.T\n",
        "\n",
        "# Plot grouped bar chart\n",
        "plt.figure(figsize=(12, 6))\n",
        "df_transposed.plot(kind=\"bar\", figsize=(14, 7), colormap=\"tab10\")\n",
        "\n",
        "# Customize the plot\n",
        "plt.title(\"Comparison of Model Performance Metrics\", fontsize=14)\n",
        "plt.xlabel(\"Metrics\", fontsize=12)\n",
        "plt.ylabel(\"Score\", fontsize=12)\n",
        "plt.xticks(rotation=45, ha=\"right\")\n",
        "plt.legend(title=\"Models\", bbox_to_anchor=(1.05, 1), loc=\"upper left\")\n",
        "\n",
        "# Show the plot\n",
        "plt.tight_layout()\n",
        "plt.show()\n"
      ],
      "metadata": {
        "colab": {
          "base_uri": "https://localhost:8080/",
          "height": 409
        },
        "id": "-tTb9rOTW-e_",
        "outputId": "36f593a5-3d89-4ef2-bed4-3fdf20c79453"
      },
      "execution_count": 49,
      "outputs": [
        {
          "output_type": "display_data",
          "data": {
            "text/plain": [
              "<Figure size 1200x600 with 0 Axes>"
            ]
          },
          "metadata": {}
        },
        {
          "output_type": "display_data",
          "data": {
            "text/plain": [
              "<Figure size 1400x700 with 1 Axes>"
            ],
            "image/png": "[encoded data removed]"
          },
          "metadata": {}
        }
      ]
    },
    {
      "cell_type": "markdown",
      "source": [
        "# Best weight to use is MCC\n",
        "compare combined results with individual team results"
      ],
      "metadata": {
        "id": "b37coZBWUI-a"
      }
    },
    {
      "source": [
        "import pandas as pd\n",
        "import matplotlib.pyplot as plt\n",
        "import numpy as np\n",
        "\n",
        "# Load the CSV file into a DataFrame\n",
        "df = pd.read_csv('team_model_comparison.csv')\n",
        "\n",
        "# Define the metrics and teams\n",
        "metrics = ['Balanced Accuracy', 'MCC', 'PR-AUC Class 1']\n",
        "# Drop rows with NaN values in the 'team' column\n",
        "df = df.dropna(subset=['team'])\n",
        "teams = df['team'].astype(str)  # Convert team names to strings\n",
        "\n",
        "# Set the bar height and positions\n",
        "bar_width = 0.2\n",
        "index = np.arange(len(metrics))\n",
        "\n",
        "# Create a figure and axes\n",
        "plt.figure(figsize=(10, 6))\n",
        "\n",
        "# Plot the bars for each team (horizontal bars)\n",
        "for i, team in enumerate(teams):\n",
        "    plt.barh(index + i * bar_width, df.loc[df['team'] == team, metrics].values.flatten(), bar_width, label=team)\n",
        "\n",
        "# Add labels and title\n",
        "plt.xlabel('Scores')\n",
        "plt.ylabel('Metrics')\n",
        "plt.title('Performance Comparison by Metric')\n",
        "\n",
        "# Set y-ticks to show the metrics\n",
        "plt.yticks(index + bar_width * (len(teams) - 1) / 2, metrics)\n",
        "\n",
        "# Show the legend, customizing handles to remove red\n",
        "handles, labels = plt.gca().get_legend_handles_labels()\n",
        "# Assuming 'team1' is the red legend entry\n",
        "# Remove the handle and label corresponding to 'team1'\n",
        "handles = [h for h, l in zip(handles, labels) if l != '[]']\n",
        "labels = [l for l in labels if l != '[]']\n",
        "plt.legend(handles, labels, title='Teams')\n",
        "\n",
        "# Display the graph\n",
        "plt.tight_layout()\n",
        "plt.show()"
      ],
      "cell_type": "code",
      "metadata": {
        "colab": {
          "base_uri": "https://localhost:8080/",
          "height": 557
        },
        "id": "5P0H47QEmavu",
        "outputId": "f9bb4134-95d7-4120-a8fd-a59818a6d8ae"
      },
      "execution_count": 48,
      "outputs": [
        {
          "output_type": "stream",
          "name": "stderr",
          "text": [
            "<ipython-input-48-8f9d24d07bd6>:42: UserWarning: Glyph 9 (\t) missing from font(s) DejaVu Sans.\n",
            "  plt.tight_layout()\n",
            "/usr/local/lib/python3.11/dist-packages/IPython/core/pylabtools.py:151: UserWarning: Glyph 9 (\t) missing from font(s) DejaVu Sans.\n",
            "  fig.canvas.print_figure(bytes_io, **kw)\n"
          ]
        },
        {
          "output_type": "display_data",
          "data": {
            "text/plain": [
              "<Figure size 1000x600 with 1 Axes>"
            ],
            "image/png": "[encoded data removed]"
          },
          "metadata": {}
        }
      ]
    },
    {
      "cell_type": "code",
      "source": [],
      "metadata": {
        "id": "vHfHar1xmFOm"
      },
      "execution_count": null,
      "outputs": []
    }
  ]
}