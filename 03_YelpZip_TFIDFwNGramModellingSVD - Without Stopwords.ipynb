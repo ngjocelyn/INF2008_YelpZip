{
 "cells": [
  {
   "cell_type": "code",
   "execution_count": 1,
   "metadata": {
    "executionInfo": {
     "elapsed": 5858,
     "status": "ok",
     "timestamp": 1740227595364,
     "user": {
      "displayName": "joc",
      "userId": "03257841468945552602"
     },
     "user_tz": -480
    },
    "id": "-jMIBikVVMBN"
   },
   "outputs": [],
   "source": [
    "# Data Manipulation\n",
    "import pandas as pd\n",
    "import numpy as np\n",
    "import pyarrow.parquet\n",
    "\n",
    "# Machine Learning\n",
    "from sklearn.model_selection import train_test_split, cross_val_score\n",
    "from sklearn.feature_extraction.text import TfidfVectorizer\n",
    "from sklearn.linear_model import LogisticRegression\n",
    "from sklearn.ensemble import RandomForestClassifier\n",
    "from sklearn.svm import SVC\n",
    "from sklearn.naive_bayes import MultinomialNB\n",
    "from imblearn.over_sampling import SMOTE\n",
    "import joblib\n",
    "from sklearn.compose import ColumnTransformer\n",
    "from sklearn.preprocessing import MinMaxScaler\n",
    "from sklearn.metrics import classification_report, accuracy_score, silhouette_score, roc_auc_score, confusion_matrix, ConfusionMatrixDisplay\n",
    "\n",
    "# Visualization\n",
    "import matplotlib.pyplot as plt\n",
    "import seaborn as sns"
   ]
  },
  {
   "cell_type": "markdown",
   "metadata": {
    "id": "pz13AEZyqNEf"
   },
   "source": [
    "# Load Dataset"
   ]
  },
  {
   "cell_type": "code",
   "execution_count": 3,
   "metadata": {},
   "outputs": [],
   "source": [
    "X_train = pd.read_parquet(\"00_dataset/without_stopwords/tfidfWithNGram/svd/X_train_svd.parquet\")\n",
    "X_test = pd.read_parquet(\"00_dataset/without_stopwords/tfidfWithNGram/svd/X_test_svd.parquet\")\n",
    "X_val = pd.read_parquet(\"00_dataset/without_stopwords/tfidfWithNGram/svd/X_val_svd.parquet\")\n",
    "\n",
    "y_train = pd.read_parquet(\"00_dataset/without_stopwords/tfidfWithNGram/svd/y_train.parquet\")\n",
    "y_test = pd.read_parquet(\"00_dataset/without_stopwords/tfidfWithNGram/svd/y_test.parquet\")\n",
    "y_val = pd.read_parquet(\"00_dataset/without_stopwords/tfidfWithNGram/svd/y_val.parquet\")"
   ]
  },
  {
   "cell_type": "code",
   "execution_count": null,
   "metadata": {},
   "outputs": [
    {
     "name": "stdout",
     "output_type": "stream",
     "text": [
      "MinMaxScaler saved\n"
     ]
    }
   ],
   "source": [
    "# Feature Scaling\n",
    "scaler = MinMaxScaler()\n",
    "\n",
    "X_train_scaled = scaler.fit_transform(X_train)\n",
    "X_test_scaled = scaler.transform(X_test)\n",
    "X_val_scaled = scaler.transform(X_val)\n",
    "\n",
    "# Save the scaler\n",
    "joblib.dump(scaler, \"00_dataset/without_stopwords/tfidfWithNGram/svd/scaler_svd.joblib\")\n",
    "print(\"MinMaxScaler saved\")"
   ]
  },
  {
   "cell_type": "code",
   "execution_count": 4,
   "metadata": {},
   "outputs": [],
   "source": [
    "# Load Min Max Scaler\n",
    "mms = joblib.load('00_dataset/without_stopwords/tfidfWithNGram/svd/after/scaler_svd.joblib')\n",
    "X_train_scaled = mms.transform(X_train)\n",
    "X_test_scaled = mms.transform(X_test)\n",
    "X_val_scaled = mms.transform(X_val)"
   ]
  },
  {
   "cell_type": "code",
   "execution_count": 4,
   "metadata": {},
   "outputs": [
    {
     "name": "stdout",
     "output_type": "stream",
     "text": [
      "Train Class Distribution:\n",
      " label\n",
      "0        0.867799\n",
      "1        0.132201\n",
      "Name: proportion, dtype: float64\n",
      "\n",
      "Validation Class Distribution:\n",
      " label\n",
      "0        0.867797\n",
      "1        0.132203\n",
      "Name: proportion, dtype: float64\n",
      "\n",
      "Test Class Distribution:\n",
      " label\n",
      "0        0.867797\n",
      "1        0.132203\n",
      "Name: proportion, dtype: float64\n"
     ]
    }
   ],
   "source": [
    "# Check class distribution after split\n",
    "print(\"Train Class Distribution:\\n\", y_train.value_counts(normalize=True))\n",
    "print(\"\\nValidation Class Distribution:\\n\", y_val.value_counts(normalize=True))\n",
    "print(\"\\nTest Class Distribution:\\n\", y_test.value_counts(normalize=True))"
   ]
  },
  {
   "cell_type": "code",
   "execution_count": 7,
   "metadata": {},
   "outputs": [
    {
     "name": "stdout",
     "output_type": "stream",
     "text": [
      "Contains negative values: False\n"
     ]
    }
   ],
   "source": [
    "print(\"Contains negative values:\", np.any(X_train_scaled < 0))\n"
   ]
  },
  {
   "cell_type": "code",
   "execution_count": 5,
   "metadata": {},
   "outputs": [
    {
     "name": "stdout",
     "output_type": "stream",
     "text": [
      "y_train_fixed shape: (425920,)\n"
     ]
    }
   ],
   "source": [
    "# Convert y_train to 1D array\n",
    "y_train_fixed = y_train.values.ravel()\n",
    "y_val_fixed = y_val.values.ravel()\n",
    "y_test_fixed = y_test.values.ravel()\n",
    "\n",
    "print(\"y_train_fixed shape:\", y_train_fixed.shape)"
   ]
  },
  {
   "cell_type": "code",
   "execution_count": 11,
   "metadata": {},
   "outputs": [
    {
     "name": "stdout",
     "output_type": "stream",
     "text": [
      "Naive Bayes training completed and saved.\n"
     ]
    }
   ],
   "source": [
    "nb = MultinomialNB(fit_prior=True)\n",
    "nb.fit(X_train_scaled, y_train_fixed)\n",
    "\n",
    "# Save the model\n",
    "joblib.dump(nb, '00_dataset/without_stopwords/tfidfWithNGram/svd/after/nb/nb.joblib')\n",
    "print(\"Naive Bayes training completed and saved.\")"
   ]
  },
  {
   "cell_type": "code",
   "execution_count": 18,
   "metadata": {},
   "outputs": [
    {
     "name": "stdout",
     "output_type": "stream",
     "text": [
      "Validation Accuracy: 0.8678\n",
      "\n",
      "Classification Report:\n",
      "               precision    recall  f1-score   support\n",
      "\n",
      "           0       0.87      1.00      0.93     52802\n",
      "           1       0.00      0.00      0.00      8044\n",
      "\n",
      "    accuracy                           0.87     60846\n",
      "   macro avg       0.43      0.50      0.46     60846\n",
      "weighted avg       0.75      0.87      0.81     60846\n",
      "\n"
     ]
    },
    {
     "name": "stderr",
     "output_type": "stream",
     "text": [
      "c:\\Python312\\Lib\\site-packages\\sklearn\\metrics\\_classification.py:1517: UndefinedMetricWarning: Precision is ill-defined and being set to 0.0 in labels with no predicted samples. Use `zero_division` parameter to control this behavior.\n",
      "  _warn_prf(average, modifier, f\"{metric.capitalize()} is\", len(result))\n",
      "c:\\Python312\\Lib\\site-packages\\sklearn\\metrics\\_classification.py:1517: UndefinedMetricWarning: Precision is ill-defined and being set to 0.0 in labels with no predicted samples. Use `zero_division` parameter to control this behavior.\n",
      "  _warn_prf(average, modifier, f\"{metric.capitalize()} is\", len(result))\n",
      "c:\\Python312\\Lib\\site-packages\\sklearn\\metrics\\_classification.py:1517: UndefinedMetricWarning: Precision is ill-defined and being set to 0.0 in labels with no predicted samples. Use `zero_division` parameter to control this behavior.\n",
      "  _warn_prf(average, modifier, f\"{metric.capitalize()} is\", len(result))\n"
     ]
    },
    {
     "name": "stdout",
     "output_type": "stream",
     "text": [
      "ROC-AUC Score:  0.721581465757884\n"
     ]
    },
    {
     "data": {
      "text/plain": [
       "<sklearn.metrics._plot.confusion_matrix.ConfusionMatrixDisplay at 0x145d3015640>"
      ]
     },
     "execution_count": 18,
     "metadata": {},
     "output_type": "execute_result"
    },
    {
     "data": {
      "image/png": "[encoded data removed]",
      "text/plain": [
       "<Figure size 640x480 with 2 Axes>"
      ]
     },
     "metadata": {},
     "output_type": "display_data"
    }
   ],
   "source": [
    "# Load the last saved model\n",
    "nb = joblib.load('00_dataset/without_stopwords/tfidfWithNGram/svd/after/nb/nb.joblib')\n",
    "\n",
    "# Predict on validation data\n",
    "y_val_pred = nb.predict(X_val_scaled)\n",
    "\n",
    "# Evaluate performance\n",
    "accuracy = accuracy_score(y_val_fixed, y_val_pred)\n",
    "print(f\"Validation Accuracy: {accuracy:.4f}\")\n",
    "\n",
    "print(\"\\nClassification Report:\\n\", classification_report(y_val_fixed, y_val_pred))\n",
    "\n",
    "# Compute ROC-AUC\n",
    "y_proba = nb.predict_proba(X_val_scaled)[:, 1]\n",
    "print(\"ROC-AUC Score: \", roc_auc_score(y_val_fixed, y_proba))\n",
    "\n",
    "# Generate confusion matrix\n",
    "cm = confusion_matrix(y_val_fixed, y_val_pred)\n",
    "\n",
    "# Display confusion matrix\n",
    "disp = ConfusionMatrixDisplay(confusion_matrix=cm, display_labels=[0, 1])\n",
    "disp.plot(cmap=\"Blues\")  # Choose a color map for visualization"
   ]
  },
  {
   "cell_type": "code",
   "execution_count": 14,
   "metadata": {},
   "outputs": [
    {
     "name": "stdout",
     "output_type": "stream",
     "text": [
      "Naive Bayes training completed and saved.\n"
     ]
    }
   ],
   "source": [
    "nb = MultinomialNB(class_prior=[0.5, 0.5])\n",
    "nb.fit(X_train_scaled, y_train_fixed)\n",
    "\n",
    "# Save the model\n",
    "joblib.dump(nb, '00_dataset/without_stopwords/tfidfWithNGram/svd/after/nb/classweights_nb.joblib')\n",
    "print(\"Naive Bayes training completed and saved.\")"
   ]
  },
  {
   "cell_type": "code",
   "execution_count": 15,
   "metadata": {},
   "outputs": [
    {
     "name": "stdout",
     "output_type": "stream",
     "text": [
      "Validation Accuracy: 0.6931\n",
      "\n",
      "Classification Report:\n",
      "               precision    recall  f1-score   support\n",
      "\n",
      "           0       0.92      0.71      0.80     52802\n",
      "           1       0.24      0.61      0.35      8044\n",
      "\n",
      "    accuracy                           0.69     60846\n",
      "   macro avg       0.58      0.66      0.57     60846\n",
      "weighted avg       0.83      0.69      0.74     60846\n",
      "\n",
      "ROC-AUC Score:  0.721581465757884\n"
     ]
    },
    {
     "data": {
      "text/plain": [
       "<sklearn.metrics._plot.confusion_matrix.ConfusionMatrixDisplay at 0x145d0527290>"
      ]
     },
     "execution_count": 15,
     "metadata": {},
     "output_type": "execute_result"
    },
    {
     "data": {
      "image/png": "[encoded data removed]",
      "text/plain": [
       "<Figure size 640x480 with 2 Axes>"
      ]
     },
     "metadata": {},
     "output_type": "display_data"
    }
   ],
   "source": [
    "# Load the last saved model\n",
    "# nb = joblib.load('00_dataset/without_stopwords/tfidfWithNGram/nb/classweights_nb.joblib')\n",
    "\n",
    "# Predict on validation data\n",
    "y_val_pred = nb.predict(X_val_scaled)\n",
    "\n",
    "# Evaluate performance\n",
    "accuracy = accuracy_score(y_val_fixed, y_val_pred)\n",
    "print(f\"Validation Accuracy: {accuracy:.4f}\")\n",
    "\n",
    "print(\"\\nClassification Report:\\n\", classification_report(y_val_fixed, y_val_pred))\n",
    "\n",
    "# Compute ROC-AUC\n",
    "y_proba = nb.predict_proba(X_val_scaled)[:, 1]\n",
    "print(\"ROC-AUC Score: \", roc_auc_score(y_val_fixed, y_proba))\n",
    "\n",
    "# Generate confusion matrix\n",
    "cm = confusion_matrix(y_val_fixed, y_val_pred)\n",
    "\n",
    "# Display confusion matrix\n",
    "disp = ConfusionMatrixDisplay(confusion_matrix=cm, display_labels=[0, 1])\n",
    "disp.plot(cmap=\"Blues\")  # Choose a color map for visualization"
   ]
  },
  {
   "cell_type": "code",
   "execution_count": 16,
   "metadata": {},
   "outputs": [
    {
     "name": "stdout",
     "output_type": "stream",
     "text": [
      "Naive Bayes training completed and saved.\n"
     ]
    }
   ],
   "source": [
    "nb70 = MultinomialNB(class_prior=[0.3, 0.7])\n",
    "nb70.fit(X_train_scaled, y_train_fixed)\n",
    "\n",
    "# Save the model\n",
    "joblib.dump(nb70, '00_dataset/without_stopwords/tfidfWithNGram/svd/after/nb/classweights70_nb.joblib')\n",
    "print(\"Naive Bayes training completed and saved.\")"
   ]
  },
  {
   "cell_type": "code",
   "execution_count": 17,
   "metadata": {},
   "outputs": [
    {
     "name": "stdout",
     "output_type": "stream",
     "text": [
      "Validation Accuracy: 0.1322\n",
      "\n",
      "Classification Report:\n",
      "               precision    recall  f1-score   support\n",
      "\n",
      "           0       0.00      0.00      0.00     52802\n",
      "           1       0.13      1.00      0.23      8044\n",
      "\n",
      "    accuracy                           0.13     60846\n",
      "   macro avg       0.07      0.50      0.12     60846\n",
      "weighted avg       0.02      0.13      0.03     60846\n",
      "\n"
     ]
    },
    {
     "name": "stderr",
     "output_type": "stream",
     "text": [
      "c:\\Python312\\Lib\\site-packages\\sklearn\\metrics\\_classification.py:1517: UndefinedMetricWarning: Precision is ill-defined and being set to 0.0 in labels with no predicted samples. Use `zero_division` parameter to control this behavior.\n",
      "  _warn_prf(average, modifier, f\"{metric.capitalize()} is\", len(result))\n",
      "c:\\Python312\\Lib\\site-packages\\sklearn\\metrics\\_classification.py:1517: UndefinedMetricWarning: Precision is ill-defined and being set to 0.0 in labels with no predicted samples. Use `zero_division` parameter to control this behavior.\n",
      "  _warn_prf(average, modifier, f\"{metric.capitalize()} is\", len(result))\n",
      "c:\\Python312\\Lib\\site-packages\\sklearn\\metrics\\_classification.py:1517: UndefinedMetricWarning: Precision is ill-defined and being set to 0.0 in labels with no predicted samples. Use `zero_division` parameter to control this behavior.\n",
      "  _warn_prf(average, modifier, f\"{metric.capitalize()} is\", len(result))\n"
     ]
    },
    {
     "name": "stdout",
     "output_type": "stream",
     "text": [
      "ROC-AUC Score:  0.721581465757884\n"
     ]
    },
    {
     "data": {
      "text/plain": [
       "<sklearn.metrics._plot.confusion_matrix.ConfusionMatrixDisplay at 0x145d0b15100>"
      ]
     },
     "execution_count": 17,
     "metadata": {},
     "output_type": "execute_result"
    },
    {
     "data": {
      "image/png": "[encoded data removed]",
      "text/plain": [
       "<Figure size 640x480 with 2 Axes>"
      ]
     },
     "metadata": {},
     "output_type": "display_data"
    }
   ],
   "source": [
    "# Load the last saved model\n",
    "# nb70 = joblib.load('00_dataset/without_stopwords/tfidfWithNGram/nb/classweights70_nb.joblib')\n",
    "\n",
    "# Predict on validation data\n",
    "y_val_pred = nb70.predict(X_val_scaled)\n",
    "\n",
    "# Evaluate performance\n",
    "accuracy = accuracy_score(y_val_fixed, y_val_pred)\n",
    "print(f\"Validation Accuracy: {accuracy:.4f}\")\n",
    "\n",
    "print(\"\\nClassification Report:\\n\", classification_report(y_val_fixed, y_val_pred))\n",
    "\n",
    "# Compute ROC-AUC\n",
    "y_proba = nb70.predict_proba(X_val_scaled)[:, 1]\n",
    "print(\"ROC-AUC Score: \", roc_auc_score(y_val_fixed, y_proba))\n",
    "\n",
    "# Generate confusion matrix\n",
    "cm = confusion_matrix(y_val_fixed, y_val_pred)\n",
    "\n",
    "# Display confusion matrix\n",
    "disp = ConfusionMatrixDisplay(confusion_matrix=cm, display_labels=[0, 1])\n",
    "disp.plot(cmap=\"Blues\")  # Choose a color map for visualization"
   ]
  },
  {
   "cell_type": "code",
   "execution_count": 24,
   "metadata": {},
   "outputs": [
    {
     "name": "stdout",
     "output_type": "stream",
     "text": [
      "Validation Accuracy: 0.8678\n",
      "\n",
      "Classification Report:\n",
      "               precision    recall  f1-score   support\n",
      "\n",
      "           0       0.87      1.00      0.93     52802\n",
      "           1       0.00      0.00      0.00      8044\n",
      "\n",
      "    accuracy                           0.87     60846\n",
      "   macro avg       0.43      0.50      0.46     60846\n",
      "weighted avg       0.75      0.87      0.81     60846\n",
      "\n"
     ]
    },
    {
     "name": "stderr",
     "output_type": "stream",
     "text": [
      "c:\\Python312\\Lib\\site-packages\\sklearn\\metrics\\_classification.py:1517: UndefinedMetricWarning: Precision is ill-defined and being set to 0.0 in labels with no predicted samples. Use `zero_division` parameter to control this behavior.\n",
      "  _warn_prf(average, modifier, f\"{metric.capitalize()} is\", len(result))\n",
      "c:\\Python312\\Lib\\site-packages\\sklearn\\metrics\\_classification.py:1517: UndefinedMetricWarning: Precision is ill-defined and being set to 0.0 in labels with no predicted samples. Use `zero_division` parameter to control this behavior.\n",
      "  _warn_prf(average, modifier, f\"{metric.capitalize()} is\", len(result))\n",
      "c:\\Python312\\Lib\\site-packages\\sklearn\\metrics\\_classification.py:1517: UndefinedMetricWarning: Precision is ill-defined and being set to 0.0 in labels with no predicted samples. Use `zero_division` parameter to control this behavior.\n",
      "  _warn_prf(average, modifier, f\"{metric.capitalize()} is\", len(result))\n"
     ]
    },
    {
     "name": "stdout",
     "output_type": "stream",
     "text": [
      "ROC-AUC Score:  0.721581465757884\n"
     ]
    },
    {
     "data": {
      "text/plain": [
       "<sklearn.metrics._plot.confusion_matrix.ConfusionMatrixDisplay at 0x145d0ad6780>"
      ]
     },
     "execution_count": 24,
     "metadata": {},
     "output_type": "execute_result"
    },
    {
     "data": {
      "image/png": "[encoded data removed]",
      "text/plain": [
       "<Figure size 640x480 with 2 Axes>"
      ]
     },
     "metadata": {},
     "output_type": "display_data"
    }
   ],
   "source": [
    "nb20 = MultinomialNB(fit_prior=True)\n",
    "nb20.fit(X_train_scaled, y_train_fixed)\n",
    "\n",
    "# Predict on validation data\n",
    "y_val_pred = nb20.predict(X_val_scaled)\n",
    "\n",
    "# Evaluate performance\n",
    "accuracy = accuracy_score(y_val_fixed, y_val_pred)\n",
    "print(f\"Validation Accuracy: {accuracy:.4f}\")\n",
    "\n",
    "print(\"\\nClassification Report:\\n\", classification_report(y_val_fixed, y_val_pred))\n",
    "\n",
    "# Compute ROC-AUC\n",
    "y_proba = nb20.predict_proba(X_val_scaled)[:, 1]\n",
    "print(\"ROC-AUC Score: \", roc_auc_score(y_val_fixed, y_proba))\n",
    "\n",
    "# Generate confusion matrix\n",
    "cm = confusion_matrix(y_val_fixed, y_val_pred)\n",
    "\n",
    "# Display confusion matrix\n",
    "disp = ConfusionMatrixDisplay(confusion_matrix=cm, display_labels=[0, 1])\n",
    "disp.plot(cmap=\"Blues\")  # Choose a color map for visualization"
   ]
  },
  {
   "cell_type": "markdown",
   "metadata": {},
   "source": [
    "# Apply SMOTE"
   ]
  },
  {
   "cell_type": "code",
   "execution_count": 6,
   "metadata": {},
   "outputs": [],
   "source": [
    "smote = SMOTE(sampling_strategy='auto', random_state=42)\n",
    "X_train_smote, y_train_smote = smote.fit_resample(X_train_scaled, y_train_fixed)"
   ]
  },
  {
   "cell_type": "code",
   "execution_count": 7,
   "metadata": {},
   "outputs": [
    {
     "name": "stdout",
     "output_type": "stream",
     "text": [
      "SMOTE-transformed dataset saved successfully.\n"
     ]
    }
   ],
   "source": [
    "# Save SMOTE-transformed dataset\n",
    "joblib.dump((X_train_smote, y_train_smote), \"00_dataset/without_stopwords/tfidfWithNGram/svd/after/smoteAuto_resampled.joblib\")\n",
    "print(\"SMOTE-transformed dataset saved successfully.\")"
   ]
  },
  {
   "cell_type": "code",
   "execution_count": 8,
   "metadata": {},
   "outputs": [
    {
     "name": "stdout",
     "output_type": "stream",
     "text": [
      "Before SMOTE:\n",
      " label\n",
      "0        369613\n",
      "1         56307\n",
      "Name: count, dtype: int64\n",
      "\n",
      "After SMOTE:\n",
      " 0    369613\n",
      "1    369613\n",
      "Name: count, dtype: int64\n"
     ]
    }
   ],
   "source": [
    "# Check class distribution before and after SMOTE\n",
    "print(\"Before SMOTE:\\n\", y_train.value_counts())\n",
    "print(\"\\nAfter SMOTE:\\n\", pd.Series(y_train_smote).value_counts())"
   ]
  },
  {
   "cell_type": "code",
   "execution_count": null,
   "metadata": {},
   "outputs": [
    {
     "name": "stdout",
     "output_type": "stream",
     "text": [
      "Naive Bayes with SMOTE training completed and saved.\n"
     ]
    }
   ],
   "source": [
    "nb_smote = MultinomialNB(class_prior=[0.5, 0.5], fit_prior=False)\n",
    "nb_smote.fit(X_train_smote, y_train_smote)\n",
    "\n",
    "# Save the model\n",
    "joblib.dump(nb_smote, '00_dataset/without_stopwords/tfidfWithNGram/svd/after/nb/nb_smote.joblib')\n",
    "print(\"Naive Bayes with SMOTE training completed and saved.\")"
   ]
  },
  {
   "cell_type": "code",
   "execution_count": 11,
   "metadata": {},
   "outputs": [
    {
     "name": "stdout",
     "output_type": "stream",
     "text": [
      "Validation Accuracy: 0.7661\n",
      "\n",
      "Classification Report:\n",
      "               precision    recall  f1-score   support\n",
      "\n",
      "           0       0.89      0.84      0.86     52802\n",
      "           1       0.21      0.29      0.24      8044\n",
      "\n",
      "    accuracy                           0.77     60846\n",
      "   macro avg       0.55      0.56      0.55     60846\n",
      "weighted avg       0.80      0.77      0.78     60846\n",
      "\n",
      "ROC-AUC Score:  0.6391611576087588\n"
     ]
    },
    {
     "data": {
      "text/plain": [
       "<sklearn.metrics._plot.confusion_matrix.ConfusionMatrixDisplay at 0x22075156d80>"
      ]
     },
     "execution_count": 11,
     "metadata": {},
     "output_type": "execute_result"
    },
    {
     "data": {
      "image/png": "[encoded data removed]",
      "text/plain": [
       "<Figure size 640x480 with 2 Axes>"
      ]
     },
     "metadata": {},
     "output_type": "display_data"
    }
   ],
   "source": [
    "# Load the last saved model\n",
    "#nb_smote = joblib.load('00_dataset/without_stopwords/tfidfWithNGram/smote/nb_smote.joblib')\n",
    "\n",
    "# Predict on validation data\n",
    "y_val_pred = nb_smote.predict(X_val_scaled)\n",
    "\n",
    "# Evaluate performance\n",
    "accuracy = accuracy_score(y_val, y_val_pred)\n",
    "print(f\"Validation Accuracy: {accuracy:.4f}\")\n",
    "\n",
    "print(\"\\nClassification Report:\\n\", classification_report(y_val, y_val_pred))\n",
    "\n",
    "# Compute ROC-AUC\n",
    "y_proba = nb_smote.predict_proba(X_val_scaled)[:, 1]\n",
    "print(\"ROC-AUC Score: \", roc_auc_score(y_val, y_proba))\n",
    "\n",
    "# Generate confusion matrix\n",
    "cm = confusion_matrix(y_val, y_val_pred)\n",
    "\n",
    "# Display confusion matrix\n",
    "disp = ConfusionMatrixDisplay(confusion_matrix=cm, display_labels=[0, 1])\n",
    "disp.plot(cmap=\"Blues\")  # Choose a color map for visualization"
   ]
  },
  {
   "cell_type": "code",
   "execution_count": 12,
   "metadata": {},
   "outputs": [
    {
     "name": "stdout",
     "output_type": "stream",
     "text": [
      "SMOTE75-transformed dataset saved successfully.\n"
     ]
    }
   ],
   "source": [
    "smote75 = SMOTE(sampling_strategy=0.75, random_state=42)\n",
    "X_train_smote75, y_train_smote75 = smote75.fit_resample(X_train_scaled, y_train_fixed)\n",
    "\n",
    "joblib.dump((X_train_smote75, y_train_smote75), \"00_dataset/without_stopwords/tfidfWithNGram/svd/after/smote75_resampled.joblib\")\n",
    "print(\"SMOTE75-transformed dataset saved successfully.\")"
   ]
  },
  {
   "cell_type": "code",
   "execution_count": 14,
   "metadata": {},
   "outputs": [
    {
     "name": "stdout",
     "output_type": "stream",
     "text": [
      "Naive Bayes with SMOTE75 training completed and saved.\n",
      "Validation Accuracy: 0.8678\n",
      "\n",
      "Classification Report:\n",
      "               precision    recall  f1-score   support\n",
      "\n",
      "           0       0.87      1.00      0.93     52802\n",
      "           1       0.00      0.00      0.00      8044\n",
      "\n",
      "    accuracy                           0.87     60846\n",
      "   macro avg       0.43      0.50      0.46     60846\n",
      "weighted avg       0.75      0.87      0.81     60846\n",
      "\n"
     ]
    },
    {
     "name": "stderr",
     "output_type": "stream",
     "text": [
      "c:\\Python312\\Lib\\site-packages\\sklearn\\metrics\\_classification.py:1517: UndefinedMetricWarning: Precision is ill-defined and being set to 0.0 in labels with no predicted samples. Use `zero_division` parameter to control this behavior.\n",
      "  _warn_prf(average, modifier, f\"{metric.capitalize()} is\", len(result))\n",
      "c:\\Python312\\Lib\\site-packages\\sklearn\\metrics\\_classification.py:1517: UndefinedMetricWarning: Precision is ill-defined and being set to 0.0 in labels with no predicted samples. Use `zero_division` parameter to control this behavior.\n",
      "  _warn_prf(average, modifier, f\"{metric.capitalize()} is\", len(result))\n",
      "c:\\Python312\\Lib\\site-packages\\sklearn\\metrics\\_classification.py:1517: UndefinedMetricWarning: Precision is ill-defined and being set to 0.0 in labels with no predicted samples. Use `zero_division` parameter to control this behavior.\n",
      "  _warn_prf(average, modifier, f\"{metric.capitalize()} is\", len(result))\n"
     ]
    },
    {
     "name": "stdout",
     "output_type": "stream",
     "text": [
      "ROC-AUC Score:  0.6434163702793606\n"
     ]
    },
    {
     "data": {
      "text/plain": [
       "<sklearn.metrics._plot.confusion_matrix.ConfusionMatrixDisplay at 0x22075558bc0>"
      ]
     },
     "execution_count": 14,
     "metadata": {},
     "output_type": "execute_result"
    },
    {
     "data": {
      "image/png": "[encoded data removed]",
      "text/plain": [
       "<Figure size 640x480 with 2 Axes>"
      ]
     },
     "metadata": {},
     "output_type": "display_data"
    }
   ],
   "source": [
    "nb_smote75 = MultinomialNB()\n",
    "nb_smote75.fit(X_train_smote75, y_train_smote75)\n",
    "\n",
    "# Save the model\n",
    "joblib.dump(nb_smote75, '00_dataset/without_stopwords/tfidfWithNGram/svd/after/nb/nb_smote75.joblib')\n",
    "print(\"Naive Bayes with SMOTE75 training completed and saved.\")\n",
    "\n",
    "# Predict on validation data\n",
    "y_val_pred = nb_smote75.predict(X_val_scaled)\n",
    "\n",
    "# Evaluate performance\n",
    "accuracy = accuracy_score(y_val_fixed, y_val_pred)\n",
    "print(f\"Validation Accuracy: {accuracy:.4f}\")\n",
    "\n",
    "print(\"\\nClassification Report:\\n\", classification_report(y_val, y_val_pred))\n",
    "\n",
    "# Compute ROC-AUC\n",
    "y_proba = nb_smote75.predict_proba(X_val_scaled)[:, 1]\n",
    "print(\"ROC-AUC Score: \", roc_auc_score(y_val_fixed, y_proba))\n",
    "\n",
    "# Generate confusion matrix\n",
    "cm = confusion_matrix(y_val_fixed, y_val_pred)\n",
    "\n",
    "# Display confusion matrix\n",
    "disp = ConfusionMatrixDisplay(confusion_matrix=cm, display_labels=[0, 1])\n",
    "disp.plot(cmap=\"Blues\")  # Choose a color map for visualization"
   ]
  },
  {
   "cell_type": "code",
   "execution_count": 15,
   "metadata": {},
   "outputs": [
    {
     "name": "stdout",
     "output_type": "stream",
     "text": [
      "SMOTE50-transformed dataset saved successfully.\n"
     ]
    }
   ],
   "source": [
    "smote50 = SMOTE(sampling_strategy=0.50, random_state=42)\n",
    "X_train_smote50, y_train_smote50 = smote50.fit_resample(X_train_scaled, y_train_fixed)\n",
    "\n",
    "joblib.dump((X_train_smote50, y_train_smote50), \"00_dataset/without_stopwords/tfidfWithNGram/svd/after/smote50_resampled.joblib\")\n",
    "print(\"SMOTE50-transformed dataset saved successfully.\")"
   ]
  },
  {
   "cell_type": "code",
   "execution_count": 16,
   "metadata": {},
   "outputs": [
    {
     "name": "stdout",
     "output_type": "stream",
     "text": [
      "Naive Bayes with SMOTE75 training completed and saved.\n",
      "Validation Accuracy: 0.8678\n",
      "\n",
      "Classification Report:\n",
      "               precision    recall  f1-score   support\n",
      "\n",
      "           0       0.87      1.00      0.93     52802\n",
      "           1       0.00      0.00      0.00      8044\n",
      "\n",
      "    accuracy                           0.87     60846\n",
      "   macro avg       0.43      0.50      0.46     60846\n",
      "weighted avg       0.75      0.87      0.81     60846\n",
      "\n"
     ]
    },
    {
     "name": "stderr",
     "output_type": "stream",
     "text": [
      "c:\\Python312\\Lib\\site-packages\\sklearn\\metrics\\_classification.py:1517: UndefinedMetricWarning: Precision is ill-defined and being set to 0.0 in labels with no predicted samples. Use `zero_division` parameter to control this behavior.\n",
      "  _warn_prf(average, modifier, f\"{metric.capitalize()} is\", len(result))\n",
      "c:\\Python312\\Lib\\site-packages\\sklearn\\metrics\\_classification.py:1517: UndefinedMetricWarning: Precision is ill-defined and being set to 0.0 in labels with no predicted samples. Use `zero_division` parameter to control this behavior.\n",
      "  _warn_prf(average, modifier, f\"{metric.capitalize()} is\", len(result))\n",
      "c:\\Python312\\Lib\\site-packages\\sklearn\\metrics\\_classification.py:1517: UndefinedMetricWarning: Precision is ill-defined and being set to 0.0 in labels with no predicted samples. Use `zero_division` parameter to control this behavior.\n",
      "  _warn_prf(average, modifier, f\"{metric.capitalize()} is\", len(result))\n"
     ]
    },
    {
     "name": "stdout",
     "output_type": "stream",
     "text": [
      "ROC-AUC Score:  0.6529036230808958\n"
     ]
    },
    {
     "data": {
      "text/plain": [
       "<sklearn.metrics._plot.confusion_matrix.ConfusionMatrixDisplay at 0x221260d0b30>"
      ]
     },
     "execution_count": 16,
     "metadata": {},
     "output_type": "execute_result"
    },
    {
     "data": {
      "image/png": "[encoded data removed]",
      "text/plain": [
       "<Figure size 640x480 with 2 Axes>"
      ]
     },
     "metadata": {},
     "output_type": "display_data"
    }
   ],
   "source": [
    "nb_smote50 = MultinomialNB()\n",
    "nb_smote50.fit(X_train_smote50, y_train_smote50)\n",
    "\n",
    "# Save the model\n",
    "joblib.dump(nb_smote75, '00_dataset/without_stopwords/tfidfWithNGram/svd/after/nb/nb_smote50.joblib')\n",
    "print(\"Naive Bayes with SMOTE75 training completed and saved.\")\n",
    "\n",
    "# Predict on validation data\n",
    "y_val_pred = nb_smote50.predict(X_val_scaled)\n",
    "\n",
    "# Evaluate performance\n",
    "accuracy = accuracy_score(y_val, y_val_pred)\n",
    "print(f\"Validation Accuracy: {accuracy:.4f}\")\n",
    "\n",
    "print(\"\\nClassification Report:\\n\", classification_report(y_val, y_val_pred))\n",
    "\n",
    "# Compute ROC-AUC\n",
    "y_proba = nb_smote50.predict_proba(X_val_scaled)[:, 1]\n",
    "print(\"ROC-AUC Score: \", roc_auc_score(y_val, y_proba))\n",
    "\n",
    "# Generate confusion matrix\n",
    "cm = confusion_matrix(y_val, y_val_pred)\n",
    "\n",
    "# Display confusion matrix\n",
    "disp = ConfusionMatrixDisplay(confusion_matrix=cm, display_labels=[0, 1])\n",
    "disp.plot(cmap=\"Blues\")  # Choose a color map for visualization"
   ]
  },
  {
   "cell_type": "code",
   "execution_count": 18,
   "metadata": {},
   "outputs": [],
   "source": [
    "from sklearn.utils.class_weight import compute_class_weight\n",
    "\n",
    "class_weights = compute_class_weight('balanced', classes=np.array([0, 1]), y=y_train_fixed)"
   ]
  },
  {
   "cell_type": "code",
   "execution_count": 21,
   "metadata": {},
   "outputs": [
    {
     "name": "stdout",
     "output_type": "stream",
     "text": [
      "Validation Accuracy: 0.1322\n",
      "\n",
      "Classification Report:\n",
      "               precision    recall  f1-score   support\n",
      "\n",
      "           0       0.00      0.00      0.00     52802\n",
      "           1       0.13      1.00      0.23      8044\n",
      "\n",
      "    accuracy                           0.13     60846\n",
      "   macro avg       0.07      0.50      0.12     60846\n",
      "weighted avg       0.02      0.13      0.03     60846\n",
      "\n"
     ]
    },
    {
     "name": "stderr",
     "output_type": "stream",
     "text": [
      "c:\\Python312\\Lib\\site-packages\\sklearn\\metrics\\_classification.py:1517: UndefinedMetricWarning: Precision is ill-defined and being set to 0.0 in labels with no predicted samples. Use `zero_division` parameter to control this behavior.\n",
      "  _warn_prf(average, modifier, f\"{metric.capitalize()} is\", len(result))\n",
      "c:\\Python312\\Lib\\site-packages\\sklearn\\metrics\\_classification.py:1517: UndefinedMetricWarning: Precision is ill-defined and being set to 0.0 in labels with no predicted samples. Use `zero_division` parameter to control this behavior.\n",
      "  _warn_prf(average, modifier, f\"{metric.capitalize()} is\", len(result))\n",
      "c:\\Python312\\Lib\\site-packages\\sklearn\\metrics\\_classification.py:1517: UndefinedMetricWarning: Precision is ill-defined and being set to 0.0 in labels with no predicted samples. Use `zero_division` parameter to control this behavior.\n",
      "  _warn_prf(average, modifier, f\"{metric.capitalize()} is\", len(result))\n"
     ]
    },
    {
     "name": "stdout",
     "output_type": "stream",
     "text": [
      "ROC-AUC Score:  0.721581465757884\n"
     ]
    },
    {
     "data": {
      "text/plain": [
       "<sklearn.metrics._plot.confusion_matrix.ConfusionMatrixDisplay at 0x221264cd310>"
      ]
     },
     "execution_count": 21,
     "metadata": {},
     "output_type": "execute_result"
    },
    {
     "data": {
      "image/png": "[encoded data removed]",
      "text/plain": [
       "<Figure size 640x480 with 2 Axes>"
      ]
     },
     "metadata": {},
     "output_type": "display_data"
    }
   ],
   "source": [
    "nb = MultinomialNB(class_prior=class_weights)\n",
    "nb.fit(X_train_scaled, y_train_fixed)\n",
    "\n",
    "# Predict on validation data\n",
    "y_val_pred = nb.predict(X_val_scaled)\n",
    "\n",
    "# Evaluate performance\n",
    "accuracy = accuracy_score(y_val_fixed, y_val_pred)\n",
    "print(f\"Validation Accuracy: {accuracy:.4f}\")\n",
    "\n",
    "print(\"\\nClassification Report:\\n\", classification_report(y_val, y_val_pred))\n",
    "\n",
    "# Compute ROC-AUC\n",
    "y_proba = nb.predict_proba(X_val_scaled)[:, 1]\n",
    "print(\"ROC-AUC Score: \", roc_auc_score(y_val_fixed, y_proba))\n",
    "\n",
    "# Generate confusion matrix\n",
    "cm = confusion_matrix(y_val_fixed, y_val_pred)\n",
    "\n",
    "# Display confusion matrix\n",
    "disp = ConfusionMatrixDisplay(confusion_matrix=cm, display_labels=[0, 1])\n",
    "disp.plot(cmap=\"Blues\")  # Choose a color map for visualization"
   ]
  },
  {
   "cell_type": "markdown",
   "metadata": {},
   "source": [
    "## Using withour SMOTE to test out for the other models"
   ]
  },
  {
   "cell_type": "markdown",
   "metadata": {},
   "source": [
    "### Logistic Regression"
   ]
  },
  {
   "cell_type": "code",
   "execution_count": 22,
   "metadata": {},
   "outputs": [
    {
     "name": "stdout",
     "output_type": "stream",
     "text": [
      "Logistic Regression training completed and saved.\n"
     ]
    }
   ],
   "source": [
    "# Train Logistic Regression\n",
    "lr = LogisticRegression(class_weight='balanced', max_iter=1000, solver='saga', random_state=42, n_jobs=-1)\n",
    "lr.fit(X_train_scaled, y_train_fixed)\n",
    "\n",
    "# Save the model\n",
    "joblib.dump(lr, '00_dataset/without_stopwords/tfidfWithNGram/svd/after/lr/lr.joblib')\n",
    "print(\"Logistic Regression training completed and saved.\")"
   ]
  },
  {
   "cell_type": "code",
   "execution_count": 23,
   "metadata": {},
   "outputs": [
    {
     "name": "stdout",
     "output_type": "stream",
     "text": [
      "Validation Accuracy: 0.6764\n",
      "\n",
      "Classification Report:\n",
      "               precision    recall  f1-score   support\n",
      "\n",
      "           0       0.93      0.68      0.78     52802\n",
      "           1       0.24      0.68      0.36      8044\n",
      "\n",
      "    accuracy                           0.68     60846\n",
      "   macro avg       0.59      0.68      0.57     60846\n",
      "weighted avg       0.84      0.68      0.73     60846\n",
      "\n",
      "ROC-AUC Score:  0.7416033032479915\n"
     ]
    },
    {
     "data": {
      "text/plain": [
       "<sklearn.metrics._plot.confusion_matrix.ConfusionMatrixDisplay at 0x2207555ed80>"
      ]
     },
     "execution_count": 23,
     "metadata": {},
     "output_type": "execute_result"
    },
    {
     "data": {
      "image/png": "[encoded data removed]",
      "text/plain": [
       "<Figure size 640x480 with 2 Axes>"
      ]
     },
     "metadata": {},
     "output_type": "display_data"
    }
   ],
   "source": [
    "# Load the last saved model\n",
    "# lr = joblib.load('00_dataset/without_stopwords/lr_classweights/lr.joblib') # Replace X with the last batch number\n",
    "\n",
    "# Predict on validation data\n",
    "y_val_pred = lr.predict(X_val_scaled)\n",
    "\n",
    "# Evaluate performance\n",
    "accuracy = accuracy_score(y_val_fixed, y_val_pred)\n",
    "print(f\"Validation Accuracy: {accuracy:.4f}\")\n",
    "\n",
    "print(\"\\nClassification Report:\\n\", classification_report(y_val_fixed, y_val_pred))\n",
    "\n",
    "# Compute ROC-AUC\n",
    "y_proba = lr.predict_proba(X_val_scaled)[:, 1]\n",
    "print(\"ROC-AUC Score: \", roc_auc_score(y_val_fixed, y_proba))\n",
    "\n",
    "# Generate confusion matrix\n",
    "cm = confusion_matrix(y_val_fixed, y_val_pred)\n",
    "\n",
    "# Display confusion matrix\n",
    "disp = ConfusionMatrixDisplay(confusion_matrix=cm, display_labels=[0, 1])\n",
    "disp.plot(cmap=\"Blues\")  # Choose a color map for visualization"
   ]
  },
  {
   "cell_type": "markdown",
   "metadata": {},
   "source": [
    "### Random Forest"
   ]
  },
  {
   "cell_type": "code",
   "execution_count": 24,
   "metadata": {},
   "outputs": [
    {
     "name": "stdout",
     "output_type": "stream",
     "text": [
      "Random Forest training completed and saved.\n"
     ]
    }
   ],
   "source": [
    "rf = RandomForestClassifier(n_estimators=200, random_state=42, class_weight='balanced', n_jobs=-1)\n",
    "rf.fit(X_train_scaled, y_train_fixed)\n",
    "\n",
    "# Save the model\n",
    "joblib.dump(rf, '00_dataset/without_stopwords/tfidfWithNGram/svd/after/rf/rf.joblib')\n",
    "print(\"Random Forest training completed and saved.\")"
   ]
  },
  {
   "cell_type": "code",
   "execution_count": 26,
   "metadata": {},
   "outputs": [
    {
     "name": "stdout",
     "output_type": "stream",
     "text": [
      "Validation Accuracy: 0.8673\n",
      "\n",
      "Classification Report:\n",
      "               precision    recall  f1-score   support\n",
      "\n",
      "           0       0.87      1.00      0.93     52802\n",
      "           1       0.44      0.01      0.02      8044\n",
      "\n",
      "    accuracy                           0.87     60846\n",
      "   macro avg       0.65      0.51      0.48     60846\n",
      "weighted avg       0.81      0.87      0.81     60846\n",
      "\n",
      "ROC-AUC Score:  0.6477201244919919\n"
     ]
    },
    {
     "data": {
      "text/plain": [
       "<sklearn.metrics._plot.confusion_matrix.ConfusionMatrixDisplay at 0x22126d80e30>"
      ]
     },
     "execution_count": 26,
     "metadata": {},
     "output_type": "execute_result"
    },
    {
     "data": {
      "image/png": "[encoded data removed]",
      "text/plain": [
       "<Figure size 640x480 with 2 Axes>"
      ]
     },
     "metadata": {},
     "output_type": "display_data"
    }
   ],
   "source": [
    "# Predict on validation data\n",
    "y_val_pred = rf.predict(X_val_scaled)\n",
    "\n",
    "# Evaluate performance\n",
    "accuracy = accuracy_score(y_val_fixed, y_val_pred)\n",
    "print(f\"Validation Accuracy: {accuracy:.4f}\")\n",
    "\n",
    "print(\"\\nClassification Report:\\n\", classification_report(y_val_fixed, y_val_pred))\n",
    "\n",
    "# Compute ROC-AUC\n",
    "y_proba = rf.predict_proba(X_val_scaled)[:, 1]\n",
    "print(\"ROC-AUC Score: \", roc_auc_score(y_val, y_proba))\n",
    "\n",
    "# Generate confusion matrix\n",
    "cm = confusion_matrix(y_val_fixed, y_val_pred)\n",
    "\n",
    "# Display confusion matrix\n",
    "disp = ConfusionMatrixDisplay(confusion_matrix=cm, display_labels=[0, 1])\n",
    "disp.plot(cmap=\"Blues\")  # Choose a color map for visualization"
   ]
  },
  {
   "cell_type": "markdown",
   "metadata": {},
   "source": [
    "### Hyperparameter with Logistic regression"
   ]
  },
  {
   "cell_type": "code",
   "execution_count": 7,
   "metadata": {},
   "outputs": [
    {
     "name": "stdout",
     "output_type": "stream",
     "text": [
      "Fitting 3 folds for each of 20 candidates, totalling 60 fits\n",
      "[CV] END ....C=3.7554011884736247, max_iter=500, solver=saga; total time= 8.9min\n",
      "[CV] END ....C=3.7554011884736247, max_iter=500, solver=saga; total time= 6.5min\n",
      "[CV] END ....C=3.7554011884736247, max_iter=500, solver=saga; total time= 6.9min\n",
      "[CV] END ...C=7.3299394181140505, max_iter=500, solver=lbfgs; total time=  39.3s\n",
      "[CV] END ...C=7.3299394181140505, max_iter=500, solver=lbfgs; total time= 1.7min\n",
      "[CV] END ...C=7.3299394181140505, max_iter=500, solver=lbfgs; total time= 1.9min\n",
      "[CV] END ....C=1.5701864044243652, max_iter=500, solver=saga; total time= 7.1min\n",
      "[CV] END ....C=1.5701864044243652, max_iter=500, solver=saga; total time= 6.6min\n",
      "[CV] END ....C=1.5701864044243652, max_iter=500, solver=saga; total time= 6.4min\n",
      "[CV] END ..C=0.5908361216819946, max_iter=1000, solver=lbfgs; total time= 1.1min\n",
      "[CV] END ..C=0.5908361216819946, max_iter=1000, solver=lbfgs; total time= 1.0min\n",
      "[CV] END ..C=0.5908361216819946, max_iter=1000, solver=lbfgs; total time= 1.7min\n",
      "[CV] END ....C=6.021150117432088, max_iter=1000, solver=saga; total time= 7.5min\n",
      "[CV] END ....C=6.021150117432088, max_iter=1000, solver=saga; total time= 6.7min\n",
      "[CV] END ....C=6.021150117432088, max_iter=1000, solver=saga; total time= 7.1min\n"
     ]
    },
    {
     "name": "stderr",
     "output_type": "stream",
     "text": [
      "c:\\Python312\\Lib\\site-packages\\sklearn\\linear_model\\_sag.py:349: ConvergenceWarning: The max_iter was reached which means the coef_ did not converge\n",
      "  warnings.warn(\n"
     ]
    },
    {
     "name": "stdout",
     "output_type": "stream",
     "text": [
      "[CV] END ..C=0.21584494295802448, max_iter=1000, solver=sag; total time=103.2min\n"
     ]
    },
    {
     "name": "stderr",
     "output_type": "stream",
     "text": [
      "c:\\Python312\\Lib\\site-packages\\sklearn\\linear_model\\_sag.py:349: ConvergenceWarning: The max_iter was reached which means the coef_ did not converge\n",
      "  warnings.warn(\n"
     ]
    },
    {
     "name": "stdout",
     "output_type": "stream",
     "text": [
      "[CV] END ..C=0.21584494295802448, max_iter=1000, solver=sag; total time=119.4min\n"
     ]
    },
    {
     "name": "stderr",
     "output_type": "stream",
     "text": [
      "c:\\Python312\\Lib\\site-packages\\sklearn\\linear_model\\_sag.py:349: ConvergenceWarning: The max_iter was reached which means the coef_ did not converge\n",
      "  warnings.warn(\n"
     ]
    },
    {
     "name": "stdout",
     "output_type": "stream",
     "text": [
      "[CV] END ...C=0.21584494295802448, max_iter=1000, solver=sag; total time=91.8min\n",
      "[CV] END ..C=2.1333911067827613, max_iter=1000, solver=lbfgs; total time= 1.0min\n",
      "[CV] END ..C=2.1333911067827613, max_iter=1000, solver=lbfgs; total time= 1.1min\n",
      "[CV] END ..C=2.1333911067827613, max_iter=1000, solver=lbfgs; total time= 1.5min\n",
      "[CV] END .....C=6.184815096277165, max_iter=1000, solver=sag; total time=13.8min\n",
      "[CV] END .....C=6.184815096277165, max_iter=1000, solver=sag; total time= 7.1min\n",
      "[CV] END .....C=6.184815096277165, max_iter=1000, solver=sag; total time= 6.6min\n",
      "[CV] END ..C=0.08066305219717405, max_iter=500, solver=lbfgs; total time= 1.1min\n",
      "[CV] END ..C=0.08066305219717405, max_iter=500, solver=lbfgs; total time=  52.5s\n",
      "[CV] END ..C=0.08066305219717405, max_iter=500, solver=lbfgs; total time= 1.4min\n",
      "[CV] END ......C=5.257746602583891, max_iter=500, solver=sag; total time=14.0min\n",
      "[CV] END ......C=5.257746602583891, max_iter=500, solver=sag; total time= 9.2min\n",
      "[CV] END ......C=5.257746602583891, max_iter=500, solver=sag; total time=16.5min\n",
      "[CV] END ...C=0.4766566321361543, max_iter=1000, solver=saga; total time= 6.4min\n",
      "[CV] END ...C=0.4766566321361543, max_iter=1000, solver=saga; total time= 6.1min\n",
      "[CV] END ...C=0.4766566321361543, max_iter=1000, solver=saga; total time= 6.4min\n",
      "[CV] END .....C=4.5706998421703595, max_iter=500, solver=sag; total time= 7.4min\n",
      "[CV] END .....C=4.5706998421703595, max_iter=500, solver=sag; total time= 5.9min\n",
      "[CV] END .....C=4.5706998421703595, max_iter=500, solver=sag; total time= 5.3min\n",
      "[CV] END ...C=2.0067378215835974, max_iter=500, solver=lbfgs; total time=  41.3s\n",
      "[CV] END ...C=2.0067378215835974, max_iter=500, solver=lbfgs; total time= 1.2min\n",
      "[CV] END ...C=2.0067378215835974, max_iter=500, solver=lbfgs; total time= 1.7min\n",
      "[CV] END ...C=0.47450412719997725, max_iter=500, solver=saga; total time= 6.6min\n",
      "[CV] END ...C=0.47450412719997725, max_iter=500, solver=saga; total time= 6.2min\n",
      "[CV] END ...C=0.47450412719997725, max_iter=500, solver=saga; total time= 6.5min\n",
      "[CV] END .....C=1.7152412368729153, max_iter=500, solver=sag; total time=10.7min\n",
      "[CV] END .....C=1.7152412368729153, max_iter=500, solver=sag; total time=27.5min\n",
      "[CV] END .....C=1.7152412368729153, max_iter=500, solver=sag; total time= 4.4min\n",
      "[CV] END .....C=9.498855372533333, max_iter=1000, solver=sag; total time=27.2min\n",
      "[CV] END .....C=9.498855372533333, max_iter=1000, solver=sag; total time=22.3min\n",
      "[CV] END .....C=9.498855372533333, max_iter=1000, solver=sag; total time= 7.7min\n",
      "[CV] END .......C=8.09397348116461, max_iter=500, solver=sag; total time=14.0min\n",
      "[CV] END .......C=8.09397348116461, max_iter=500, solver=sag; total time=22.1min\n",
      "[CV] END .......C=8.09397348116461, max_iter=500, solver=sag; total time=10.6min\n",
      "[CV] END ...C=0.9867211400638387, max_iter=1000, solver=saga; total time= 6.8min\n",
      "[CV] END ...C=0.9867211400638387, max_iter=1000, solver=saga; total time= 6.6min\n",
      "[CV] END ...C=0.9867211400638387, max_iter=1000, solver=saga; total time= 6.4min\n",
      "[CV] END ...C=6.842635188254582, max_iter=1000, solver=lbfgs; total time=  44.2s\n",
      "[CV] END ...C=6.842635188254582, max_iter=1000, solver=lbfgs; total time= 1.7min\n",
      "[CV] END ...C=6.842635188254582, max_iter=1000, solver=lbfgs; total time= 2.2min\n",
      "[CV] END ......C=8.341949117361644, max_iter=500, solver=sag; total time= 6.8min\n",
      "[CV] END ......C=8.341949117361644, max_iter=500, solver=sag; total time=22.2min\n",
      "[CV] END ......C=8.341949117361644, max_iter=500, solver=sag; total time=10.7min\n",
      "Best Hyperparameters: {'C': 0.08066305219717405, 'max_iter': 500, 'solver': 'lbfgs'}\n",
      "\n",
      "Classification Report:\n",
      "               precision    recall  f1-score   support\n",
      "\n",
      "           0       0.93      0.68      0.78     52802\n",
      "           1       0.24      0.68      0.36      8044\n",
      "\n",
      "    accuracy                           0.68     60846\n",
      "   macro avg       0.59      0.68      0.57     60846\n",
      "weighted avg       0.84      0.68      0.73     60846\n",
      "\n",
      "ROC-AUC Score:  0.7418949527456947\n"
     ]
    }
   ],
   "source": [
    "from sklearn.model_selection import RandomizedSearchCV\n",
    "from scipy.stats import uniform\n",
    "\n",
    "# Define the model\n",
    "logreg = LogisticRegression(class_weight='balanced', random_state=42)\n",
    "\n",
    "# Define the hyperparameter grid\n",
    "param_dist = {\n",
    "    'C': uniform(0.01, 10),  # Continuous range for `C` (more flexibility)\n",
    "    'solver': ['lbfgs', 'sag', 'saga'],  \n",
    "    'max_iter': [500, 1000]  # Prevents convergence warnings\n",
    "}\n",
    "\n",
    "random_search = RandomizedSearchCV(logreg, param_distributions=param_dist, \n",
    "                                   n_iter=20, cv=3, scoring='roc_auc', \n",
    "                                   n_jobs=1, verbose=2, random_state=42)\n",
    "random_search.fit(X_train_scaled, y_train_fixed)\n",
    "\n",
    "# Best parameters\n",
    "print(\"Best Hyperparameters:\", random_search.best_params_)\n",
    "\n",
    "# Evaluate on validation set\n",
    "best_logreg = random_search.best_estimator_\n",
    "y_val_pred = best_logreg.predict(X_val_scaled)\n",
    "\n",
    "# Performance metrics\n",
    "from sklearn.metrics import classification_report, roc_auc_score\n",
    "print(\"\\nClassification Report:\\n\", classification_report(y_val_fixed, y_val_pred))\n",
    "print(\"ROC-AUC Score: \", roc_auc_score(y_val_fixed, best_logreg.predict_proba(X_val_scaled)[:, 1]))\n"
   ]
  },
  {
   "cell_type": "code",
   "execution_count": 9,
   "metadata": {},
   "outputs": [
    {
     "name": "stdout",
     "output_type": "stream",
     "text": [
      "Best Hyperparameters: {'C': 0.08066305219717405, 'max_iter': 500, 'solver': 'lbfgs'}\n",
      "\n",
      "Classification Report:\n",
      "               precision    recall  f1-score   support\n",
      "\n",
      "           0       0.93      0.68      0.78     52802\n",
      "           1       0.24      0.68      0.36      8044\n",
      "\n",
      "    accuracy                           0.68     60846\n",
      "   macro avg       0.59      0.68      0.57     60846\n",
      "weighted avg       0.84      0.68      0.73     60846\n",
      "\n",
      "ROC-AUC Score:  0.7418949527456947\n"
     ]
    }
   ],
   "source": [
    "print(\"Best Hyperparameters:\", random_search.best_params_)\n",
    "\n",
    "print(\"\\nClassification Report:\\n\", classification_report(y_val_fixed, y_val_pred))\n",
    "print(\"ROC-AUC Score: \", roc_auc_score(y_val_fixed, best_logreg.predict_proba(X_val_scaled)[:, 1]))\n"
   ]
  },
  {
   "cell_type": "markdown",
   "metadata": {},
   "source": [
    "# Apply SMOTE + Tomek\n",
    "Adds minority samples (SMOTE) & removes noisy majority samples (Tomek)"
   ]
  },
  {
   "cell_type": "code",
   "execution_count": null,
   "metadata": {},
   "outputs": [],
   "source": [
    "from imblearn.combine import SMOTETomek\n",
    "\n",
    "smote_tomek = SMOTETomek(sampling_strategy=0.5, random_state=42, n_jobs=-1)\n",
    "X_train_smote_tomek, y_train_smote_tomek = smote_tomek.fit_resample(X_train_scaled, y_train)\n",
    "\n",
    "joblib.dump((X_train_smote_tomek, y_train_smote_tomek), \"smotetomek50_resampled.joblib\")"
   ]
  },
  {
   "cell_type": "markdown",
   "metadata": {},
   "source": [
    "SMOTE Tomek will be scrape as it is taking too long to compute. (> 160 mins)"
   ]
  },
  {
   "cell_type": "code",
   "execution_count": null,
   "metadata": {},
   "outputs": [],
   "source": [
    "nb_smote_tomek = MultinomialNB(class_prior=[0.5, 0.5])\n",
    "nb_smote_tomek.fit(X_train_smote_tomek, y_train_smote_tomek)\n",
    "\n",
    "# Save the model\n",
    "joblib.dump(nb_smote_tomek, '00_dataset/without_stopwords/nb_classweights/nb_smote_tomek.joblib')\n",
    "print(\"Naive Bayes with SMOTE Tomek training completed and saved.\")"
   ]
  },
  {
   "cell_type": "code",
   "execution_count": null,
   "metadata": {},
   "outputs": [],
   "source": [
    "# Load the last saved model\n",
    "nb_smote_tomek = joblib.load('00_dataset/without_stopwords/nb_classweights/nb_smote_tomek.joblib')\n",
    "\n",
    "# Predict on validation data\n",
    "y_val_pred = nb_smote_tomek.predict(X_val_scaled)\n",
    "\n",
    "# Evaluate performance\n",
    "accuracy = accuracy_score(y_val, y_val_pred)\n",
    "print(f\"Validation Accuracy: {accuracy:.4f}\")\n",
    "\n",
    "print(\"\\nClassification Report:\\n\", classification_report(y_val, y_val_pred))\n",
    "\n",
    "# Compute ROC-AUC\n",
    "y_proba = nb_smote_tomek.predict_proba(X_val_scaled)[:, 1]\n",
    "print(\"ROC-AUC Score: \", roc_auc_score(y_val, y_proba))\n",
    "\n",
    "# Generate confusion matrix\n",
    "cm = confusion_matrix(y_val, y_val_pred)\n",
    "\n",
    "# Display confusion matrix\n",
    "disp = ConfusionMatrixDisplay(confusion_matrix=cm, display_labels=[0, 1])\n",
    "disp.plot(cmap=\"Blues\")  # Choose a color map for visualization"
   ]
  },
  {
   "cell_type": "code",
   "execution_count": null,
   "metadata": {},
   "outputs": [],
   "source": [
    "# Train Logistic Regression\n",
    "lr_smote_tomek = LogisticRegression(class_weight='balanced', max_iter=1000, solver='saga')\n",
    "lr_smote_tomek.fit(X_train_smote_tomek, y_train_smote_tomek)\n",
    "\n",
    "# Save the model\n",
    "joblib.dump(lr_smote_tomek, '00_dataset/without_stopwords/lr_classweights/lr_smote_tomek.joblib')\n",
    "print(\"Logistic Regression with SMOTE Tomek training completed and saved.\")"
   ]
  },
  {
   "cell_type": "markdown",
   "metadata": {},
   "source": [
    "# Apply SMOTE + ENN\n",
    "SMOTE ENN will be scrape as it is taking too long to compute. (> 100 mins)"
   ]
  },
  {
   "cell_type": "code",
   "execution_count": 1,
   "metadata": {},
   "outputs": [
    {
     "ename": "NameError",
     "evalue": "name 'X_train_scaled' is not defined",
     "output_type": "error",
     "traceback": [
      "\u001b[1;31m---------------------------------------------------------------------------\u001b[0m",
      "\u001b[1;31mNameError\u001b[0m                                 Traceback (most recent call last)",
      "Cell \u001b[1;32mIn[1], line 4\u001b[0m\n\u001b[0;32m      1\u001b[0m \u001b[38;5;28;01mfrom\u001b[39;00m \u001b[38;5;21;01mimblearn\u001b[39;00m\u001b[38;5;21;01m.\u001b[39;00m\u001b[38;5;21;01mcombine\u001b[39;00m \u001b[38;5;28;01mimport\u001b[39;00m SMOTEENN\n\u001b[0;32m      3\u001b[0m smote_enn \u001b[38;5;241m=\u001b[39m SMOTEENN(sampling_strategy\u001b[38;5;241m=\u001b[39m\u001b[38;5;241m0.5\u001b[39m, random_state\u001b[38;5;241m=\u001b[39m\u001b[38;5;241m42\u001b[39m, n_jobs\u001b[38;5;241m=\u001b[39m\u001b[38;5;241m-\u001b[39m\u001b[38;5;241m1\u001b[39m)\n\u001b[1;32m----> 4\u001b[0m X_train_smote_enn, y_train_smote_enn \u001b[38;5;241m=\u001b[39m smote_enn\u001b[38;5;241m.\u001b[39mfit_resample(\u001b[43mX_train_scaled\u001b[49m, y_train)\n\u001b[0;32m      6\u001b[0m joblib\u001b[38;5;241m.\u001b[39mdump((X_train_smote_enn, y_train_smote_enn), \u001b[38;5;124m\"\u001b[39m\u001b[38;5;124msmoteenn50_resampled.joblib\u001b[39m\u001b[38;5;124m\"\u001b[39m)\n",
      "\u001b[1;31mNameError\u001b[0m: name 'X_train_scaled' is not defined"
     ]
    }
   ],
   "source": [
    "from imblearn.combine import SMOTEENN\n",
    "\n",
    "smote_enn = SMOTEENN(sampling_strategy=0.5, random_state=42, n_jobs=-1)\n",
    "X_train_smote_enn, y_train_smote_enn = smote_enn.fit_resample(X_train_scaled, y_train)\n",
    "\n",
    "joblib.dump((X_train_smote_enn, y_train_smote_enn), \"smoteenn50_resampled.joblib\")"
   ]
  },
  {
   "cell_type": "code",
   "execution_count": null,
   "metadata": {},
   "outputs": [],
   "source": []
  }
 ],
 "metadata": {
  "colab": {
   "authorship_tag": "ABX9TyO6Iv3wImR/68tHMhlvmBj2",
   "collapsed_sections": [
    "5LAdCfvbsB2Q",
    "kN6Ff2xnpcYW",
    "BRw6BrTTtID5"
   ],
   "provenance": []
  },
  "kernelspec": {
   "display_name": "Python 3",
   "name": "python3"
  },
  "language_info": {
   "codemirror_mode": {
    "name": "ipython",
    "version": 3
   },
   "file_extension": ".py",
   "mimetype": "text/x-python",
   "name": "python",
   "nbconvert_exporter": "python",
   "pygments_lexer": "ipython3",
   "version": "3.12.3"
  }
 },
 "nbformat": 4,
 "nbformat_minor": 0
}
