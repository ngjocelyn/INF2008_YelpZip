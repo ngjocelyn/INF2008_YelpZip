{
  "cells": [
    {
      "cell_type": "code",
      "execution_count": 13,
      "metadata": {
        "colab": {
          "base_uri": "https://localhost:8080/"
        },
        "id": "-jMIBikVVMBN",
        "outputId": "03b566e6-8b6b-4392-ff11-dc90299311d7"
      },
      "outputs": [
        {
          "name": "stderr",
          "output_type": "stream",
          "text": [
            "[nltk_data] Downloading package vader_lexicon to\n",
            "[nltk_data]     C:\\Users\\ngmin\\AppData\\Roaming\\nltk_data...\n",
            "[nltk_data]   Package vader_lexicon is already up-to-date!\n"
          ]
        },
        {
          "data": {
            "text/plain": [
              "True"
            ]
          },
          "execution_count": 13,
          "metadata": {},
          "output_type": "execute_result"
        }
      ],
      "source": [
        "# Data Manipulation\n",
        "import pandas as pd\n",
        "import numpy as np\n",
        "\n",
        "# Text Processing and NLP\n",
        "import emoji\n",
        "import nltk\n",
        "from nltk.sentiment import SentimentIntensityAnalyzer\n",
        "from textblob import TextBlob\n",
        "\n",
        "# Machine Learning\n",
        "from scipy.sparse import hstack\n",
        "from sklearn.model_selection import train_test_split, cross_val_score\n",
        "from sklearn.feature_extraction.text import TfidfVectorizer\n",
        "from sklearn.linear_model import LogisticRegression\n",
        "from sklearn.ensemble import RandomForestClassifier\n",
        "from sklearn.svm import SVC\n",
        "from sklearn.naive_bayes import MultinomialNB\n",
        "from imblearn.over_sampling import SMOTE\n",
        "from sklearn.compose import ColumnTransformer\n",
        "from sklearn.preprocessing import MinMaxScaler\n",
        "import joblib\n",
        "from sklearn.metrics import classification_report, accuracy_score, silhouette_score, roc_auc_score, confusion_matrix, ConfusionMatrixDisplay\n",
        "\n",
        "# Visualization\n",
        "import matplotlib.pyplot as plt\n",
        "import seaborn as sns\n",
        "\n",
        "# Download necessary NLTK data\n",
        "nltk.download(\"vader_lexicon\")"
      ]
    },
    {
      "cell_type": "markdown",
      "metadata": {
        "id": "nqKuQ4dapK4U"
      },
      "source": [
        "# Load Data"
      ]
    },
    {
      "cell_type": "code",
      "execution_count": 4,
      "metadata": {
        "id": "Lv4YfK4ivCB1"
      },
      "outputs": [],
      "source": [
        "df = pd.read_csv(\"00_dataset/without_stopwords/cleaned_reviews.csv\")"
      ]
    },
    {
      "cell_type": "code",
      "execution_count": 5,
      "metadata": {
        "colab": {
          "base_uri": "https://localhost:8080/",
          "height": 0
        },
        "id": "glGNkOA6zWM-",
        "outputId": "4bc1984d-438a-44b2-fc18-8afca4685357"
      },
      "outputs": [
        {
          "data": {
            "text/html": [
              "<div>\n",
              "<style scoped>\n",
              "    .dataframe tbody tr th:only-of-type {\n",
              "        vertical-align: middle;\n",
              "    }\n",
              "\n",
              "    .dataframe tbody tr th {\n",
              "        vertical-align: top;\n",
              "    }\n",
              "\n",
              "    .dataframe thead th {\n",
              "        text-align: right;\n",
              "    }\n",
              "</style>\n",
              "<table border=\"1\" class=\"dataframe\">\n",
              "  <thead>\n",
              "    <tr style=\"text-align: right;\">\n",
              "      <th></th>\n",
              "      <th>user_id</th>\n",
              "      <th>prod_id</th>\n",
              "      <th>review_text</th>\n",
              "      <th>rating</th>\n",
              "      <th>label</th>\n",
              "      <th>cleaned_text</th>\n",
              "    </tr>\n",
              "  </thead>\n",
              "  <tbody>\n",
              "    <tr>\n",
              "      <th>0</th>\n",
              "      <td>5044</td>\n",
              "      <td>0</td>\n",
              "      <td>Drinks were bad, the hot chocolate was watered...</td>\n",
              "      <td>1.0</td>\n",
              "      <td>1</td>\n",
              "      <td>Drinks bad , hot chocolate water latte burnt t...</td>\n",
              "    </tr>\n",
              "    <tr>\n",
              "      <th>1</th>\n",
              "      <td>5045</td>\n",
              "      <td>0</td>\n",
              "      <td>This was the worst experience I've ever had a ...</td>\n",
              "      <td>1.0</td>\n",
              "      <td>1</td>\n",
              "      <td>This bad experience I ever casual coffee/light...</td>\n",
              "    </tr>\n",
              "    <tr>\n",
              "      <th>2</th>\n",
              "      <td>5046</td>\n",
              "      <td>0</td>\n",
              "      <td>This is located on the site of the old Spruce ...</td>\n",
              "      <td>3.0</td>\n",
              "      <td>1</td>\n",
              "      <td>This locate site old Spruce St. Video . The mi...</td>\n",
              "    </tr>\n",
              "    <tr>\n",
              "      <th>3</th>\n",
              "      <td>5047</td>\n",
              "      <td>0</td>\n",
              "      <td>I enjoyed coffee and breakfast twice at Toast ...</td>\n",
              "      <td>5.0</td>\n",
              "      <td>1</td>\n",
              "      <td>I enjoy coffee breakfast twice Toast recent vi...</td>\n",
              "    </tr>\n",
              "    <tr>\n",
              "      <th>4</th>\n",
              "      <td>5048</td>\n",
              "      <td>0</td>\n",
              "      <td>I love Toast! The food choices are fantastic -...</td>\n",
              "      <td>5.0</td>\n",
              "      <td>1</td>\n",
              "      <td>I love Toast ! The food choice fantastic - I l...</td>\n",
              "    </tr>\n",
              "  </tbody>\n",
              "</table>\n",
              "</div>"
            ],
            "text/plain": [
              "   user_id  prod_id                                        review_text  \\\n",
              "0     5044        0  Drinks were bad, the hot chocolate was watered...   \n",
              "1     5045        0  This was the worst experience I've ever had a ...   \n",
              "2     5046        0  This is located on the site of the old Spruce ...   \n",
              "3     5047        0  I enjoyed coffee and breakfast twice at Toast ...   \n",
              "4     5048        0  I love Toast! The food choices are fantastic -...   \n",
              "\n",
              "   rating  label                                       cleaned_text  \n",
              "0     1.0      1  Drinks bad , hot chocolate water latte burnt t...  \n",
              "1     1.0      1  This bad experience I ever casual coffee/light...  \n",
              "2     3.0      1  This locate site old Spruce St. Video . The mi...  \n",
              "3     5.0      1  I enjoy coffee breakfast twice Toast recent vi...  \n",
              "4     5.0      1  I love Toast ! The food choice fantastic - I l...  "
            ]
          },
          "execution_count": 5,
          "metadata": {},
          "output_type": "execute_result"
        }
      ],
      "source": [
        "df.head()"
      ]
    },
    {
      "cell_type": "code",
      "execution_count": 9,
      "metadata": {},
      "outputs": [],
      "source": [
        "df[\"cleaned_text\"] = df[\"cleaned_text\"].fillna(\"\")"
      ]
    },
    {
      "cell_type": "markdown",
      "metadata": {
        "id": "Ul5zEA9Uuaa3"
      },
      "source": [
        "## Data Splitting"
      ]
    },
    {
      "cell_type": "code",
      "execution_count": 10,
      "metadata": {
        "colab": {
          "base_uri": "https://localhost:8080/"
        },
        "id": "1wITU9Ft0VLZ",
        "outputId": "348f38dc-ae6f-41c1-d97e-49492b7e669f"
      },
      "outputs": [
        {
          "name": "stdout",
          "output_type": "stream",
          "text": [
            "Training set:  425920\n",
            "Test set:  121692\n",
            "Validation set:  60846\n"
          ]
        }
      ],
      "source": [
        "X = df[\"cleaned_text\"]\n",
        "y = df[\"label\"]\n",
        "\n",
        "# First, split into Train (80%) and Test (20%)\n",
        "X_train, X_test, y_train, y_test = train_test_split(X, y, test_size=0.2, stratify=y, random_state=42)\n",
        "\n",
        "# Next, split Train (80%) into Train (70%) and Validation (10%)\n",
        "X_train, X_val, y_train, y_val = train_test_split(X_train, y_train, test_size=0.125, stratify=y_train, random_state=42)\n",
        "\n",
        "print(\"Training set: \", len(X_train))\n",
        "print(\"Test set: \", len(X_test))\n",
        "print(\"Validation set: \", len(X_val))"
      ]
    },
    {
      "cell_type": "code",
      "execution_count": 11,
      "metadata": {
        "colab": {
          "base_uri": "https://localhost:8080/"
        },
        "id": "oO0G1Q0O1Q--",
        "outputId": "3c40a34f-018a-4974-8cd7-672d48020bd6"
      },
      "outputs": [
        {
          "name": "stdout",
          "output_type": "stream",
          "text": [
            "Train Class Distribution:\n",
            " label\n",
            "0    0.867799\n",
            "1    0.132201\n",
            "Name: proportion, dtype: float64\n",
            "\n",
            "Validation Class Distribution:\n",
            " label\n",
            "0    0.867797\n",
            "1    0.132203\n",
            "Name: proportion, dtype: float64\n",
            "\n",
            "Test Class Distribution:\n",
            " label\n",
            "0    0.867797\n",
            "1    0.132203\n",
            "Name: proportion, dtype: float64\n"
          ]
        }
      ],
      "source": [
        "# Check class distribution after split\n",
        "print(\"Train Class Distribution:\\n\", y_train.value_counts(normalize=True))\n",
        "print(\"\\nValidation Class Distribution:\\n\", y_val.value_counts(normalize=True))\n",
        "print(\"\\nTest Class Distribution:\\n\", y_test.value_counts(normalize=True))"
      ]
    },
    {
      "cell_type": "markdown",
      "metadata": {
        "id": "E1fPH3dHu_Ws"
      },
      "source": [
        "# Feature Extraction - With Stopwords"
      ]
    },
    {
      "cell_type": "code",
      "execution_count": 12,
      "metadata": {
        "id": "04qThEmT2eRx"
      },
      "outputs": [],
      "source": [
        "vectorizer = TfidfVectorizer(max_features=5000)  # Top 5000 words\n",
        "X_train_tfidf = vectorizer.fit_transform(X_train)\n",
        "X_val_tfidf = vectorizer.transform(X_val)\n",
        "X_test_tfidf = vectorizer.transform(X_test)"
      ]
    },
    {
      "cell_type": "markdown",
      "metadata": {
        "id": "JAYLxnHhztHg"
      },
      "source": [
        "# Baseline Model - With Stopwords\n",
        "\n",
        "Baseline model no need to perform feature engineering. This will be a simple benchmark with \"raw\" processed data.\n",
        "\n",
        "[Start simple](https://https://lopezyse.medium.com/your-guide-to-feature-engineering-383f7e8b7584#:~:text=Start%20simple%3A%20you%20can%20get,features%20to%20engineer%20and%20use.): you can get an excellent baseline performance by creating an initial model without deep features. After this baseline is achieved, you can try more esoteric approaches."
      ]
    },
    {
      "cell_type": "code",
      "execution_count": 14,
      "metadata": {
        "colab": {
          "base_uri": "https://localhost:8080/",
          "height": 80
        },
        "id": "7G6m0AEK1Kp9",
        "outputId": "18134934-5ca3-4924-bdc5-712ceb6a85cb"
      },
      "outputs": [
        {
          "name": "stdout",
          "output_type": "stream",
          "text": [
            "Naive Bayes training completed and saved.\n"
          ]
        }
      ],
      "source": [
        "nb = MultinomialNB()\n",
        "\n",
        "nb.fit(X_train_tfidf, y_train)\n",
        "\n",
        "# Save the model\n",
        "joblib.dump(nb, '00_dataset/without_stopwords/beforeFeatureEngineering/nb.joblib')\n",
        "print(\"Naive Bayes training completed and saved.\")"
      ]
    },
    {
      "cell_type": "code",
      "execution_count": 23,
      "metadata": {
        "colab": {
          "base_uri": "https://localhost:8080/"
        },
        "id": "gTfW7ezz1-Y-",
        "outputId": "74b14917-d343-4e90-eb97-d2e6d0db848c"
      },
      "outputs": [
        {
          "name": "stdout",
          "output_type": "stream",
          "text": [
            "Accuracy:  0.867912434671137\n",
            "Classification Report:\n",
            "               precision    recall  f1-score   support\n",
            "\n",
            "           0       0.87      1.00      0.93     52802\n",
            "           1       0.60      0.00      0.01      8044\n",
            "\n",
            "    accuracy                           0.87     60846\n",
            "   macro avg       0.73      0.50      0.47     60846\n",
            "weighted avg       0.83      0.87      0.81     60846\n",
            "\n",
            "ROC-AUC Score:  0.7145537287805597\n"
          ]
        },
        {
          "data": {
            "text/plain": [
              "<sklearn.metrics._plot.confusion_matrix.ConfusionMatrixDisplay at 0x25908db3c50>"
            ]
          },
          "execution_count": 23,
          "metadata": {},
          "output_type": "execute_result"
        },
        {
          "data": {
            "image/png": "[encoded data removed]",
            "text/plain": [
              "<Figure size 640x480 with 2 Axes>"
            ]
          },
          "metadata": {},
          "output_type": "display_data"
        }
      ],
      "source": [
        "# Predict on val set\n",
        "y_pred = nb.predict(X_val_tfidf)\n",
        "\n",
        "# Evaluate Baseline Performance\n",
        "print(\"Accuracy: \", accuracy_score(y_val, y_pred))\n",
        "print(\"Classification Report:\\n\", classification_report(y_val, y_pred))\n",
        "\n",
        "# Compute ROC-AUC\n",
        "yProba_nbBaseline = nb.predict_proba(X_val_tfidf)[:, 1]\n",
        "print(\"ROC-AUC Score: \", roc_auc_score(y_val, yProba_nbBaseline))\n",
        "\n",
        "# Generate confusion matrix\n",
        "cm_baseline = confusion_matrix(y_val, y_pred)\n",
        "\n",
        "# Display confusion matrix\n",
        "disp = ConfusionMatrixDisplay(confusion_matrix=cm_baseline, display_labels=[0, 1])\n",
        "disp.plot(cmap=\"Blues\")  # Choose a color map for visualization"
      ]
    },
    {
      "cell_type": "markdown",
      "metadata": {
        "id": "F_kz_mT27IDl"
      },
      "source": [
        "## Analysis of Baseline Model"
      ]
    },
    {
      "cell_type": "markdown",
      "metadata": {
        "id": "frjRnZCD3ZDc"
      },
      "source": [
        "* The model shows an accuracy of 86.8%.\n",
        "* Precision for Class 1 is 0.62. This shows that when the model predicts as Spam, it is correct 62% of the time.\n",
        "* ROC-AUC score of 0.718 suggests the model is somewhat distinguishing between classes.\n",
        "---\n",
        "* Recall for Class 1 is 0. This shows that the model is failing to detect Spam.\n",
        "  <br>(Recall is crucial in imbalanced datasets)\n",
        "* F1-score for class is 0. This confirms that the model is not capturing the minority class at all.\n"
      ]
    },
    {
      "cell_type": "markdown",
      "metadata": {
        "id": "Wvb65aRr7kjc"
      },
      "source": [
        "## Class imbalance handling"
      ]
    },
    {
      "cell_type": "markdown",
      "metadata": {
        "id": "FWWugX5F7q9s"
      },
      "source": [
        "Class Balancing with Naive Balance: to check if doing so will improve the results"
      ]
    },
    {
      "cell_type": "code",
      "execution_count": 18,
      "metadata": {
        "colab": {
          "base_uri": "https://localhost:8080/",
          "height": 80
        },
        "id": "uMWiziPd7-UO",
        "outputId": "14d97096-c740-4d8a-ddc6-e0f42ded0f9c"
      },
      "outputs": [
        {
          "name": "stdout",
          "output_type": "stream",
          "text": [
            "Naive Bayes training completed and saved.\n"
          ]
        }
      ],
      "source": [
        "nb_balanced = MultinomialNB(class_prior=[0.5, 0.5]) # Giving equal weightage to both classes\n",
        "nb_balanced.fit(X_train_tfidf, y_train)\n",
        "\n",
        "# Save the model\n",
        "joblib.dump(nb_balanced, '00_dataset/without_stopwords/beforeFeatureEngineering/nb_balanced.joblib')\n",
        "print(\"Naive Bayes training completed and saved.\")"
      ]
    },
    {
      "cell_type": "code",
      "execution_count": 24,
      "metadata": {
        "colab": {
          "base_uri": "https://localhost:8080/",
          "height": 675
        },
        "id": "4X9cIsVn8OQx",
        "outputId": "b5bb1d41-9dd8-4a16-c142-c7121a4659e4"
      },
      "outputs": [
        {
          "name": "stdout",
          "output_type": "stream",
          "text": [
            "Accuracy:  0.647043355356145\n",
            "Classification Report:\n",
            "               precision    recall  f1-score   support\n",
            "\n",
            "           0       0.93      0.64      0.76     52802\n",
            "           1       0.22      0.67      0.33      8044\n",
            "\n",
            "    accuracy                           0.65     60846\n",
            "   macro avg       0.58      0.66      0.55     60846\n",
            "weighted avg       0.83      0.65      0.70     60846\n",
            "\n",
            "ROC-AUC Score:  0.7145537287805597\n"
          ]
        },
        {
          "data": {
            "text/plain": [
              "<sklearn.metrics._plot.confusion_matrix.ConfusionMatrixDisplay at 0x25970c21d00>"
            ]
          },
          "execution_count": 24,
          "metadata": {},
          "output_type": "execute_result"
        },
        {
          "data": {
            "image/png": "[encoded data removed]",
            "text/plain": [
              "<Figure size 640x480 with 2 Axes>"
            ]
          },
          "metadata": {},
          "output_type": "display_data"
        }
      ],
      "source": [
        "y_pred_balanced = nb_balanced.predict(X_val_tfidf)\n",
        "\n",
        "# Evaluate Baseline Performance\n",
        "print(\"Accuracy: \", accuracy_score(y_val, y_pred_balanced))\n",
        "print(\"Classification Report:\\n\", classification_report(y_val, y_pred_balanced))\n",
        "\n",
        "# Compute ROC-AUC\n",
        "y_proba_balanced = nb_balanced.predict_proba(X_val_tfidf)[:, 1]\n",
        "print(\"ROC-AUC Score: \", roc_auc_score(y_val, y_proba_balanced))\n",
        "\n",
        "cm_balanced = confusion_matrix(y_val, y_pred_balanced)\n",
        "disp_balanced = ConfusionMatrixDisplay(confusion_matrix=cm_balanced, display_labels=[0, 1])\n",
        "disp_balanced.plot(cmap=\"Blues\")"
      ]
    },
    {
      "cell_type": "markdown",
      "metadata": {
        "id": "nETCHkff9zh3"
      },
      "source": [
        "## Apply SMOTE"
      ]
    },
    {
      "cell_type": "code",
      "execution_count": 25,
      "metadata": {
        "id": "eQjCMSRR9271"
      },
      "outputs": [
        {
          "name": "stdout",
          "output_type": "stream",
          "text": [
            "Naive Bayes training completed and saved.\n"
          ]
        }
      ],
      "source": [
        "# Apply SMOTE\n",
        "smote = SMOTE(sampling_strategy='auto', random_state=42)\n",
        "X_train_resampled, y_train_resampled = smote.fit_resample(X_train_tfidf, y_train)\n",
        "\n",
        "# Train Naive Bayes on resampled data\n",
        "nb_smote = MultinomialNB()\n",
        "nb_smote.fit(X_train_resampled, y_train_resampled)\n",
        "\n",
        "# Save the model\n",
        "joblib.dump(nb_smote, '00_dataset/without_stopwords/beforeFeatureEngineering/nb_smote.joblib')\n",
        "print(\"Naive Bayes training completed and saved.\")\n",
        "\n",
        "# Predict using the SMOTE-trained model\n",
        "y_pred_smote = nb_smote.predict(X_val_tfidf)"
      ]
    },
    {
      "cell_type": "code",
      "execution_count": 26,
      "metadata": {
        "colab": {
          "base_uri": "https://localhost:8080/",
          "height": 675
        },
        "id": "7IAiwjcj-Jdo",
        "outputId": "b6e73dfe-3d78-445a-bbe8-dcf2b72b4a57"
      },
      "outputs": [
        {
          "name": "stdout",
          "output_type": "stream",
          "text": [
            "Accuracy:  0.6530256713670578\n",
            "Classification Report:\n",
            "               precision    recall  f1-score   support\n",
            "\n",
            "           0       0.93      0.65      0.77     52802\n",
            "           1       0.23      0.67      0.34      8044\n",
            "\n",
            "    accuracy                           0.65     60846\n",
            "   macro avg       0.58      0.66      0.55     60846\n",
            "weighted avg       0.83      0.65      0.71     60846\n",
            "\n",
            "ROC-AUC Score:  0.7163941613048992\n"
          ]
        },
        {
          "data": {
            "text/plain": [
              "<sklearn.metrics._plot.confusion_matrix.ConfusionMatrixDisplay at 0x2596f8e45c0>"
            ]
          },
          "execution_count": 26,
          "metadata": {},
          "output_type": "execute_result"
        },
        {
          "data": {
            "image/png": "[encoded data removed]",
            "text/plain": [
              "<Figure size 640x480 with 2 Axes>"
            ]
          },
          "metadata": {},
          "output_type": "display_data"
        }
      ],
      "source": [
        "# Evaluate Baseline Performance\n",
        "print(\"Accuracy: \", accuracy_score(y_val, y_pred_smote))\n",
        "print(\"Classification Report:\\n\", classification_report(y_val, y_pred_smote))\n",
        "\n",
        "# Compute ROC-AUC\n",
        "y_proba_smote = nb_smote.predict_proba(X_val_tfidf)[:, 1]\n",
        "print(\"ROC-AUC Score: \", roc_auc_score(y_val, y_proba_smote))\n",
        "\n",
        "cm_smote = confusion_matrix(y_val, y_pred_smote)\n",
        "disp_smote = ConfusionMatrixDisplay(confusion_matrix=cm_smote, display_labels=[0, 1])\n",
        "disp_smote.plot(cmap=\"Blues\")"
      ]
    },
    {
      "cell_type": "markdown",
      "metadata": {
        "id": "12aFwYPNBcaY"
      },
      "source": [
        "## Baseline Model Performance Comparison - Naive Bayes\n",
        "\n",
        "| Model Version  | Accuracy | Precision (Class 1) | Recall (Class 1) | F1-Score (Class 1) | ROC-AUC Score |\n",
        "|---------------|----------|--------------------|-----------------|-----------------|---------------|\n",
        "| **Initial Baseline** | 86.8% | 62% | 0%  | 0%  | 0.718 |\n",
        "| **Balanced Classes** | 64.8% | 22% | 68% | 34% | 0.718 |\n",
        "| **SMOTE** | 65.7% | 23% | 67% | 34% | 0.719 |\n",
        "\n"
      ]
    },
    {
      "cell_type": "markdown",
      "metadata": {
        "id": "c6QvWrKIFRmv"
      },
      "source": [
        "# Feature Engineering\n",
        "\n",
        "[**Feature engineering**](https://medium.com/data-and-beyond/a-step-to-step-guide-for-feature-engineering-over-textual-data-nlp-a54c53081e04) is the process of selecting and creating the most relevant and useful features to input into a machine learning model. It is a crucial step in the machine learning process that can significantly impact the model’s performance, complexity, and ability to generalize to new data. By carefully selecting and constructing the features used as input, it is possible to improve the accuracy and effectiveness of the model and avoid overfitting.\n",
        "\n",
        "\n",
        "1. Length of Tweet\n",
        "  \n",
        "  The length of the tweet (in characters) can be a useful feature, as longer tweets may contain more information than shorter tweets. We can extract the length of the tweet like this:\n",
        "  ```\n",
        "  def get_length(text):\n",
        "    return len(text)\n",
        "  ```\n",
        "\n",
        "2. Number of Exclamation Points\n",
        "\n",
        "  The number of exclamation points in a tweet can be a useful feature, as it may indicate the intensity or emotion of the tweet. We can extract the number of exclamation points like this:\n",
        "  ```\n",
        "  def get_exclamation_count(text):\n",
        "    return text.count('!')\n",
        "  ```\n",
        "3. Number of Question Marks\n",
        "\n",
        "  Similar to exclamation points, the number of question marks in a tweet can be a useful feature. We can extract the number of question marks like this:\n",
        "  ```\n",
        "  def get_question_mark_count(text):\n",
        "    return text.count('?')\n",
        "  ```\n",
        "4. Sentiment\n",
        "\n",
        "  The sentiment of a tweet (i.e., whether it is positive, negative, or neutral) can be a useful feature for tasks such as sentiment analysis. We can use a sentiment analysis tool to extract the sentiment of a tweet. One such tool is SentiStrength, which can be used in Python like this:\n",
        "\n",
        "  ```\n",
        "  import sentistrength\n",
        "\n",
        "  def get_sentiment(text):\n",
        "    sentiment = sentistrength.analyze(text)[0]\n",
        "    return sentiment\n",
        "  ```\n",
        "\n",
        "5. Named Entities\n",
        "\n",
        "  Named entities are specific people, organizations, locations, etc. that are mentioned in a tweet. We can use a named entity recognition tool to extract the named entities from a tweet. Here’s an example using spaCy:\n",
        "\n",
        "  ```\n",
        "  import spacy\n",
        "\n",
        "  # Load spaCy model\n",
        "  nlp = spacy.load('en_core_web_sm')\n",
        "\n",
        "  def get_named_entities(text):\n",
        "    doc = nlp(text)\n",
        "    named_entities = [X.text for X in doc.ents]\n",
        "    return named_entities\n",
        "  ```\n",
        "\n",
        "6. Emoji\n",
        "\n",
        "  Emojis can convey emotion and sentiment in a tweet, and can therefore be a useful feature. We can use the emoji library to extract the emoji from a tweet like this:\n",
        "\n",
        "  ```\n",
        "  import emoji\n",
        "\n",
        "  def get_emojis(text):\n",
        "    emojis = [emoji.emojize(word) for word in text.split()]\n",
        "    emojis = [emoji for emoji in emojis if emoji != word]\n",
        "    return emojis\n",
        "  ```\n",
        "\n",
        "7. URL (Already removed in cleaned text)\n",
        "\n",
        "  If a tweet contains a URL, it can be a useful feature for tasks such as topic classification or web scraping. We can extract the URL from a tweet using a regular expression like this:\n",
        "\n",
        "  ```\n",
        "  def get_url(text):\n",
        "    url = re.findall(r'https?://\\S+', text)\n",
        "    return url\n",
        "  ```\n",
        "\n",
        "8. Word Count\n",
        "\n",
        "  The word count of a tweet can be a useful feature, as it may give us an indication of the complexity or length of the tweet. We can get the word count like this:\n",
        "\n",
        "  ```\n",
        "  def get_word_count(text):\n",
        "    return len(text.split())\n",
        "  ```\n",
        "\n",
        "9. Average Word Length\n",
        "\n",
        "  The average length of the words in a tweet can be a useful feature. We can compute the average word length like this:\n",
        "\n",
        "  ```\n",
        "  def get_avg_word_length(text):\n",
        "    words = text.split()\n",
        "    word_count = len(words)\n",
        "    avg_word_length = sum(len(word) for word in words) / word_count\n",
        "    return avg_word_length\n",
        "```\n",
        "10. Capitalized Words\n",
        "\n",
        "  Words that are capitalized in a tweet may be more important or relevant than lowercase words. We can extract the capitalized words from a tweet like this:\n",
        "\n",
        "  ```\n",
        "  def get_capitalized_words(text):\n",
        "    capitalized_words = [word for word in text.split() if word.isupper()]\n",
        "    return capitalized_words\n",
        "```\n",
        "\n"
      ]
    },
    {
      "cell_type": "code",
      "execution_count": null,
      "metadata": {
        "id": "R7WkBMeLFROI"
      },
      "outputs": [],
      "source": [
        "sia = SentimentIntensityAnalyzer()\n",
        "\n",
        "def extract_features(text):\n",
        "    sentiment_score = TextBlob(text).sentiment.polarity  # Sentiment (-1 to +1)\n",
        "    vader_score = sia.polarity_scores(text)[\"compound\"]  # VADER sentiment\n",
        "    review_length = len(text.split())  # Word count\n",
        "    exclamation_count = text.count(\"!\")  # Number of !\n",
        "    question_count = text.count(\"?\")  # Number of ?\n",
        "    uppercase_ratio = sum(1 for c in text if c.isupper()) / len(text) if len(text) > 0 else 0  # % uppercase\n",
        "    duplicate_word_count = len([w for w in text.split() if text.split().count(w) > 1])  # Repeated words\n",
        "    emoji_count = len([char for char in text if char in emoji.EMOJI_DATA])  # Count emojis\n",
        "    avg_word_length = sum(len(word) for word in text.split()) / review_length if review_length > 0 else 0  # Avg word length\n",
        "\n",
        "    return [sentiment_score, vader_score, review_length, exclamation_count, question_count, uppercase_ratio,\n",
        "            duplicate_word_count, emoji_count, avg_word_length]"
      ]
    },
    {
      "cell_type": "code",
      "execution_count": null,
      "metadata": {
        "id": "LnwVWmBHsRtq"
      },
      "outputs": [],
      "source": [
        "# Apply feature extraction to dataset\n",
        "df_train_features = X_train.apply(extract_features)\n",
        "df_test_features = X_test.apply(extract_features)\n",
        "df_val_features = X_val.apply(extract_features)\n",
        "\n",
        "features_cols = [\"sentiment_score\", \"vader_score\", \"review_length\",\n",
        "                 \"exclamation_count\", \"question_count\", \"uppercase_ratio\",\n",
        "                 \"duplicate_word_count\", \"emoji_count\", \"avg_word_length\"]\n",
        "\n",
        "df_train_features = pd.DataFrame(df_train_features.tolist(), columns=features_cols)\n",
        "df_test_features = pd.DataFrame(df_test_features.tolist(), columns=features_cols)\n",
        "df_val_features = pd.DataFrame(df_val_features.tolist(), columns=features_cols)"
      ]
    },
    {
      "cell_type": "code",
      "execution_count": null,
      "metadata": {
        "id": "gOd-rlmTvAeR"
      },
      "outputs": [],
      "source": [
        "# Convert sparse TF-IDF matrix to dense NumPy array\n",
        "X_train_tfidf_dense = X_train_tfidf.toarray()\n",
        "X_test_tfidf_dense = X_test_tfidf.toarray()\n",
        "X_val_tfidf_dense = X_val_tfidf.toarray()\n",
        "\n",
        "# Convert TF-IDF dense matrix to DataFrame\n",
        "df_train_tfidf = pd.DataFrame(X_train_tfidf_dense)\n",
        "df_test_tfidf = pd.DataFrame(X_test_tfidf_dense)\n",
        "df_val_tfidf = pd.DataFrame(X_val_tfidf_dense)\n",
        "\n",
        "# **Check if row counts match before merging**\n",
        "assert df_train_tfidf.shape[0] == df_train_features.shape[0], \"Mismatch in train set sizes!\"\n",
        "assert df_test_tfidf.shape[0] == df_test_features.shape[0], \"Mismatch in test set sizes!\"\n",
        "assert df_val_tfidf.shape[0] == df_val_features.shape[0], \"Mismatch in validation set sizes!\""
      ]
    },
    {
      "cell_type": "code",
      "execution_count": null,
      "metadata": {},
      "outputs": [],
      "source": [
        "# Reset indices for training set\n",
        "df_train_tfidf.reset_index(drop=True, inplace=True)\n",
        "df_train_features.reset_index(drop=True, inplace=True)\n",
        "y_train.reset_index(drop=True, inplace=True)\n",
        "\n",
        "# Reset indices for testing set\n",
        "df_test_tfidf.reset_index(drop=True, inplace=True)\n",
        "df_test_features.reset_index(drop=True, inplace=True)\n",
        "y_test.reset_index(drop=True, inplace=True)\n",
        "\n",
        "# Reset indices for validation set\n",
        "df_val_tfidf.reset_index(drop=True, inplace=True)\n",
        "df_val_features.reset_index(drop=True, inplace=True)\n",
        "y_val.reset_index(drop=True, inplace=True)"
      ]
    },
    {
      "cell_type": "code",
      "execution_count": null,
      "metadata": {
        "id": "stuTSU50zbdT"
      },
      "outputs": [],
      "source": [
        "df_y_train = pd.DataFrame(y_train, columns=[\"label\"])\n",
        "df_y_test = pd.DataFrame(y_test, columns=[\"label\"])\n",
        "df_y_val = pd.DataFrame(y_val, columns=[\"label\"])\n",
        "\n",
        "# Check if the row counts of y labels match the features before merging\n",
        "assert df_train_tfidf.shape[0] == df_y_train.shape[0], \"Mismatch in train labels!\"\n",
        "assert df_test_tfidf.shape[0] == df_y_test.shape[0], \"Mismatch in test labels!\"\n",
        "assert df_val_tfidf.shape[0] == df_y_val.shape[0], \"Mismatch in validation labels!\"\n",
        "\n",
        "# Check if indices match\n",
        "print(df_train_tfidf.index.equals(df_y_train.index))  # Should be True\n",
        "print(df_test_tfidf.index.equals(df_test_features.index))    # Should be True\n",
        "print(df_val_tfidf.index.equals(df_y_val.index))      # Should be True"
      ]
    },
    {
      "cell_type": "code",
      "execution_count": null,
      "metadata": {},
      "outputs": [],
      "source": [
        "# Check if indices match\n",
        "print(df_train_tfidf.index.equals(df_train_features.index))  # Should be True\n",
        "print(df_test_tfidf.index.equals(df_y_test.index))    # Should be True\n",
        "print(df_val_tfidf.index.equals(df_val_features.index))      # Should be True"
      ]
    },
    {
      "cell_type": "code",
      "execution_count": null,
      "metadata": {},
      "outputs": [],
      "source": [
        "df_y_val.head()"
      ]
    },
    {
      "cell_type": "code",
      "execution_count": null,
      "metadata": {
        "id": "IhuQZa36wvmG"
      },
      "outputs": [],
      "source": [
        "# Merge TF-IDF with extracted features\n",
        "df_train_combined = pd.concat([df_train_tfidf, df_train_features, df_y_train], axis=1)\n",
        "df_test_combined = pd.concat([df_test_tfidf, df_test_features, df_y_test], axis=1)\n",
        "df_val_combined = pd.concat([df_val_tfidf, df_val_features, df_y_val], axis=1)"
      ]
    },
    {
      "cell_type": "code",
      "execution_count": null,
      "metadata": {},
      "outputs": [],
      "source": [
        "print(\"NaN values in train set:\\n\", df_train_combined.isna().sum())\n",
        "print(\"NaN values in test set:\\n\", df_test_combined.isna().sum())\n",
        "print(\"NaN values in validation set:\\n\", df_val_combined.isna().sum())"
      ]
    },
    {
      "cell_type": "code",
      "execution_count": null,
      "metadata": {},
      "outputs": [],
      "source": [
        "df_train_combined.head()\n",
        "df_test_combined.head()\n",
        "df_val_combined.head()"
      ]
    },
    {
      "cell_type": "code",
      "execution_count": null,
      "metadata": {
        "id": "U6nZiN-IHnPt"
      },
      "outputs": [],
      "source": [
        "df_train_combined.to_csv(\"00_dataset/with_stopwords/train_features_sw.csv\", index=False)\n",
        "df_test_combined.to_csv(\"00_dataset/with_stopwords/test_features_sw.csv\", index=False)\n",
        "df_val_combined.to_csv(\"00_dataset/with_stopwords/val_features_sw.csv\", index=False)\n",
        "\n",
        "print(\"Features saved successfully to CSV!\")"
      ]
    }
  ],
  "metadata": {
    "colab": {
      "collapsed_sections": [
        "5LAdCfvbsB2Q",
        "kN6Ff2xnpcYW",
        "BRw6BrTTtID5"
      ],
      "provenance": []
    },
    "kernelspec": {
      "display_name": "Python 3",
      "name": "python3"
    },
    "language_info": {
      "codemirror_mode": {
        "name": "ipython",
        "version": 3
      },
      "file_extension": ".py",
      "mimetype": "text/x-python",
      "name": "python",
      "nbconvert_exporter": "python",
      "pygments_lexer": "ipython3",
      "version": "3.12.3"
    }
  },
  "nbformat": 4,
  "nbformat_minor": 0
}
