{
 "cells": [
  {
   "cell_type": "code",
   "execution_count": 2,
   "metadata": {
    "executionInfo": {
     "elapsed": 5858,
     "status": "ok",
     "timestamp": 1740227595364,
     "user": {
      "displayName": "joc",
      "userId": "03257841468945552602"
     },
     "user_tz": -480
    },
    "id": "-jMIBikVVMBN"
   },
   "outputs": [],
   "source": [
    "# Data Manipulation\n",
    "import pandas as pd\n",
    "import numpy as np\n",
    "\n",
    "# Machine Learning\n",
    "from sklearn.model_selection import train_test_split, cross_val_score\n",
    "from sklearn.feature_extraction.text import TfidfVectorizer\n",
    "from sklearn.linear_model import LogisticRegression\n",
    "from sklearn.ensemble import RandomForestClassifier\n",
    "from sklearn.svm import SVC\n",
    "from sklearn.naive_bayes import MultinomialNB\n",
    "from imblearn.over_sampling import SMOTE\n",
    "import joblib\n",
    "from sklearn.metrics import classification_report, accuracy_score, silhouette_score, roc_auc_score, confusion_matrix, ConfusionMatrixDisplay\n",
    "\n",
    "# Visualization\n",
    "import matplotlib.pyplot as plt\n",
    "import seaborn as sns"
   ]
  },
  {
   "cell_type": "markdown",
   "metadata": {
    "id": "pz13AEZyqNEf"
   },
   "source": [
    "# Load Dataset (Before SVD)"
   ]
  },
  {
   "cell_type": "code",
   "execution_count": 3,
   "metadata": {},
   "outputs": [],
   "source": [
    "def reduce_memory(df):\n",
    "    start_mem = df.memory_usage().sum() / 1024**2\n",
    "    print(f\"Initial memory usage: {start_mem:.2f} MB\")\n",
    "\n",
    "    for col in df.columns:\n",
    "        col_type = df[col].dtype\n",
    "\n",
    "        if col_type != object and col_type != 'category':\n",
    "            c_min = df[col].min()\n",
    "            c_max = df[col].max()\n",
    "\n",
    "            if str(col_type).startswith('int'):\n",
    "                if c_min > np.iinfo(np.int8).min and c_max < np.iinfo(np.int8).max:\n",
    "                    df[col] = df[col].astype(np.int8)\n",
    "                elif c_min > np.iinfo(np.int16).min and c_max < np.iinfo(np.int16).max:\n",
    "                    df[col] = df[col].astype(np.int16)\n",
    "                elif c_min > np.iinfo(np.int32).min and c_max < np.iinfo(np.int32).max:\n",
    "                    df[col] = df[col].astype(np.int32)\n",
    "            else:\n",
    "                df[col] = pd.to_numeric(df[col], downcast='float')\n",
    "        else:\n",
    "            df[col] = df[col].astype('category')\n",
    "\n",
    "    end_mem = df.memory_usage().sum() / 1024**2\n",
    "    print(f'Memory usage after optimization: {end_mem:.2f} MB')\n",
    "    print(f'Reduced by {(start_mem - end_mem) / start_mem:.1%}')\n",
    "\n",
    "    return df"
   ]
  },
  {
   "cell_type": "code",
   "execution_count": 4,
   "metadata": {
    "executionInfo": {
     "elapsed": 1852,
     "status": "ok",
     "timestamp": 1740227908008,
     "user": {
      "displayName": "joc",
      "userId": "03257841468945552602"
     },
     "user_tz": -480
    },
    "id": "HYeDtjmBqMg2"
   },
   "outputs": [
    {
     "name": "stdout",
     "output_type": "stream",
     "text": [
      "Initial memory usage: 3822.33 MB\n",
      "Memory usage after optimization: 1909.73 MB\n",
      "Reduced by 50.0%\n",
      "Initial memory usage: 3822.33 MB\n",
      "Memory usage after optimization: 1909.64 MB\n",
      "Reduced by 50.0%\n",
      "Initial memory usage: 3822.33 MB\n",
      "Memory usage after optimization: 1909.64 MB\n",
      "Reduced by 50.0%\n",
      "Initial memory usage: 3822.33 MB\n",
      "Memory usage after optimization: 1909.64 MB\n",
      "Reduced by 50.0%\n",
      "Initial memory usage: 990.75 MB\n",
      "Memory usage after optimization: 495.00 MB\n",
      "Reduced by 50.0%\n"
     ]
    }
   ],
   "source": [
    "chunk_size = 100000\n",
    "chunks = pd.read_csv(\"00_dataset/without_stopwords/train_features.csv\", chunksize=chunk_size, low_memory=False)\n",
    "\n",
    "df_trainChunks = [reduce_memory(chunk) for chunk in chunks]\n",
    "df_train = pd.concat(df_trainChunks, axis=0)\n",
    "\n",
    "# df_train = pd.read_csv(\"00_dataset/without_stopwords/train_features.csv\")"
   ]
  },
  {
   "cell_type": "code",
   "execution_count": 5,
   "metadata": {},
   "outputs": [
    {
     "data": {
      "text/plain": [
       "0                       float32\n",
       "1                       float32\n",
       "2                       float32\n",
       "3                       float32\n",
       "4                       float32\n",
       "                         ...   \n",
       "uppercase_ratio         float32\n",
       "duplicate_word_count      int16\n",
       "emoji_count                int8\n",
       "avg_word_length         float32\n",
       "label                      int8\n",
       "Length: 5010, dtype: object"
      ]
     },
     "execution_count": 5,
     "metadata": {},
     "output_type": "execute_result"
    }
   ],
   "source": [
    "df_train.dtypes"
   ]
  },
  {
   "cell_type": "code",
   "execution_count": 6,
   "metadata": {},
   "outputs": [
    {
     "name": "stdout",
     "output_type": "stream",
     "text": [
      "Initial memory usage: 3822.33 MB\n",
      "Memory usage after optimization: 1909.64 MB\n",
      "Reduced by 50.0%\n",
      "Initial memory usage: 829.14 MB\n",
      "Memory usage after optimization: 414.24 MB\n",
      "Reduced by 50.0%\n",
      "Initial memory usage: 2325.73 MB\n",
      "Memory usage after optimization: 1161.94 MB\n",
      "Reduced by 50.0%\n"
     ]
    }
   ],
   "source": [
    "chunk_size = 100000\n",
    "chunks_test = pd.read_csv(\"00_dataset/without_stopwords/test_features.csv\", chunksize=chunk_size, low_memory=False)\n",
    "chunks_val = pd.read_csv(\"00_dataset/without_stopwords/val_features.csv\", chunksize=chunk_size, low_memory=False)\n",
    "\n",
    "df_testChunks = [reduce_memory(chunk_test) for chunk_test in chunks_test]\n",
    "df_test = pd.concat(df_testChunks, axis=0)\n",
    "\n",
    "df_valChunks = [reduce_memory(chunk_val) for chunk_val in chunks_val]\n",
    "df_val = pd.concat(df_valChunks, axis=0)\n",
    "\n",
    "# df_test = pd.read_csv(\"00_dataset/without_stopwords/test_features.csv\", low_memory=False)\n",
    "# df_val = pd.read_csv(\"00_dataset/without_stopwords/val_features.csv\", low_memory=False)"
   ]
  },
  {
   "cell_type": "code",
   "execution_count": 7,
   "metadata": {},
   "outputs": [
    {
     "data": {
      "text/html": [
       "<div>\n",
       "<style scoped>\n",
       "    .dataframe tbody tr th:only-of-type {\n",
       "        vertical-align: middle;\n",
       "    }\n",
       "\n",
       "    .dataframe tbody tr th {\n",
       "        vertical-align: top;\n",
       "    }\n",
       "\n",
       "    .dataframe thead th {\n",
       "        text-align: right;\n",
       "    }\n",
       "</style>\n",
       "<table border=\"1\" class=\"dataframe\">\n",
       "  <thead>\n",
       "    <tr style=\"text-align: right;\">\n",
       "      <th></th>\n",
       "      <th>0</th>\n",
       "      <th>1</th>\n",
       "      <th>2</th>\n",
       "      <th>3</th>\n",
       "      <th>4</th>\n",
       "      <th>5</th>\n",
       "      <th>6</th>\n",
       "      <th>7</th>\n",
       "      <th>8</th>\n",
       "      <th>9</th>\n",
       "      <th>...</th>\n",
       "      <th>sentiment_score</th>\n",
       "      <th>vader_score</th>\n",
       "      <th>review_length</th>\n",
       "      <th>exclamation_count</th>\n",
       "      <th>question_count</th>\n",
       "      <th>uppercase_ratio</th>\n",
       "      <th>duplicate_word_count</th>\n",
       "      <th>emoji_count</th>\n",
       "      <th>avg_word_length</th>\n",
       "      <th>label</th>\n",
       "    </tr>\n",
       "  </thead>\n",
       "  <tbody>\n",
       "    <tr>\n",
       "      <th>0</th>\n",
       "      <td>0.0</td>\n",
       "      <td>0.0</td>\n",
       "      <td>0.0</td>\n",
       "      <td>0.0</td>\n",
       "      <td>0.0</td>\n",
       "      <td>0.0</td>\n",
       "      <td>0.0</td>\n",
       "      <td>0.0</td>\n",
       "      <td>0.0</td>\n",
       "      <td>0.0</td>\n",
       "      <td>...</td>\n",
       "      <td>0.194444</td>\n",
       "      <td>0.9611</td>\n",
       "      <td>73</td>\n",
       "      <td>0</td>\n",
       "      <td>0</td>\n",
       "      <td>0.027708</td>\n",
       "      <td>23</td>\n",
       "      <td>0</td>\n",
       "      <td>4.452055</td>\n",
       "      <td>0</td>\n",
       "    </tr>\n",
       "    <tr>\n",
       "      <th>1</th>\n",
       "      <td>0.0</td>\n",
       "      <td>0.0</td>\n",
       "      <td>0.0</td>\n",
       "      <td>0.0</td>\n",
       "      <td>0.0</td>\n",
       "      <td>0.0</td>\n",
       "      <td>0.0</td>\n",
       "      <td>0.0</td>\n",
       "      <td>0.0</td>\n",
       "      <td>0.0</td>\n",
       "      <td>...</td>\n",
       "      <td>0.187037</td>\n",
       "      <td>0.9422</td>\n",
       "      <td>46</td>\n",
       "      <td>1</td>\n",
       "      <td>0</td>\n",
       "      <td>0.030534</td>\n",
       "      <td>12</td>\n",
       "      <td>0</td>\n",
       "      <td>4.717391</td>\n",
       "      <td>0</td>\n",
       "    </tr>\n",
       "    <tr>\n",
       "      <th>2</th>\n",
       "      <td>0.0</td>\n",
       "      <td>0.0</td>\n",
       "      <td>0.0</td>\n",
       "      <td>0.0</td>\n",
       "      <td>0.0</td>\n",
       "      <td>0.0</td>\n",
       "      <td>0.0</td>\n",
       "      <td>0.0</td>\n",
       "      <td>0.0</td>\n",
       "      <td>0.0</td>\n",
       "      <td>...</td>\n",
       "      <td>-0.147253</td>\n",
       "      <td>0.7906</td>\n",
       "      <td>38</td>\n",
       "      <td>0</td>\n",
       "      <td>0</td>\n",
       "      <td>0.031579</td>\n",
       "      <td>9</td>\n",
       "      <td>0</td>\n",
       "      <td>4.026316</td>\n",
       "      <td>0</td>\n",
       "    </tr>\n",
       "    <tr>\n",
       "      <th>3</th>\n",
       "      <td>0.0</td>\n",
       "      <td>0.0</td>\n",
       "      <td>0.0</td>\n",
       "      <td>0.0</td>\n",
       "      <td>0.0</td>\n",
       "      <td>0.0</td>\n",
       "      <td>0.0</td>\n",
       "      <td>0.0</td>\n",
       "      <td>0.0</td>\n",
       "      <td>0.0</td>\n",
       "      <td>...</td>\n",
       "      <td>0.253842</td>\n",
       "      <td>0.9874</td>\n",
       "      <td>108</td>\n",
       "      <td>8</td>\n",
       "      <td>0</td>\n",
       "      <td>0.076923</td>\n",
       "      <td>41</td>\n",
       "      <td>0</td>\n",
       "      <td>4.185185</td>\n",
       "      <td>0</td>\n",
       "    </tr>\n",
       "    <tr>\n",
       "      <th>4</th>\n",
       "      <td>0.0</td>\n",
       "      <td>0.0</td>\n",
       "      <td>0.0</td>\n",
       "      <td>0.0</td>\n",
       "      <td>0.0</td>\n",
       "      <td>0.0</td>\n",
       "      <td>0.0</td>\n",
       "      <td>0.0</td>\n",
       "      <td>0.0</td>\n",
       "      <td>0.0</td>\n",
       "      <td>...</td>\n",
       "      <td>0.257143</td>\n",
       "      <td>0.8903</td>\n",
       "      <td>53</td>\n",
       "      <td>0</td>\n",
       "      <td>0</td>\n",
       "      <td>0.040134</td>\n",
       "      <td>21</td>\n",
       "      <td>0</td>\n",
       "      <td>4.660378</td>\n",
       "      <td>0</td>\n",
       "    </tr>\n",
       "  </tbody>\n",
       "</table>\n",
       "<p>5 rows × 5010 columns</p>\n",
       "</div>"
      ],
      "text/plain": [
       "     0    1    2    3    4    5    6    7    8    9  ...  sentiment_score  \\\n",
       "0  0.0  0.0  0.0  0.0  0.0  0.0  0.0  0.0  0.0  0.0  ...         0.194444   \n",
       "1  0.0  0.0  0.0  0.0  0.0  0.0  0.0  0.0  0.0  0.0  ...         0.187037   \n",
       "2  0.0  0.0  0.0  0.0  0.0  0.0  0.0  0.0  0.0  0.0  ...        -0.147253   \n",
       "3  0.0  0.0  0.0  0.0  0.0  0.0  0.0  0.0  0.0  0.0  ...         0.253842   \n",
       "4  0.0  0.0  0.0  0.0  0.0  0.0  0.0  0.0  0.0  0.0  ...         0.257143   \n",
       "\n",
       "   vader_score  review_length  exclamation_count  question_count  \\\n",
       "0       0.9611             73                  0               0   \n",
       "1       0.9422             46                  1               0   \n",
       "2       0.7906             38                  0               0   \n",
       "3       0.9874            108                  8               0   \n",
       "4       0.8903             53                  0               0   \n",
       "\n",
       "   uppercase_ratio  duplicate_word_count  emoji_count  avg_word_length  label  \n",
       "0         0.027708                    23            0         4.452055      0  \n",
       "1         0.030534                    12            0         4.717391      0  \n",
       "2         0.031579                     9            0         4.026316      0  \n",
       "3         0.076923                    41            0         4.185185      0  \n",
       "4         0.040134                    21            0         4.660378      0  \n",
       "\n",
       "[5 rows x 5010 columns]"
      ]
     },
     "execution_count": 7,
     "metadata": {},
     "output_type": "execute_result"
    }
   ],
   "source": [
    "df_train.head()"
   ]
  },
  {
   "cell_type": "code",
   "execution_count": 8,
   "metadata": {},
   "outputs": [],
   "source": [
    "# Separate into X and y\n",
    "X_train = df_train.drop(columns=[\"label\"])\n",
    "y_train = df_train[\"label\"]\n",
    "\n",
    "X_test = df_test.drop(columns=[\"label\"])\n",
    "y_test = df_test[\"label\"]\n",
    "\n",
    "X_val = df_val.drop(columns=[\"label\"])\n",
    "y_val = df_val[\"label\"]"
   ]
  },
  {
   "cell_type": "code",
   "execution_count": 9,
   "metadata": {},
   "outputs": [],
   "source": [
    "from sklearn.compose import ColumnTransformer\n",
    "from sklearn.preprocessing import MinMaxScaler\n",
    "\n",
    "# Feature Scaling\n",
    "ct_mm = ColumnTransformer(transformers=[('MinMaxScaler', MinMaxScaler(), ['sentiment_score', 'vader_score', 'review_length', 'exclamation_count', 'question_count', 'uppercase_ratio', 'duplicate_word_count', 'emoji_count', 'avg_word_length'])], remainder='passthrough')\n",
    "X_train_mmscaled = ct_mm.fit_transform(X_train)\n",
    "X_test_mmscaled = ct_mm.transform(X_test)\n",
    "X_val_mmscaled = ct_mm.transform(X_val)"
   ]
  },
  {
   "cell_type": "code",
   "execution_count": 10,
   "metadata": {},
   "outputs": [
    {
     "name": "stdout",
     "output_type": "stream",
     "text": [
      "ColumnTransformer Min Max Scaler saved successfully.\n"
     ]
    }
   ],
   "source": [
    "import joblib\n",
    "\n",
    "joblib.dump(ct_mm, '00_dataset/without_stopwords/column_transformer_minMaxScaler.joblib')\n",
    "print(\"ColumnTransformer Min Max Scaler saved successfully.\")"
   ]
  },
  {
   "cell_type": "code",
   "execution_count": 8,
   "metadata": {},
   "outputs": [],
   "source": [
    "# Load Min Max Scaler\n",
    "ct_mm = joblib.load('00_dataset/without_stopwords/column_transformer_minMaxScaler.joblib')\n",
    "# X_train_mmscaled = ct_mm.fit_transform(X_train)\n",
    "X_test_mmscaled = ct_mm.transform(X_test)\n",
    "X_val_mmscaled = ct_mm.transform(X_val)"
   ]
  },
  {
   "cell_type": "code",
   "execution_count": 11,
   "metadata": {},
   "outputs": [
    {
     "name": "stdout",
     "output_type": "stream",
     "text": [
      "Train Class Distribution:\n",
      " label\n",
      "0    0.867799\n",
      "1    0.132201\n",
      "Name: proportion, dtype: float64\n",
      "\n",
      "Validation Class Distribution:\n",
      " label\n",
      "0    0.867797\n",
      "1    0.132203\n",
      "Name: proportion, dtype: float64\n",
      "\n",
      "Test Class Distribution:\n",
      " label\n",
      "0    0.867797\n",
      "1    0.132203\n",
      "Name: proportion, dtype: float64\n"
     ]
    }
   ],
   "source": [
    "# Check class distribution after split\n",
    "print(\"Train Class Distribution:\\n\", y_train.value_counts(normalize=True))\n",
    "print(\"\\nValidation Class Distribution:\\n\", y_val.value_counts(normalize=True))\n",
    "print(\"\\nTest Class Distribution:\\n\", y_test.value_counts(normalize=True))"
   ]
  },
  {
   "cell_type": "code",
   "execution_count": 12,
   "metadata": {},
   "outputs": [
    {
     "name": "stdout",
     "output_type": "stream",
     "text": [
      "Contains negative values: False\n"
     ]
    }
   ],
   "source": [
    "print(\"Contains negative values:\", np.any(X_train_mmscaled < 0))\n"
   ]
  },
  {
   "cell_type": "code",
   "execution_count": 28,
   "metadata": {},
   "outputs": [
    {
     "name": "stdout",
     "output_type": "stream",
     "text": [
      "Batch 1/9 completed and saved.\n",
      "Batch 2/9 completed and saved.\n",
      "Batch 3/9 completed and saved.\n",
      "Batch 4/9 completed and saved.\n",
      "Batch 5/9 completed and saved.\n",
      "Batch 6/9 completed and saved.\n",
      "Batch 7/9 completed and saved.\n",
      "Batch 8/9 completed and saved.\n",
      "Batch 9/9 completed and saved.\n"
     ]
    }
   ],
   "source": [
    "import joblib\n",
    "import os\n",
    "\n",
    "os.makedirs('00_dataset/without_stopwords/nb_balanced', exist_ok=True)\n",
    "\n",
    "# Define the model\n",
    "nb = MultinomialNB()\n",
    "\n",
    "batch_size = 50000\n",
    "num_batches = int(np.ceil(X_train_mmscaled.shape[0] / batch_size))\n",
    "\n",
    "for i in range(num_batches):\n",
    "    start = i * batch_size\n",
    "    end = min(start + batch_size, X_train_mmscaled.shape[0])\n",
    "    \n",
    "    X_batch = X_train_mmscaled[start:end]\n",
    "    y_batch = y_train[start:end]\n",
    "    \n",
    "    if i == 0:\n",
    "        # Initial fit with all possible classes\n",
    "        nb.partial_fit(X_batch, y_batch, classes=np.array([0, 1]))\n",
    "    else:\n",
    "        nb.partial_fit(X_batch, y_batch)\n",
    "    \n",
    "    # Save the model after each batch\n",
    "    joblib.dump(nb, f'00_dataset/without_stopwords/nb_balanced/multinomial_nb_batch_{i}.joblib')\n",
    "    print(f'Batch {i+1}/{num_batches} completed and saved.')\n"
   ]
  },
  {
   "cell_type": "code",
   "execution_count": 13,
   "metadata": {},
   "outputs": [
    {
     "name": "stdout",
     "output_type": "stream",
     "text": [
      "Naive Bayes training completed and saved.\n"
     ]
    }
   ],
   "source": [
    "nb = MultinomialNB(class_prior=[0.5, 0.5])\n",
    "nb.fit(X_train_mmscaled, y_train)\n",
    "\n",
    "# Save the model\n",
    "joblib.dump(nb, '00_dataset/without_stopwords/beforeSVD/nb/nb_balanced.joblib')\n",
    "print(\"Naive Bayes training completed and saved.\")"
   ]
  },
  {
   "cell_type": "code",
   "execution_count": 14,
   "metadata": {},
   "outputs": [
    {
     "name": "stdout",
     "output_type": "stream",
     "text": [
      "Validation Accuracy: 0.6436\n",
      "\n",
      "Classification Report:\n",
      "               precision    recall  f1-score   support\n",
      "\n",
      "           0       0.93      0.64      0.76     52802\n",
      "           1       0.22      0.68      0.34      8044\n",
      "\n",
      "    accuracy                           0.64     60846\n",
      "   macro avg       0.58      0.66      0.55     60846\n",
      "weighted avg       0.84      0.64      0.70     60846\n",
      "\n",
      "ROC-AUC Score:  0.7201675725368735\n"
     ]
    },
    {
     "data": {
      "text/plain": [
       "<sklearn.metrics._plot.confusion_matrix.ConfusionMatrixDisplay at 0x2950f1d43e0>"
      ]
     },
     "execution_count": 14,
     "metadata": {},
     "output_type": "execute_result"
    },
    {
     "data": {
      "image/png": "[encoded data removed]",
      "text/plain": [
       "<Figure size 640x480 with 2 Axes>"
      ]
     },
     "metadata": {},
     "output_type": "display_data"
    }
   ],
   "source": [
    "import joblib\n",
    "from sklearn.metrics import accuracy_score, classification_report\n",
    "\n",
    "# Load the last saved model\n",
    "nb = joblib.load('00_dataset/without_stopwords/beforeSVD/nb/nb_balanced.joblib')\n",
    "\n",
    "# Predict on validation data\n",
    "y_val_pred = nb.predict(X_val_mmscaled)\n",
    "\n",
    "# Evaluate performance\n",
    "accuracy = accuracy_score(y_val, y_val_pred)\n",
    "print(f\"Validation Accuracy: {accuracy:.4f}\")\n",
    "\n",
    "print(\"\\nClassification Report:\\n\", classification_report(y_val, y_val_pred))\n",
    "\n",
    "# Compute ROC-AUC\n",
    "y_proba = nb.predict_proba(X_val_mmscaled)[:, 1]\n",
    "print(\"ROC-AUC Score: \", roc_auc_score(y_val, y_proba))\n",
    "\n",
    "# Generate confusion matrix\n",
    "cm = confusion_matrix(y_val, y_val_pred)\n",
    "\n",
    "# Display confusion matrix\n",
    "disp = ConfusionMatrixDisplay(confusion_matrix=cm, display_labels=[0, 1])\n",
    "disp.plot(cmap=\"Blues\")  # Choose a color map for visualization"
   ]
  },
  {
   "cell_type": "code",
   "execution_count": 19,
   "metadata": {},
   "outputs": [
    {
     "ename": "KeyboardInterrupt",
     "evalue": "",
     "output_type": "error",
     "traceback": [
      "\u001b[1;31m---------------------------------------------------------------------------\u001b[0m",
      "\u001b[1;31mKeyboardInterrupt\u001b[0m                         Traceback (most recent call last)",
      "Cell \u001b[1;32mIn[19], line 2\u001b[0m\n\u001b[0;32m      1\u001b[0m lr \u001b[38;5;241m=\u001b[39m LogisticRegression(max_iter\u001b[38;5;241m=\u001b[39m\u001b[38;5;241m1000\u001b[39m, solver\u001b[38;5;241m=\u001b[39m\u001b[38;5;124m'\u001b[39m\u001b[38;5;124msaga\u001b[39m\u001b[38;5;124m'\u001b[39m, n_jobs\u001b[38;5;241m=\u001b[39m\u001b[38;5;241m-\u001b[39m\u001b[38;5;241m1\u001b[39m, class_weight\u001b[38;5;241m=\u001b[39m\u001b[38;5;124m'\u001b[39m\u001b[38;5;124mbalanced\u001b[39m\u001b[38;5;124m'\u001b[39m, random_state\u001b[38;5;241m=\u001b[39m\u001b[38;5;241m42\u001b[39m)\n\u001b[1;32m----> 2\u001b[0m \u001b[43mlr\u001b[49m\u001b[38;5;241;43m.\u001b[39;49m\u001b[43mfit\u001b[49m\u001b[43m(\u001b[49m\u001b[43mX_train_mmscaled\u001b[49m\u001b[43m,\u001b[49m\u001b[43m \u001b[49m\u001b[43my_train\u001b[49m\u001b[43m)\u001b[49m\n",
      "File \u001b[1;32mc:\\Python312\\Lib\\site-packages\\sklearn\\base.py:1473\u001b[0m, in \u001b[0;36m_fit_context.<locals>.decorator.<locals>.wrapper\u001b[1;34m(estimator, *args, **kwargs)\u001b[0m\n\u001b[0;32m   1466\u001b[0m     estimator\u001b[38;5;241m.\u001b[39m_validate_params()\n\u001b[0;32m   1468\u001b[0m \u001b[38;5;28;01mwith\u001b[39;00m config_context(\n\u001b[0;32m   1469\u001b[0m     skip_parameter_validation\u001b[38;5;241m=\u001b[39m(\n\u001b[0;32m   1470\u001b[0m         prefer_skip_nested_validation \u001b[38;5;129;01mor\u001b[39;00m global_skip_validation\n\u001b[0;32m   1471\u001b[0m     )\n\u001b[0;32m   1472\u001b[0m ):\n\u001b[1;32m-> 1473\u001b[0m     \u001b[38;5;28;01mreturn\u001b[39;00m \u001b[43mfit_method\u001b[49m\u001b[43m(\u001b[49m\u001b[43mestimator\u001b[49m\u001b[43m,\u001b[49m\u001b[43m \u001b[49m\u001b[38;5;241;43m*\u001b[39;49m\u001b[43margs\u001b[49m\u001b[43m,\u001b[49m\u001b[43m \u001b[49m\u001b[38;5;241;43m*\u001b[39;49m\u001b[38;5;241;43m*\u001b[39;49m\u001b[43mkwargs\u001b[49m\u001b[43m)\u001b[49m\n",
      "File \u001b[1;32mc:\\Python312\\Lib\\site-packages\\sklearn\\linear_model\\_logistic.py:1223\u001b[0m, in \u001b[0;36mLogisticRegression.fit\u001b[1;34m(self, X, y, sample_weight)\u001b[0m\n\u001b[0;32m   1220\u001b[0m \u001b[38;5;28;01melse\u001b[39;00m:\n\u001b[0;32m   1221\u001b[0m     _dtype \u001b[38;5;241m=\u001b[39m [np\u001b[38;5;241m.\u001b[39mfloat64, np\u001b[38;5;241m.\u001b[39mfloat32]\n\u001b[1;32m-> 1223\u001b[0m X, y \u001b[38;5;241m=\u001b[39m \u001b[38;5;28;43mself\u001b[39;49m\u001b[38;5;241;43m.\u001b[39;49m\u001b[43m_validate_data\u001b[49m\u001b[43m(\u001b[49m\n\u001b[0;32m   1224\u001b[0m \u001b[43m    \u001b[49m\u001b[43mX\u001b[49m\u001b[43m,\u001b[49m\n\u001b[0;32m   1225\u001b[0m \u001b[43m    \u001b[49m\u001b[43my\u001b[49m\u001b[43m,\u001b[49m\n\u001b[0;32m   1226\u001b[0m \u001b[43m    \u001b[49m\u001b[43maccept_sparse\u001b[49m\u001b[38;5;241;43m=\u001b[39;49m\u001b[38;5;124;43m\"\u001b[39;49m\u001b[38;5;124;43mcsr\u001b[39;49m\u001b[38;5;124;43m\"\u001b[39;49m\u001b[43m,\u001b[49m\n\u001b[0;32m   1227\u001b[0m \u001b[43m    \u001b[49m\u001b[43mdtype\u001b[49m\u001b[38;5;241;43m=\u001b[39;49m\u001b[43m_dtype\u001b[49m\u001b[43m,\u001b[49m\n\u001b[0;32m   1228\u001b[0m \u001b[43m    \u001b[49m\u001b[43morder\u001b[49m\u001b[38;5;241;43m=\u001b[39;49m\u001b[38;5;124;43m\"\u001b[39;49m\u001b[38;5;124;43mC\u001b[39;49m\u001b[38;5;124;43m\"\u001b[39;49m\u001b[43m,\u001b[49m\n\u001b[0;32m   1229\u001b[0m \u001b[43m    \u001b[49m\u001b[43maccept_large_sparse\u001b[49m\u001b[38;5;241;43m=\u001b[39;49m\u001b[43msolver\u001b[49m\u001b[43m \u001b[49m\u001b[38;5;129;43;01mnot\u001b[39;49;00m\u001b[43m \u001b[49m\u001b[38;5;129;43;01min\u001b[39;49;00m\u001b[43m \u001b[49m\u001b[43m[\u001b[49m\u001b[38;5;124;43m\"\u001b[39;49m\u001b[38;5;124;43mliblinear\u001b[39;49m\u001b[38;5;124;43m\"\u001b[39;49m\u001b[43m,\u001b[49m\u001b[43m \u001b[49m\u001b[38;5;124;43m\"\u001b[39;49m\u001b[38;5;124;43msag\u001b[39;49m\u001b[38;5;124;43m\"\u001b[39;49m\u001b[43m,\u001b[49m\u001b[43m \u001b[49m\u001b[38;5;124;43m\"\u001b[39;49m\u001b[38;5;124;43msaga\u001b[39;49m\u001b[38;5;124;43m\"\u001b[39;49m\u001b[43m]\u001b[49m\u001b[43m,\u001b[49m\n\u001b[0;32m   1230\u001b[0m \u001b[43m\u001b[49m\u001b[43m)\u001b[49m\n\u001b[0;32m   1231\u001b[0m check_classification_targets(y)\n\u001b[0;32m   1232\u001b[0m \u001b[38;5;28mself\u001b[39m\u001b[38;5;241m.\u001b[39mclasses_ \u001b[38;5;241m=\u001b[39m np\u001b[38;5;241m.\u001b[39munique(y)\n",
      "File \u001b[1;32mc:\\Python312\\Lib\\site-packages\\sklearn\\base.py:650\u001b[0m, in \u001b[0;36mBaseEstimator._validate_data\u001b[1;34m(self, X, y, reset, validate_separately, cast_to_ndarray, **check_params)\u001b[0m\n\u001b[0;32m    648\u001b[0m         y \u001b[38;5;241m=\u001b[39m check_array(y, input_name\u001b[38;5;241m=\u001b[39m\u001b[38;5;124m\"\u001b[39m\u001b[38;5;124my\u001b[39m\u001b[38;5;124m\"\u001b[39m, \u001b[38;5;241m*\u001b[39m\u001b[38;5;241m*\u001b[39mcheck_y_params)\n\u001b[0;32m    649\u001b[0m     \u001b[38;5;28;01melse\u001b[39;00m:\n\u001b[1;32m--> 650\u001b[0m         X, y \u001b[38;5;241m=\u001b[39m \u001b[43mcheck_X_y\u001b[49m\u001b[43m(\u001b[49m\u001b[43mX\u001b[49m\u001b[43m,\u001b[49m\u001b[43m \u001b[49m\u001b[43my\u001b[49m\u001b[43m,\u001b[49m\u001b[43m \u001b[49m\u001b[38;5;241;43m*\u001b[39;49m\u001b[38;5;241;43m*\u001b[39;49m\u001b[43mcheck_params\u001b[49m\u001b[43m)\u001b[49m\n\u001b[0;32m    651\u001b[0m     out \u001b[38;5;241m=\u001b[39m X, y\n\u001b[0;32m    653\u001b[0m \u001b[38;5;28;01mif\u001b[39;00m \u001b[38;5;129;01mnot\u001b[39;00m no_val_X \u001b[38;5;129;01mand\u001b[39;00m check_params\u001b[38;5;241m.\u001b[39mget(\u001b[38;5;124m\"\u001b[39m\u001b[38;5;124mensure_2d\u001b[39m\u001b[38;5;124m\"\u001b[39m, \u001b[38;5;28;01mTrue\u001b[39;00m):\n",
      "File \u001b[1;32mc:\\Python312\\Lib\\site-packages\\sklearn\\utils\\validation.py:1273\u001b[0m, in \u001b[0;36mcheck_X_y\u001b[1;34m(X, y, accept_sparse, accept_large_sparse, dtype, order, copy, force_all_finite, ensure_2d, allow_nd, multi_output, ensure_min_samples, ensure_min_features, y_numeric, estimator)\u001b[0m\n\u001b[0;32m   1268\u001b[0m         estimator_name \u001b[38;5;241m=\u001b[39m _check_estimator_name(estimator)\n\u001b[0;32m   1269\u001b[0m     \u001b[38;5;28;01mraise\u001b[39;00m \u001b[38;5;167;01mValueError\u001b[39;00m(\n\u001b[0;32m   1270\u001b[0m         \u001b[38;5;124mf\u001b[39m\u001b[38;5;124m\"\u001b[39m\u001b[38;5;132;01m{\u001b[39;00mestimator_name\u001b[38;5;132;01m}\u001b[39;00m\u001b[38;5;124m requires y to be passed, but the target y is None\u001b[39m\u001b[38;5;124m\"\u001b[39m\n\u001b[0;32m   1271\u001b[0m     )\n\u001b[1;32m-> 1273\u001b[0m X \u001b[38;5;241m=\u001b[39m \u001b[43mcheck_array\u001b[49m\u001b[43m(\u001b[49m\n\u001b[0;32m   1274\u001b[0m \u001b[43m    \u001b[49m\u001b[43mX\u001b[49m\u001b[43m,\u001b[49m\n\u001b[0;32m   1275\u001b[0m \u001b[43m    \u001b[49m\u001b[43maccept_sparse\u001b[49m\u001b[38;5;241;43m=\u001b[39;49m\u001b[43maccept_sparse\u001b[49m\u001b[43m,\u001b[49m\n\u001b[0;32m   1276\u001b[0m \u001b[43m    \u001b[49m\u001b[43maccept_large_sparse\u001b[49m\u001b[38;5;241;43m=\u001b[39;49m\u001b[43maccept_large_sparse\u001b[49m\u001b[43m,\u001b[49m\n\u001b[0;32m   1277\u001b[0m \u001b[43m    \u001b[49m\u001b[43mdtype\u001b[49m\u001b[38;5;241;43m=\u001b[39;49m\u001b[43mdtype\u001b[49m\u001b[43m,\u001b[49m\n\u001b[0;32m   1278\u001b[0m \u001b[43m    \u001b[49m\u001b[43morder\u001b[49m\u001b[38;5;241;43m=\u001b[39;49m\u001b[43morder\u001b[49m\u001b[43m,\u001b[49m\n\u001b[0;32m   1279\u001b[0m \u001b[43m    \u001b[49m\u001b[43mcopy\u001b[49m\u001b[38;5;241;43m=\u001b[39;49m\u001b[43mcopy\u001b[49m\u001b[43m,\u001b[49m\n\u001b[0;32m   1280\u001b[0m \u001b[43m    \u001b[49m\u001b[43mforce_all_finite\u001b[49m\u001b[38;5;241;43m=\u001b[39;49m\u001b[43mforce_all_finite\u001b[49m\u001b[43m,\u001b[49m\n\u001b[0;32m   1281\u001b[0m \u001b[43m    \u001b[49m\u001b[43mensure_2d\u001b[49m\u001b[38;5;241;43m=\u001b[39;49m\u001b[43mensure_2d\u001b[49m\u001b[43m,\u001b[49m\n\u001b[0;32m   1282\u001b[0m \u001b[43m    \u001b[49m\u001b[43mallow_nd\u001b[49m\u001b[38;5;241;43m=\u001b[39;49m\u001b[43mallow_nd\u001b[49m\u001b[43m,\u001b[49m\n\u001b[0;32m   1283\u001b[0m \u001b[43m    \u001b[49m\u001b[43mensure_min_samples\u001b[49m\u001b[38;5;241;43m=\u001b[39;49m\u001b[43mensure_min_samples\u001b[49m\u001b[43m,\u001b[49m\n\u001b[0;32m   1284\u001b[0m \u001b[43m    \u001b[49m\u001b[43mensure_min_features\u001b[49m\u001b[38;5;241;43m=\u001b[39;49m\u001b[43mensure_min_features\u001b[49m\u001b[43m,\u001b[49m\n\u001b[0;32m   1285\u001b[0m \u001b[43m    \u001b[49m\u001b[43mestimator\u001b[49m\u001b[38;5;241;43m=\u001b[39;49m\u001b[43mestimator\u001b[49m\u001b[43m,\u001b[49m\n\u001b[0;32m   1286\u001b[0m \u001b[43m    \u001b[49m\u001b[43minput_name\u001b[49m\u001b[38;5;241;43m=\u001b[39;49m\u001b[38;5;124;43m\"\u001b[39;49m\u001b[38;5;124;43mX\u001b[39;49m\u001b[38;5;124;43m\"\u001b[39;49m\u001b[43m,\u001b[49m\n\u001b[0;32m   1287\u001b[0m \u001b[43m\u001b[49m\u001b[43m)\u001b[49m\n\u001b[0;32m   1289\u001b[0m y \u001b[38;5;241m=\u001b[39m _check_y(y, multi_output\u001b[38;5;241m=\u001b[39mmulti_output, y_numeric\u001b[38;5;241m=\u001b[39my_numeric, estimator\u001b[38;5;241m=\u001b[39mestimator)\n\u001b[0;32m   1291\u001b[0m check_consistent_length(X, y)\n",
      "File \u001b[1;32mc:\\Python312\\Lib\\site-packages\\sklearn\\utils\\validation.py:1007\u001b[0m, in \u001b[0;36mcheck_array\u001b[1;34m(array, accept_sparse, accept_large_sparse, dtype, order, copy, force_all_finite, ensure_2d, allow_nd, ensure_min_samples, ensure_min_features, estimator, input_name)\u001b[0m\n\u001b[0;32m   1005\u001b[0m         array \u001b[38;5;241m=\u001b[39m xp\u001b[38;5;241m.\u001b[39mastype(array, dtype, copy\u001b[38;5;241m=\u001b[39m\u001b[38;5;28;01mFalse\u001b[39;00m)\n\u001b[0;32m   1006\u001b[0m     \u001b[38;5;28;01melse\u001b[39;00m:\n\u001b[1;32m-> 1007\u001b[0m         array \u001b[38;5;241m=\u001b[39m \u001b[43m_asarray_with_order\u001b[49m\u001b[43m(\u001b[49m\u001b[43marray\u001b[49m\u001b[43m,\u001b[49m\u001b[43m \u001b[49m\u001b[43morder\u001b[49m\u001b[38;5;241;43m=\u001b[39;49m\u001b[43morder\u001b[49m\u001b[43m,\u001b[49m\u001b[43m \u001b[49m\u001b[43mdtype\u001b[49m\u001b[38;5;241;43m=\u001b[39;49m\u001b[43mdtype\u001b[49m\u001b[43m,\u001b[49m\u001b[43m \u001b[49m\u001b[43mxp\u001b[49m\u001b[38;5;241;43m=\u001b[39;49m\u001b[43mxp\u001b[49m\u001b[43m)\u001b[49m\n\u001b[0;32m   1008\u001b[0m \u001b[38;5;28;01mexcept\u001b[39;00m ComplexWarning \u001b[38;5;28;01mas\u001b[39;00m complex_warning:\n\u001b[0;32m   1009\u001b[0m     \u001b[38;5;28;01mraise\u001b[39;00m \u001b[38;5;167;01mValueError\u001b[39;00m(\n\u001b[0;32m   1010\u001b[0m         \u001b[38;5;124m\"\u001b[39m\u001b[38;5;124mComplex data not supported\u001b[39m\u001b[38;5;130;01m\\n\u001b[39;00m\u001b[38;5;132;01m{}\u001b[39;00m\u001b[38;5;130;01m\\n\u001b[39;00m\u001b[38;5;124m\"\u001b[39m\u001b[38;5;241m.\u001b[39mformat(array)\n\u001b[0;32m   1011\u001b[0m     ) \u001b[38;5;28;01mfrom\u001b[39;00m \u001b[38;5;21;01mcomplex_warning\u001b[39;00m\n",
      "File \u001b[1;32mc:\\Python312\\Lib\\site-packages\\sklearn\\utils\\_array_api.py:746\u001b[0m, in \u001b[0;36m_asarray_with_order\u001b[1;34m(array, dtype, order, copy, xp, device)\u001b[0m\n\u001b[0;32m    744\u001b[0m     array \u001b[38;5;241m=\u001b[39m numpy\u001b[38;5;241m.\u001b[39marray(array, order\u001b[38;5;241m=\u001b[39morder, dtype\u001b[38;5;241m=\u001b[39mdtype)\n\u001b[0;32m    745\u001b[0m \u001b[38;5;28;01melse\u001b[39;00m:\n\u001b[1;32m--> 746\u001b[0m     array \u001b[38;5;241m=\u001b[39m \u001b[43mnumpy\u001b[49m\u001b[38;5;241;43m.\u001b[39;49m\u001b[43masarray\u001b[49m\u001b[43m(\u001b[49m\u001b[43marray\u001b[49m\u001b[43m,\u001b[49m\u001b[43m \u001b[49m\u001b[43morder\u001b[49m\u001b[38;5;241;43m=\u001b[39;49m\u001b[43morder\u001b[49m\u001b[43m,\u001b[49m\u001b[43m \u001b[49m\u001b[43mdtype\u001b[49m\u001b[38;5;241;43m=\u001b[39;49m\u001b[43mdtype\u001b[49m\u001b[43m)\u001b[49m\n\u001b[0;32m    748\u001b[0m \u001b[38;5;66;03m# At this point array is a NumPy ndarray. We convert it to an array\u001b[39;00m\n\u001b[0;32m    749\u001b[0m \u001b[38;5;66;03m# container that is consistent with the input's namespace.\u001b[39;00m\n\u001b[0;32m    750\u001b[0m \u001b[38;5;28;01mreturn\u001b[39;00m xp\u001b[38;5;241m.\u001b[39masarray(array)\n",
      "\u001b[1;31mKeyboardInterrupt\u001b[0m: "
     ]
    }
   ],
   "source": [
    "lr = LogisticRegression(max_iter=1000, solver='saga', n_jobs=-1, class_weight='balanced', random_state=42)\n",
    "lr.fit(X_train_mmscaled, y_train)"
   ]
  },
  {
   "cell_type": "code",
   "execution_count": 22,
   "metadata": {},
   "outputs": [
    {
     "name": "stdout",
     "output_type": "stream",
     "text": [
      "Logistic Regression training completed and saved.\n"
     ]
    }
   ],
   "source": [
    "joblib.dump(lr, '00_dataset/without_stopwords/beforeSVD/lr/lr_balanced.joblib')\n",
    "print(\"Logistic Regression training completed and saved.\")"
   ]
  },
  {
   "cell_type": "code",
   "execution_count": 18,
   "metadata": {},
   "outputs": [
    {
     "name": "stdout",
     "output_type": "stream",
     "text": [
      "Accuracy:  0.6772507642244354\n",
      "Classification Report:\n",
      "               precision    recall  f1-score   support\n",
      "\n",
      "           0       0.93      0.64      0.76     52802\n",
      "           1       0.22      0.68      0.34      8044\n",
      "\n",
      "    accuracy                           0.64     60846\n",
      "   macro avg       0.58      0.66      0.55     60846\n",
      "weighted avg       0.84      0.64      0.70     60846\n",
      "\n",
      "ROC-AUC Score:  0.7379880466814739\n"
     ]
    }
   ],
   "source": [
    "# Load your trained Logistic Regression model\n",
    "#model = joblib.load('00_dataset/without_stopwords/beforeSVD/lr/lr_balanced.joblib')\n",
    "\n",
    "# Predict on test set\n",
    "y_pred = lr.predict(X_val_mmscaled)\n",
    "\n",
    "# Evaluate Baseline Performance\n",
    "print(\"Accuracy: \", accuracy_score(y_val, y_pred))\n",
    "print(\"Classification Report:\\n\", classification_report(y_val, y_val_pred))\n",
    "\n",
    "# Compute ROC-AUC\n",
    "y_proba = lr.predict_proba(X_val_mmscaled)[:, 1]\n",
    "print(\"ROC-AUC Score: \", roc_auc_score(y_val, y_proba))"
   ]
  },
  {
   "cell_type": "markdown",
   "metadata": {},
   "source": [
    "Recall for Class 1 (Spam) is 0 suggests that the model is failing at predicting Class 1. But when it is predicts Spam, the precision of 22% suggests that is is correct 22% of the time."
   ]
  },
  {
   "cell_type": "code",
   "execution_count": 22,
   "metadata": {},
   "outputs": [
    {
     "data": {
      "text/plain": [
       "<sklearn.metrics._plot.confusion_matrix.ConfusionMatrixDisplay at 0x1c2e5734ad0>"
      ]
     },
     "execution_count": 22,
     "metadata": {},
     "output_type": "execute_result"
    },
    {
     "data": {
      "image/png": "[encoded data removed]",
      "text/plain": [
       "<Figure size 640x480 with 2 Axes>"
      ]
     },
     "metadata": {},
     "output_type": "display_data"
    }
   ],
   "source": [
    "# Generate confusion matrix\n",
    "cm = confusion_matrix(y_test, y_pred)\n",
    "\n",
    "# Display confusion matrix\n",
    "disp = ConfusionMatrixDisplay(confusion_matrix=cm, display_labels=[0, 1])\n",
    "disp.plot(cmap=\"Blues\")  # Choose a color map for visualization"
   ]
  },
  {
   "cell_type": "markdown",
   "metadata": {},
   "source": [
    "## Balanced Model"
   ]
  },
  {
   "cell_type": "code",
   "execution_count": null,
   "metadata": {},
   "outputs": [
    {
     "name": "stdout",
     "output_type": "stream",
     "text": [
      "Batch 1/9 completed and saved.\n",
      "Batch 2/9 completed and saved.\n",
      "Batch 3/9 completed and saved.\n",
      "Batch 4/9 completed and saved.\n",
      "Batch 5/9 completed and saved.\n",
      "Batch 6/9 completed and saved.\n",
      "Batch 7/9 completed and saved.\n",
      "Batch 8/9 completed and saved.\n",
      "Batch 9/9 completed and saved.\n"
     ]
    }
   ],
   "source": [
    "import joblib\n",
    "import os\n",
    "\n",
    "os.makedirs('00_dataset/without_stopwords/nb_classweights', exist_ok=True)\n",
    "\n",
    "# Define the model\n",
    "nb = MultinomialNB(class_prior=[0.5, 0.5])\n",
    "\n",
    "batch_size = 50000\n",
    "num_batches = int(np.ceil(X_train_mmscaled.shape[0] / batch_size))\n",
    "\n",
    "for i in range(num_batches):\n",
    "    start = i * batch_size\n",
    "    end = min(start + batch_size, X_train_mmscaled.shape[0])\n",
    "    \n",
    "    X_batch = X_train_mmscaled[start:end]\n",
    "    y_batch = y_train[start:end]\n",
    "    \n",
    "    if i == 0:\n",
    "        # Initial fit with all possible classes\n",
    "        nb.partial_fit(X_batch, y_batch, classes=np.array([0, 1]))\n",
    "    else:\n",
    "        nb.partial_fit(X_batch, y_batch)\n",
    "    \n",
    "    # Save the model after each batch\n",
    "    joblib.dump(nb, f'00_dataset/without_stopwords/nb_classweights/multinomial_nb_batch_{i}.joblib')\n",
    "    print(f'Batch {i+1}/{num_batches} completed and saved.')"
   ]
  },
  {
   "cell_type": "code",
   "execution_count": 16,
   "metadata": {},
   "outputs": [
    {
     "name": "stderr",
     "output_type": "stream",
     "text": [
      "c:\\Python312\\Lib\\site-packages\\sklearn\\base.py:376: InconsistentVersionWarning: Trying to unpickle estimator MultinomialNB from version 1.6.1 when using version 1.5.0. This might lead to breaking code or invalid results. Use at your own risk. For more info please refer to:\n",
      "https://scikit-learn.org/stable/model_persistence.html#security-maintainability-limitations\n",
      "  warnings.warn(\n"
     ]
    },
    {
     "name": "stdout",
     "output_type": "stream",
     "text": [
      "Validation Accuracy: 0.6436\n",
      "\n",
      "Classification Report:\n",
      "               precision    recall  f1-score   support\n",
      "\n",
      "           0       0.93      0.64      0.76     52802\n",
      "           1       0.22      0.68      0.34      8044\n",
      "\n",
      "    accuracy                           0.64     60846\n",
      "   macro avg       0.58      0.66      0.55     60846\n",
      "weighted avg       0.84      0.64      0.70     60846\n",
      "\n",
      "ROC-AUC Score:  0.7201675725368735\n"
     ]
    },
    {
     "data": {
      "text/plain": [
       "<sklearn.metrics._plot.confusion_matrix.ConfusionMatrixDisplay at 0x1d7819da540>"
      ]
     },
     "execution_count": 16,
     "metadata": {},
     "output_type": "execute_result"
    },
    {
     "data": {
      "image/png": "[encoded data removed]",
      "text/plain": [
       "<Figure size 640x480 with 2 Axes>"
      ]
     },
     "metadata": {},
     "output_type": "display_data"
    }
   ],
   "source": [
    "import joblib\n",
    "from sklearn.metrics import accuracy_score, classification_report\n",
    "\n",
    "# Load the last saved model\n",
    "nb_classweights = joblib.load('00_dataset/without_stopwords/nb_classweights/multinomial_nb_batch_8.joblib') # Replace X with the last batch number\n",
    "\n",
    "# Predict on validation data\n",
    "y_val_pred = nb_classweights.predict(X_val_mmscaled)\n",
    "\n",
    "# Evaluate performance\n",
    "accuracy = accuracy_score(y_val, y_val_pred)\n",
    "print(f\"Validation Accuracy: {accuracy:.4f}\")\n",
    "\n",
    "print(\"\\nClassification Report:\\n\", classification_report(y_val, y_val_pred))\n",
    "\n",
    "# Compute ROC-AUC\n",
    "y_proba = nb_classweights.predict_proba(X_val_mmscaled)[:, 1]\n",
    "print(\"ROC-AUC Score: \", roc_auc_score(y_val, y_proba))\n",
    "\n",
    "# Generate confusion matrix\n",
    "cm = confusion_matrix(y_val, y_val_pred)\n",
    "\n",
    "# Display confusion matrix\n",
    "disp = ConfusionMatrixDisplay(confusion_matrix=cm, display_labels=[0, 1])\n",
    "disp.plot(cmap=\"Blues\")  # Choose a color map for visualization"
   ]
  },
  {
   "cell_type": "code",
   "execution_count": null,
   "metadata": {},
   "outputs": [],
   "source": [
    "import joblib\n",
    "\n",
    "os.makedirs('00_dataset/without_stopwords/lr_classweights', exist_ok=True)\n",
    "\n",
    "lr = LogisticRegression(max_iter=1000, solver='saga', n_jobs=-1, random_state=42, class_weight='balanced')\n",
    "lr.fit(X_train_mmscaled, y_train)\n",
    "\n",
    "joblib.dump(lr, '00_dataset/without_stopwords/lr_classweights/lr_full.joblib')\n",
    "print(\"Logistic Regression training completed and saved.\")"
   ]
  },
  {
   "cell_type": "code",
   "execution_count": 19,
   "metadata": {},
   "outputs": [
    {
     "name": "stderr",
     "output_type": "stream",
     "text": [
      "c:\\Python312\\Lib\\site-packages\\sklearn\\base.py:376: InconsistentVersionWarning: Trying to unpickle estimator LogisticRegression from version 1.6.1 when using version 1.5.0. This might lead to breaking code or invalid results. Use at your own risk. For more info please refer to:\n",
      "https://scikit-learn.org/stable/model_persistence.html#security-maintainability-limitations\n",
      "  warnings.warn(\n"
     ]
    },
    {
     "name": "stdout",
     "output_type": "stream",
     "text": [
      "Validation Accuracy: 0.6773\n",
      "\n",
      "Classification Report:\n",
      "               precision    recall  f1-score   support\n",
      "\n",
      "           0       0.93      0.68      0.78     52802\n",
      "           1       0.24      0.67      0.35      8044\n",
      "\n",
      "    accuracy                           0.68     60846\n",
      "   macro avg       0.59      0.67      0.57     60846\n",
      "weighted avg       0.84      0.68      0.73     60846\n",
      "\n",
      "ROC-AUC Score:  0.7379876464359472\n"
     ]
    },
    {
     "data": {
      "text/plain": [
       "<sklearn.metrics._plot.confusion_matrix.ConfusionMatrixDisplay at 0x1d7818c39b0>"
      ]
     },
     "execution_count": 19,
     "metadata": {},
     "output_type": "execute_result"
    },
    {
     "data": {
      "image/png": "[encoded data removed]",
      "text/plain": [
       "<Figure size 640x480 with 2 Axes>"
      ]
     },
     "metadata": {},
     "output_type": "display_data"
    }
   ],
   "source": [
    "# Load the last saved model\n",
    "lr_classweights = joblib.load('00_dataset/without_stopwords/lr_classweights/lr_full.joblib') # Replace X with the last batch number\n",
    "\n",
    "# Predict on validation data\n",
    "y_val_pred = lr_classweights.predict(X_val_mmscaled)\n",
    "\n",
    "# Evaluate performance\n",
    "accuracy = accuracy_score(y_val, y_val_pred)\n",
    "print(f\"Validation Accuracy: {accuracy:.4f}\")\n",
    "\n",
    "print(\"\\nClassification Report:\\n\", classification_report(y_val, y_val_pred))\n",
    "\n",
    "# Compute ROC-AUC\n",
    "y_proba = lr_classweights.predict_proba(X_val_mmscaled)[:, 1]\n",
    "print(\"ROC-AUC Score: \", roc_auc_score(y_val, y_proba))\n",
    "\n",
    "# Generate confusion matrix\n",
    "cm = confusion_matrix(y_val, y_val_pred)\n",
    "\n",
    "# Display confusion matrix\n",
    "disp = ConfusionMatrixDisplay(confusion_matrix=cm, display_labels=[0, 1])\n",
    "disp.plot(cmap=\"Blues\")  # Choose a color map for visualization"
   ]
  },
  {
   "cell_type": "markdown",
   "metadata": {},
   "source": [
    "# Apply SMOTE"
   ]
  },
  {
   "cell_type": "code",
   "execution_count": null,
   "metadata": {},
   "outputs": [],
   "source": [
    "smote = SMOTE(sampling_strategy='auto', random_state=42)\n",
    "X_train_smote, y_train_smote = smote.fit_resample(X_train_mmscaled, y_train)"
   ]
  },
  {
   "cell_type": "code",
   "execution_count": null,
   "metadata": {},
   "outputs": [],
   "source": [
    "nb_smote = MultinomialNB(class_prior=[0.5, 0.5])\n",
    "nb_smote.fit(X_train_smote, y_train_smote)\n",
    "\n",
    "# Save the model\n",
    "joblib.dump(nb_smote, '00_dataset/without_stopwords/nb_classweights/nb_smote.joblib')\n",
    "print(\"Naive Bayes with SMOTE training completed and saved.\")"
   ]
  },
  {
   "cell_type": "code",
   "execution_count": 17,
   "metadata": {},
   "outputs": [
    {
     "name": "stderr",
     "output_type": "stream",
     "text": [
      "c:\\Python312\\Lib\\site-packages\\sklearn\\base.py:376: InconsistentVersionWarning: Trying to unpickle estimator MultinomialNB from version 1.6.1 when using version 1.5.0. This might lead to breaking code or invalid results. Use at your own risk. For more info please refer to:\n",
      "https://scikit-learn.org/stable/model_persistence.html#security-maintainability-limitations\n",
      "  warnings.warn(\n"
     ]
    },
    {
     "name": "stdout",
     "output_type": "stream",
     "text": [
      "Validation Accuracy: 0.6927\n",
      "\n",
      "Classification Report:\n",
      "               precision    recall  f1-score   support\n",
      "\n",
      "           0       0.92      0.71      0.80     52802\n",
      "           1       0.24      0.60      0.34      8044\n",
      "\n",
      "    accuracy                           0.69     60846\n",
      "   macro avg       0.58      0.65      0.57     60846\n",
      "weighted avg       0.83      0.69      0.74     60846\n",
      "\n",
      "ROC-AUC Score:  0.7142543427722655\n"
     ]
    },
    {
     "data": {
      "text/plain": [
       "<sklearn.metrics._plot.confusion_matrix.ConfusionMatrixDisplay at 0x1d757724830>"
      ]
     },
     "execution_count": 17,
     "metadata": {},
     "output_type": "execute_result"
    },
    {
     "data": {
      "image/png": "[encoded data removed]",
      "text/plain": [
       "<Figure size 640x480 with 2 Axes>"
      ]
     },
     "metadata": {},
     "output_type": "display_data"
    }
   ],
   "source": [
    "# Load the last saved model\n",
    "nb_smote = joblib.load('00_dataset/without_stopwords/nb_classweights/nb_smote.joblib') # Replace X with the last batch number\n",
    "\n",
    "# Predict on validation data\n",
    "y_val_pred = nb_smote.predict(X_val_mmscaled)\n",
    "\n",
    "# Evaluate performance\n",
    "accuracy = accuracy_score(y_val, y_val_pred)\n",
    "print(f\"Validation Accuracy: {accuracy:.4f}\")\n",
    "\n",
    "print(\"\\nClassification Report:\\n\", classification_report(y_val, y_val_pred))\n",
    "\n",
    "# Compute ROC-AUC\n",
    "y_proba = nb_smote.predict_proba(X_val_mmscaled)[:, 1]\n",
    "print(\"ROC-AUC Score: \", roc_auc_score(y_val, y_proba))\n",
    "\n",
    "# Generate confusion matrix\n",
    "cm = confusion_matrix(y_val, y_val_pred)\n",
    "\n",
    "# Display confusion matrix\n",
    "disp = ConfusionMatrixDisplay(confusion_matrix=cm, display_labels=[0, 1])\n",
    "disp.plot(cmap=\"Blues\")  # Choose a color map for visualization"
   ]
  },
  {
   "cell_type": "code",
   "execution_count": null,
   "metadata": {},
   "outputs": [],
   "source": [
    "# Train Logistic Regression\n",
    "lr_smote = LogisticRegression(class_weight='balanced', max_iter=1000, solver='saga')\n",
    "lr_smote.fit(X_train_smote, y_train_smote)\n",
    "\n",
    "# Save the model\n",
    "joblib.dump(lr_smote, '00_dataset/without_stopwords/lr_classweights/lr_smote.joblib')\n",
    "print(\"Logistic Regression with SMOTE training completed and saved.\")"
   ]
  },
  {
   "cell_type": "code",
   "execution_count": 18,
   "metadata": {},
   "outputs": [
    {
     "name": "stderr",
     "output_type": "stream",
     "text": [
      "c:\\Python312\\Lib\\site-packages\\sklearn\\base.py:376: InconsistentVersionWarning: Trying to unpickle estimator LogisticRegression from version 1.6.1 when using version 1.5.0. This might lead to breaking code or invalid results. Use at your own risk. For more info please refer to:\n",
      "https://scikit-learn.org/stable/model_persistence.html#security-maintainability-limitations\n",
      "  warnings.warn(\n"
     ]
    },
    {
     "name": "stdout",
     "output_type": "stream",
     "text": [
      "Validation Accuracy: 0.7791\n",
      "\n",
      "Classification Report:\n",
      "               precision    recall  f1-score   support\n",
      "\n",
      "           0       0.90      0.84      0.87     52802\n",
      "           1       0.27      0.41      0.33      8044\n",
      "\n",
      "    accuracy                           0.78     60846\n",
      "   macro avg       0.59      0.62      0.60     60846\n",
      "weighted avg       0.82      0.78      0.80     60846\n",
      "\n",
      "ROC-AUC Score:  0.7093078448631763\n"
     ]
    },
    {
     "data": {
      "text/plain": [
       "<sklearn.metrics._plot.confusion_matrix.ConfusionMatrixDisplay at 0x1d5078e1ac0>"
      ]
     },
     "execution_count": 18,
     "metadata": {},
     "output_type": "execute_result"
    },
    {
     "data": {
      "image/png": "[encoded data removed]",
      "text/plain": [
       "<Figure size 640x480 with 2 Axes>"
      ]
     },
     "metadata": {},
     "output_type": "display_data"
    }
   ],
   "source": [
    "# Load the last saved model\n",
    "lr_smote = joblib.load('00_dataset/without_stopwords/lr_classweights/lr_smote.joblib') # Replace X with the last batch number\n",
    "\n",
    "# Predict on validation data\n",
    "y_val_pred = lr_smote.predict(X_val_mmscaled)\n",
    "\n",
    "# Evaluate performance\n",
    "accuracy = accuracy_score(y_val, y_val_pred)\n",
    "print(f\"Validation Accuracy: {accuracy:.4f}\")\n",
    "\n",
    "print(\"\\nClassification Report:\\n\", classification_report(y_val, y_val_pred))\n",
    "\n",
    "# Compute ROC-AUC\n",
    "y_proba = lr_smote.predict_proba(X_val_mmscaled)[:, 1]\n",
    "print(\"ROC-AUC Score: \", roc_auc_score(y_val, y_proba))\n",
    "\n",
    "# Generate confusion matrix\n",
    "cm = confusion_matrix(y_val, y_val_pred)\n",
    "\n",
    "# Display confusion matrix\n",
    "disp = ConfusionMatrixDisplay(confusion_matrix=cm, display_labels=[0, 1])\n",
    "disp.plot(cmap=\"Blues\")  # Choose a color map for visualization"
   ]
  }
 ],
 "metadata": {
  "colab": {
   "authorship_tag": "ABX9TyO6Iv3wImR/68tHMhlvmBj2",
   "collapsed_sections": [
    "5LAdCfvbsB2Q",
    "kN6Ff2xnpcYW",
    "BRw6BrTTtID5"
   ],
   "provenance": []
  },
  "kernelspec": {
   "display_name": "Python 3",
   "name": "python3"
  },
  "language_info": {
   "codemirror_mode": {
    "name": "ipython",
    "version": 3
   },
   "file_extension": ".py",
   "mimetype": "text/x-python",
   "name": "python",
   "nbconvert_exporter": "python",
   "pygments_lexer": "ipython3",
   "version": "3.12.3"
  }
 },
 "nbformat": 4,
 "nbformat_minor": 0
}
