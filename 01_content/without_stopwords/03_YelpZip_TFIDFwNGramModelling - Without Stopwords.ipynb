{
 "cells": [
  {
   "cell_type": "code",
   "execution_count": 1,
   "metadata": {
    "executionInfo": {
     "elapsed": 5858,
     "status": "ok",
     "timestamp": 1740227595364,
     "user": {
      "displayName": "joc",
      "userId": "03257841468945552602"
     },
     "user_tz": -480
    },
    "id": "-jMIBikVVMBN"
   },
   "outputs": [],
   "source": [
    "# Data Manipulation\n",
    "import pandas as pd\n",
    "import numpy as np\n",
    "import pyarrow.parquet\n",
    "\n",
    "# Machine Learning\n",
    "from sklearn.model_selection import train_test_split, cross_val_score\n",
    "from sklearn.feature_extraction.text import TfidfVectorizer\n",
    "from sklearn.linear_model import LogisticRegression\n",
    "from sklearn.ensemble import RandomForestClassifier\n",
    "from sklearn.svm import SVC\n",
    "from sklearn.naive_bayes import MultinomialNB\n",
    "from imblearn.over_sampling import SMOTE\n",
    "import joblib\n",
    "from sklearn.compose import ColumnTransformer\n",
    "from sklearn.preprocessing import MinMaxScaler\n",
    "from sklearn.metrics import (accuracy_score, classification_report, roc_auc_score, \n",
    "                             confusion_matrix, ConfusionMatrixDisplay, matthews_corrcoef, \n",
    "                             balanced_accuracy_score, precision_recall_curve, auc)\n",
    "\n",
    "# Visualization\n",
    "import matplotlib.pyplot as plt\n",
    "import seaborn as sns"
   ]
  },
  {
   "cell_type": "markdown",
   "metadata": {
    "id": "pz13AEZyqNEf"
   },
   "source": [
    "# Load Dataset"
   ]
  },
  {
   "cell_type": "code",
   "execution_count": 2,
   "metadata": {},
   "outputs": [],
   "source": [
    "df_train = pd.read_parquet(\"00_dataset/without_stopwords/tfidfWithNGram/train_features.parquet\")\n",
    "df_test = pd.read_parquet(\"00_dataset/without_stopwords/tfidfWithNGram/test_features.parquet\")\n",
    "df_val = pd.read_parquet(\"00_dataset/without_stopwords/tfidfWithNGram/val_features.parquet\")"
   ]
  },
  {
   "cell_type": "code",
   "execution_count": 3,
   "metadata": {},
   "outputs": [],
   "source": [
    "# Separate into X and y\n",
    "X_train = df_train.drop(columns=[\"label\"])\n",
    "y_train = df_train[\"label\"]\n",
    "\n",
    "X_test = df_test.drop(columns=[\"label\"])\n",
    "y_test = df_test[\"label\"]\n",
    "\n",
    "X_val = df_val.drop(columns=[\"label\"])\n",
    "y_val = df_val[\"label\"]"
   ]
  },
  {
   "cell_type": "code",
   "execution_count": 4,
   "metadata": {},
   "outputs": [
    {
     "data": {
      "text/html": [
       "<div>\n",
       "<style scoped>\n",
       "    .dataframe tbody tr th:only-of-type {\n",
       "        vertical-align: middle;\n",
       "    }\n",
       "\n",
       "    .dataframe tbody tr th {\n",
       "        vertical-align: top;\n",
       "    }\n",
       "\n",
       "    .dataframe thead th {\n",
       "        text-align: right;\n",
       "    }\n",
       "</style>\n",
       "<table border=\"1\" class=\"dataframe\">\n",
       "  <thead>\n",
       "    <tr style=\"text-align: right;\">\n",
       "      <th></th>\n",
       "      <th>0</th>\n",
       "      <th>1</th>\n",
       "      <th>2</th>\n",
       "      <th>3</th>\n",
       "      <th>4</th>\n",
       "      <th>5</th>\n",
       "      <th>6</th>\n",
       "      <th>7</th>\n",
       "      <th>8</th>\n",
       "      <th>9</th>\n",
       "      <th>...</th>\n",
       "      <th>4999</th>\n",
       "      <th>sentiment_score</th>\n",
       "      <th>vader_score</th>\n",
       "      <th>review_length</th>\n",
       "      <th>exclamation_count</th>\n",
       "      <th>question_count</th>\n",
       "      <th>uppercase_ratio</th>\n",
       "      <th>duplicate_word_count</th>\n",
       "      <th>emoji_count</th>\n",
       "      <th>avg_word_length</th>\n",
       "    </tr>\n",
       "  </thead>\n",
       "  <tbody>\n",
       "    <tr>\n",
       "      <th>0</th>\n",
       "      <td>0.0</td>\n",
       "      <td>0.0</td>\n",
       "      <td>0.0</td>\n",
       "      <td>0.0</td>\n",
       "      <td>0.0</td>\n",
       "      <td>0.0</td>\n",
       "      <td>0.0</td>\n",
       "      <td>0.0</td>\n",
       "      <td>0.0</td>\n",
       "      <td>0.0</td>\n",
       "      <td>...</td>\n",
       "      <td>0.0</td>\n",
       "      <td>0.194444</td>\n",
       "      <td>0.9611</td>\n",
       "      <td>73</td>\n",
       "      <td>0</td>\n",
       "      <td>0</td>\n",
       "      <td>0.027708</td>\n",
       "      <td>23</td>\n",
       "      <td>0</td>\n",
       "      <td>4.452055</td>\n",
       "    </tr>\n",
       "    <tr>\n",
       "      <th>1</th>\n",
       "      <td>0.0</td>\n",
       "      <td>0.0</td>\n",
       "      <td>0.0</td>\n",
       "      <td>0.0</td>\n",
       "      <td>0.0</td>\n",
       "      <td>0.0</td>\n",
       "      <td>0.0</td>\n",
       "      <td>0.0</td>\n",
       "      <td>0.0</td>\n",
       "      <td>0.0</td>\n",
       "      <td>...</td>\n",
       "      <td>0.0</td>\n",
       "      <td>0.187037</td>\n",
       "      <td>0.9422</td>\n",
       "      <td>46</td>\n",
       "      <td>1</td>\n",
       "      <td>0</td>\n",
       "      <td>0.030534</td>\n",
       "      <td>12</td>\n",
       "      <td>0</td>\n",
       "      <td>4.717391</td>\n",
       "    </tr>\n",
       "    <tr>\n",
       "      <th>2</th>\n",
       "      <td>0.0</td>\n",
       "      <td>0.0</td>\n",
       "      <td>0.0</td>\n",
       "      <td>0.0</td>\n",
       "      <td>0.0</td>\n",
       "      <td>0.0</td>\n",
       "      <td>0.0</td>\n",
       "      <td>0.0</td>\n",
       "      <td>0.0</td>\n",
       "      <td>0.0</td>\n",
       "      <td>...</td>\n",
       "      <td>0.0</td>\n",
       "      <td>-0.147253</td>\n",
       "      <td>0.7906</td>\n",
       "      <td>38</td>\n",
       "      <td>0</td>\n",
       "      <td>0</td>\n",
       "      <td>0.031579</td>\n",
       "      <td>9</td>\n",
       "      <td>0</td>\n",
       "      <td>4.026316</td>\n",
       "    </tr>\n",
       "    <tr>\n",
       "      <th>3</th>\n",
       "      <td>0.0</td>\n",
       "      <td>0.0</td>\n",
       "      <td>0.0</td>\n",
       "      <td>0.0</td>\n",
       "      <td>0.0</td>\n",
       "      <td>0.0</td>\n",
       "      <td>0.0</td>\n",
       "      <td>0.0</td>\n",
       "      <td>0.0</td>\n",
       "      <td>0.0</td>\n",
       "      <td>...</td>\n",
       "      <td>0.0</td>\n",
       "      <td>0.253842</td>\n",
       "      <td>0.9874</td>\n",
       "      <td>108</td>\n",
       "      <td>8</td>\n",
       "      <td>0</td>\n",
       "      <td>0.076923</td>\n",
       "      <td>41</td>\n",
       "      <td>0</td>\n",
       "      <td>4.185185</td>\n",
       "    </tr>\n",
       "    <tr>\n",
       "      <th>4</th>\n",
       "      <td>0.0</td>\n",
       "      <td>0.0</td>\n",
       "      <td>0.0</td>\n",
       "      <td>0.0</td>\n",
       "      <td>0.0</td>\n",
       "      <td>0.0</td>\n",
       "      <td>0.0</td>\n",
       "      <td>0.0</td>\n",
       "      <td>0.0</td>\n",
       "      <td>0.0</td>\n",
       "      <td>...</td>\n",
       "      <td>0.0</td>\n",
       "      <td>0.257143</td>\n",
       "      <td>0.8903</td>\n",
       "      <td>53</td>\n",
       "      <td>0</td>\n",
       "      <td>0</td>\n",
       "      <td>0.040134</td>\n",
       "      <td>21</td>\n",
       "      <td>0</td>\n",
       "      <td>4.660378</td>\n",
       "    </tr>\n",
       "  </tbody>\n",
       "</table>\n",
       "<p>5 rows × 5009 columns</p>\n",
       "</div>"
      ],
      "text/plain": [
       "     0    1    2    3    4    5    6    7    8    9  ...  4999  \\\n",
       "0  0.0  0.0  0.0  0.0  0.0  0.0  0.0  0.0  0.0  0.0  ...   0.0   \n",
       "1  0.0  0.0  0.0  0.0  0.0  0.0  0.0  0.0  0.0  0.0  ...   0.0   \n",
       "2  0.0  0.0  0.0  0.0  0.0  0.0  0.0  0.0  0.0  0.0  ...   0.0   \n",
       "3  0.0  0.0  0.0  0.0  0.0  0.0  0.0  0.0  0.0  0.0  ...   0.0   \n",
       "4  0.0  0.0  0.0  0.0  0.0  0.0  0.0  0.0  0.0  0.0  ...   0.0   \n",
       "\n",
       "   sentiment_score  vader_score  review_length  exclamation_count  \\\n",
       "0         0.194444       0.9611             73                  0   \n",
       "1         0.187037       0.9422             46                  1   \n",
       "2        -0.147253       0.7906             38                  0   \n",
       "3         0.253842       0.9874            108                  8   \n",
       "4         0.257143       0.8903             53                  0   \n",
       "\n",
       "   question_count  uppercase_ratio  duplicate_word_count  emoji_count  \\\n",
       "0               0         0.027708                    23            0   \n",
       "1               0         0.030534                    12            0   \n",
       "2               0         0.031579                     9            0   \n",
       "3               0         0.076923                    41            0   \n",
       "4               0         0.040134                    21            0   \n",
       "\n",
       "   avg_word_length  \n",
       "0         4.452055  \n",
       "1         4.717391  \n",
       "2         4.026316  \n",
       "3         4.185185  \n",
       "4         4.660378  \n",
       "\n",
       "[5 rows x 5009 columns]"
      ]
     },
     "execution_count": 4,
     "metadata": {},
     "output_type": "execute_result"
    }
   ],
   "source": [
    "X_train.head()"
   ]
  },
  {
   "cell_type": "code",
   "execution_count": 4,
   "metadata": {},
   "outputs": [
    {
     "name": "stdout",
     "output_type": "stream",
     "text": [
      "MinMaxScaler saved successfully.\n"
     ]
    }
   ],
   "source": [
    "# Feature Scaling\n",
    "from sklearn.compose import ColumnTransformer\n",
    "from sklearn.preprocessing import MinMaxScaler\n",
    "\n",
    "# Feature Scaling\n",
    "extracted_features = ['sentiment_score', 'vader_score', 'review_length', 'exclamation_count', 'question_count', 'uppercase_ratio', 'duplicate_word_count', 'emoji_count', 'avg_word_length']\n",
    "\n",
    "ct_mm = ColumnTransformer(transformers=[('MinMaxScaler', MinMaxScaler(), extracted_features)], remainder='passthrough')\n",
    "X_train_scaled = ct_mm.fit_transform(X_train)\n",
    "X_test_scaled = ct_mm.transform(X_test)\n",
    "X_val_scaled = ct_mm.transform(X_val)\n",
    "\n",
    "# Save the fitted scaler (Optional: for future use)\n",
    "joblib.dump(ct_mm, \"00_dataset/without_stopwords/tfidfWithNGram/minmax_scaler.joblib\")\n",
    "print(\"MinMaxScaler saved successfully.\")"
   ]
  },
  {
   "cell_type": "code",
   "execution_count": 5,
   "metadata": {},
   "outputs": [],
   "source": [
    "# Load Min Max Scaler\n",
    "mms = joblib.load('00_dataset/without_stopwords/tfidfWithNGram/minmax_scaler.joblib')\n",
    "X_train_scaled = mms.transform(X_train)\n",
    "X_test_scaled = mms.transform(X_test)\n",
    "X_val_scaled = mms.transform(X_val)"
   ]
  },
  {
   "cell_type": "code",
   "execution_count": 6,
   "metadata": {},
   "outputs": [
    {
     "name": "stdout",
     "output_type": "stream",
     "text": [
      "Train Class Distribution:\n",
      " label\n",
      "0    0.867799\n",
      "1    0.132201\n",
      "Name: proportion, dtype: float64\n",
      "\n",
      "Validation Class Distribution:\n",
      " label\n",
      "0    0.867797\n",
      "1    0.132203\n",
      "Name: proportion, dtype: float64\n",
      "\n",
      "Test Class Distribution:\n",
      " label\n",
      "0    0.867797\n",
      "1    0.132203\n",
      "Name: proportion, dtype: float64\n"
     ]
    }
   ],
   "source": [
    "# Check class distribution after split\n",
    "print(\"Train Class Distribution:\\n\", y_train.value_counts(normalize=True))\n",
    "print(\"\\nValidation Class Distribution:\\n\", y_val.value_counts(normalize=True))\n",
    "print(\"\\nTest Class Distribution:\\n\", y_test.value_counts(normalize=True))"
   ]
  },
  {
   "cell_type": "code",
   "execution_count": 6,
   "metadata": {},
   "outputs": [
    {
     "data": {
      "text/plain": [
       "array([[0.5972222 , 0.98063934, 0.06336806, ..., 0.        , 0.        ,\n",
       "        0.        ],\n",
       "       [0.5935185 , 0.97118413, 0.03993056, ..., 0.        , 0.        ,\n",
       "        0.        ],\n",
       "       [0.42637363, 0.89534247, 0.03298611, ..., 0.        , 0.        ,\n",
       "        0.        ],\n",
       "       ...,\n",
       "       [0.6029514 , 0.9971484 , 0.1467014 , ..., 0.        , 0.        ,\n",
       "        0.        ],\n",
       "       [0.73392856, 0.96453047, 0.0390625 , ..., 0.        , 0.        ,\n",
       "        0.        ],\n",
       "       [0.5621693 , 0.9788884 , 0.07986111, ..., 0.        , 0.        ,\n",
       "        0.        ]], dtype=float32)"
      ]
     },
     "execution_count": 6,
     "metadata": {},
     "output_type": "execute_result"
    }
   ],
   "source": [
    "X_train_scaled"
   ]
  },
  {
   "cell_type": "code",
   "execution_count": 7,
   "metadata": {},
   "outputs": [
    {
     "name": "stdout",
     "output_type": "stream",
     "text": [
      "Contains negative values: False\n"
     ]
    }
   ],
   "source": [
    "print(\"Contains negative values:\", np.any(X_train_scaled < 0))\n"
   ]
  },
  {
   "cell_type": "code",
   "execution_count": 10,
   "metadata": {},
   "outputs": [
    {
     "name": "stdout",
     "output_type": "stream",
     "text": [
      "Naive Bayes training completed and saved.\n"
     ]
    }
   ],
   "source": [
    "nb = MultinomialNB(fit_prior=True)\n",
    "nb.fit(X_train_scaled, y_train)\n",
    "\n",
    "# Save the model\n",
    "joblib.dump(nb, '00_dataset/without_stopwords/tfidfWithNGram/nb/nb.joblib')\n",
    "print(\"Naive Bayes training completed and saved.\")"
   ]
  },
  {
   "cell_type": "code",
   "execution_count": 11,
   "metadata": {},
   "outputs": [
    {
     "name": "stdout",
     "output_type": "stream",
     "text": [
      "Validation Accuracy: 0.8678\n",
      "\n",
      "Classification Report:\n",
      "               precision    recall  f1-score   support\n",
      "\n",
      "           0       0.87      1.00      0.93     52802\n",
      "           1       0.51      0.00      0.00      8044\n",
      "\n",
      "    accuracy                           0.87     60846\n",
      "   macro avg       0.69      0.50      0.47     60846\n",
      "weighted avg       0.82      0.87      0.81     60846\n",
      "\n",
      "ROC-AUC Score:  0.7227771827879506\n"
     ]
    },
    {
     "data": {
      "text/plain": [
       "<sklearn.metrics._plot.confusion_matrix.ConfusionMatrixDisplay at 0x29f3f66aae0>"
      ]
     },
     "execution_count": 11,
     "metadata": {},
     "output_type": "execute_result"
    },
    {
     "data": {
      "image/png": "[encoded data removed]",
      "text/plain": [
       "<Figure size 640x480 with 2 Axes>"
      ]
     },
     "metadata": {},
     "output_type": "display_data"
    }
   ],
   "source": [
    "# Load the last saved model\n",
    "# nb = joblib.load('00_dataset/without_stopwords/tfidfWithNGram/nb/nb.joblib')\n",
    "\n",
    "# Predict on validation data\n",
    "y_val_pred = nb.predict(X_val_scaled)\n",
    "\n",
    "# Evaluate performance\n",
    "accuracy = accuracy_score(y_val, y_val_pred)\n",
    "print(f\"Validation Accuracy: {accuracy:.4f}\")\n",
    "\n",
    "print(\"\\nClassification Report:\\n\", classification_report(y_val, y_val_pred))\n",
    "\n",
    "# Compute ROC-AUC\n",
    "y_proba = nb.predict_proba(X_val_scaled)[:, 1]\n",
    "print(\"ROC-AUC Score: \", roc_auc_score(y_val, y_proba))\n",
    "\n",
    "# Generate confusion matrix\n",
    "cm = confusion_matrix(y_val, y_val_pred)\n",
    "\n",
    "# Display confusion matrix\n",
    "disp = ConfusionMatrixDisplay(confusion_matrix=cm, display_labels=[0, 1])\n",
    "disp.plot(cmap=\"Blues\")  # Choose a color map for visualization"
   ]
  },
  {
   "cell_type": "code",
   "execution_count": 8,
   "metadata": {},
   "outputs": [
    {
     "name": "stdout",
     "output_type": "stream",
     "text": [
      "Naive Bayes training completed and saved.\n"
     ]
    }
   ],
   "source": [
    "nb = MultinomialNB(class_prior=[0.5, 0.5])\n",
    "nb.fit(X_train_scaled, y_train)\n",
    "\n",
    "# Save the model\n",
    "joblib.dump(nb, '00_dataset/without_stopwords/tfidfWithNGram/nb/classweights_nb.joblib')\n",
    "print(\"Naive Bayes training completed and saved.\")"
   ]
  },
  {
   "cell_type": "code",
   "execution_count": 9,
   "metadata": {},
   "outputs": [
    {
     "name": "stdout",
     "output_type": "stream",
     "text": [
      "Validation Accuracy: 0.6474\n",
      "\n",
      "Classification Report:\n",
      "               precision    recall  f1-score   support\n",
      "\n",
      "           0       0.93      0.64      0.76     52802\n",
      "           1       0.23      0.68      0.34      8044\n",
      "\n",
      "    accuracy                           0.65     60846\n",
      "   macro avg       0.58      0.66      0.55     60846\n",
      "weighted avg       0.84      0.65      0.70     60846\n",
      "\n",
      "ROC-AUC Score:  0.7227771827879506\n"
     ]
    },
    {
     "data": {
      "text/plain": [
       "<sklearn.metrics._plot.confusion_matrix.ConfusionMatrixDisplay at 0x29f3ec75400>"
      ]
     },
     "execution_count": 9,
     "metadata": {},
     "output_type": "execute_result"
    },
    {
     "data": {
      "image/png": "[encoded data removed]",
      "text/plain": [
       "<Figure size 640x480 with 2 Axes>"
      ]
     },
     "metadata": {},
     "output_type": "display_data"
    }
   ],
   "source": [
    "# Load the last saved model\n",
    "# nb = joblib.load('00_dataset/without_stopwords/tfidfWithNGram/nb/classweights_nb.joblib')\n",
    "\n",
    "# Predict on validation data\n",
    "y_val_pred = nb.predict(X_val_scaled)\n",
    "\n",
    "# Evaluate performance\n",
    "accuracy = accuracy_score(y_val, y_val_pred)\n",
    "print(f\"Validation Accuracy: {accuracy:.4f}\")\n",
    "\n",
    "print(\"\\nClassification Report:\\n\", classification_report(y_val, y_val_pred))\n",
    "\n",
    "# Compute ROC-AUC\n",
    "y_proba = nb.predict_proba(X_val_scaled)[:, 1]\n",
    "print(\"ROC-AUC Score: \", roc_auc_score(y_val, y_proba))\n",
    "\n",
    "# Generate confusion matrix\n",
    "cm = confusion_matrix(y_val, y_val_pred)\n",
    "\n",
    "# Display confusion matrix\n",
    "disp = ConfusionMatrixDisplay(confusion_matrix=cm, display_labels=[0, 1])\n",
    "disp.plot(cmap=\"Blues\")  # Choose a color map for visualization"
   ]
  },
  {
   "cell_type": "markdown",
   "metadata": {},
   "source": [
    "# Apply SMOTE"
   ]
  },
  {
   "cell_type": "code",
   "execution_count": 12,
   "metadata": {},
   "outputs": [],
   "source": [
    "smote = SMOTE(sampling_strategy='auto', random_state=42)\n",
    "X_train_smote, y_train_smote = smote.fit_resample(X_train_scaled, y_train)"
   ]
  },
  {
   "cell_type": "code",
   "execution_count": 13,
   "metadata": {},
   "outputs": [
    {
     "name": "stdout",
     "output_type": "stream",
     "text": [
      "SMOTE-transformed dataset saved successfully.\n"
     ]
    }
   ],
   "source": [
    "# Save SMOTE-transformed dataset\n",
    "joblib.dump((X_train_smote, y_train_smote), \"00_dataset/without_stopwords/tfidfWithNGram/smoteAuto_resampled.joblib\")\n",
    "print(\"SMOTE-transformed dataset saved successfully.\")"
   ]
  },
  {
   "cell_type": "code",
   "execution_count": 14,
   "metadata": {},
   "outputs": [
    {
     "name": "stdout",
     "output_type": "stream",
     "text": [
      "Before SMOTE:\n",
      " label\n",
      "0    369613\n",
      "1     56307\n",
      "Name: count, dtype: int64\n",
      "\n",
      "After SMOTE:\n",
      " label\n",
      "0    369613\n",
      "1    369613\n",
      "Name: count, dtype: int64\n"
     ]
    }
   ],
   "source": [
    "# Check class distribution before and after SMOTE\n",
    "print(\"Before SMOTE:\\n\", y_train.value_counts())\n",
    "print(\"\\nAfter SMOTE:\\n\", pd.Series(y_train_smote).value_counts())"
   ]
  },
  {
   "cell_type": "code",
   "execution_count": null,
   "metadata": {},
   "outputs": [
    {
     "name": "stdout",
     "output_type": "stream",
     "text": [
      "Naive Bayes with SMOTE training completed and saved.\n"
     ]
    }
   ],
   "source": [
    "nb_smote = MultinomialNB(class_prior=[0.5, 0.5], fit_prior=False)\n",
    "nb_smote.fit(X_train_smote, y_train_smote)\n",
    "\n",
    "# Save the model\n",
    "joblib.dump(nb_smote, '00_dataset/without_stopwords/tfidfWithNGram/smote/nb_smote.joblib')\n",
    "print(\"Naive Bayes with SMOTE training completed and saved.\")"
   ]
  },
  {
   "cell_type": "code",
   "execution_count": 16,
   "metadata": {},
   "outputs": [
    {
     "name": "stdout",
     "output_type": "stream",
     "text": [
      "Validation Accuracy: 0.6988\n",
      "\n",
      "Classification Report:\n",
      "               precision    recall  f1-score   support\n",
      "\n",
      "           0       0.92      0.72      0.80     52802\n",
      "           1       0.24      0.59      0.34      8044\n",
      "\n",
      "    accuracy                           0.70     60846\n",
      "   macro avg       0.58      0.65      0.57     60846\n",
      "weighted avg       0.83      0.70      0.74     60846\n",
      "\n",
      "ROC-AUC Score:  0.7136434056460537\n"
     ]
    },
    {
     "data": {
      "text/plain": [
       "<sklearn.metrics._plot.confusion_matrix.ConfusionMatrixDisplay at 0x29f3f787b00>"
      ]
     },
     "execution_count": 16,
     "metadata": {},
     "output_type": "execute_result"
    },
    {
     "data": {
      "image/png": "[encoded data removed]",
      "text/plain": [
       "<Figure size 640x480 with 2 Axes>"
      ]
     },
     "metadata": {},
     "output_type": "display_data"
    }
   ],
   "source": [
    "# Load the last saved model\n",
    "#nb_smote = joblib.load('00_dataset/without_stopwords/tfidfWithNGram/smote/nb_smote.joblib')\n",
    "\n",
    "# Predict on validation data\n",
    "y_val_pred = nb_smote.predict(X_val_scaled)\n",
    "\n",
    "# Evaluate performance\n",
    "accuracy = accuracy_score(y_val, y_val_pred)\n",
    "print(f\"Validation Accuracy: {accuracy:.4f}\")\n",
    "\n",
    "print(\"\\nClassification Report:\\n\", classification_report(y_val, y_val_pred))\n",
    "\n",
    "# Compute ROC-AUC\n",
    "y_proba = nb_smote.predict_proba(X_val_scaled)[:, 1]\n",
    "print(\"ROC-AUC Score: \", roc_auc_score(y_val, y_proba))\n",
    "\n",
    "# Generate confusion matrix\n",
    "cm = confusion_matrix(y_val, y_val_pred)\n",
    "\n",
    "# Display confusion matrix\n",
    "disp = ConfusionMatrixDisplay(confusion_matrix=cm, display_labels=[0, 1])\n",
    "disp.plot(cmap=\"Blues\")  # Choose a color map for visualization"
   ]
  },
  {
   "cell_type": "code",
   "execution_count": 5,
   "metadata": {},
   "outputs": [
    {
     "name": "stdout",
     "output_type": "stream",
     "text": [
      "SMOTE75-transformed dataset saved successfully.\n"
     ]
    }
   ],
   "source": [
    "smote75 = SMOTE(sampling_strategy=0.75, random_state=42)\n",
    "X_train_smote75, y_train_smote75 = smote75.fit_resample(X_train_scaled, y_train)\n",
    "\n",
    "joblib.dump((X_train_smote75, y_train_smote75), \"00_dataset/without_stopwords/tfidfWithNGram/smote75_resampled.joblib\")\n",
    "print(\"SMOTE75-transformed dataset saved successfully.\")"
   ]
  },
  {
   "cell_type": "code",
   "execution_count": 6,
   "metadata": {},
   "outputs": [
    {
     "name": "stdout",
     "output_type": "stream",
     "text": [
      "Naive Bayes with SMOTE75 training completed and saved.\n",
      "Validation Accuracy: 0.7613\n",
      "\n",
      "Classification Report:\n",
      "               precision    recall  f1-score   support\n",
      "\n",
      "           0       0.91      0.81      0.85     52802\n",
      "           1       0.27      0.46      0.34      8044\n",
      "\n",
      "    accuracy                           0.76     60846\n",
      "   macro avg       0.59      0.63      0.59     60846\n",
      "weighted avg       0.82      0.76      0.79     60846\n",
      "\n",
      "ROC-AUC Score:  0.7153239683351355\n"
     ]
    },
    {
     "data": {
      "text/plain": [
       "<sklearn.metrics._plot.confusion_matrix.ConfusionMatrixDisplay at 0x2203f9894f0>"
      ]
     },
     "execution_count": 6,
     "metadata": {},
     "output_type": "execute_result"
    },
    {
     "data": {
      "image/png": "[encoded data removed]",
      "text/plain": [
       "<Figure size 640x480 with 2 Axes>"
      ]
     },
     "metadata": {},
     "output_type": "display_data"
    }
   ],
   "source": [
    "nb_smote75 = MultinomialNB()\n",
    "nb_smote75.fit(X_train_smote75, y_train_smote75)\n",
    "\n",
    "# Save the model\n",
    "joblib.dump(nb_smote75, '00_dataset/without_stopwords/tfidfWithNGram/smote/nb_smote75.joblib')\n",
    "print(\"Naive Bayes with SMOTE75 training completed and saved.\")\n",
    "\n",
    "# Predict on validation data\n",
    "y_val_pred = nb_smote75.predict(X_val_scaled)\n",
    "\n",
    "# Evaluate performance\n",
    "accuracy = accuracy_score(y_val, y_val_pred)\n",
    "print(f\"Validation Accuracy: {accuracy:.4f}\")\n",
    "\n",
    "print(\"\\nClassification Report:\\n\", classification_report(y_val, y_val_pred))\n",
    "\n",
    "# Compute ROC-AUC\n",
    "y_proba = nb_smote75.predict_proba(X_val_scaled)[:, 1]\n",
    "print(\"ROC-AUC Score: \", roc_auc_score(y_val, y_proba))\n",
    "\n",
    "# Generate confusion matrix\n",
    "cm = confusion_matrix(y_val, y_val_pred)\n",
    "\n",
    "# Display confusion matrix\n",
    "disp = ConfusionMatrixDisplay(confusion_matrix=cm, display_labels=[0, 1])\n",
    "disp.plot(cmap=\"Blues\")  # Choose a color map for visualization"
   ]
  },
  {
   "cell_type": "code",
   "execution_count": 7,
   "metadata": {},
   "outputs": [
    {
     "name": "stdout",
     "output_type": "stream",
     "text": [
      "SMOTE50-transformed dataset saved successfully.\n"
     ]
    }
   ],
   "source": [
    "smote50 = SMOTE(sampling_strategy=0.50, random_state=42)\n",
    "X_train_smote50, y_train_smote50 = smote50.fit_resample(X_train_scaled, y_train)\n",
    "\n",
    "joblib.dump((X_train_smote50, y_train_smote50), \"00_dataset/without_stopwords/tfidfWithNGram/smote50_resampled.joblib\")\n",
    "print(\"SMOTE50-transformed dataset saved successfully.\")"
   ]
  },
  {
   "cell_type": "code",
   "execution_count": 8,
   "metadata": {},
   "outputs": [],
   "source": [
    "# Load resampled dataset\n",
    "X_train_smote50, y_train_smote50 = joblib.load(\"00_dataset/without_stopwords/tfidfWithNGram/smote50_resampled.joblib\")"
   ]
  },
  {
   "cell_type": "code",
   "execution_count": 9,
   "metadata": {},
   "outputs": [
    {
     "name": "stdout",
     "output_type": "stream",
     "text": [
      "Naive Bayes with SMOTE50 training completed and saved.\n"
     ]
    }
   ],
   "source": [
    "nb_smote50 = MultinomialNB()\n",
    "nb_smote50.fit(X_train_smote50, y_train_smote50)\n",
    "\n",
    "# Save the model\n",
    "joblib.dump(nb_smote50, '00_dataset/without_stopwords/tfidfWithNGram/smote/nb_smote50.joblib')\n",
    "print(\"Naive Bayes with SMOTE50 training completed and saved.\")"
   ]
  },
  {
   "cell_type": "code",
   "execution_count": 10,
   "metadata": {},
   "outputs": [
    {
     "name": "stdout",
     "output_type": "stream",
     "text": [
      "Validation Accuracy: 0.8273\n",
      "\n",
      "Classification Report:\n",
      "               precision    recall  f1-score   support\n",
      "\n",
      "           0       0.89      0.91      0.90     52802\n",
      "           1       0.32      0.26      0.29      8044\n",
      "\n",
      "    accuracy                           0.83     60846\n",
      "   macro avg       0.60      0.59      0.59     60846\n",
      "weighted avg       0.81      0.83      0.82     60846\n",
      "\n",
      "ROC-AUC Score:  0.7179308027657663\n"
     ]
    },
    {
     "data": {
      "text/plain": [
       "<sklearn.metrics._plot.confusion_matrix.ConfusionMatrixDisplay at 0x23e7bbc0d70>"
      ]
     },
     "execution_count": 10,
     "metadata": {},
     "output_type": "execute_result"
    },
    {
     "data": {
      "image/png": "[encoded data removed]",
      "text/plain": [
       "<Figure size 640x480 with 2 Axes>"
      ]
     },
     "metadata": {},
     "output_type": "display_data"
    }
   ],
   "source": [
    "# Load the last saved model\n",
    "nb_smote50 = joblib.load('00_dataset/without_stopwords/tfidfWithNGram/smote/nb_smote50.joblib')\n",
    "\n",
    "# Predict on validation data\n",
    "y_val_pred = nb_smote50.predict(X_val_scaled)\n",
    "\n",
    "# Evaluate performance\n",
    "accuracy = accuracy_score(y_val, y_val_pred)\n",
    "print(f\"Validation Accuracy: {accuracy:.4f}\")\n",
    "\n",
    "print(\"\\nClassification Report:\\n\", classification_report(y_val, y_val_pred))\n",
    "\n",
    "# Compute ROC-AUC\n",
    "y_proba = nb_smote50.predict_proba(X_val_scaled)[:, 1]\n",
    "print(\"ROC-AUC Score: \", roc_auc_score(y_val, y_proba))\n",
    "\n",
    "# Generate confusion matrix\n",
    "cm = confusion_matrix(y_val, y_val_pred)\n",
    "\n",
    "# Display confusion matrix\n",
    "disp = ConfusionMatrixDisplay(confusion_matrix=cm, display_labels=[0, 1])\n",
    "disp.plot(cmap=\"Blues\")  # Choose a color map for visualization"
   ]
  },
  {
   "cell_type": "code",
   "execution_count": 11,
   "metadata": {},
   "outputs": [
    {
     "name": "stdout",
     "output_type": "stream",
     "text": [
      "Validation Accuracy: 0.8273\n",
      "Balanced Accuracy: 0.5875\n",
      "ROC-AUC Score: 0.7179\n",
      "Matthews Correlation Coefficient (MCC): 0.1898\n",
      "Precision-Recall AUC (PR-AUC): 0.2624\n",
      "\n",
      "Classification Report:\n",
      "               precision    recall  f1-score   support\n",
      "\n",
      "           0       0.89      0.91      0.90     52802\n",
      "           1       0.32      0.26      0.29      8044\n",
      "\n",
      "    accuracy                           0.83     60846\n",
      "   macro avg       0.60      0.59      0.59     60846\n",
      "weighted avg       0.81      0.83      0.82     60846\n",
      "\n"
     ]
    }
   ],
   "source": [
    "# Load the last saved model\n",
    "nb_smote50 = joblib.load('00_dataset/without_stopwords/tfidfWithNGram/smote/nb_smote50.joblib')\n",
    "\n",
    "# Predict on validation data\n",
    "y_val_pred = nb_smote50.predict(X_val_scaled)\n",
    "y_proba = nb_smote50.predict_proba(X_val_scaled)[:, 1]\n",
    "\n",
    "# Evaluate performance\n",
    "accuracy = accuracy_score(y_val, y_val_pred)\n",
    "balanced_acc = balanced_accuracy_score(y_val, y_val_pred)\n",
    "roc_auc = roc_auc_score(y_val, y_proba)\n",
    "mcc = matthews_corrcoef(y_val, y_val_pred)\n",
    "precision, recall, _ = precision_recall_curve(y_val, y_proba)\n",
    "pr_auc = auc(recall, precision)\n",
    "\n",
    "print(f\"Validation Accuracy: {accuracy:.4f}\")\n",
    "print(f\"Balanced Accuracy: {balanced_acc:.4f}\")\n",
    "print(f\"ROC-AUC Score: {roc_auc:.4f}\")\n",
    "print(f\"Matthews Correlation Coefficient (MCC): {mcc:.4f}\")\n",
    "print(f\"Precision-Recall AUC (PR-AUC): {pr_auc:.4f}\")\n",
    "\n",
    "print(\"\\nClassification Report:\\n\", classification_report(y_val, y_val_pred))"
   ]
  },
  {
   "cell_type": "code",
   "execution_count": null,
   "metadata": {},
   "outputs": [
    {
     "name": "stdout",
     "output_type": "stream",
     "text": [
      "Validation Accuracy: 0.6472\n",
      "\n",
      "Classification Report:\n",
      "               precision    recall  f1-score   support\n",
      "\n",
      "           0       0.90      0.67      0.77     52802\n",
      "           1       0.19      0.50      0.27      8044\n",
      "\n",
      "    accuracy                           0.65     60846\n",
      "   macro avg       0.54      0.58      0.52     60846\n",
      "weighted avg       0.80      0.65      0.70     60846\n",
      "\n",
      "ROC-AUC Score:  0.6221617671497344\n"
     ]
    },
    {
     "data": {
      "text/plain": [
       "<sklearn.metrics._plot.confusion_matrix.ConfusionMatrixDisplay at 0x22fd75eec00>"
      ]
     },
     "execution_count": 12,
     "metadata": {},
     "output_type": "execute_result"
    },
    {
     "data": {
      "image/png": "[encoded data removed]",
      "text/plain": [
       "<Figure size 640x480 with 2 Axes>"
      ]
     },
     "metadata": {},
     "output_type": "display_data"
    }
   ],
   "source": [
    "from sklearn.naive_bayes import ComplementNB\n",
    "\n",
    "cnb = ComplementNB(alpha=0.1)\n",
    "cnb.fit(X_train_smote50, y_train_smote50)\n",
    "\n",
    "# Predict on validation data\n",
    "y_val_pred = cnb.predict(X_val_scaled)\n",
    "\n",
    "# Evaluate performance\n",
    "accuracy = accuracy_score(y_val, y_val_pred)\n",
    "print(f\"Validation Accuracy: {accuracy:.4f}\")\n",
    "\n",
    "print(\"\\nClassification Report:\\n\", classification_report(y_val, y_val_pred))\n",
    "\n",
    "# Compute ROC-AUC\n",
    "y_proba = cnb.predict_proba(X_val_scaled)[:, 1]\n",
    "print(\"ROC-AUC Score: \", roc_auc_score(y_val, y_proba))\n",
    "\n",
    "# Generate confusion matrix\n",
    "cm = confusion_matrix(y_val, y_val_pred)\n",
    "\n",
    "# Display confusion matrix\n",
    "disp = ConfusionMatrixDisplay(confusion_matrix=cm, display_labels=[0, 1])\n",
    "disp.plot(cmap=\"Blues\")  # Choose a color map for visualization"
   ]
  },
  {
   "cell_type": "code",
   "execution_count": 9,
   "metadata": {},
   "outputs": [
    {
     "name": "stdout",
     "output_type": "stream",
     "text": [
      "SMOTE30-transformed dataset saved successfully.\n"
     ]
    }
   ],
   "source": [
    "smote30 = SMOTE(sampling_strategy=0.30, random_state=42)\n",
    "X_train_smote30, y_train_smote30 = smote30.fit_resample(X_train_scaled, y_train)\n",
    "\n",
    "joblib.dump((X_train_smote30, y_train_smote30), \"00_dataset/without_stopwords/tfidfWithNGram/smote30_resampled.joblib\")\n",
    "print(\"SMOTE30-transformed dataset saved successfully.\")"
   ]
  },
  {
   "cell_type": "code",
   "execution_count": 10,
   "metadata": {},
   "outputs": [
    {
     "name": "stdout",
     "output_type": "stream",
     "text": [
      "Before SMOTE: Counter({0: 369613, 1: 56307})\n",
      "After SMOTE: Counter({0: 369613, 1: 110883})\n"
     ]
    }
   ],
   "source": [
    "from collections import Counter\n",
    "\n",
    "# Check class distribution before SMOTE\n",
    "print(\"Before SMOTE:\", Counter(y_train))\n",
    "\n",
    "# Check class distribution after SMOTE\n",
    "print(\"After SMOTE:\", Counter(y_train_smote30))"
   ]
  },
  {
   "cell_type": "code",
   "execution_count": 5,
   "metadata": {},
   "outputs": [
    {
     "name": "stdout",
     "output_type": "stream",
     "text": [
      "Naive Bayes with SMOTE30 training completed and saved.\n",
      "Validation Accuracy: 0.8609\n",
      "\n",
      "Classification Report:\n",
      "               precision    recall  f1-score   support\n",
      "\n",
      "           0       0.87      0.98      0.92     52802\n",
      "           1       0.37      0.08      0.13      8044\n",
      "\n",
      "    accuracy                           0.86     60846\n",
      "   macro avg       0.62      0.53      0.53     60846\n",
      "weighted avg       0.81      0.86      0.82     60846\n",
      "\n",
      "ROC-AUC Score:  0.7215655265683828\n"
     ]
    },
    {
     "data": {
      "text/plain": [
       "<sklearn.metrics._plot.confusion_matrix.ConfusionMatrixDisplay at 0x1322b67a390>"
      ]
     },
     "execution_count": 5,
     "metadata": {},
     "output_type": "execute_result"
    },
    {
     "data": {
      "image/png": "[encoded data removed]",
      "text/plain": [
       "<Figure size 640x480 with 2 Axes>"
      ]
     },
     "metadata": {},
     "output_type": "display_data"
    }
   ],
   "source": [
    "# Load Model\n",
    "X_train_smote30, y_train_smote30 = joblib.load('00_dataset/without_stopwords/tfidfWithNGram/smote30_resampled.joblib')\n",
    "\n",
    "nb_smote30 = MultinomialNB()\n",
    "nb_smote30.fit(X_train_smote30, y_train_smote30)\n",
    "\n",
    "# Save the model\n",
    "joblib.dump(nb_smote30, '00_dataset/without_stopwords/tfidfWithNGram/smote/nb_smote30.joblib')\n",
    "print(\"Naive Bayes with SMOTE30 training completed and saved.\")\n",
    "\n",
    "# Predict on validation data\n",
    "y_val_pred = nb_smote30.predict(X_val_scaled)\n",
    "\n",
    "# Evaluate performance\n",
    "accuracy = accuracy_score(y_val, y_val_pred)\n",
    "print(f\"Validation Accuracy: {accuracy:.4f}\")\n",
    "\n",
    "print(\"\\nClassification Report:\\n\", classification_report(y_val, y_val_pred))\n",
    "\n",
    "# Compute ROC-AUC\n",
    "y_proba = nb_smote30.predict_proba(X_val_scaled)[:, 1]\n",
    "print(\"ROC-AUC Score: \", roc_auc_score(y_val, y_proba))\n",
    "\n",
    "# Generate confusion matrix\n",
    "cm = confusion_matrix(y_val, y_val_pred)\n",
    "\n",
    "# Display confusion matrix\n",
    "disp = ConfusionMatrixDisplay(confusion_matrix=cm, display_labels=[0, 1])\n",
    "disp.plot(cmap=\"Blues\")  # Choose a color map for visualization"
   ]
  },
  {
   "cell_type": "markdown",
   "metadata": {},
   "source": [
    "## Using SMOTE 30 to test out for the other models"
   ]
  },
  {
   "cell_type": "code",
   "execution_count": 5,
   "metadata": {},
   "outputs": [
    {
     "name": "stdout",
     "output_type": "stream",
     "text": [
      "Before SMOTE: Counter({0: 369613, 1: 56307})\n",
      "After SMOTE: Counter({0: 369613, 1: 110883})\n"
     ]
    }
   ],
   "source": [
    "from collections import Counter\n",
    "\n",
    "# Load Smote 30\n",
    "X_train_smote30, y_train_smote30 = joblib.load('smote30_resampled.joblib')\n",
    "\n",
    "# Check class distribution before SMOTE\n",
    "print(\"Before SMOTE:\", Counter(y_train))\n",
    "\n",
    "# Check class distribution after SMOTE\n",
    "print(\"After SMOTE:\", Counter(y_train_smote30))"
   ]
  },
  {
   "cell_type": "markdown",
   "metadata": {},
   "source": [
    "### Logistic Regression"
   ]
  },
  {
   "cell_type": "code",
   "execution_count": 11,
   "metadata": {},
   "outputs": [
    {
     "name": "stdout",
     "output_type": "stream",
     "text": [
      "Logistic Regression with SMOTE training completed and saved.\n"
     ]
    }
   ],
   "source": [
    "# Train Logistic Regression\n",
    "lr_smote30 = LogisticRegression(class_weight='balanced', max_iter=1000, solver='saga', random_state=42, n_jobs=-1)\n",
    "lr_smote30.fit(X_train_smote30, y_train_smote30)\n",
    "\n",
    "# Save the model\n",
    "joblib.dump(lr_smote30, '00_dataset/without_stopwords/lr_classweights/lr_smote30.joblib')\n",
    "print(\"Logistic Regression with SMOTE training completed and saved.\")"
   ]
  },
  {
   "cell_type": "code",
   "execution_count": 12,
   "metadata": {},
   "outputs": [
    {
     "name": "stdout",
     "output_type": "stream",
     "text": [
      "Validation Accuracy: 0.7225\n",
      "\n",
      "Classification Report:\n",
      "               precision    recall  f1-score   support\n",
      "\n",
      "           0       0.92      0.75      0.82     52802\n",
      "           1       0.25      0.57      0.35      8044\n",
      "\n",
      "    accuracy                           0.72     60846\n",
      "   macro avg       0.59      0.66      0.59     60846\n",
      "weighted avg       0.83      0.72      0.76     60846\n",
      "\n",
      "ROC-AUC Score:  0.7250266203299752\n"
     ]
    },
    {
     "data": {
      "text/plain": [
       "<sklearn.metrics._plot.confusion_matrix.ConfusionMatrixDisplay at 0x28a721f2870>"
      ]
     },
     "execution_count": 12,
     "metadata": {},
     "output_type": "execute_result"
    },
    {
     "data": {
      "image/png": "[encoded data removed]",
      "text/plain": [
       "<Figure size 640x480 with 2 Axes>"
      ]
     },
     "metadata": {},
     "output_type": "display_data"
    }
   ],
   "source": [
    "# Load the last saved model\n",
    "# lr_smote30 = joblib.load('00_dataset/without_stopwords/lr_classweights/lr_smote30.joblib') # Replace X with the last batch number\n",
    "\n",
    "# Predict on validation data\n",
    "y_val_pred = lr_smote30.predict(X_val_scaled)\n",
    "\n",
    "# Evaluate performance\n",
    "accuracy = accuracy_score(y_val, y_val_pred)\n",
    "print(f\"Validation Accuracy: {accuracy:.4f}\")\n",
    "\n",
    "print(\"\\nClassification Report:\\n\", classification_report(y_val, y_val_pred))\n",
    "\n",
    "# Compute ROC-AUC\n",
    "y_proba = lr_smote30.predict_proba(X_val_scaled)[:, 1]\n",
    "print(\"ROC-AUC Score: \", roc_auc_score(y_val, y_proba))\n",
    "\n",
    "# Generate confusion matrix\n",
    "cm = confusion_matrix(y_val, y_val_pred)\n",
    "\n",
    "# Display confusion matrix\n",
    "disp = ConfusionMatrixDisplay(confusion_matrix=cm, display_labels=[0, 1])\n",
    "disp.plot(cmap=\"Blues\")  # Choose a color map for visualization"
   ]
  },
  {
   "cell_type": "markdown",
   "metadata": {},
   "source": [
    "### Random Forest"
   ]
  },
  {
   "cell_type": "code",
   "execution_count": 7,
   "metadata": {},
   "outputs": [
    {
     "name": "stdout",
     "output_type": "stream",
     "text": [
      "Random Forest with SMOTE training completed and saved.\n"
     ]
    }
   ],
   "source": [
    "rf_smote30 = RandomForestClassifier(n_estimators=200, random_state=42, class_weight='balanced', n_jobs=-1)\n",
    "rf_smote30.fit(X_train_smote30, y_train_smote30)\n",
    "\n",
    "# Save the model\n",
    "joblib.dump(rf_smote30, '00_dataset/without_stopwords/rf_smote30_classweights/rf_smote30.joblib')\n",
    "print(\"Random Forest with SMOTE training completed and saved.\")"
   ]
  },
  {
   "cell_type": "code",
   "execution_count": 8,
   "metadata": {},
   "outputs": [
    {
     "name": "stdout",
     "output_type": "stream",
     "text": [
      "Validation Accuracy: 0.8669\n",
      "\n",
      "Classification Report:\n",
      "               precision    recall  f1-score   support\n",
      "\n",
      "           0       0.87      0.99      0.93     52802\n",
      "           1       0.44      0.03      0.05      8044\n",
      "\n",
      "    accuracy                           0.87     60846\n",
      "   macro avg       0.66      0.51      0.49     60846\n",
      "weighted avg       0.81      0.87      0.81     60846\n",
      "\n",
      "ROC-AUC Score:  0.6582948714647749\n"
     ]
    },
    {
     "data": {
      "text/plain": [
       "<sklearn.metrics._plot.confusion_matrix.ConfusionMatrixDisplay at 0x1bcde2173e0>"
      ]
     },
     "execution_count": 8,
     "metadata": {},
     "output_type": "execute_result"
    },
    {
     "data": {
      "image/png": "[encoded data removed]",
      "text/plain": [
       "<Figure size 640x480 with 2 Axes>"
      ]
     },
     "metadata": {},
     "output_type": "display_data"
    }
   ],
   "source": [
    "# Predict on validation data\n",
    "y_val_pred = rf_smote30.predict(X_val_scaled)\n",
    "\n",
    "# Evaluate performance\n",
    "accuracy = accuracy_score(y_val, y_val_pred)\n",
    "print(f\"Validation Accuracy: {accuracy:.4f}\")\n",
    "\n",
    "print(\"\\nClassification Report:\\n\", classification_report(y_val, y_val_pred))\n",
    "\n",
    "# Compute ROC-AUC\n",
    "y_proba = rf_smote30.predict_proba(X_val_scaled)[:, 1]\n",
    "print(\"ROC-AUC Score: \", roc_auc_score(y_val, y_proba))\n",
    "\n",
    "# Generate confusion matrix\n",
    "cm = confusion_matrix(y_val, y_val_pred)\n",
    "\n",
    "# Display confusion matrix\n",
    "disp = ConfusionMatrixDisplay(confusion_matrix=cm, display_labels=[0, 1])\n",
    "disp.plot(cmap=\"Blues\")  # Choose a color map for visualization"
   ]
  },
  {
   "cell_type": "markdown",
   "metadata": {},
   "source": [
    "### SVM\n",
    "\n",
    "running for over 500mins "
   ]
  },
  {
   "cell_type": "code",
   "execution_count": null,
   "metadata": {},
   "outputs": [],
   "source": [
    "svm_smote30 = SVC(kernel='linear', class_weight='balanced', probability=True, random_state=42)\n",
    "svm_smote30.fit(X_train_smote30, y_train_smote30)\n",
    "\n",
    "# Save the model\n",
    "joblib.dump(svm_smote30, '00_dataset/without_stopwords/svm_classweights/svm_smote30.joblib')\n",
    "print(\"SVM with SMOTE training completed and saved.\")"
   ]
  },
  {
   "cell_type": "code",
   "execution_count": null,
   "metadata": {},
   "outputs": [],
   "source": [
    "# Predict on validation data\n",
    "y_val_pred = svm_smote30.predict(X_val_scaled)\n",
    "\n",
    "# Evaluate performance\n",
    "accuracy = accuracy_score(y_val, y_val_pred)\n",
    "print(f\"Validation Accuracy: {accuracy:.4f}\")\n",
    "\n",
    "print(\"\\nClassification Report:\\n\", classification_report(y_val, y_val_pred))\n",
    "\n",
    "# Compute ROC-AUC\n",
    "y_proba = svm_smote30.predict_proba(X_val_scaled)[:, 1]\n",
    "print(\"ROC-AUC Score: \", roc_auc_score(y_val, y_proba))\n",
    "\n",
    "# Generate confusion matrix\n",
    "cm = confusion_matrix(y_val, y_val_pred)\n",
    "\n",
    "# Display confusion matrix\n",
    "disp = ConfusionMatrixDisplay(confusion_matrix=cm, display_labels=[0, 1])\n",
    "disp.plot(cmap=\"Blues\")  # Choose a color map for visualization"
   ]
  },
  {
   "cell_type": "markdown",
   "metadata": {},
   "source": [
    "### Adaboost\n",
    "\n",
    "running for over 700mins --> to try with another model"
   ]
  },
  {
   "cell_type": "code",
   "execution_count": null,
   "metadata": {},
   "outputs": [
    {
     "name": "stderr",
     "output_type": "stream",
     "text": [
      "c:\\Python312\\Lib\\site-packages\\sklearn\\ensemble\\_weight_boosting.py:527: FutureWarning: The SAMME.R algorithm (the default) is deprecated and will be removed in 1.6. Use the SAMME algorithm to circumvent this warning.\n",
      "  warnings.warn(\n"
     ]
    }
   ],
   "source": [
    "from sklearn.ensemble import AdaBoostClassifier\n",
    "import joblib\n",
    "\n",
    "# Train AdaBoost with SMOTE 0.3\n",
    "ab_smote30 = AdaBoostClassifier(n_estimators=200, learning_rate=0.1, random_state=42)\n",
    "ab_smote30.fit(X_train_smote30, y_train_smote30)\n",
    "\n",
    "# Save the model\n",
    "joblib.dump(ab_smote30, '00_dataset/without_stopwords/ab_classweights/ab_smote30.joblib')\n",
    "print(\"AdaBoost with SMOTE training completed and saved.\")"
   ]
  },
  {
   "cell_type": "code",
   "execution_count": null,
   "metadata": {},
   "outputs": [],
   "source": [
    "# Predict on validation data\n",
    "y_val_pred = ab_smote30.predict(X_val_scaled)\n",
    "\n",
    "# Evaluate performance\n",
    "accuracy = accuracy_score(y_val, y_val_pred)\n",
    "print(f\"Validation Accuracy: {accuracy:.4f}\")\n",
    "\n",
    "print(\"\\nClassification Report:\\n\", classification_report(y_val, y_val_pred))\n",
    "\n",
    "# Compute ROC-AUC\n",
    "y_proba = ab_smote30.predict_proba(X_val_scaled)[:, 1]\n",
    "print(\"ROC-AUC Score: \", roc_auc_score(y_val, y_proba))\n",
    "\n",
    "# Generate confusion matrix\n",
    "cm = confusion_matrix(y_val, y_val_pred)\n",
    "\n",
    "# Display confusion matrix\n",
    "disp = ConfusionMatrixDisplay(confusion_matrix=cm, display_labels=[0, 1])\n",
    "disp.plot(cmap=\"Blues\")  # Choose a color map for visualization"
   ]
  },
  {
   "cell_type": "markdown",
   "metadata": {},
   "source": [
    "# Apply SMOTE + Tomek\n",
    "Adds minority samples (SMOTE) & removes noisy majority samples (Tomek)"
   ]
  },
  {
   "cell_type": "code",
   "execution_count": null,
   "metadata": {},
   "outputs": [],
   "source": [
    "from imblearn.combine import SMOTETomek\n",
    "\n",
    "smote_tomek = SMOTETomek(sampling_strategy=0.5, random_state=42, n_jobs=-1)\n",
    "X_train_smote_tomek, y_train_smote_tomek = smote_tomek.fit_resample(X_train_scaled, y_train)\n",
    "\n",
    "joblib.dump((X_train_smote_tomek, y_train_smote_tomek), \"smotetomek50_resampled.joblib\")"
   ]
  },
  {
   "cell_type": "markdown",
   "metadata": {},
   "source": [
    "SMOTE Tomek will be scrape as it is taking too long to compute. (> 160 mins)"
   ]
  },
  {
   "cell_type": "code",
   "execution_count": null,
   "metadata": {},
   "outputs": [],
   "source": [
    "nb_smote_tomek = MultinomialNB(class_prior=[0.5, 0.5])\n",
    "nb_smote_tomek.fit(X_train_smote_tomek, y_train_smote_tomek)\n",
    "\n",
    "# Save the model\n",
    "joblib.dump(nb_smote_tomek, '00_dataset/without_stopwords/nb_classweights/nb_smote_tomek.joblib')\n",
    "print(\"Naive Bayes with SMOTE Tomek training completed and saved.\")"
   ]
  },
  {
   "cell_type": "code",
   "execution_count": null,
   "metadata": {},
   "outputs": [],
   "source": [
    "# Load the last saved model\n",
    "nb_smote_tomek = joblib.load('00_dataset/without_stopwords/nb_classweights/nb_smote_tomek.joblib')\n",
    "\n",
    "# Predict on validation data\n",
    "y_val_pred = nb_smote_tomek.predict(X_val_scaled)\n",
    "\n",
    "# Evaluate performance\n",
    "accuracy = accuracy_score(y_val, y_val_pred)\n",
    "print(f\"Validation Accuracy: {accuracy:.4f}\")\n",
    "\n",
    "print(\"\\nClassification Report:\\n\", classification_report(y_val, y_val_pred))\n",
    "\n",
    "# Compute ROC-AUC\n",
    "y_proba = nb_smote_tomek.predict_proba(X_val_scaled)[:, 1]\n",
    "print(\"ROC-AUC Score: \", roc_auc_score(y_val, y_proba))\n",
    "\n",
    "# Generate confusion matrix\n",
    "cm = confusion_matrix(y_val, y_val_pred)\n",
    "\n",
    "# Display confusion matrix\n",
    "disp = ConfusionMatrixDisplay(confusion_matrix=cm, display_labels=[0, 1])\n",
    "disp.plot(cmap=\"Blues\")  # Choose a color map for visualization"
   ]
  },
  {
   "cell_type": "code",
   "execution_count": null,
   "metadata": {},
   "outputs": [],
   "source": [
    "# Train Logistic Regression\n",
    "lr_smote_tomek = LogisticRegression(class_weight='balanced', max_iter=1000, solver='saga')\n",
    "lr_smote_tomek.fit(X_train_smote_tomek, y_train_smote_tomek)\n",
    "\n",
    "# Save the model\n",
    "joblib.dump(lr_smote_tomek, '00_dataset/without_stopwords/lr_classweights/lr_smote_tomek.joblib')\n",
    "print(\"Logistic Regression with SMOTE Tomek training completed and saved.\")"
   ]
  },
  {
   "cell_type": "markdown",
   "metadata": {},
   "source": [
    "# Apply SMOTE + ENN\n",
    "SMOTE ENN will be scrape as it is taking too long to compute. (> 100 mins)"
   ]
  },
  {
   "cell_type": "code",
   "execution_count": 1,
   "metadata": {},
   "outputs": [
    {
     "ename": "NameError",
     "evalue": "name 'X_train_scaled' is not defined",
     "output_type": "error",
     "traceback": [
      "\u001b[1;31m---------------------------------------------------------------------------\u001b[0m",
      "\u001b[1;31mNameError\u001b[0m                                 Traceback (most recent call last)",
      "Cell \u001b[1;32mIn[1], line 4\u001b[0m\n\u001b[0;32m      1\u001b[0m \u001b[38;5;28;01mfrom\u001b[39;00m \u001b[38;5;21;01mimblearn\u001b[39;00m\u001b[38;5;21;01m.\u001b[39;00m\u001b[38;5;21;01mcombine\u001b[39;00m \u001b[38;5;28;01mimport\u001b[39;00m SMOTEENN\n\u001b[0;32m      3\u001b[0m smote_enn \u001b[38;5;241m=\u001b[39m SMOTEENN(sampling_strategy\u001b[38;5;241m=\u001b[39m\u001b[38;5;241m0.5\u001b[39m, random_state\u001b[38;5;241m=\u001b[39m\u001b[38;5;241m42\u001b[39m, n_jobs\u001b[38;5;241m=\u001b[39m\u001b[38;5;241m-\u001b[39m\u001b[38;5;241m1\u001b[39m)\n\u001b[1;32m----> 4\u001b[0m X_train_smote_enn, y_train_smote_enn \u001b[38;5;241m=\u001b[39m smote_enn\u001b[38;5;241m.\u001b[39mfit_resample(\u001b[43mX_train_scaled\u001b[49m, y_train)\n\u001b[0;32m      6\u001b[0m joblib\u001b[38;5;241m.\u001b[39mdump((X_train_smote_enn, y_train_smote_enn), \u001b[38;5;124m\"\u001b[39m\u001b[38;5;124msmoteenn50_resampled.joblib\u001b[39m\u001b[38;5;124m\"\u001b[39m)\n",
      "\u001b[1;31mNameError\u001b[0m: name 'X_train_scaled' is not defined"
     ]
    }
   ],
   "source": [
    "from imblearn.combine import SMOTEENN\n",
    "\n",
    "smote_enn = SMOTEENN(sampling_strategy=0.5, random_state=42, n_jobs=-1)\n",
    "X_train_smote_enn, y_train_smote_enn = smote_enn.fit_resample(X_train_scaled, y_train)\n",
    "\n",
    "joblib.dump((X_train_smote_enn, y_train_smote_enn), \"smoteenn50_resampled.joblib\")"
   ]
  },
  {
   "cell_type": "code",
   "execution_count": null,
   "metadata": {},
   "outputs": [],
   "source": []
  }
 ],
 "metadata": {
  "colab": {
   "authorship_tag": "ABX9TyO6Iv3wImR/68tHMhlvmBj2",
   "collapsed_sections": [
    "5LAdCfvbsB2Q",
    "kN6Ff2xnpcYW",
    "BRw6BrTTtID5"
   ],
   "provenance": []
  },
  "kernelspec": {
   "display_name": "Python 3",
   "name": "python3"
  },
  "language_info": {
   "codemirror_mode": {
    "name": "ipython",
    "version": 3
   },
   "file_extension": ".py",
   "mimetype": "text/x-python",
   "name": "python",
   "nbconvert_exporter": "python",
   "pygments_lexer": "ipython3",
   "version": "3.12.3"
  }
 },
 "nbformat": 4,
 "nbformat_minor": 0
}
