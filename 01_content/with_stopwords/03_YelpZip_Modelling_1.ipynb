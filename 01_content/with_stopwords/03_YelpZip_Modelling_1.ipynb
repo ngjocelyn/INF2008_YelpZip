{
 "cells": [
  {
   "cell_type": "code",
   "execution_count": 1,
   "metadata": {
    "executionInfo": {
     "elapsed": 5858,
     "status": "ok",
     "timestamp": 1740227595364,
     "user": {
      "displayName": "joc",
      "userId": "03257841468945552602"
     },
     "user_tz": -480
    },
    "id": "-jMIBikVVMBN"
   },
   "outputs": [],
   "source": [
    "import joblib\n",
    "import os\n",
    "\n",
    "# Data Manipulation\n",
    "import pandas as pd\n",
    "import numpy as np\n",
    "\n",
    "# Machine Learning\n",
    "from sklearn.compose import ColumnTransformer\n",
    "from sklearn.preprocessing import MinMaxScaler\n",
    "from sklearn.model_selection import train_test_split, cross_val_score\n",
    "from sklearn.feature_extraction.text import TfidfVectorizer\n",
    "from sklearn.linear_model import LogisticRegression\n",
    "from sklearn.ensemble import RandomForestClassifier\n",
    "from sklearn.svm import SVC\n",
    "from sklearn.naive_bayes import MultinomialNB\n",
    "from imblearn.over_sampling import SMOTE\n",
    "from imblearn.combine import SMOTETomek\n",
    "from sklearn.metrics import classification_report, accuracy_score, silhouette_score, roc_auc_score, confusion_matrix, ConfusionMatrixDisplay\n",
    "from sklearn.tree import DecisionTreeClassifier\n",
    "\n",
    "# Visualization\n",
    "import matplotlib.pyplot as plt\n",
    "import seaborn as sns"
   ]
  },
  {
   "cell_type": "markdown",
   "metadata": {
    "id": "pz13AEZyqNEf"
   },
   "source": [
    "# Load Processed Dataset / Trained Model / Processes\n",
    "Will load any completed processes, datasets, trained model in the case of Kernel Crash"
   ]
  },
  {
   "cell_type": "code",
   "execution_count": 2,
   "metadata": {},
   "outputs": [],
   "source": [
    "X_train_scaled_loaded = joblib.load('../../00_dataset/with_stopwords/data/X_train_scaled.joblib')\n",
    "X_test_scaled_loaded = joblib.load('../../00_dataset/with_stopwords/data/X_test_scaled.joblib')\n",
    "X_val_scaled_loaded = joblib.load('../../00_dataset/with_stopwords/data/X_val_scaled.joblib')\n",
    "\n",
    "y_train_loaded = joblib.load('../../00_dataset/with_stopwords/data/y_train.joblib')\n",
    "y_test_loaded = joblib.load('../../00_dataset/with_stopwords/data/y_test.joblib')\n",
    "y_val_loaded = joblib.load('../../00_dataset/with_stopwords/data/y_val.joblib')\n",
    "\n",
    "X_train_smote_loaded = joblib.load('../../00_dataset/with_stopwords/data/X_train_smote.joblib')\n",
    "y_train_smote_loaded = joblib.load('../../00_dataset/with_stopwords/data/y_train_smote.joblib')"
   ]
  },
  {
   "cell_type": "code",
   "execution_count": 3,
   "metadata": {},
   "outputs": [
    {
     "name": "stdout",
     "output_type": "stream",
     "text": [
      "True\n",
      "True\n",
      "True\n",
      "True\n"
     ]
    }
   ],
   "source": [
    "print(X_train_scaled_loaded.index.equals(y_train_loaded.index))\n",
    "print(X_test_scaled_loaded.index.equals(y_test_loaded.index))\n",
    "print(X_val_scaled_loaded.index.equals(y_val_loaded.index))\n",
    "print(X_train_smote_loaded.index.equals(y_train_smote_loaded.index))"
   ]
  },
  {
   "cell_type": "code",
   "execution_count": 5,
   "metadata": {},
   "outputs": [],
   "source": [
    "lr_saga_scaled_loaded = joblib.load('../../00_dataset/with_stopwords/model/lr_saga_scaled.joblib')\n",
    "svm_linear_scaled_loaded = joblib.load('../../00_dataset/with_stopwords/model/svm_linear_scaled.joblib')\n",
    "\n",
    "lr_saga_smote_loaded = joblib.load('../../00_dataset/with_stopwords/model/lr_saga_smote.joblib')\n",
    "svm_linear_smote_loaded = joblib.load('../../00_dataset/with_stopwords/model/svm_linear_smote.joblib')"
   ]
  },
  {
   "cell_type": "markdown",
   "metadata": {},
   "source": [
    "# Loading Datasets\n",
    "Dataset that have gone through pre-processing and feature enginnering"
   ]
  },
  {
   "cell_type": "code",
   "execution_count": 6,
   "metadata": {},
   "outputs": [],
   "source": [
    "def reduce_memory(df):\n",
    "    start_mem = df.memory_usage().sum() / 1024**2\n",
    "    print(f\"Initial memory usage: {start_mem:.2f} MB\")\n",
    "\n",
    "    for col in df.columns:\n",
    "        col_type = df[col].dtype\n",
    "\n",
    "        if col_type != object and col_type != 'category':\n",
    "            c_min = df[col].min()\n",
    "            c_max = df[col].max()\n",
    "\n",
    "            if str(col_type).startswith('int'):\n",
    "                if c_min > np.iinfo(np.int8).min and c_max < np.iinfo(np.int8).max:\n",
    "                    df[col] = df[col].astype(np.int8)\n",
    "                elif c_min > np.iinfo(np.int16).min and c_max < np.iinfo(np.int16).max:\n",
    "                    df[col] = df[col].astype(np.int16)\n",
    "                elif c_min > np.iinfo(np.int32).min and c_max < np.iinfo(np.int32).max:\n",
    "                    df[col] = df[col].astype(np.int32)\n",
    "            else:\n",
    "                df[col] = pd.to_numeric(df[col], downcast='float')\n",
    "        else:\n",
    "            df[col] = df[col].astype('category')\n",
    "\n",
    "    end_mem = df.memory_usage().sum() / 1024**2\n",
    "    print(f'Memory usage after optimization: {end_mem:.2f} MB')\n",
    "    print(f'Reduced by {(start_mem - end_mem) / start_mem:.1%}')\n",
    "\n",
    "    return df"
   ]
  },
  {
   "cell_type": "code",
   "execution_count": 11,
   "metadata": {
    "executionInfo": {
     "elapsed": 1852,
     "status": "ok",
     "timestamp": 1740227908008,
     "user": {
      "displayName": "joc",
      "userId": "03257841468945552602"
     },
     "user_tz": -480
    },
    "id": "HYeDtjmBqMg2"
   },
   "outputs": [
    {
     "name": "stdout",
     "output_type": "stream",
     "text": [
      "Initial memory usage: 3822.33 MB\n",
      "Memory usage after optimization: 1909.73 MB\n",
      "Reduced by 50.0%\n",
      "Initial memory usage: 3822.33 MB\n",
      "Memory usage after optimization: 1909.64 MB\n",
      "Reduced by 50.0%\n",
      "Initial memory usage: 3822.33 MB\n",
      "Memory usage after optimization: 1909.64 MB\n",
      "Reduced by 50.0%\n",
      "Initial memory usage: 3822.33 MB\n",
      "Memory usage after optimization: 1909.64 MB\n",
      "Reduced by 50.0%\n",
      "Initial memory usage: 990.75 MB\n",
      "Memory usage after optimization: 495.00 MB\n",
      "Reduced by 50.0%\n",
      "Initial memory usage: 3822.33 MB\n",
      "Memory usage after optimization: 1909.64 MB\n",
      "Reduced by 50.0%\n",
      "Initial memory usage: 829.14 MB\n",
      "Memory usage after optimization: 414.24 MB\n",
      "Reduced by 50.0%\n",
      "Initial memory usage: 2325.73 MB\n",
      "Memory usage after optimization: 1161.94 MB\n",
      "Reduced by 50.0%\n"
     ]
    }
   ],
   "source": [
    "chunk_size = 100000\n",
    "chunks_train = pd.read_csv(\"../../00_dataset/with_stopwords/train_features_sw.csv\", chunksize=chunk_size, low_memory=False)\n",
    "chunks_test = pd.read_csv(\"../../00_dataset/with_stopwords/test_features_sw.csv\", chunksize=chunk_size, low_memory=False)\n",
    "chunks_val = pd.read_csv(\"../../00_dataset/with_stopwords/val_features_sw.csv\", chunksize=chunk_size, low_memory=False)\n",
    "\n",
    "df_trainChunks = [reduce_memory(chunk_train) for chunk_train in chunks_train]\n",
    "df_train = pd.concat(df_trainChunks, axis=0)\n",
    "\n",
    "df_testChunks = [reduce_memory(chunk_test) for chunk_test in chunks_test]\n",
    "df_test = pd.concat(df_testChunks, axis=0)\n",
    "\n",
    "df_valChunks = [reduce_memory(chunk_val) for chunk_val in chunks_val]\n",
    "df_val = pd.concat(df_valChunks, axis=0)"
   ]
  },
  {
   "cell_type": "code",
   "execution_count": 12,
   "metadata": {},
   "outputs": [
    {
     "data": {
      "text/html": [
       "<div>\n",
       "<style scoped>\n",
       "    .dataframe tbody tr th:only-of-type {\n",
       "        vertical-align: middle;\n",
       "    }\n",
       "\n",
       "    .dataframe tbody tr th {\n",
       "        vertical-align: top;\n",
       "    }\n",
       "\n",
       "    .dataframe thead th {\n",
       "        text-align: right;\n",
       "    }\n",
       "</style>\n",
       "<table border=\"1\" class=\"dataframe\">\n",
       "  <thead>\n",
       "    <tr style=\"text-align: right;\">\n",
       "      <th></th>\n",
       "      <th>0</th>\n",
       "      <th>1</th>\n",
       "      <th>2</th>\n",
       "      <th>3</th>\n",
       "      <th>4</th>\n",
       "      <th>5</th>\n",
       "      <th>6</th>\n",
       "      <th>7</th>\n",
       "      <th>8</th>\n",
       "      <th>9</th>\n",
       "      <th>...</th>\n",
       "      <th>sentiment_score</th>\n",
       "      <th>vader_score</th>\n",
       "      <th>review_length</th>\n",
       "      <th>exclamation_count</th>\n",
       "      <th>question_count</th>\n",
       "      <th>uppercase_ratio</th>\n",
       "      <th>duplicate_word_count</th>\n",
       "      <th>emoji_count</th>\n",
       "      <th>avg_word_length</th>\n",
       "      <th>label</th>\n",
       "    </tr>\n",
       "  </thead>\n",
       "  <tbody>\n",
       "    <tr>\n",
       "      <th>0</th>\n",
       "      <td>0.0</td>\n",
       "      <td>0.0</td>\n",
       "      <td>0.0</td>\n",
       "      <td>0.0</td>\n",
       "      <td>0.0</td>\n",
       "      <td>0.0</td>\n",
       "      <td>0.0</td>\n",
       "      <td>0.0</td>\n",
       "      <td>0.0</td>\n",
       "      <td>0.0</td>\n",
       "      <td>...</td>\n",
       "      <td>0.211111</td>\n",
       "      <td>0.9548</td>\n",
       "      <td>126</td>\n",
       "      <td>0</td>\n",
       "      <td>0</td>\n",
       "      <td>0.018395</td>\n",
       "      <td>59</td>\n",
       "      <td>0</td>\n",
       "      <td>3.753968</td>\n",
       "      <td>0</td>\n",
       "    </tr>\n",
       "    <tr>\n",
       "      <th>1</th>\n",
       "      <td>0.0</td>\n",
       "      <td>0.0</td>\n",
       "      <td>0.0</td>\n",
       "      <td>0.0</td>\n",
       "      <td>0.0</td>\n",
       "      <td>0.0</td>\n",
       "      <td>0.0</td>\n",
       "      <td>0.0</td>\n",
       "      <td>0.0</td>\n",
       "      <td>0.0</td>\n",
       "      <td>...</td>\n",
       "      <td>0.152564</td>\n",
       "      <td>0.9647</td>\n",
       "      <td>83</td>\n",
       "      <td>1</td>\n",
       "      <td>0</td>\n",
       "      <td>0.020151</td>\n",
       "      <td>35</td>\n",
       "      <td>0</td>\n",
       "      <td>3.795181</td>\n",
       "      <td>0</td>\n",
       "    </tr>\n",
       "    <tr>\n",
       "      <th>2</th>\n",
       "      <td>0.0</td>\n",
       "      <td>0.0</td>\n",
       "      <td>0.0</td>\n",
       "      <td>0.0</td>\n",
       "      <td>0.0</td>\n",
       "      <td>0.0</td>\n",
       "      <td>0.0</td>\n",
       "      <td>0.0</td>\n",
       "      <td>0.0</td>\n",
       "      <td>0.0</td>\n",
       "      <td>...</td>\n",
       "      <td>-0.147253</td>\n",
       "      <td>0.7906</td>\n",
       "      <td>66</td>\n",
       "      <td>0</td>\n",
       "      <td>0</td>\n",
       "      <td>0.020761</td>\n",
       "      <td>29</td>\n",
       "      <td>0</td>\n",
       "      <td>3.393939</td>\n",
       "      <td>0</td>\n",
       "    </tr>\n",
       "    <tr>\n",
       "      <th>3</th>\n",
       "      <td>0.0</td>\n",
       "      <td>0.0</td>\n",
       "      <td>0.0</td>\n",
       "      <td>0.0</td>\n",
       "      <td>0.0</td>\n",
       "      <td>0.0</td>\n",
       "      <td>0.0</td>\n",
       "      <td>0.0</td>\n",
       "      <td>0.0</td>\n",
       "      <td>0.0</td>\n",
       "      <td>...</td>\n",
       "      <td>0.320036</td>\n",
       "      <td>0.9910</td>\n",
       "      <td>166</td>\n",
       "      <td>8</td>\n",
       "      <td>0</td>\n",
       "      <td>0.054917</td>\n",
       "      <td>86</td>\n",
       "      <td>0</td>\n",
       "      <td>3.722892</td>\n",
       "      <td>0</td>\n",
       "    </tr>\n",
       "    <tr>\n",
       "      <th>4</th>\n",
       "      <td>0.0</td>\n",
       "      <td>0.0</td>\n",
       "      <td>0.0</td>\n",
       "      <td>0.0</td>\n",
       "      <td>0.0</td>\n",
       "      <td>0.0</td>\n",
       "      <td>0.0</td>\n",
       "      <td>0.0</td>\n",
       "      <td>0.0</td>\n",
       "      <td>0.0</td>\n",
       "      <td>...</td>\n",
       "      <td>0.300000</td>\n",
       "      <td>0.8832</td>\n",
       "      <td>83</td>\n",
       "      <td>0</td>\n",
       "      <td>0</td>\n",
       "      <td>0.029777</td>\n",
       "      <td>41</td>\n",
       "      <td>0</td>\n",
       "      <td>3.867470</td>\n",
       "      <td>0</td>\n",
       "    </tr>\n",
       "  </tbody>\n",
       "</table>\n",
       "<p>5 rows × 5010 columns</p>\n",
       "</div>"
      ],
      "text/plain": [
       "     0    1    2    3    4    5    6    7    8    9  ...  sentiment_score  \\\n",
       "0  0.0  0.0  0.0  0.0  0.0  0.0  0.0  0.0  0.0  0.0  ...         0.211111   \n",
       "1  0.0  0.0  0.0  0.0  0.0  0.0  0.0  0.0  0.0  0.0  ...         0.152564   \n",
       "2  0.0  0.0  0.0  0.0  0.0  0.0  0.0  0.0  0.0  0.0  ...        -0.147253   \n",
       "3  0.0  0.0  0.0  0.0  0.0  0.0  0.0  0.0  0.0  0.0  ...         0.320036   \n",
       "4  0.0  0.0  0.0  0.0  0.0  0.0  0.0  0.0  0.0  0.0  ...         0.300000   \n",
       "\n",
       "   vader_score  review_length  exclamation_count  question_count  \\\n",
       "0       0.9548            126                  0               0   \n",
       "1       0.9647             83                  1               0   \n",
       "2       0.7906             66                  0               0   \n",
       "3       0.9910            166                  8               0   \n",
       "4       0.8832             83                  0               0   \n",
       "\n",
       "   uppercase_ratio  duplicate_word_count  emoji_count  avg_word_length  label  \n",
       "0         0.018395                    59            0         3.753968      0  \n",
       "1         0.020151                    35            0         3.795181      0  \n",
       "2         0.020761                    29            0         3.393939      0  \n",
       "3         0.054917                    86            0         3.722892      0  \n",
       "4         0.029777                    41            0         3.867470      0  \n",
       "\n",
       "[5 rows x 5010 columns]"
      ]
     },
     "execution_count": 12,
     "metadata": {},
     "output_type": "execute_result"
    }
   ],
   "source": [
    "df_train.head()"
   ]
  },
  {
   "cell_type": "code",
   "execution_count": 13,
   "metadata": {},
   "outputs": [
    {
     "data": {
      "text/html": [
       "<div>\n",
       "<style scoped>\n",
       "    .dataframe tbody tr th:only-of-type {\n",
       "        vertical-align: middle;\n",
       "    }\n",
       "\n",
       "    .dataframe tbody tr th {\n",
       "        vertical-align: top;\n",
       "    }\n",
       "\n",
       "    .dataframe thead th {\n",
       "        text-align: right;\n",
       "    }\n",
       "</style>\n",
       "<table border=\"1\" class=\"dataframe\">\n",
       "  <thead>\n",
       "    <tr style=\"text-align: right;\">\n",
       "      <th></th>\n",
       "      <th>0</th>\n",
       "      <th>1</th>\n",
       "      <th>2</th>\n",
       "      <th>3</th>\n",
       "      <th>4</th>\n",
       "      <th>5</th>\n",
       "      <th>6</th>\n",
       "      <th>7</th>\n",
       "      <th>8</th>\n",
       "      <th>9</th>\n",
       "      <th>...</th>\n",
       "      <th>sentiment_score</th>\n",
       "      <th>vader_score</th>\n",
       "      <th>review_length</th>\n",
       "      <th>exclamation_count</th>\n",
       "      <th>question_count</th>\n",
       "      <th>uppercase_ratio</th>\n",
       "      <th>duplicate_word_count</th>\n",
       "      <th>emoji_count</th>\n",
       "      <th>avg_word_length</th>\n",
       "      <th>label</th>\n",
       "    </tr>\n",
       "  </thead>\n",
       "  <tbody>\n",
       "    <tr>\n",
       "      <th>0</th>\n",
       "      <td>0.0</td>\n",
       "      <td>0.0</td>\n",
       "      <td>0.0</td>\n",
       "      <td>0.0</td>\n",
       "      <td>0.0</td>\n",
       "      <td>0.0</td>\n",
       "      <td>0.0</td>\n",
       "      <td>0.0</td>\n",
       "      <td>0.0</td>\n",
       "      <td>0.0</td>\n",
       "      <td>...</td>\n",
       "      <td>0.211111</td>\n",
       "      <td>0.9548</td>\n",
       "      <td>126</td>\n",
       "      <td>0</td>\n",
       "      <td>0</td>\n",
       "      <td>0.018395</td>\n",
       "      <td>59</td>\n",
       "      <td>0</td>\n",
       "      <td>3.753968</td>\n",
       "      <td>0</td>\n",
       "    </tr>\n",
       "    <tr>\n",
       "      <th>1</th>\n",
       "      <td>0.0</td>\n",
       "      <td>0.0</td>\n",
       "      <td>0.0</td>\n",
       "      <td>0.0</td>\n",
       "      <td>0.0</td>\n",
       "      <td>0.0</td>\n",
       "      <td>0.0</td>\n",
       "      <td>0.0</td>\n",
       "      <td>0.0</td>\n",
       "      <td>0.0</td>\n",
       "      <td>...</td>\n",
       "      <td>0.152564</td>\n",
       "      <td>0.9647</td>\n",
       "      <td>83</td>\n",
       "      <td>1</td>\n",
       "      <td>0</td>\n",
       "      <td>0.020151</td>\n",
       "      <td>35</td>\n",
       "      <td>0</td>\n",
       "      <td>3.795181</td>\n",
       "      <td>0</td>\n",
       "    </tr>\n",
       "    <tr>\n",
       "      <th>2</th>\n",
       "      <td>0.0</td>\n",
       "      <td>0.0</td>\n",
       "      <td>0.0</td>\n",
       "      <td>0.0</td>\n",
       "      <td>0.0</td>\n",
       "      <td>0.0</td>\n",
       "      <td>0.0</td>\n",
       "      <td>0.0</td>\n",
       "      <td>0.0</td>\n",
       "      <td>0.0</td>\n",
       "      <td>...</td>\n",
       "      <td>-0.147253</td>\n",
       "      <td>0.7906</td>\n",
       "      <td>66</td>\n",
       "      <td>0</td>\n",
       "      <td>0</td>\n",
       "      <td>0.020761</td>\n",
       "      <td>29</td>\n",
       "      <td>0</td>\n",
       "      <td>3.393939</td>\n",
       "      <td>0</td>\n",
       "    </tr>\n",
       "    <tr>\n",
       "      <th>3</th>\n",
       "      <td>0.0</td>\n",
       "      <td>0.0</td>\n",
       "      <td>0.0</td>\n",
       "      <td>0.0</td>\n",
       "      <td>0.0</td>\n",
       "      <td>0.0</td>\n",
       "      <td>0.0</td>\n",
       "      <td>0.0</td>\n",
       "      <td>0.0</td>\n",
       "      <td>0.0</td>\n",
       "      <td>...</td>\n",
       "      <td>0.320036</td>\n",
       "      <td>0.9910</td>\n",
       "      <td>166</td>\n",
       "      <td>8</td>\n",
       "      <td>0</td>\n",
       "      <td>0.054917</td>\n",
       "      <td>86</td>\n",
       "      <td>0</td>\n",
       "      <td>3.722892</td>\n",
       "      <td>0</td>\n",
       "    </tr>\n",
       "    <tr>\n",
       "      <th>4</th>\n",
       "      <td>0.0</td>\n",
       "      <td>0.0</td>\n",
       "      <td>0.0</td>\n",
       "      <td>0.0</td>\n",
       "      <td>0.0</td>\n",
       "      <td>0.0</td>\n",
       "      <td>0.0</td>\n",
       "      <td>0.0</td>\n",
       "      <td>0.0</td>\n",
       "      <td>0.0</td>\n",
       "      <td>...</td>\n",
       "      <td>0.300000</td>\n",
       "      <td>0.8832</td>\n",
       "      <td>83</td>\n",
       "      <td>0</td>\n",
       "      <td>0</td>\n",
       "      <td>0.029777</td>\n",
       "      <td>41</td>\n",
       "      <td>0</td>\n",
       "      <td>3.867470</td>\n",
       "      <td>0</td>\n",
       "    </tr>\n",
       "  </tbody>\n",
       "</table>\n",
       "<p>5 rows × 5010 columns</p>\n",
       "</div>"
      ],
      "text/plain": [
       "     0    1    2    3    4    5    6    7    8    9  ...  sentiment_score  \\\n",
       "0  0.0  0.0  0.0  0.0  0.0  0.0  0.0  0.0  0.0  0.0  ...         0.211111   \n",
       "1  0.0  0.0  0.0  0.0  0.0  0.0  0.0  0.0  0.0  0.0  ...         0.152564   \n",
       "2  0.0  0.0  0.0  0.0  0.0  0.0  0.0  0.0  0.0  0.0  ...        -0.147253   \n",
       "3  0.0  0.0  0.0  0.0  0.0  0.0  0.0  0.0  0.0  0.0  ...         0.320036   \n",
       "4  0.0  0.0  0.0  0.0  0.0  0.0  0.0  0.0  0.0  0.0  ...         0.300000   \n",
       "\n",
       "   vader_score  review_length  exclamation_count  question_count  \\\n",
       "0       0.9548            126                  0               0   \n",
       "1       0.9647             83                  1               0   \n",
       "2       0.7906             66                  0               0   \n",
       "3       0.9910            166                  8               0   \n",
       "4       0.8832             83                  0               0   \n",
       "\n",
       "   uppercase_ratio  duplicate_word_count  emoji_count  avg_word_length  label  \n",
       "0         0.018395                    59            0         3.753968      0  \n",
       "1         0.020151                    35            0         3.795181      0  \n",
       "2         0.020761                    29            0         3.393939      0  \n",
       "3         0.054917                    86            0         3.722892      0  \n",
       "4         0.029777                    41            0         3.867470      0  \n",
       "\n",
       "[5 rows x 5010 columns]"
      ]
     },
     "execution_count": 13,
     "metadata": {},
     "output_type": "execute_result"
    }
   ],
   "source": [
    "df_train.head()"
   ]
  },
  {
   "cell_type": "code",
   "execution_count": 14,
   "metadata": {},
   "outputs": [
    {
     "data": {
      "text/html": [
       "<div>\n",
       "<style scoped>\n",
       "    .dataframe tbody tr th:only-of-type {\n",
       "        vertical-align: middle;\n",
       "    }\n",
       "\n",
       "    .dataframe tbody tr th {\n",
       "        vertical-align: top;\n",
       "    }\n",
       "\n",
       "    .dataframe thead th {\n",
       "        text-align: right;\n",
       "    }\n",
       "</style>\n",
       "<table border=\"1\" class=\"dataframe\">\n",
       "  <thead>\n",
       "    <tr style=\"text-align: right;\">\n",
       "      <th></th>\n",
       "      <th>0</th>\n",
       "      <th>1</th>\n",
       "      <th>2</th>\n",
       "      <th>3</th>\n",
       "      <th>4</th>\n",
       "      <th>5</th>\n",
       "      <th>6</th>\n",
       "      <th>7</th>\n",
       "      <th>8</th>\n",
       "      <th>9</th>\n",
       "      <th>...</th>\n",
       "      <th>sentiment_score</th>\n",
       "      <th>vader_score</th>\n",
       "      <th>review_length</th>\n",
       "      <th>exclamation_count</th>\n",
       "      <th>question_count</th>\n",
       "      <th>uppercase_ratio</th>\n",
       "      <th>duplicate_word_count</th>\n",
       "      <th>emoji_count</th>\n",
       "      <th>avg_word_length</th>\n",
       "      <th>label</th>\n",
       "    </tr>\n",
       "  </thead>\n",
       "  <tbody>\n",
       "    <tr>\n",
       "      <th>0</th>\n",
       "      <td>0.000000</td>\n",
       "      <td>0.0</td>\n",
       "      <td>0.0</td>\n",
       "      <td>0.0</td>\n",
       "      <td>0.0</td>\n",
       "      <td>0.0</td>\n",
       "      <td>0.0</td>\n",
       "      <td>0.0</td>\n",
       "      <td>0.0</td>\n",
       "      <td>0.0</td>\n",
       "      <td>...</td>\n",
       "      <td>0.065255</td>\n",
       "      <td>0.9925</td>\n",
       "      <td>252</td>\n",
       "      <td>2</td>\n",
       "      <td>0</td>\n",
       "      <td>0.026408</td>\n",
       "      <td>146</td>\n",
       "      <td>0</td>\n",
       "      <td>3.511905</td>\n",
       "      <td>0</td>\n",
       "    </tr>\n",
       "    <tr>\n",
       "      <th>1</th>\n",
       "      <td>0.000000</td>\n",
       "      <td>0.0</td>\n",
       "      <td>0.0</td>\n",
       "      <td>0.0</td>\n",
       "      <td>0.0</td>\n",
       "      <td>0.0</td>\n",
       "      <td>0.0</td>\n",
       "      <td>0.0</td>\n",
       "      <td>0.0</td>\n",
       "      <td>0.0</td>\n",
       "      <td>...</td>\n",
       "      <td>0.150000</td>\n",
       "      <td>0.6360</td>\n",
       "      <td>29</td>\n",
       "      <td>1</td>\n",
       "      <td>0</td>\n",
       "      <td>0.033333</td>\n",
       "      <td>5</td>\n",
       "      <td>0</td>\n",
       "      <td>3.172414</td>\n",
       "      <td>0</td>\n",
       "    </tr>\n",
       "    <tr>\n",
       "      <th>2</th>\n",
       "      <td>0.000000</td>\n",
       "      <td>0.0</td>\n",
       "      <td>0.0</td>\n",
       "      <td>0.0</td>\n",
       "      <td>0.0</td>\n",
       "      <td>0.0</td>\n",
       "      <td>0.0</td>\n",
       "      <td>0.0</td>\n",
       "      <td>0.0</td>\n",
       "      <td>0.0</td>\n",
       "      <td>...</td>\n",
       "      <td>0.200000</td>\n",
       "      <td>0.9432</td>\n",
       "      <td>62</td>\n",
       "      <td>0</td>\n",
       "      <td>0</td>\n",
       "      <td>0.020478</td>\n",
       "      <td>34</td>\n",
       "      <td>0</td>\n",
       "      <td>3.741935</td>\n",
       "      <td>0</td>\n",
       "    </tr>\n",
       "    <tr>\n",
       "      <th>3</th>\n",
       "      <td>0.072918</td>\n",
       "      <td>0.0</td>\n",
       "      <td>0.0</td>\n",
       "      <td>0.0</td>\n",
       "      <td>0.0</td>\n",
       "      <td>0.0</td>\n",
       "      <td>0.0</td>\n",
       "      <td>0.0</td>\n",
       "      <td>0.0</td>\n",
       "      <td>0.0</td>\n",
       "      <td>...</td>\n",
       "      <td>0.221902</td>\n",
       "      <td>0.9968</td>\n",
       "      <td>311</td>\n",
       "      <td>1</td>\n",
       "      <td>0</td>\n",
       "      <td>0.012221</td>\n",
       "      <td>214</td>\n",
       "      <td>0</td>\n",
       "      <td>3.475884</td>\n",
       "      <td>0</td>\n",
       "    </tr>\n",
       "    <tr>\n",
       "      <th>4</th>\n",
       "      <td>0.000000</td>\n",
       "      <td>0.0</td>\n",
       "      <td>0.0</td>\n",
       "      <td>0.0</td>\n",
       "      <td>0.0</td>\n",
       "      <td>0.0</td>\n",
       "      <td>0.0</td>\n",
       "      <td>0.0</td>\n",
       "      <td>0.0</td>\n",
       "      <td>0.0</td>\n",
       "      <td>...</td>\n",
       "      <td>-0.123810</td>\n",
       "      <td>-0.3400</td>\n",
       "      <td>67</td>\n",
       "      <td>0</td>\n",
       "      <td>0</td>\n",
       "      <td>0.019868</td>\n",
       "      <td>29</td>\n",
       "      <td>0</td>\n",
       "      <td>3.522388</td>\n",
       "      <td>1</td>\n",
       "    </tr>\n",
       "  </tbody>\n",
       "</table>\n",
       "<p>5 rows × 5010 columns</p>\n",
       "</div>"
      ],
      "text/plain": [
       "          0    1    2    3    4    5    6    7    8    9  ...  \\\n",
       "0  0.000000  0.0  0.0  0.0  0.0  0.0  0.0  0.0  0.0  0.0  ...   \n",
       "1  0.000000  0.0  0.0  0.0  0.0  0.0  0.0  0.0  0.0  0.0  ...   \n",
       "2  0.000000  0.0  0.0  0.0  0.0  0.0  0.0  0.0  0.0  0.0  ...   \n",
       "3  0.072918  0.0  0.0  0.0  0.0  0.0  0.0  0.0  0.0  0.0  ...   \n",
       "4  0.000000  0.0  0.0  0.0  0.0  0.0  0.0  0.0  0.0  0.0  ...   \n",
       "\n",
       "   sentiment_score  vader_score  review_length  exclamation_count  \\\n",
       "0         0.065255       0.9925            252                  2   \n",
       "1         0.150000       0.6360             29                  1   \n",
       "2         0.200000       0.9432             62                  0   \n",
       "3         0.221902       0.9968            311                  1   \n",
       "4        -0.123810      -0.3400             67                  0   \n",
       "\n",
       "   question_count  uppercase_ratio  duplicate_word_count  emoji_count  \\\n",
       "0               0         0.026408                   146            0   \n",
       "1               0         0.033333                     5            0   \n",
       "2               0         0.020478                    34            0   \n",
       "3               0         0.012221                   214            0   \n",
       "4               0         0.019868                    29            0   \n",
       "\n",
       "   avg_word_length  label  \n",
       "0         3.511905      0  \n",
       "1         3.172414      0  \n",
       "2         3.741935      0  \n",
       "3         3.475884      0  \n",
       "4         3.522388      1  \n",
       "\n",
       "[5 rows x 5010 columns]"
      ]
     },
     "execution_count": 14,
     "metadata": {},
     "output_type": "execute_result"
    }
   ],
   "source": [
    "df_val.head()"
   ]
  },
  {
   "cell_type": "code",
   "execution_count": 15,
   "metadata": {},
   "outputs": [
    {
     "name": "stdout",
     "output_type": "stream",
     "text": [
      "NaN values in train set:\n",
      " Series([], dtype: int64)\n",
      "NaN values in test set:\n",
      " Series([], dtype: int64)\n",
      "NaN values in test set:\n",
      " Series([], dtype: int64)\n"
     ]
    }
   ],
   "source": [
    "train_nan_counts = df_train.isna().sum()\n",
    "print(\"NaN values in train set:\\n\", train_nan_counts[train_nan_counts > 0])\n",
    "test_nan_counts = df_test.isna().sum()\n",
    "print(\"NaN values in test set:\\n\", test_nan_counts[test_nan_counts > 0])\n",
    "val_nan_counts = df_val.isna().sum()\n",
    "print(\"NaN values in test set:\\n\", val_nan_counts[val_nan_counts > 0])"
   ]
  },
  {
   "cell_type": "markdown",
   "metadata": {},
   "source": [
    "# Splitting Dataset"
   ]
  },
  {
   "cell_type": "code",
   "execution_count": 16,
   "metadata": {},
   "outputs": [],
   "source": [
    "# Separate into X and y\n",
    "X_train = df_train.drop(columns=[\"label\"])\n",
    "y_train = df_train[\"label\"]\n",
    "\n",
    "X_test = df_test.drop(columns=[\"label\"])\n",
    "y_test = df_test[\"label\"]\n",
    "\n",
    "X_val = df_val.drop(columns=[\"label\"])\n",
    "y_val = df_val[\"label\"]"
   ]
  },
  {
   "cell_type": "code",
   "execution_count": 17,
   "metadata": {},
   "outputs": [
    {
     "name": "stdout",
     "output_type": "stream",
     "text": [
      "Train Class Distribution:\n",
      " label\n",
      "0    0.867799\n",
      "1    0.132201\n",
      "Name: proportion, dtype: float64\n",
      "\n",
      "Validation Class Distribution:\n",
      " label\n",
      "0    0.867797\n",
      "1    0.132203\n",
      "Name: proportion, dtype: float64\n",
      "\n",
      "Test Class Distribution:\n",
      " label\n",
      "0    0.867797\n",
      "1    0.132203\n",
      "Name: proportion, dtype: float64\n"
     ]
    }
   ],
   "source": [
    "# Check class distribution after split\n",
    "print(\"Train Class Distribution:\\n\", y_train.value_counts(normalize=True))\n",
    "print(\"\\nValidation Class Distribution:\\n\", y_val.value_counts(normalize=True))\n",
    "print(\"\\nTest Class Distribution:\\n\", y_test.value_counts(normalize=True))"
   ]
  },
  {
   "cell_type": "markdown",
   "metadata": {},
   "source": [
    "# Feature Scaling"
   ]
  },
  {
   "cell_type": "code",
   "execution_count": null,
   "metadata": {},
   "outputs": [],
   "source": [
    "# Feature Scaling\n",
    "ct_mms = ColumnTransformer(transformers=[('min_max_scaler', MinMaxScaler(), ['sentiment_score', 'vader_score', 'review_length', 'exclamation_count', 'question_count', 'uppercase_ratio', 'duplicate_word_count', 'emoji_count', 'avg_word_length'])], remainder='passthrough')\n",
    "X_train_scaled = ct_mms.fit_transform(X_train)\n",
    "X_test_scaled = ct_mms.transform(X_test)\n",
    "X_val_scaled = ct_mms.transform(X_val)"
   ]
  },
  {
   "cell_type": "code",
   "execution_count": null,
   "metadata": {},
   "outputs": [],
   "source": [
    "feature_names = ct_mms.get_feature_names_out()\n",
    "\n",
    "X_train_scaled_df = pd.DataFrame(X_train_scaled, columns=feature_names, index=X_train.index)\n",
    "X_test_scaled_df = pd.DataFrame(X_test_scaled, columns=feature_names, index=X_test.index )\n",
    "X_val_scaled_df = pd.DataFrame(X_val_scaled, columns=feature_names, index=X_val.index)"
   ]
  },
  {
   "cell_type": "code",
   "execution_count": null,
   "metadata": {},
   "outputs": [],
   "source": [
    "# Save scaled DataFrames\n",
    "joblib.dump(X_train_scaled_df, '00_dataset/with_stopwords/data/X_train_scaled.joblib')\n",
    "joblib.dump(X_test_scaled_df, '00_dataset/with_stopwords/data/X_test_scaled.joblib')\n",
    "joblib.dump(X_val_scaled_df, '00_dataset/with_stopwords/data/X_val_scaled.joblib')\n",
    "\n",
    "joblib.dump(y_train, '00_dataset/with_stopwords/data/y_train.joblib')\n",
    "joblib.dump(y_test, '00_dataset/with_stopwords/data/y_test.joblib')\n",
    "joblib.dump(y_val, '00_dataset/with_stopwords/data/y_val.joblib')\n",
    "\n",
    "# Save the ColumnTransformer object for future transformations\n",
    "joblib.dump(ct_mms, '00_dataset/with_stopwords/process/column_transformer.joblib')"
   ]
  },
  {
   "cell_type": "code",
   "execution_count": null,
   "metadata": {},
   "outputs": [],
   "source": [
    "print(\"Training DataFrame:\")\n",
    "print(X_train.shape)\n",
    "print(X_train_scaled.shape)\n",
    "\n",
    "print(\"Testing DataFrame:\")\n",
    "print(X_test.shape)\n",
    "print(X_test_scaled.shape)\n",
    "\n",
    "print(\"Validatign DataFrame:\")\n",
    "print(X_val.shape)\n",
    "print(X_val_scaled.shape)"
   ]
  },
  {
   "cell_type": "markdown",
   "metadata": {},
   "source": [
    "# Model Training with Scaled Training Dataset"
   ]
  },
  {
   "cell_type": "code",
   "execution_count": null,
   "metadata": {},
   "outputs": [],
   "source": [
    "lr = LogisticRegression(class_weight='balanced', solver='saga', max_iter=1000, random_state=42)\n",
    "\n",
    "lr.fit(X_train_scaled, y_train)"
   ]
  },
  {
   "cell_type": "code",
   "execution_count": null,
   "metadata": {},
   "outputs": [],
   "source": [
    "joblib.dump(lr, '00_dataset/with_stopwords/model/lr_saga_scaled.joblib')"
   ]
  },
  {
   "cell_type": "code",
   "execution_count": null,
   "metadata": {},
   "outputs": [],
   "source": [
    "svm = SVC(class_weight='balanced', kernel='linear', max_iter=1000, random_state=42)\n",
    "\n",
    "svm.fit(X_train_scaled, y_train)"
   ]
  },
  {
   "cell_type": "code",
   "execution_count": null,
   "metadata": {},
   "outputs": [],
   "source": [
    "joblib.dump(svm, '00_dataset/with_stopwords/model/svm_linear_scaled.joblib')"
   ]
  },
  {
   "cell_type": "code",
   "execution_count": null,
   "metadata": {},
   "outputs": [],
   "source": [
    "nb = MultinomialNB(class_prior=[0.5, 0.5])\n",
    "nb.fit(X_train_scaled_loaded, y_train_loaded)"
   ]
  },
  {
   "cell_type": "markdown",
   "metadata": {},
   "source": [
    "# Apply Smote"
   ]
  },
  {
   "cell_type": "code",
   "execution_count": null,
   "metadata": {},
   "outputs": [],
   "source": [
    "smote = SMOTE(sampling_strategy='auto', random_state=42)\n",
    "X_train_smote, y_train_smote = smote.fit_resample(X_train_scaled_loaded, y_train_loaded)"
   ]
  },
  {
   "cell_type": "code",
   "execution_count": null,
   "metadata": {},
   "outputs": [],
   "source": [
    "# Save smote DataFrames\n",
    "joblib.dump(X_train_smote, '00_dataset/with_stopwords/data/X_train_smote.joblib')\n",
    "joblib.dump(y_train_smote, '00_dataset/with_stopwords/data/y_train_smote.joblib')"
   ]
  },
  {
   "cell_type": "markdown",
   "metadata": {},
   "source": [
    "# Model Training with Smoted Dataset"
   ]
  },
  {
   "cell_type": "code",
   "execution_count": null,
   "metadata": {},
   "outputs": [],
   "source": [
    "lr_smote = LogisticRegression(class_weight='balanced', solver='saga', max_iter=1000, random_state=42)\n",
    "\n",
    "lr_smote.fit(X_train_smote, y_train_smote)"
   ]
  },
  {
   "cell_type": "code",
   "execution_count": null,
   "metadata": {},
   "outputs": [],
   "source": [
    "joblib.dump(lr_smote, '00_dataset/with_stopwords/model/lr_saga_smote.joblib')"
   ]
  },
  {
   "cell_type": "code",
   "execution_count": null,
   "metadata": {},
   "outputs": [],
   "source": [
    "svm_smote = SVC(class_weight='balanced', kernel='linear', max_iter=1000, random_state=42)\n",
    "\n",
    "svm_smote.fit(X_train_smote, y_train_smote)"
   ]
  },
  {
   "cell_type": "code",
   "execution_count": null,
   "metadata": {},
   "outputs": [],
   "source": [
    "joblib.dump(lr_smote, '00_dataset/with_stopwords/model/svm_linear_smote.joblib')"
   ]
  },
  {
   "cell_type": "code",
   "execution_count": 7,
   "metadata": {},
   "outputs": [],
   "source": [
    "# Set batch size\n",
    "batch_size = 10000  # Adjust based on memory\n",
    "\n",
    "# Initialize the Naïve Bayes model\n",
    "nb_smote = MultinomialNB(class_prior=[0.5, 0.5])\n",
    "\n",
    "# Train in batches using partial_fit\n",
    "classes = np.unique(y_train_smote_loaded)  # Get all class labels\n",
    "for i in range(0, len(X_train_smote_loaded), batch_size):\n",
    "    X_batch = X_train_smote_loaded[i:i+batch_size]\n",
    "    y_batch = y_train_smote_loaded[i:i+batch_size]\n",
    "    \n",
    "    if i == 0:\n",
    "        # First batch: specify classes\n",
    "        nb_smote.partial_fit(X_batch, y_batch, classes=classes)\n",
    "    else:\n",
    "        nb_smote.partial_fit(X_batch, y_batch)"
   ]
  },
  {
   "cell_type": "markdown",
   "metadata": {},
   "source": [
    "# Evaluate Models\n",
    "All models will be evaluated using the same the matrix. \n",
    "\n",
    "- Computes and displays performance metrics including accuracy, classification report, and confusion matrix.\n",
    "\n",
    "- Computes ROC AUC scores if the model supports probability estimates (predict_proba) or decision function values (decision_function)."
   ]
  },
  {
   "cell_type": "code",
   "execution_count": 7,
   "metadata": {},
   "outputs": [],
   "source": [
    "def evaluate_model(model, X_test, y_test):\n",
    "    \"\"\"\n",
    "    Evaluate a model's performance and display the confusion matrix, ROC AUC for both classes, and overall ROC AUC.\n",
    "    Handles cases where predict_proba is not available.\n",
    "    \"\"\"\n",
    "    # Predict on the test set\n",
    "    y_pred = model.predict(X_test)\n",
    "\n",
    "    # Evaluate performance\n",
    "    print(\"Accuracy:\", accuracy_score(y_test, y_pred))\n",
    "    print(\"Classification Report:\\n\", classification_report(y_test, y_pred))\n",
    "\n",
    "    # Generate confusion matrix\n",
    "    cm = confusion_matrix(y_test, y_pred)\n",
    "\n",
    "    # Display confusion matrix\n",
    "    disp = ConfusionMatrixDisplay(confusion_matrix=cm, display_labels=[0, 1])\n",
    "    disp.plot(cmap=\"Blues\")\n",
    "    plt.title(\"Confusion Matrix\")\n",
    "    plt.show()\n",
    "\n",
    "    # Check if predict_proba is available\n",
    "    if hasattr(model, \"predict_proba\"):\n",
    "        # Get predicted probabilities for both classes\n",
    "        y_proba = model.predict_proba(X_test)\n",
    "\n",
    "        # Calculate ROC AUC for both classes\n",
    "        roc_auc_class_0 = roc_auc_score(y_test, y_proba[:, 0])  # ROC AUC for class 0\n",
    "        roc_auc_class_1 = roc_auc_score(y_test, y_proba[:, 1])  # ROC AUC for class 1\n",
    "        roc_auc_overall = roc_auc_score(y_test, y_proba[:, 1])  # Overall ROC AUC\n",
    "\n",
    "        print(\"ROC AUC for Class 0:\", roc_auc_class_0)\n",
    "        print(\"ROC AUC for Class 1:\", roc_auc_class_1)\n",
    "        print(\"Overall ROC AUC:\", roc_auc_overall)\n",
    "\n",
    "    elif hasattr(model, \"decision_function\"):\n",
    "        # Use decision scores if predict_proba is not available\n",
    "        decision_scores = model.decision_function(X_test)\n",
    "        roc_auc_overall = roc_auc_score(y_test, decision_scores)\n",
    "        print(\"ROC AUC (using decision scores):\", roc_auc_overall)\n",
    "\n",
    "    else:\n",
    "        # If neither predict_proba nor decision_function is available\n",
    "        print(\"ROC AUC cannot be calculated because the model does not support predict_proba or decision_function.\")"
   ]
  },
  {
   "cell_type": "code",
   "execution_count": 8,
   "metadata": {},
   "outputs": [
    {
     "name": "stderr",
     "output_type": "stream",
     "text": [
      "/Users/hanwei23/Documents/GitHub/INF2008_YelpZip/path/to/venv/lib/python3.13/site-packages/sklearn/utils/validation.py:2732: UserWarning: X has feature names, but LogisticRegression was fitted without feature names\n",
      "  warnings.warn(\n"
     ]
    },
    {
     "name": "stdout",
     "output_type": "stream",
     "text": [
      "Accuracy: 0.6820333300463465\n",
      "Classification Report:\n",
      "               precision    recall  f1-score   support\n",
      "\n",
      "           0       0.93      0.68      0.79     52802\n",
      "           1       0.24      0.67      0.36      8044\n",
      "\n",
      "    accuracy                           0.68     60846\n",
      "   macro avg       0.59      0.68      0.57     60846\n",
      "weighted avg       0.84      0.68      0.73     60846\n",
      "\n"
     ]
    },
    {
     "data": {
      "image/png": "[encoded data removed]",
      "text/plain": [
       "<Figure size 640x480 with 2 Axes>"
      ]
     },
     "metadata": {},
     "output_type": "display_data"
    },
    {
     "name": "stdout",
     "output_type": "stream",
     "text": [
      "ROC AUC for Class 0: 0.2593188459646333\n",
      "ROC AUC for Class 1: 0.7406811540353667\n",
      "Overall ROC AUC: 0.7406811540353667\n"
     ]
    },
    {
     "name": "stderr",
     "output_type": "stream",
     "text": [
      "/Users/hanwei23/Documents/GitHub/INF2008_YelpZip/path/to/venv/lib/python3.13/site-packages/sklearn/utils/validation.py:2732: UserWarning: X has feature names, but LogisticRegression was fitted without feature names\n",
      "  warnings.warn(\n"
     ]
    }
   ],
   "source": [
    "evaluate_model(lr_saga_scaled_loaded, X_val_scaled_loaded, y_val_loaded)"
   ]
  },
  {
   "cell_type": "code",
   "execution_count": 9,
   "metadata": {},
   "outputs": [
    {
     "name": "stdout",
     "output_type": "stream",
     "text": [
      "Accuracy: 0.768415343654472\n",
      "Classification Report:\n",
      "               precision    recall  f1-score   support\n",
      "\n",
      "           0       0.91      0.82      0.86     52802\n",
      "           1       0.27      0.45      0.34      8044\n",
      "\n",
      "    accuracy                           0.77     60846\n",
      "   macro avg       0.59      0.63      0.60     60846\n",
      "weighted avg       0.82      0.77      0.79     60846\n",
      "\n"
     ]
    },
    {
     "data": {
      "image/png": "[encoded data removed]",
      "text/plain": [
       "<Figure size 640x480 with 2 Axes>"
      ]
     },
     "metadata": {},
     "output_type": "display_data"
    },
    {
     "name": "stdout",
     "output_type": "stream",
     "text": [
      "ROC AUC for Class 0: 0.2856000490823444\n",
      "ROC AUC for Class 1: 0.7143999532720411\n",
      "Overall ROC AUC: 0.7143999532720411\n"
     ]
    }
   ],
   "source": [
    "evaluate_model(lr_saga_smote_loaded, X_val_scaled_loaded, y_val_loaded)"
   ]
  },
  {
   "cell_type": "code",
   "execution_count": 10,
   "metadata": {},
   "outputs": [
    {
     "name": "stderr",
     "output_type": "stream",
     "text": [
      "/Users/hanwei23/Documents/GitHub/INF2008_YelpZip/path/to/venv/lib/python3.13/site-packages/sklearn/utils/validation.py:2732: UserWarning: X has feature names, but SVC was fitted without feature names\n",
      "  warnings.warn(\n"
     ]
    },
    {
     "name": "stdout",
     "output_type": "stream",
     "text": [
      "Accuracy: 0.13221904480163035\n",
      "Classification Report:\n",
      "               precision    recall  f1-score   support\n",
      "\n",
      "           0       1.00      0.00      0.00     52802\n",
      "           1       0.13      1.00      0.23      8044\n",
      "\n",
      "    accuracy                           0.13     60846\n",
      "   macro avg       0.57      0.50      0.12     60846\n",
      "weighted avg       0.89      0.13      0.03     60846\n",
      "\n"
     ]
    },
    {
     "data": {
      "image/png": "[encoded data removed]",
      "text/plain": [
       "<Figure size 640x480 with 2 Axes>"
      ]
     },
     "metadata": {},
     "output_type": "display_data"
    },
    {
     "name": "stderr",
     "output_type": "stream",
     "text": [
      "/Users/hanwei23/Documents/GitHub/INF2008_YelpZip/path/to/venv/lib/python3.13/site-packages/sklearn/utils/validation.py:2732: UserWarning: X has feature names, but SVC was fitted without feature names\n",
      "  warnings.warn(\n"
     ]
    },
    {
     "name": "stdout",
     "output_type": "stream",
     "text": [
      "ROC AUC (using decision scores): 0.5736157376616406\n"
     ]
    }
   ],
   "source": [
    "evaluate_model(svm_linear_scaled_loaded, X_val_scaled_loaded, y_val_loaded)"
   ]
  },
  {
   "cell_type": "code",
   "execution_count": 11,
   "metadata": {},
   "outputs": [
    {
     "name": "stdout",
     "output_type": "stream",
     "text": [
      "Accuracy: 0.768415343654472\n",
      "Classification Report:\n",
      "               precision    recall  f1-score   support\n",
      "\n",
      "           0       0.91      0.82      0.86     52802\n",
      "           1       0.27      0.45      0.34      8044\n",
      "\n",
      "    accuracy                           0.77     60846\n",
      "   macro avg       0.59      0.63      0.60     60846\n",
      "weighted avg       0.82      0.77      0.79     60846\n",
      "\n"
     ]
    },
    {
     "data": {
      "image/png": "[encoded data removed]",
      "text/plain": [
       "<Figure size 640x480 with 2 Axes>"
      ]
     },
     "metadata": {},
     "output_type": "display_data"
    },
    {
     "name": "stdout",
     "output_type": "stream",
     "text": [
      "ROC AUC for Class 0: 0.2856000490823444\n",
      "ROC AUC for Class 1: 0.7143999532720411\n",
      "Overall ROC AUC: 0.7143999532720411\n"
     ]
    }
   ],
   "source": [
    "evaluate_model(svm_linear_smote_loaded, X_val_scaled_loaded, y_val_loaded)"
   ]
  },
  {
   "cell_type": "code",
   "execution_count": null,
   "metadata": {},
   "outputs": [],
   "source": [
    "evaluate_model(nb, X_val_scaled_loaded, y_val_loaded)"
   ]
  },
  {
   "cell_type": "code",
   "execution_count": 10,
   "metadata": {},
   "outputs": [
    {
     "name": "stdout",
     "output_type": "stream",
     "text": [
      "Accuracy: 0.689790618939618\n",
      "Classification Report:\n",
      "               precision    recall  f1-score   support\n",
      "\n",
      "           0       0.92      0.70      0.80     52802\n",
      "           1       0.24      0.62      0.34      8044\n",
      "\n",
      "    accuracy                           0.69     60846\n",
      "   macro avg       0.58      0.66      0.57     60846\n",
      "weighted avg       0.83      0.69      0.74     60846\n",
      "\n"
     ]
    },
    {
     "data": {
      "image/png": "[encoded data removed]",
      "text/plain": [
       "<Figure size 640x480 with 2 Axes>"
      ]
     },
     "metadata": {},
     "output_type": "display_data"
    },
    {
     "name": "stdout",
     "output_type": "stream",
     "text": [
      "ROC AUC for Class 0: 0.280343180779641\n",
      "ROC AUC for Class 1: 0.719656819220359\n",
      "Overall ROC AUC: 0.719656819220359\n"
     ]
    }
   ],
   "source": [
    "evaluate_model(nb_smote, X_val_scaled_loaded, y_val_loaded)"
   ]
  }
 ],
 "metadata": {
  "colab": {
   "authorship_tag": "ABX9TyO6Iv3wImR/68tHMhlvmBj2",
   "collapsed_sections": [
    "5LAdCfvbsB2Q",
    "kN6Ff2xnpcYW",
    "BRw6BrTTtID5"
   ],
   "provenance": []
  },
  "kernelspec": {
   "display_name": "venv",
   "language": "python",
   "name": "python3"
  },
  "language_info": {
   "codemirror_mode": {
    "name": "ipython",
    "version": 3
   },
   "file_extension": ".py",
   "mimetype": "text/x-python",
   "name": "python",
   "nbconvert_exporter": "python",
   "pygments_lexer": "ipython3",
   "version": "3.13.0"
  }
 },
 "nbformat": 4,
 "nbformat_minor": 0
}
