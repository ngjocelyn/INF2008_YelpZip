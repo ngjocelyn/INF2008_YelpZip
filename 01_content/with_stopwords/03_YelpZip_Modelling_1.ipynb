{
 "cells": [
  {
   "cell_type": "code",
   "execution_count": 2,
   "metadata": {
    "executionInfo": {
     "elapsed": 5858,
     "status": "ok",
     "timestamp": 1740227595364,
     "user": {
      "displayName": "joc",
      "userId": "03257841468945552602"
     },
     "user_tz": -480
    },
    "id": "-jMIBikVVMBN"
   },
   "outputs": [],
   "source": [
    "import joblib\n",
    "import os\n",
    "\n",
    "# Data Manipulation\n",
    "import pandas as pd\n",
    "import numpy as np\n",
    "\n",
    "# Machine Learning\n",
    "from sklearn.compose import ColumnTransformer\n",
    "from sklearn.preprocessing import MinMaxScaler\n",
    "from sklearn.model_selection import train_test_split, cross_val_score\n",
    "from sklearn.feature_extraction.text import TfidfVectorizer\n",
    "from sklearn.linear_model import LogisticRegression\n",
    "from sklearn.ensemble import RandomForestClassifier\n",
    "from sklearn.svm import SVC\n",
    "from sklearn.naive_bayes import MultinomialNB\n",
    "from imblearn.over_sampling import SMOTE\n",
    "from imblearn.combine import SMOTETomek\n",
    "from sklearn.metrics import classification_report, accuracy_score, silhouette_score, roc_auc_score, confusion_matrix, ConfusionMatrixDisplay\n",
    "from sklearn.tree import DecisionTreeClassifier\n",
    "\n",
    "# Visualization\n",
    "import matplotlib.pyplot as plt\n",
    "import seaborn as sns"
   ]
  },
  {
   "cell_type": "markdown",
   "metadata": {
    "id": "pz13AEZyqNEf"
   },
   "source": [
    "# Load Processed Dataset / Trained Model / Processes\n",
    "Will load any completed processes, datasets, trained model in the case of Kernel Crash"
   ]
  },
  {
   "cell_type": "code",
   "execution_count": 3,
   "metadata": {},
   "outputs": [],
   "source": [
    "X_train_scaled_loaded = joblib.load('00_dataset/with_stopwords/data/X_train_scaled.joblib')\n",
    "X_test_scaled_loaded = joblib.load('00_dataset/with_stopwords/data/X_test_scaled.joblib')\n",
    "X_val_scaled_loaded = joblib.load('00_dataset/with_stopwords/data/X_val_scaled.joblib')\n",
    "\n",
    "y_train_loaded = joblib.load('00_dataset/with_stopwords/data/y_train.joblib')\n",
    "y_test_loaded = joblib.load('00_dataset/with_stopwords/data/y_test.joblib')\n",
    "y_val_loaded = joblib.load('00_dataset/with_stopwords/data/y_val.joblib')\n",
    "\n",
    "X_train_smote_loaded = joblib.load('00_dataset/with_stopwords/data/X_train_smote.joblib')\n",
    "y_train_smote_loaded = joblib.load('00_dataset/with_stopwords/data/y_train_smote.joblib')"
   ]
  },
  {
   "cell_type": "code",
   "execution_count": null,
   "metadata": {},
   "outputs": [],
   "source": [
    "print(X_train_scaled_loaded.index.equals(y_train_loaded.index))\n",
    "print(X_test_scaled_loaded.index.equals(y_test_loaded.index))\n",
    "print(X_val_scaled_loaded.index.equals(y_val_loaded.index))\n",
    "print(X_train_smote_loaded.index.equals(y_train_smote_loaded.index))"
   ]
  },
  {
   "cell_type": "markdown",
   "metadata": {},
   "source": [
    "# Loading Datasets\n",
    "Dataset that have gone through pre-processing and feature enginnering"
   ]
  },
  {
   "cell_type": "code",
   "execution_count": null,
   "metadata": {},
   "outputs": [],
   "source": [
    "def reduce_memory(df):\n",
    "    start_mem = df.memory_usage().sum() / 1024**2\n",
    "    print(f\"Initial memory usage: {start_mem:.2f} MB\")\n",
    "\n",
    "    for col in df.columns:\n",
    "        col_type = df[col].dtype\n",
    "\n",
    "        if col_type != object and col_type != 'category':\n",
    "            c_min = df[col].min()\n",
    "            c_max = df[col].max()\n",
    "\n",
    "            if str(col_type).startswith('int'):\n",
    "                if c_min > np.iinfo(np.int8).min and c_max < np.iinfo(np.int8).max:\n",
    "                    df[col] = df[col].astype(np.int8)\n",
    "                elif c_min > np.iinfo(np.int16).min and c_max < np.iinfo(np.int16).max:\n",
    "                    df[col] = df[col].astype(np.int16)\n",
    "                elif c_min > np.iinfo(np.int32).min and c_max < np.iinfo(np.int32).max:\n",
    "                    df[col] = df[col].astype(np.int32)\n",
    "            else:\n",
    "                df[col] = pd.to_numeric(df[col], downcast='float')\n",
    "        else:\n",
    "            df[col] = df[col].astype('category')\n",
    "\n",
    "    end_mem = df.memory_usage().sum() / 1024**2\n",
    "    print(f'Memory usage after optimization: {end_mem:.2f} MB')\n",
    "    print(f'Reduced by {(start_mem - end_mem) / start_mem:.1%}')\n",
    "\n",
    "    return df"
   ]
  },
  {
   "cell_type": "code",
   "execution_count": null,
   "metadata": {
    "executionInfo": {
     "elapsed": 1852,
     "status": "ok",
     "timestamp": 1740227908008,
     "user": {
      "displayName": "joc",
      "userId": "03257841468945552602"
     },
     "user_tz": -480
    },
    "id": "HYeDtjmBqMg2"
   },
   "outputs": [],
   "source": [
    "chunk_size = 100000\n",
    "chunks_train = pd.read_csv(\"00_dataset/with_stopwords/train_features_sw.csv\", chunksize=chunk_size, low_memory=False)\n",
    "chunks_test = pd.read_csv(\"00_dataset/with_stopwords/test_features_sw.csv\", chunksize=chunk_size, low_memory=False)\n",
    "chunks_val = pd.read_csv(\"00_dataset/with_stopwords/val_features_sw.csv\", chunksize=chunk_size, low_memory=False)\n",
    "\n",
    "df_trainChunks = [reduce_memory(chunk_train) for chunk_train in chunks_train]\n",
    "df_train = pd.concat(df_trainChunks, axis=0)\n",
    "\n",
    "df_testChunks = [reduce_memory(chunk_test) for chunk_test in chunks_test]\n",
    "df_test = pd.concat(df_testChunks, axis=0)\n",
    "\n",
    "df_valChunks = [reduce_memory(chunk_val) for chunk_val in chunks_val]\n",
    "df_val = pd.concat(df_valChunks, axis=0)"
   ]
  },
  {
   "cell_type": "code",
   "execution_count": null,
   "metadata": {},
   "outputs": [],
   "source": [
    "df_train.head()"
   ]
  },
  {
   "cell_type": "code",
   "execution_count": null,
   "metadata": {},
   "outputs": [],
   "source": [
    "df_train.head()"
   ]
  },
  {
   "cell_type": "code",
   "execution_count": null,
   "metadata": {},
   "outputs": [],
   "source": [
    "df_val.head()"
   ]
  },
  {
   "cell_type": "code",
   "execution_count": null,
   "metadata": {},
   "outputs": [],
   "source": [
    "train_nan_counts = df_train.isna().sum()\n",
    "print(\"NaN values in train set:\\n\", train_nan_counts[train_nan_counts > 0])\n",
    "test_nan_counts = df_test.isna().sum()\n",
    "print(\"NaN values in test set:\\n\", test_nan_counts[test_nan_counts > 0])\n",
    "val_nan_counts = df_val.isna().sum()\n",
    "print(\"NaN values in test set:\\n\", val_nan_counts[val_nan_counts > 0])"
   ]
  },
  {
   "cell_type": "markdown",
   "metadata": {},
   "source": [
    "# Splitting Dataset"
   ]
  },
  {
   "cell_type": "code",
   "execution_count": null,
   "metadata": {},
   "outputs": [],
   "source": [
    "# Separate into X and y\n",
    "X_train = df_train.drop(columns=[\"label\"])\n",
    "y_train = df_train[\"label\"]\n",
    "\n",
    "X_test = df_test.drop(columns=[\"label\"])\n",
    "y_test = df_test[\"label\"]\n",
    "\n",
    "X_val = df_val.drop(columns=[\"label\"])\n",
    "y_val = df_val[\"label\"]"
   ]
  },
  {
   "cell_type": "code",
   "execution_count": null,
   "metadata": {},
   "outputs": [],
   "source": [
    "# Check class distribution after split\n",
    "print(\"Train Class Distribution:\\n\", y_train.value_counts(normalize=True))\n",
    "print(\"\\nValidation Class Distribution:\\n\", y_val.value_counts(normalize=True))\n",
    "print(\"\\nTest Class Distribution:\\n\", y_test.value_counts(normalize=True))"
   ]
  },
  {
   "cell_type": "markdown",
   "metadata": {},
   "source": [
    "# Feature Scaling"
   ]
  },
  {
   "cell_type": "code",
   "execution_count": null,
   "metadata": {},
   "outputs": [],
   "source": [
    "# Feature Scaling\n",
    "ct_mms = ColumnTransformer(transformers=[('min_max_scaler', MinMaxScaler(), ['sentiment_score', 'vader_score', 'review_length', 'exclamation_count', 'question_count', 'uppercase_ratio', 'duplicate_word_count', 'emoji_count', 'avg_word_length'])], remainder='passthrough')\n",
    "X_train_scaled = ct_mms.fit_transform(X_train)\n",
    "X_test_scaled = ct_mms.transform(X_test)\n",
    "X_val_scaled = ct_mms.transform(X_val)"
   ]
  },
  {
   "cell_type": "code",
   "execution_count": null,
   "metadata": {},
   "outputs": [],
   "source": [
    "feature_names = ct_mms.get_feature_names_out()\n",
    "\n",
    "X_train_scaled_df = pd.DataFrame(X_train_scaled, columns=feature_names, index=X_train.index)\n",
    "X_test_scaled_df = pd.DataFrame(X_test_scaled, columns=feature_names, index=X_test.index )\n",
    "X_val_scaled_df = pd.DataFrame(X_val_scaled, columns=feature_names, index=X_val.index)"
   ]
  },
  {
   "cell_type": "code",
   "execution_count": null,
   "metadata": {},
   "outputs": [],
   "source": [
    "# Save scaled DataFrames\n",
    "joblib.dump(X_train_scaled_df, '00_dataset/with_stopwords/data/X_train_scaled.joblib')\n",
    "joblib.dump(X_test_scaled_df, '00_dataset/with_stopwords/data/X_test_scaled.joblib')\n",
    "joblib.dump(X_val_scaled_df, '00_dataset/with_stopwords/data/X_val_scaled.joblib')\n",
    "\n",
    "joblib.dump(y_train, '00_dataset/with_stopwords/data/y_train.joblib')\n",
    "joblib.dump(y_test, '00_dataset/with_stopwords/data/y_test.joblib')\n",
    "joblib.dump(y_val, '00_dataset/with_stopwords/data/y_val.joblib')\n",
    "\n",
    "# Save the ColumnTransformer object for future transformations\n",
    "joblib.dump(ct_mms, '00_dataset/with_stopwords/process/column_transformer.joblib')"
   ]
  },
  {
   "cell_type": "code",
   "execution_count": null,
   "metadata": {},
   "outputs": [],
   "source": [
    "print(\"Training DataFrame:\")\n",
    "print(X_train.shape)\n",
    "print(X_train_scaled.shape)\n",
    "\n",
    "print(\"Testing DataFrame:\")\n",
    "print(X_test.shape)\n",
    "print(X_test_scaled.shape)\n",
    "\n",
    "print(\"Validatign DataFrame:\")\n",
    "print(X_val.shape)\n",
    "print(X_val_scaled.shape)"
   ]
  },
  {
   "cell_type": "markdown",
   "metadata": {},
   "source": [
    "# Testing Logistic Regression"
   ]
  },
  {
   "cell_type": "code",
   "execution_count": null,
   "metadata": {},
   "outputs": [],
   "source": [
    "lr = LogisticRegression(class_weight='balanced', solver='saga', max_iter=1000, random_state=42)\n",
    "\n",
    "lr.fit(X_train_scaled, y_train)"
   ]
  },
  {
   "cell_type": "code",
   "execution_count": null,
   "metadata": {},
   "outputs": [],
   "source": [
    "joblib.dump(lr, '00_dataset/with_stopwords/model/lr_saga_scaled.joblib')"
   ]
  },
  {
   "cell_type": "code",
   "execution_count": null,
   "metadata": {},
   "outputs": [],
   "source": [
    "svm = SVC(class_weight='balanced', kernel='linear', max_iter=1000, random_state=42)\n",
    "\n",
    "svm.fit(X_train_scaled, y_train)"
   ]
  },
  {
   "cell_type": "code",
   "execution_count": null,
   "metadata": {},
   "outputs": [],
   "source": [
    "joblib.dump(svm, '00_dataset/with_stopwords/model/svm_linear_scaled.joblib')"
   ]
  },
  {
   "cell_type": "code",
   "execution_count": null,
   "metadata": {},
   "outputs": [],
   "source": [
    "smote = SMOTE(sampling_strategy='auto', random_state=42)\n",
    "X_train_smote, y_train_smote = smote.fit_resample(X_train_scaled_loaded, y_train_loaded)"
   ]
  },
  {
   "cell_type": "code",
   "execution_count": null,
   "metadata": {},
   "outputs": [],
   "source": [
    "# Save smote DataFrames\n",
    "joblib.dump(X_train_smote, '00_dataset/with_stopwords/data/X_train_smote.joblib')\n",
    "joblib.dump(y_train_smote, '00_dataset/with_stopwords/data/y_train_smote.joblib')"
   ]
  },
  {
   "cell_type": "code",
   "execution_count": null,
   "metadata": {},
   "outputs": [],
   "source": [
    "lr_smote = LogisticRegression(class_weight='balanced', solver='saga', max_iter=1000, random_state=42)\n",
    "\n",
    "lr_smote.fit(X_train_smote, y_train_smote)"
   ]
  },
  {
   "cell_type": "code",
   "execution_count": null,
   "metadata": {},
   "outputs": [],
   "source": [
    "joblib.dump(lr_smote, '00_dataset/with_stopwords/model/lr_saga_smote.joblib')"
   ]
  },
  {
   "cell_type": "code",
   "execution_count": null,
   "metadata": {},
   "outputs": [],
   "source": [
    "svm_smote = SVC(class_weight='balanced', kernel='linear', max_iter=1000, random_state=42)\n",
    "\n",
    "svm_smote.fit(X_train_smote, y_train_smote)"
   ]
  },
  {
   "cell_type": "code",
   "execution_count": null,
   "metadata": {},
   "outputs": [],
   "source": [
    "joblib.dump(lr_smote, '00_dataset/with_stopwords/model/svm_linear_smote.joblib')"
   ]
  },
  {
   "cell_type": "code",
   "execution_count": 7,
   "metadata": {},
   "outputs": [],
   "source": [
    "# Set batch size\n",
    "batch_size = 10000  # Adjust based on memory\n",
    "\n",
    "# Initialize the Naïve Bayes model\n",
    "nb_smote = MultinomialNB(class_prior=[0.5, 0.5])\n",
    "\n",
    "# Train in batches using partial_fit\n",
    "classes = np.unique(y_train_smote_loaded)  # Get all class labels\n",
    "for i in range(0, len(X_train_smote_loaded), batch_size):\n",
    "    X_batch = X_train_smote_loaded[i:i+batch_size]\n",
    "    y_batch = y_train_smote_loaded[i:i+batch_size]\n",
    "    \n",
    "    if i == 0:\n",
    "        # First batch: specify classes\n",
    "        nb_smote.partial_fit(X_batch, y_batch, classes=classes)\n",
    "    else:\n",
    "        nb_smote.partial_fit(X_batch, y_batch)"
   ]
  },
  {
   "cell_type": "code",
   "execution_count": null,
   "metadata": {},
   "outputs": [],
   "source": [
    "nb = MultinomialNB(class_prior=[0.5, 0.5])\n",
    "nb.fit(X_train_scaled_loaded, y_train_loaded)"
   ]
  },
  {
   "cell_type": "code",
   "execution_count": null,
   "metadata": {},
   "outputs": [],
   "source": [
    "dt = DecisionTreeClassifier(max_depth=10,  # Limits tree depth to prevent overfitting\n",
    "                            min_samples_split=10,  # Minimum samples needed to split a node\n",
    "                            class_weight=\"balanced\",  # Handles imbalanced dataset\n",
    "                            random_state=42)\n",
    "\n",
    "dt.fit(X_train_scaled_loaded,y_train_loaded)"
   ]
  },
  {
   "cell_type": "markdown",
   "metadata": {},
   "source": [
    "# Evaluate Models"
   ]
  },
  {
   "cell_type": "code",
   "execution_count": null,
   "metadata": {},
   "outputs": [],
   "source": [
    "lr_saga_scaled_loaded = joblib.load('00_dataset/with_stopwords/model/lr_saga_scaled.joblib')\n",
    "svm_linear_scaled_loaded = joblib.load('00_dataset/with_stopwords/model/svm_linear_scaled.joblib')\n",
    "\n",
    "lr_saga_smote_loaded = joblib.load('00_dataset/with_stopwords/model/lr_saga_smote.joblib')\n",
    "svm_linear_smote_loaded = joblib.load('00_dataset/with_stopwords/model/svm_linear_smote.joblib')"
   ]
  },
  {
   "cell_type": "code",
   "execution_count": 8,
   "metadata": {},
   "outputs": [],
   "source": [
    "def evaluate_model(model, X_test, y_test):\n",
    "    \"\"\"\n",
    "    Evaluate a model's performance and display the confusion matrix, ROC AUC for both classes, and overall ROC AUC.\n",
    "    Handles cases where predict_proba is not available.\n",
    "    \"\"\"\n",
    "    # Predict on the test set\n",
    "    y_pred = model.predict(X_test)\n",
    "\n",
    "    # Evaluate performance\n",
    "    print(\"Accuracy:\", accuracy_score(y_test, y_pred))\n",
    "    print(\"Classification Report:\\n\", classification_report(y_test, y_pred))\n",
    "\n",
    "    # Generate confusion matrix\n",
    "    cm = confusion_matrix(y_test, y_pred)\n",
    "\n",
    "    # Display confusion matrix\n",
    "    disp = ConfusionMatrixDisplay(confusion_matrix=cm, display_labels=[0, 1])\n",
    "    disp.plot(cmap=\"Blues\")\n",
    "    plt.title(\"Confusion Matrix\")\n",
    "    plt.show()\n",
    "\n",
    "    # Check if predict_proba is available\n",
    "    if hasattr(model, \"predict_proba\"):\n",
    "        # Get predicted probabilities for both classes\n",
    "        y_proba = model.predict_proba(X_test)\n",
    "\n",
    "        # Calculate ROC AUC for both classes\n",
    "        roc_auc_class_0 = roc_auc_score(y_test, y_proba[:, 0])  # ROC AUC for class 0\n",
    "        roc_auc_class_1 = roc_auc_score(y_test, y_proba[:, 1])  # ROC AUC for class 1\n",
    "        roc_auc_overall = roc_auc_score(y_test, y_proba[:, 1])  # Overall ROC AUC\n",
    "\n",
    "        print(\"ROC AUC for Class 0:\", roc_auc_class_0)\n",
    "        print(\"ROC AUC for Class 1:\", roc_auc_class_1)\n",
    "        print(\"Overall ROC AUC:\", roc_auc_overall)\n",
    "\n",
    "    elif hasattr(model, \"decision_function\"):\n",
    "        # Use decision scores if predict_proba is not available\n",
    "        decision_scores = model.decision_function(X_test)\n",
    "        roc_auc_overall = roc_auc_score(y_test, decision_scores)\n",
    "        print(\"ROC AUC (using decision scores):\", roc_auc_overall)\n",
    "\n",
    "    else:\n",
    "        # If neither predict_proba nor decision_function is available\n",
    "        print(\"ROC AUC cannot be calculated because the model does not support predict_proba or decision_function.\")"
   ]
  },
  {
   "cell_type": "code",
   "execution_count": null,
   "metadata": {},
   "outputs": [],
   "source": [
    "evaluate_model(lr_saga_scaled_loaded, X_val_scaled_loaded, y_val_loaded)"
   ]
  },
  {
   "cell_type": "code",
   "execution_count": null,
   "metadata": {},
   "outputs": [],
   "source": [
    "evaluate_model(lr_saga_smote_loaded, X_val_scaled_loaded, y_val_loaded)"
   ]
  },
  {
   "cell_type": "code",
   "execution_count": null,
   "metadata": {},
   "outputs": [],
   "source": [
    "evaluate_model(svm_linear_scaled_loaded, X_val_scaled_loaded, y_val_loaded)"
   ]
  },
  {
   "cell_type": "code",
   "execution_count": null,
   "metadata": {},
   "outputs": [],
   "source": [
    "evaluate_model(svm_linear_smote_loaded, X_val_scaled_loaded, y_val_loaded)"
   ]
  },
  {
   "cell_type": "code",
   "execution_count": null,
   "metadata": {},
   "outputs": [],
   "source": [
    "evaluate_model(nb, X_val_scaled_loaded, y_val_loaded)"
   ]
  },
  {
   "cell_type": "code",
   "execution_count": 10,
   "metadata": {},
   "outputs": [
    {
     "name": "stdout",
     "output_type": "stream",
     "text": [
      "Accuracy: 0.689790618939618\n",
      "Classification Report:\n",
      "               precision    recall  f1-score   support\n",
      "\n",
      "           0       0.92      0.70      0.80     52802\n",
      "           1       0.24      0.62      0.34      8044\n",
      "\n",
      "    accuracy                           0.69     60846\n",
      "   macro avg       0.58      0.66      0.57     60846\n",
      "weighted avg       0.83      0.69      0.74     60846\n",
      "\n"
     ]
    },
    {
     "data": {
      "image/png": "[encoded data removed]",
      "text/plain": [
       "<Figure size 640x480 with 2 Axes>"
      ]
     },
     "metadata": {},
     "output_type": "display_data"
    },
    {
     "name": "stdout",
     "output_type": "stream",
     "text": [
      "ROC AUC for Class 0: 0.280343180779641\n",
      "ROC AUC for Class 1: 0.719656819220359\n",
      "Overall ROC AUC: 0.719656819220359\n"
     ]
    }
   ],
   "source": [
    "evaluate_model(nb_smote, X_val_scaled_loaded, y_val_loaded)"
   ]
  }
 ],
 "metadata": {
  "colab": {
   "authorship_tag": "ABX9TyO6Iv3wImR/68tHMhlvmBj2",
   "collapsed_sections": [
    "5LAdCfvbsB2Q",
    "kN6Ff2xnpcYW",
    "BRw6BrTTtID5"
   ],
   "provenance": []
  },
  "kernelspec": {
   "display_name": "Python 3",
   "name": "python3"
  },
  "language_info": {
   "codemirror_mode": {
    "name": "ipython",
    "version": 3
   },
   "file_extension": ".py",
   "mimetype": "text/x-python",
   "name": "python",
   "nbconvert_exporter": "python",
   "pygments_lexer": "ipython3",
   "version": "3.11.5"
  }
 },
 "nbformat": 4,
 "nbformat_minor": 0
}
