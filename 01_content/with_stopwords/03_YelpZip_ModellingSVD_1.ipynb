{
 "cells": [
  {
   "cell_type": "code",
   "execution_count": 1,
   "metadata": {},
   "outputs": [],
   "source": [
    "import joblib\n",
    "import os\n",
    "\n",
    "# Data Manipulation\n",
    "import pandas as pd\n",
    "import numpy as np\n",
    "\n",
    "# Machine Learning\n",
    "from sklearn.compose import ColumnTransformer\n",
    "from sklearn.preprocessing import MinMaxScaler\n",
    "from sklearn.model_selection import train_test_split, cross_val_score\n",
    "from sklearn.feature_extraction.text import TfidfVectorizer\n",
    "from sklearn.linear_model import LogisticRegression, SGDClassifier\n",
    "from sklearn.ensemble import RandomForestClassifier\n",
    "from sklearn.svm import SVC\n",
    "from sklearn.naive_bayes import MultinomialNB\n",
    "from imblearn.over_sampling import SMOTE\n",
    "from imblearn.combine import SMOTETomek\n",
    "from sklearn.metrics import classification_report, accuracy_score, silhouette_score, roc_auc_score, confusion_matrix, ConfusionMatrixDisplay\n",
    "from sklearn.tree import DecisionTreeClassifier\n",
    "from joblib import dump, load\n",
    "from imblearn.under_sampling import RandomUnderSampler\n",
    "\n",
    "from sklearn.utils import shuffle\n",
    "\n",
    "from sklearn.model_selection import GridSearchCV\n",
    "\n",
    "# Visualization\n",
    "import matplotlib.pyplot as plt\n",
    "import seaborn as sns"
   ]
  },
  {
   "cell_type": "code",
   "execution_count": 2,
   "metadata": {},
   "outputs": [],
   "source": [
    "df_train_svd = pd.read_parquet('00_dataset/with_stopwords/train_features_sw_svd.parquet', engine='fastparquet')\n",
    "df_test_svd = pd.read_parquet('00_dataset/with_stopwords/test_features_sw_svd.parquet', engine='fastparquet')\n",
    "df_val_svd = pd.read_parquet('00_dataset/with_stopwords/val_features_sw_svd.parquet', engine='fastparquet')"
   ]
  },
  {
   "cell_type": "code",
   "execution_count": 3,
   "metadata": {},
   "outputs": [],
   "source": [
    "# Separate into X and y\n",
    "X_train_svd = df_train_svd.drop(columns=[\"label\"])\n",
    "y_train_svd = df_train_svd[\"label\"]"
   ]
  },
  {
   "cell_type": "code",
   "execution_count": 4,
   "metadata": {},
   "outputs": [],
   "source": [
    "X_test_svd = df_test_svd.drop(columns=[\"label\"])\n",
    "y_test_svd = df_test_svd[\"label\"]"
   ]
  },
  {
   "cell_type": "code",
   "execution_count": 5,
   "metadata": {},
   "outputs": [],
   "source": [
    "X_val_svd = df_val_svd.drop(columns=[\"label\"])\n",
    "y_val_svd = df_val_svd[\"label\"]"
   ]
  },
  {
   "cell_type": "code",
   "execution_count": 6,
   "metadata": {},
   "outputs": [],
   "source": [
    "def train_in_batches(X, y, model, num_batches=10, model_save_prefix='model_batch_'):\n",
    "    \"\"\"\n",
    "    Train a model in a fixed number of batches and save the model after each batch.\n",
    "\n",
    "    Parameters:\n",
    "        X (pd.DataFrame or np.ndarray): Features.\n",
    "        y (pd.Series or np.ndarray): Labels.\n",
    "        model: The model to train (e.g., LogisticRegression).\n",
    "        num_batches (int): Number of batches to split the data into.\n",
    "        model_save_prefix (str): Prefix for saving model checkpoints.\n",
    "\n",
    "    Returns:\n",
    "        Trained model.\n",
    "    \"\"\"\n",
    "    # Calculate the batch size based on the number of batches\n",
    "    n_samples = len(X)\n",
    "    batch_size = n_samples // num_batches\n",
    "\n",
    "    # Find the latest saved model checkpoint\n",
    "    latest_batch = -1\n",
    "    for i in range(num_batches):\n",
    "        checkpoint_path = f'{model_save_prefix}{i}.joblib'\n",
    "        if os.path.exists(checkpoint_path):\n",
    "            latest_batch = i\n",
    "\n",
    "    # Load the latest saved model if it exists\n",
    "    if latest_batch != -1:\n",
    "        print(f\"Loading model from {model_save_prefix}{latest_batch}.joblib...\")\n",
    "        model = load(f'{model_save_prefix}{latest_batch}.joblib')\n",
    "        start_batch = latest_batch + 1\n",
    "    else:\n",
    "        print(\"No saved model found. Starting training from scratch...\")\n",
    "        start_batch = 0\n",
    "\n",
    "    # Train in batches\n",
    "    for i in range(start_batch, num_batches):\n",
    "        start = i * batch_size\n",
    "        end = (i + 1) * batch_size if i < num_batches - 1 else n_samples  # Last batch takes remaining samples\n",
    "\n",
    "        # Get the current batch\n",
    "        X_batch = X[start:end]\n",
    "        y_batch = y[start:end]\n",
    "\n",
    "        # Train the model on the current batch\n",
    "        print(f\"Training on batch {i + 1}/{num_batches} (samples {start}-{end})...\")\n",
    "        model.partial_fit(X_batch, y_batch, classes=y.unique())\n",
    "\n",
    "        # Save the model after each batch\n",
    "        checkpoint_path = f'{model_save_prefix}{i}.joblib'\n",
    "        dump(model, checkpoint_path)\n",
    "        print(f\"Model saved to {checkpoint_path}\")\n",
    "\n",
    "    print(\"Training completed!\")\n",
    "    return model"
   ]
  },
  {
   "cell_type": "code",
   "execution_count": null,
   "metadata": {},
   "outputs": [],
   "source": [
    "os.makedirs('00_dataset/with_stopwords/model/sgd_lr_svd', exist_ok=True)\n",
    "\n",
    "sgd_lr_svd = SGDClassifier(\n",
    "    loss='log_loss',               # Logistic regression loss\n",
    "    penalty='l2',             # L2 regularization (similar to saga in LogisticRegression)\n",
    "    max_iter=1000,            # Maximum number of epochs\n",
    "    random_state=42,          # Reproducibility\n",
    "    # learning_rate='optimal',  # Learning rate schedule (default)\n",
    "    # eta0=0.01                 # Initial learning rate (used if learning_rate='constant')\n",
    ")\n",
    "\n",
    "trained_model = train_in_batches(\n",
    "    X=X_train_svd,\n",
    "    y=y_train_svd,\n",
    "    model=sgd_lr_svd,\n",
    "    num_batches=10,  # Split data into 10 batches\n",
    "    model_save_prefix='00_dataset/with_stopwords/model/sgd_lr_svd/sgd_lr_svd_batch_'  # Prefix for saving checkpoints\n",
    ")"
   ]
  },
  {
   "cell_type": "code",
   "execution_count": 18,
   "metadata": {},
   "outputs": [],
   "source": [
    "# Assuming X_train_svd, X_test_svd, and X_val_svd are pandas DataFrames\n",
    "columns_to_scale = ['sentiment_score', 'vader_score', 'review_length', 'exclamation_count', \n",
    "                    'question_count', 'uppercase_ratio', 'duplicate_word_count', \n",
    "                    'emoji_count', 'avg_word_length']\n",
    "\n",
    "# Initialize ColumnTransformer with MinMaxScaler\n",
    "ct_mms = ColumnTransformer(transformers=[('min_max_scaler', MinMaxScaler(), columns_to_scale)], \n",
    "                           remainder='passthrough')\n",
    "\n",
    "# Step 1: Fit the scaler on the training data\n",
    "ct_mms.fit(X_train_svd)\n",
    "\n",
    "# Function to maintain column names after transformation\n",
    "def transform_in_percentage(data, transformer, percentage=10):\n",
    "    batch_size = max(1, int(len(data) * (percentage / 100)))  # Compute batch size\n",
    "    transformed_batches = []\n",
    "\n",
    "    for i in range(0, len(data), batch_size):\n",
    "        batch = data.iloc[i:i + batch_size]  # Preserve DataFrame format\n",
    "        transformed_batch = transformer.transform(batch)  # Transform batch\n",
    "        transformed_batches.append(transformed_batch)\n",
    "\n",
    "    # Convert transformed data back into a DataFrame with original column names\n",
    "    transformed_array = np.vstack(transformed_batches)\n",
    "    \n",
    "    # Get feature names after transformation\n",
    "    transformed_feature_names = (transformer.get_feature_names_out()  # Get transformed names\n",
    "                                 if hasattr(transformer, 'get_feature_names_out') \n",
    "                                 else columns_to_scale + [col for col in data.columns if col not in columns_to_scale])\n",
    "\n",
    "    return pd.DataFrame(transformed_array, columns=transformed_feature_names, index=data.index)\n",
    "\n",
    "# Apply the transformation and maintain column names\n",
    "X_train_svd_scaled = transform_in_percentage(X_train_svd, ct_mms)\n",
    "X_test_svd_scaled = transform_in_percentage(X_test_svd, ct_mms)\n",
    "X_val_svd_scaled = transform_in_percentage(X_val_svd, ct_mms)"
   ]
  },
  {
   "cell_type": "code",
   "execution_count": 19,
   "metadata": {},
   "outputs": [
    {
     "data": {
      "text/plain": [
       "['00_dataset/with_stopwords/data/X_val_svd_scaled.joblib']"
      ]
     },
     "execution_count": 19,
     "metadata": {},
     "output_type": "execute_result"
    }
   ],
   "source": [
    "joblib.dump(X_train_svd_scaled, '00_dataset/with_stopwords/data/X_train_svd_scaled.joblib')\n",
    "joblib.dump(X_test_svd_scaled, '00_dataset/with_stopwords/data/X_test_svd_scaled.joblib')\n",
    "joblib.dump(X_val_svd_scaled, '00_dataset/with_stopwords/data/X_val_svd_scaled.joblib')"
   ]
  },
  {
   "cell_type": "code",
   "execution_count": 20,
   "metadata": {},
   "outputs": [
    {
     "name": "stdout",
     "output_type": "stream",
     "text": [
      "No saved model found. Starting training from scratch...\n",
      "Training on batch 1/10 (samples 0-42592)...\n",
      "Model saved to 00_dataset/with_stopwords/model/sgd_lr_svd_scaled/sgd_lr_svd_scaled_batch_0.joblib\n",
      "Training on batch 2/10 (samples 42592-85184)...\n",
      "Model saved to 00_dataset/with_stopwords/model/sgd_lr_svd_scaled/sgd_lr_svd_scaled_batch_1.joblib\n",
      "Training on batch 3/10 (samples 85184-127776)...\n",
      "Model saved to 00_dataset/with_stopwords/model/sgd_lr_svd_scaled/sgd_lr_svd_scaled_batch_2.joblib\n",
      "Training on batch 4/10 (samples 127776-170368)...\n",
      "Model saved to 00_dataset/with_stopwords/model/sgd_lr_svd_scaled/sgd_lr_svd_scaled_batch_3.joblib\n",
      "Training on batch 5/10 (samples 170368-212960)...\n",
      "Model saved to 00_dataset/with_stopwords/model/sgd_lr_svd_scaled/sgd_lr_svd_scaled_batch_4.joblib\n",
      "Training on batch 6/10 (samples 212960-255552)...\n",
      "Model saved to 00_dataset/with_stopwords/model/sgd_lr_svd_scaled/sgd_lr_svd_scaled_batch_5.joblib\n",
      "Training on batch 7/10 (samples 255552-298144)...\n",
      "Model saved to 00_dataset/with_stopwords/model/sgd_lr_svd_scaled/sgd_lr_svd_scaled_batch_6.joblib\n",
      "Training on batch 8/10 (samples 298144-340736)...\n",
      "Model saved to 00_dataset/with_stopwords/model/sgd_lr_svd_scaled/sgd_lr_svd_scaled_batch_7.joblib\n",
      "Training on batch 9/10 (samples 340736-383328)...\n",
      "Model saved to 00_dataset/with_stopwords/model/sgd_lr_svd_scaled/sgd_lr_svd_scaled_batch_8.joblib\n",
      "Training on batch 10/10 (samples 383328-425920)...\n",
      "Model saved to 00_dataset/with_stopwords/model/sgd_lr_svd_scaled/sgd_lr_svd_scaled_batch_9.joblib\n",
      "Training completed!\n"
     ]
    }
   ],
   "source": [
    "os.makedirs('00_dataset/with_stopwords/model/sgd_lr_svd_scaled', exist_ok=True)\n",
    "\n",
    "sgd_lr_svd_scaled = SGDClassifier(\n",
    "    loss='log_loss',               # Logistic regression loss\n",
    "    penalty='l2',             # L2 regularization (similar to saga in LogisticRegression)\n",
    "    max_iter=1000,            # Maximum number of epochs\n",
    "    random_state=42,          # Reproducibility\n",
    "    # learning_rate='optimal',  # Learning rate schedule (default)\n",
    "    # eta0=0.01                 # Initial learning rate (used if learning_rate='constant')\n",
    ")\n",
    "\n",
    "trained_model_scaled = train_in_batches(\n",
    "    X=X_train_svd_scaled,\n",
    "    y=y_train_svd,\n",
    "    model=sgd_lr_svd_scaled,\n",
    "    num_batches=10,  # Split data into 10 batches\n",
    "    model_save_prefix='00_dataset/with_stopwords/model/sgd_lr_svd_scaled/sgd_lr_svd_scaled_batch_'  # Prefix for saving checkpoints\n",
    ")"
   ]
  },
  {
   "cell_type": "code",
   "execution_count": 7,
   "metadata": {},
   "outputs": [],
   "source": [
    "X_train_svd_scaled_loaded = joblib.load('00_dataset/with_stopwords/data/X_train_svd_scaled.joblib')\n",
    "\n",
    "undersampler = RandomUnderSampler(random_state=42)\n",
    "X_resampled, y_resampled = undersampler.fit_resample(X_train_svd_scaled_loaded, y_train_svd)"
   ]
  },
  {
   "cell_type": "code",
   "execution_count": 8,
   "metadata": {},
   "outputs": [
    {
     "name": "stdout",
     "output_type": "stream",
     "text": [
      "No saved model found. Starting training from scratch...\n",
      "Training on batch 1/10 (samples 0-11261)...\n",
      "Model saved to 00_dataset/with_stopwords/model/sgd_lr_svd_undersample/sgd_lr_svd_undersample_batch_0.joblib\n",
      "Training on batch 2/10 (samples 11261-22522)...\n",
      "Model saved to 00_dataset/with_stopwords/model/sgd_lr_svd_undersample/sgd_lr_svd_undersample_batch_1.joblib\n",
      "Training on batch 3/10 (samples 22522-33783)...\n",
      "Model saved to 00_dataset/with_stopwords/model/sgd_lr_svd_undersample/sgd_lr_svd_undersample_batch_2.joblib\n",
      "Training on batch 4/10 (samples 33783-45044)...\n",
      "Model saved to 00_dataset/with_stopwords/model/sgd_lr_svd_undersample/sgd_lr_svd_undersample_batch_3.joblib\n",
      "Training on batch 5/10 (samples 45044-56305)...\n",
      "Model saved to 00_dataset/with_stopwords/model/sgd_lr_svd_undersample/sgd_lr_svd_undersample_batch_4.joblib\n",
      "Training on batch 6/10 (samples 56305-67566)...\n",
      "Model saved to 00_dataset/with_stopwords/model/sgd_lr_svd_undersample/sgd_lr_svd_undersample_batch_5.joblib\n",
      "Training on batch 7/10 (samples 67566-78827)...\n",
      "Model saved to 00_dataset/with_stopwords/model/sgd_lr_svd_undersample/sgd_lr_svd_undersample_batch_6.joblib\n",
      "Training on batch 8/10 (samples 78827-90088)...\n",
      "Model saved to 00_dataset/with_stopwords/model/sgd_lr_svd_undersample/sgd_lr_svd_undersample_batch_7.joblib\n",
      "Training on batch 9/10 (samples 90088-101349)...\n",
      "Model saved to 00_dataset/with_stopwords/model/sgd_lr_svd_undersample/sgd_lr_svd_undersample_batch_8.joblib\n",
      "Training on batch 10/10 (samples 101349-112614)...\n",
      "Model saved to 00_dataset/with_stopwords/model/sgd_lr_svd_undersample/sgd_lr_svd_undersample_batch_9.joblib\n",
      "Training completed!\n"
     ]
    }
   ],
   "source": [
    "os.makedirs('00_dataset/with_stopwords/model/sgd_lr_svd_undersample', exist_ok=True)\n",
    "\n",
    "sgd_lr_svd_undersample = SGDClassifier(\n",
    "    loss='log_loss',               # Logistic regression loss\n",
    "    penalty='l2',             # L2 regularization (similar to saga in LogisticRegression)\n",
    "    max_iter=1000,            # Maximum number of epochs\n",
    "    random_state=42,          # Reproducibility\n",
    "    # learning_rate='optimal',  # Learning rate schedule (default)\n",
    "    # eta0=0.01                 # Initial learning rate (used if learning_rate='constant')\n",
    ")\n",
    "\n",
    "trained_model_undersample = train_in_batches(\n",
    "    X=X_resampled,\n",
    "    y=y_resampled,\n",
    "    model=sgd_lr_svd_undersample,\n",
    "    num_batches=10,  # Split data into 10 batches\n",
    "    model_save_prefix='00_dataset/with_stopwords/model/sgd_lr_svd_undersample/sgd_lr_svd_undersample_batch_'  # Prefix for saving checkpoints\n",
    "    )"
   ]
  },
  {
   "cell_type": "code",
   "execution_count": 29,
   "metadata": {},
   "outputs": [
    {
     "ename": "ValueError",
     "evalue": "Found input variables with inconsistent numbers of samples: [121692, 425920]",
     "output_type": "error",
     "traceback": [
      "\u001b[31m---------------------------------------------------------------------------\u001b[39m",
      "\u001b[31mValueError\u001b[39m                                Traceback (most recent call last)",
      "\u001b[36mCell\u001b[39m\u001b[36m \u001b[39m\u001b[32mIn[29]\u001b[39m\u001b[32m, line 2\u001b[39m\n\u001b[32m      1\u001b[39m nb = MultinomialNB(class_prior=[\u001b[32m0.5\u001b[39m, \u001b[32m0.5\u001b[39m])\n\u001b[32m----> \u001b[39m\u001b[32m2\u001b[39m \u001b[43mnb\u001b[49m\u001b[43m.\u001b[49m\u001b[43mfit\u001b[49m\u001b[43m(\u001b[49m\u001b[43mX_test_svd_scaled\u001b[49m\u001b[43m,\u001b[49m\u001b[43m \u001b[49m\u001b[43my_train_svd\u001b[49m\u001b[43m)\u001b[49m\n",
      "\u001b[36mFile \u001b[39m\u001b[32m~/Documents/GitHub/INF2008_YelpZip/path/to/venv/lib/python3.13/site-packages/sklearn/base.py:1389\u001b[39m, in \u001b[36m_fit_context.<locals>.decorator.<locals>.wrapper\u001b[39m\u001b[34m(estimator, *args, **kwargs)\u001b[39m\n\u001b[32m   1382\u001b[39m     estimator._validate_params()\n\u001b[32m   1384\u001b[39m \u001b[38;5;28;01mwith\u001b[39;00m config_context(\n\u001b[32m   1385\u001b[39m     skip_parameter_validation=(\n\u001b[32m   1386\u001b[39m         prefer_skip_nested_validation \u001b[38;5;129;01mor\u001b[39;00m global_skip_validation\n\u001b[32m   1387\u001b[39m     )\n\u001b[32m   1388\u001b[39m ):\n\u001b[32m-> \u001b[39m\u001b[32m1389\u001b[39m     \u001b[38;5;28;01mreturn\u001b[39;00m \u001b[43mfit_method\u001b[49m\u001b[43m(\u001b[49m\u001b[43mestimator\u001b[49m\u001b[43m,\u001b[49m\u001b[43m \u001b[49m\u001b[43m*\u001b[49m\u001b[43margs\u001b[49m\u001b[43m,\u001b[49m\u001b[43m \u001b[49m\u001b[43m*\u001b[49m\u001b[43m*\u001b[49m\u001b[43mkwargs\u001b[49m\u001b[43m)\u001b[49m\n",
      "\u001b[36mFile \u001b[39m\u001b[32m~/Documents/GitHub/INF2008_YelpZip/path/to/venv/lib/python3.13/site-packages/sklearn/naive_bayes.py:735\u001b[39m, in \u001b[36m_BaseDiscreteNB.fit\u001b[39m\u001b[34m(self, X, y, sample_weight)\u001b[39m\n\u001b[32m    714\u001b[39m \u001b[38;5;129m@_fit_context\u001b[39m(prefer_skip_nested_validation=\u001b[38;5;28;01mTrue\u001b[39;00m)\n\u001b[32m    715\u001b[39m \u001b[38;5;28;01mdef\u001b[39;00m\u001b[38;5;250m \u001b[39m\u001b[34mfit\u001b[39m(\u001b[38;5;28mself\u001b[39m, X, y, sample_weight=\u001b[38;5;28;01mNone\u001b[39;00m):\n\u001b[32m    716\u001b[39m \u001b[38;5;250m    \u001b[39m\u001b[33;03m\"\"\"Fit Naive Bayes classifier according to X, y.\u001b[39;00m\n\u001b[32m    717\u001b[39m \n\u001b[32m    718\u001b[39m \u001b[33;03m    Parameters\u001b[39;00m\n\u001b[32m   (...)\u001b[39m\u001b[32m    733\u001b[39m \u001b[33;03m        Returns the instance itself.\u001b[39;00m\n\u001b[32m    734\u001b[39m \u001b[33;03m    \"\"\"\u001b[39;00m\n\u001b[32m--> \u001b[39m\u001b[32m735\u001b[39m     X, y = \u001b[38;5;28;43mself\u001b[39;49m\u001b[43m.\u001b[49m\u001b[43m_check_X_y\u001b[49m\u001b[43m(\u001b[49m\u001b[43mX\u001b[49m\u001b[43m,\u001b[49m\u001b[43m \u001b[49m\u001b[43my\u001b[49m\u001b[43m)\u001b[49m\n\u001b[32m    736\u001b[39m     _, n_features = X.shape\n\u001b[32m    738\u001b[39m     labelbin = LabelBinarizer()\n",
      "\u001b[36mFile \u001b[39m\u001b[32m~/Documents/GitHub/INF2008_YelpZip/path/to/venv/lib/python3.13/site-packages/sklearn/naive_bayes.py:581\u001b[39m, in \u001b[36m_BaseDiscreteNB._check_X_y\u001b[39m\u001b[34m(self, X, y, reset)\u001b[39m\n\u001b[32m    579\u001b[39m \u001b[38;5;28;01mdef\u001b[39;00m\u001b[38;5;250m \u001b[39m\u001b[34m_check_X_y\u001b[39m(\u001b[38;5;28mself\u001b[39m, X, y, reset=\u001b[38;5;28;01mTrue\u001b[39;00m):\n\u001b[32m    580\u001b[39m \u001b[38;5;250m    \u001b[39m\u001b[33;03m\"\"\"Validate X and y in fit methods.\"\"\"\u001b[39;00m\n\u001b[32m--> \u001b[39m\u001b[32m581\u001b[39m     \u001b[38;5;28;01mreturn\u001b[39;00m \u001b[43mvalidate_data\u001b[49m\u001b[43m(\u001b[49m\u001b[38;5;28;43mself\u001b[39;49m\u001b[43m,\u001b[49m\u001b[43m \u001b[49m\u001b[43mX\u001b[49m\u001b[43m,\u001b[49m\u001b[43m \u001b[49m\u001b[43my\u001b[49m\u001b[43m,\u001b[49m\u001b[43m \u001b[49m\u001b[43maccept_sparse\u001b[49m\u001b[43m=\u001b[49m\u001b[33;43m\"\u001b[39;49m\u001b[33;43mcsr\u001b[39;49m\u001b[33;43m\"\u001b[39;49m\u001b[43m,\u001b[49m\u001b[43m \u001b[49m\u001b[43mreset\u001b[49m\u001b[43m=\u001b[49m\u001b[43mreset\u001b[49m\u001b[43m)\u001b[49m\n",
      "\u001b[36mFile \u001b[39m\u001b[32m~/Documents/GitHub/INF2008_YelpZip/path/to/venv/lib/python3.13/site-packages/sklearn/utils/validation.py:2961\u001b[39m, in \u001b[36mvalidate_data\u001b[39m\u001b[34m(_estimator, X, y, reset, validate_separately, skip_check_array, **check_params)\u001b[39m\n\u001b[32m   2959\u001b[39m         y = check_array(y, input_name=\u001b[33m\"\u001b[39m\u001b[33my\u001b[39m\u001b[33m\"\u001b[39m, **check_y_params)\n\u001b[32m   2960\u001b[39m     \u001b[38;5;28;01melse\u001b[39;00m:\n\u001b[32m-> \u001b[39m\u001b[32m2961\u001b[39m         X, y = \u001b[43mcheck_X_y\u001b[49m\u001b[43m(\u001b[49m\u001b[43mX\u001b[49m\u001b[43m,\u001b[49m\u001b[43m \u001b[49m\u001b[43my\u001b[49m\u001b[43m,\u001b[49m\u001b[43m \u001b[49m\u001b[43m*\u001b[49m\u001b[43m*\u001b[49m\u001b[43mcheck_params\u001b[49m\u001b[43m)\u001b[49m\n\u001b[32m   2962\u001b[39m     out = X, y\n\u001b[32m   2964\u001b[39m \u001b[38;5;28;01mif\u001b[39;00m \u001b[38;5;129;01mnot\u001b[39;00m no_val_X \u001b[38;5;129;01mand\u001b[39;00m check_params.get(\u001b[33m\"\u001b[39m\u001b[33mensure_2d\u001b[39m\u001b[33m\"\u001b[39m, \u001b[38;5;28;01mTrue\u001b[39;00m):\n",
      "\u001b[36mFile \u001b[39m\u001b[32m~/Documents/GitHub/INF2008_YelpZip/path/to/venv/lib/python3.13/site-packages/sklearn/utils/validation.py:1389\u001b[39m, in \u001b[36mcheck_X_y\u001b[39m\u001b[34m(X, y, accept_sparse, accept_large_sparse, dtype, order, copy, force_writeable, force_all_finite, ensure_all_finite, ensure_2d, allow_nd, multi_output, ensure_min_samples, ensure_min_features, y_numeric, estimator)\u001b[39m\n\u001b[32m   1370\u001b[39m X = check_array(\n\u001b[32m   1371\u001b[39m     X,\n\u001b[32m   1372\u001b[39m     accept_sparse=accept_sparse,\n\u001b[32m   (...)\u001b[39m\u001b[32m   1384\u001b[39m     input_name=\u001b[33m\"\u001b[39m\u001b[33mX\u001b[39m\u001b[33m\"\u001b[39m,\n\u001b[32m   1385\u001b[39m )\n\u001b[32m   1387\u001b[39m y = _check_y(y, multi_output=multi_output, y_numeric=y_numeric, estimator=estimator)\n\u001b[32m-> \u001b[39m\u001b[32m1389\u001b[39m \u001b[43mcheck_consistent_length\u001b[49m\u001b[43m(\u001b[49m\u001b[43mX\u001b[49m\u001b[43m,\u001b[49m\u001b[43m \u001b[49m\u001b[43my\u001b[49m\u001b[43m)\u001b[49m\n\u001b[32m   1391\u001b[39m \u001b[38;5;28;01mreturn\u001b[39;00m X, y\n",
      "\u001b[36mFile \u001b[39m\u001b[32m~/Documents/GitHub/INF2008_YelpZip/path/to/venv/lib/python3.13/site-packages/sklearn/utils/validation.py:475\u001b[39m, in \u001b[36mcheck_consistent_length\u001b[39m\u001b[34m(*arrays)\u001b[39m\n\u001b[32m    473\u001b[39m uniques = np.unique(lengths)\n\u001b[32m    474\u001b[39m \u001b[38;5;28;01mif\u001b[39;00m \u001b[38;5;28mlen\u001b[39m(uniques) > \u001b[32m1\u001b[39m:\n\u001b[32m--> \u001b[39m\u001b[32m475\u001b[39m     \u001b[38;5;28;01mraise\u001b[39;00m \u001b[38;5;167;01mValueError\u001b[39;00m(\n\u001b[32m    476\u001b[39m         \u001b[33m\"\u001b[39m\u001b[33mFound input variables with inconsistent numbers of samples: \u001b[39m\u001b[38;5;132;01m%r\u001b[39;00m\u001b[33m\"\u001b[39m\n\u001b[32m    477\u001b[39m         % [\u001b[38;5;28mint\u001b[39m(l) \u001b[38;5;28;01mfor\u001b[39;00m l \u001b[38;5;129;01min\u001b[39;00m lengths]\n\u001b[32m    478\u001b[39m     )\n",
      "\u001b[31mValueError\u001b[39m: Found input variables with inconsistent numbers of samples: [121692, 425920]"
     ]
    }
   ],
   "source": [
    "nb = MultinomialNB(class_prior=[0.5, 0.5])\n",
    "nb.fit(X_test_svd_scaled, y_train_svd)"
   ]
  },
  {
   "cell_type": "markdown",
   "metadata": {},
   "source": [
    "# Evalutate Model"
   ]
  },
  {
   "cell_type": "code",
   "execution_count": 10,
   "metadata": {},
   "outputs": [],
   "source": [
    "def evaluate_model(model, X_test, y_test):\n",
    "    \"\"\"\n",
    "    Evaluate a model's performance and display the confusion matrix, ROC AUC for both classes, and overall ROC AUC.\n",
    "    Handles cases where predict_proba is not available.\n",
    "    \"\"\"\n",
    "    # Predict on the test set\n",
    "    y_pred = model.predict(X_test)\n",
    "\n",
    "    # Evaluate performance\n",
    "    print(\"Accuracy:\", accuracy_score(y_test, y_pred))\n",
    "    print(\"Classification Report:\\n\", classification_report(y_test, y_pred))\n",
    "\n",
    "    # Generate confusion matrix\n",
    "    cm = confusion_matrix(y_test, y_pred)\n",
    "\n",
    "    # Display confusion matrix\n",
    "    disp = ConfusionMatrixDisplay(confusion_matrix=cm, display_labels=[0, 1])\n",
    "    disp.plot(cmap=\"Blues\")\n",
    "    plt.title(\"Confusion Matrix\")\n",
    "    plt.show()\n",
    "\n",
    "    # Check if predict_proba is available\n",
    "    if hasattr(model, \"predict_proba\"):\n",
    "        # Get predicted probabilities for both classes\n",
    "        y_proba = model.predict_proba(X_test)\n",
    "\n",
    "        # Calculate ROC AUC for both classes\n",
    "        roc_auc_class_0 = roc_auc_score(y_test, y_proba[:, 0])  # ROC AUC for class 0\n",
    "        roc_auc_class_1 = roc_auc_score(y_test, y_proba[:, 1])  # ROC AUC for class 1\n",
    "        roc_auc_overall = roc_auc_score(y_test, y_proba[:, 1])  # Overall ROC AUC\n",
    "\n",
    "        print(\"ROC AUC for Class 0:\", roc_auc_class_0)\n",
    "        print(\"ROC AUC for Class 1:\", roc_auc_class_1)\n",
    "        print(\"Overall ROC AUC:\", roc_auc_overall)\n",
    "\n",
    "    elif hasattr(model, \"decision_function\"):\n",
    "        # Use decision scores if predict_proba is not available\n",
    "        decision_scores = model.decision_function(X_test)\n",
    "        roc_auc_overall = roc_auc_score(y_test, decision_scores)\n",
    "        print(\"ROC AUC (using decision scores):\", roc_auc_overall)\n",
    "\n",
    "    else:\n",
    "        # If neither predict_proba nor decision_function is available\n",
    "        print(\"ROC AUC cannot be calculated because the model does not support predict_proba or decision_function.\")"
   ]
  },
  {
   "cell_type": "code",
   "execution_count": 25,
   "metadata": {},
   "outputs": [
    {
     "name": "stdout",
     "output_type": "stream",
     "text": [
      "Accuracy: 0.8565558952108602\n",
      "Classification Report:\n",
      "               precision    recall  f1-score   support\n",
      "\n",
      "           0       0.87      0.98      0.92     52802\n",
      "           1       0.28      0.05      0.09      8044\n",
      "\n",
      "    accuracy                           0.86     60846\n",
      "   macro avg       0.58      0.52      0.51     60846\n",
      "weighted avg       0.79      0.86      0.81     60846\n",
      "\n"
     ]
    },
    {
     "data": {
      "image/png": "[encoded data removed]",
      "text/plain": [
       "<Figure size 640x480 with 2 Axes>"
      ]
     },
     "metadata": {},
     "output_type": "display_data"
    },
    {
     "name": "stdout",
     "output_type": "stream",
     "text": [
      "ROC AUC for Class 0: 0.4588046079222132\n",
      "ROC AUC for Class 1: 0.6192148876512691\n",
      "Overall ROC AUC: 0.6192148876512691\n"
     ]
    }
   ],
   "source": [
    "sgd_lr_svd_batch_9_loaded = joblib.load('00_dataset/with_stopwords/model/sgd_lr_svd/sgd_lr_svd_batch_9.joblib')\n",
    "evaluate_model(sgd_lr_svd_batch_9_loaded, X_val_svd, y_val_svd)"
   ]
  },
  {
   "cell_type": "code",
   "execution_count": 26,
   "metadata": {},
   "outputs": [
    {
     "name": "stdout",
     "output_type": "stream",
     "text": [
      "Accuracy: 0.8677973901324656\n",
      "Classification Report:\n",
      "               precision    recall  f1-score   support\n",
      "\n",
      "           0       0.87      1.00      0.93     52802\n",
      "           1       0.50      0.01      0.02      8044\n",
      "\n",
      "    accuracy                           0.87     60846\n",
      "   macro avg       0.68      0.50      0.47     60846\n",
      "weighted avg       0.82      0.87      0.81     60846\n",
      "\n"
     ]
    },
    {
     "data": {
      "image/png": "[encoded data removed]",
      "text/plain": [
       "<Figure size 640x480 with 2 Axes>"
      ]
     },
     "metadata": {},
     "output_type": "display_data"
    },
    {
     "name": "stdout",
     "output_type": "stream",
     "text": [
      "ROC AUC for Class 0: 0.2667959750876637\n",
      "ROC AUC for Class 1: 0.7332040249123364\n",
      "Overall ROC AUC: 0.7332040249123364\n"
     ]
    }
   ],
   "source": [
    "sgd_lr_svd_scaled_batch_9_loaded = joblib.load('00_dataset/with_stopwords/model/sgd_lr_svd_scaled/sgd_lr_svd_scaled_batch_9.joblib')\n",
    "evaluate_model(trained_model_scaled, X_val_svd_scaled, y_val_svd)"
   ]
  },
  {
   "cell_type": "code",
   "execution_count": 27,
   "metadata": {},
   "outputs": [
    {
     "name": "stdout",
     "output_type": "stream",
     "text": [
      "Accuracy: 0.13220260986753443\n",
      "Classification Report:\n",
      "               precision    recall  f1-score   support\n",
      "\n",
      "           0       0.00      0.00      0.00     52802\n",
      "           1       0.13      1.00      0.23      8044\n",
      "\n",
      "    accuracy                           0.13     60846\n",
      "   macro avg       0.07      0.50      0.12     60846\n",
      "weighted avg       0.02      0.13      0.03     60846\n",
      "\n"
     ]
    },
    {
     "name": "stderr",
     "output_type": "stream",
     "text": [
      "/Users/hanwei23/Documents/GitHub/INF2008_YelpZip/path/to/venv/lib/python3.13/site-packages/sklearn/metrics/_classification.py:1565: UndefinedMetricWarning: Precision is ill-defined and being set to 0.0 in labels with no predicted samples. Use `zero_division` parameter to control this behavior.\n",
      "  _warn_prf(average, modifier, f\"{metric.capitalize()} is\", len(result))\n",
      "/Users/hanwei23/Documents/GitHub/INF2008_YelpZip/path/to/venv/lib/python3.13/site-packages/sklearn/metrics/_classification.py:1565: UndefinedMetricWarning: Precision is ill-defined and being set to 0.0 in labels with no predicted samples. Use `zero_division` parameter to control this behavior.\n",
      "  _warn_prf(average, modifier, f\"{metric.capitalize()} is\", len(result))\n",
      "/Users/hanwei23/Documents/GitHub/INF2008_YelpZip/path/to/venv/lib/python3.13/site-packages/sklearn/metrics/_classification.py:1565: UndefinedMetricWarning: Precision is ill-defined and being set to 0.0 in labels with no predicted samples. Use `zero_division` parameter to control this behavior.\n",
      "  _warn_prf(average, modifier, f\"{metric.capitalize()} is\", len(result))\n"
     ]
    },
    {
     "data": {
      "image/png": "[encoded data removed]",
      "text/plain": [
       "<Figure size 640x480 with 2 Axes>"
      ]
     },
     "metadata": {},
     "output_type": "display_data"
    },
    {
     "name": "stdout",
     "output_type": "stream",
     "text": [
      "ROC AUC for Class 0: 0.5391407493247953\n",
      "ROC AUC for Class 1: 0.4608592506752048\n",
      "Overall ROC AUC: 0.4608592506752048\n"
     ]
    }
   ],
   "source": [
    "X_test_svd_scaled_loaded = joblib.load('00_dataset/with_stopwords/data/X_test_svd_scaled.joblib')\n",
    "evaluate_model(trained_model_undersample, X_val_svd_scaled, y_val_svd)"
   ]
  }
 ],
 "metadata": {
  "kernelspec": {
   "display_name": "venv",
   "language": "python",
   "name": "python3"
  },
  "language_info": {
   "codemirror_mode": {
    "name": "ipython",
    "version": 3
   },
   "file_extension": ".py",
   "mimetype": "text/x-python",
   "name": "python",
   "nbconvert_exporter": "python",
   "pygments_lexer": "ipython3",
   "version": "3.13.0"
  }
 },
 "nbformat": 4,
 "nbformat_minor": 2
}
