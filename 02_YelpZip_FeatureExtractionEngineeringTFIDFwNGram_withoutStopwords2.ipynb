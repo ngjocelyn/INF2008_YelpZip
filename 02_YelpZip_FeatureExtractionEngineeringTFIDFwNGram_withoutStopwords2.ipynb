{
  "cells": [
    {
      "cell_type": "code",
      "execution_count": 1,
      "metadata": {
        "colab": {
          "base_uri": "https://localhost:8080/"
        },
        "id": "-jMIBikVVMBN",
        "outputId": "03b566e6-8b6b-4392-ff11-dc90299311d7"
      },
      "outputs": [
        {
          "name": "stderr",
          "output_type": "stream",
          "text": [
            "[nltk_data] Downloading package vader_lexicon to\n",
            "[nltk_data]     C:\\Users\\ngmin\\AppData\\Roaming\\nltk_data...\n",
            "[nltk_data]   Package vader_lexicon is already up-to-date!\n"
          ]
        },
        {
          "data": {
            "text/plain": [
              "True"
            ]
          },
          "execution_count": 1,
          "metadata": {},
          "output_type": "execute_result"
        }
      ],
      "source": [
        "# Data Manipulation\n",
        "import pandas as pd\n",
        "import numpy as np\n",
        "\n",
        "# Text Processing and NLP\n",
        "import emoji\n",
        "import nltk\n",
        "from nltk.sentiment import SentimentIntensityAnalyzer\n",
        "from textblob import TextBlob\n",
        "\n",
        "# Machine Learning\n",
        "from scipy.sparse import hstack\n",
        "from sklearn.model_selection import train_test_split, cross_val_score\n",
        "from sklearn.feature_extraction.text import TfidfVectorizer\n",
        "from sklearn.linear_model import LogisticRegression\n",
        "from sklearn.ensemble import RandomForestClassifier\n",
        "from sklearn.svm import SVC\n",
        "from sklearn.naive_bayes import MultinomialNB\n",
        "from imblearn.over_sampling import SMOTE\n",
        "import joblib\n",
        "from sklearn.compose import ColumnTransformer\n",
        "from sklearn.preprocessing import MinMaxScaler\n",
        "from sklearn.decomposition import TruncatedSVD\n",
        "from sklearn.metrics import classification_report, accuracy_score, silhouette_score, roc_auc_score, confusion_matrix, ConfusionMatrixDisplay\n",
        "\n",
        "# Visualization\n",
        "import matplotlib.pyplot as plt\n",
        "import seaborn as sns\n",
        "\n",
        "# Download necessary NLTK data\n",
        "nltk.download(\"vader_lexicon\")"
      ]
    },
    {
      "cell_type": "markdown",
      "metadata": {},
      "source": [
        "# Feature Extraction - Without Stopwords"
      ]
    },
    {
      "cell_type": "code",
      "execution_count": 2,
      "metadata": {},
      "outputs": [
        {
          "data": {
            "text/html": [
              "<div>\n",
              "<style scoped>\n",
              "    .dataframe tbody tr th:only-of-type {\n",
              "        vertical-align: middle;\n",
              "    }\n",
              "\n",
              "    .dataframe tbody tr th {\n",
              "        vertical-align: top;\n",
              "    }\n",
              "\n",
              "    .dataframe thead th {\n",
              "        text-align: right;\n",
              "    }\n",
              "</style>\n",
              "<table border=\"1\" class=\"dataframe\">\n",
              "  <thead>\n",
              "    <tr style=\"text-align: right;\">\n",
              "      <th></th>\n",
              "      <th>user_id</th>\n",
              "      <th>prod_id</th>\n",
              "      <th>review_text</th>\n",
              "      <th>rating</th>\n",
              "      <th>label</th>\n",
              "      <th>cleaned_text</th>\n",
              "    </tr>\n",
              "  </thead>\n",
              "  <tbody>\n",
              "    <tr>\n",
              "      <th>0</th>\n",
              "      <td>5044</td>\n",
              "      <td>0</td>\n",
              "      <td>Drinks were bad, the hot chocolate was watered...</td>\n",
              "      <td>1.0</td>\n",
              "      <td>1</td>\n",
              "      <td>Drinks bad , hot chocolate water latte burnt t...</td>\n",
              "    </tr>\n",
              "    <tr>\n",
              "      <th>1</th>\n",
              "      <td>5045</td>\n",
              "      <td>0</td>\n",
              "      <td>This was the worst experience I've ever had a ...</td>\n",
              "      <td>1.0</td>\n",
              "      <td>1</td>\n",
              "      <td>This bad experience I ever casual coffee/light...</td>\n",
              "    </tr>\n",
              "    <tr>\n",
              "      <th>2</th>\n",
              "      <td>5046</td>\n",
              "      <td>0</td>\n",
              "      <td>This is located on the site of the old Spruce ...</td>\n",
              "      <td>3.0</td>\n",
              "      <td>1</td>\n",
              "      <td>This locate site old Spruce St. Video . The mi...</td>\n",
              "    </tr>\n",
              "    <tr>\n",
              "      <th>3</th>\n",
              "      <td>5047</td>\n",
              "      <td>0</td>\n",
              "      <td>I enjoyed coffee and breakfast twice at Toast ...</td>\n",
              "      <td>5.0</td>\n",
              "      <td>1</td>\n",
              "      <td>I enjoy coffee breakfast twice Toast recent vi...</td>\n",
              "    </tr>\n",
              "    <tr>\n",
              "      <th>4</th>\n",
              "      <td>5048</td>\n",
              "      <td>0</td>\n",
              "      <td>I love Toast! The food choices are fantastic -...</td>\n",
              "      <td>5.0</td>\n",
              "      <td>1</td>\n",
              "      <td>I love Toast ! The food choice fantastic - I l...</td>\n",
              "    </tr>\n",
              "  </tbody>\n",
              "</table>\n",
              "</div>"
            ],
            "text/plain": [
              "   user_id  prod_id                                        review_text  \\\n",
              "0     5044        0  Drinks were bad, the hot chocolate was watered...   \n",
              "1     5045        0  This was the worst experience I've ever had a ...   \n",
              "2     5046        0  This is located on the site of the old Spruce ...   \n",
              "3     5047        0  I enjoyed coffee and breakfast twice at Toast ...   \n",
              "4     5048        0  I love Toast! The food choices are fantastic -...   \n",
              "\n",
              "   rating  label                                       cleaned_text  \n",
              "0     1.0      1  Drinks bad , hot chocolate water latte burnt t...  \n",
              "1     1.0      1  This bad experience I ever casual coffee/light...  \n",
              "2     3.0      1  This locate site old Spruce St. Video . The mi...  \n",
              "3     5.0      1  I enjoy coffee breakfast twice Toast recent vi...  \n",
              "4     5.0      1  I love Toast ! The food choice fantastic - I l...  "
            ]
          },
          "execution_count": 2,
          "metadata": {},
          "output_type": "execute_result"
        }
      ],
      "source": [
        "df = pd.read_csv(\"00_dataset/without_stopwords/cleaned_reviews.csv\")\n",
        "df.head()"
      ]
    },
    {
      "cell_type": "code",
      "execution_count": 3,
      "metadata": {},
      "outputs": [
        {
          "name": "stdout",
          "output_type": "stream",
          "text": [
            "user_id         0\n",
            "prod_id         0\n",
            "review_text     0\n",
            "rating          0\n",
            "label           0\n",
            "cleaned_text    6\n",
            "dtype: int64\n"
          ]
        }
      ],
      "source": [
        "print(df.isnull().sum())\n"
      ]
    },
    {
      "cell_type": "code",
      "execution_count": 3,
      "metadata": {},
      "outputs": [],
      "source": [
        "df[\"cleaned_text\"] = df[\"cleaned_text\"].fillna(\"\")"
      ]
    },
    {
      "cell_type": "code",
      "execution_count": 4,
      "metadata": {},
      "outputs": [
        {
          "name": "stdout",
          "output_type": "stream",
          "text": [
            "Training set:  425920\n",
            "Test set:  121692\n",
            "Validation set:  60846\n"
          ]
        }
      ],
      "source": [
        "X = df[\"cleaned_text\"]\n",
        "y = df[\"label\"]\n",
        "\n",
        "# First, split into Train (80%) and Test (20%)\n",
        "X_train, X_test, y_train, y_test = train_test_split(X, y, test_size=0.2, stratify=y, random_state=42)\n",
        "\n",
        "# Next, split Train (80%) into Train (70%) and Validation (10%)\n",
        "X_train, X_val, y_train, y_val = train_test_split(X_train, y_train, test_size=0.125, stratify=y_train, random_state=42)\n",
        "\n",
        "print(\"Training set: \", len(X_train))\n",
        "print(\"Test set: \", len(X_test))\n",
        "print(\"Validation set: \", len(X_val))"
      ]
    },
    {
      "cell_type": "code",
      "execution_count": 6,
      "metadata": {},
      "outputs": [
        {
          "data": {
            "text/plain": [
              "['00_dataset/without_stopwords/tfidfWithNGram/vectorizer.joblib']"
            ]
          },
          "execution_count": 6,
          "metadata": {},
          "output_type": "execute_result"
        }
      ],
      "source": [
        "vectorizer = TfidfVectorizer(max_features=5000, ngram_range=(1,2), sublinear_tf=True)  # Top 5000 words\n",
        "X_train_tfidf = vectorizer.fit_transform(X_train)\n",
        "X_val_tfidf = vectorizer.transform(X_val)\n",
        "X_test_tfidf = vectorizer.transform(X_test)\n",
        "\n",
        "# Save the vectorizer\n",
        "joblib.dump(vectorizer, \"00_dataset/without_stopwords/tfidfWithNGram/vectorizer.joblib\")"
      ]
    },
    {
      "cell_type": "code",
      "execution_count": 5,
      "metadata": {},
      "outputs": [],
      "source": [
        "# Load the vectorizer\n",
        "vectorizer = joblib.load(\"00_dataset/without_stopwords/tfidfWithNGram/vectorizer.joblib\")\n",
        "\n",
        "X_train_tfidf = vectorizer.transform(X_train)\n",
        "X_val_tfidf = vectorizer.transform(X_val)\n",
        "X_test_tfidf = vectorizer.transform(X_test)"
      ]
    },
    {
      "cell_type": "code",
      "execution_count": 6,
      "metadata": {},
      "outputs": [
        {
          "name": "stdout",
          "output_type": "stream",
          "text": [
            "Engineered features extracted.\n"
          ]
        }
      ],
      "source": [
        "sia = SentimentIntensityAnalyzer()\n",
        "\n",
        "def extract_features(text):\n",
        "    sentiment_score = TextBlob(text).sentiment.polarity  # Sentiment (-1 to +1)\n",
        "    vader_score = sia.polarity_scores(text)[\"compound\"]  # VADER sentiment\n",
        "    review_length = len(text.split())  # Word count\n",
        "    exclamation_count = text.count(\"!\")  # Number of !\n",
        "    question_count = text.count(\"?\")  # Number of ?\n",
        "    uppercase_ratio = sum(1 for c in text if c.isupper()) / len(text) if len(text) > 0 else 0  # % uppercase\n",
        "    duplicate_word_count = len([w for w in text.split() if text.split().count(w) > 1])  # Repeated words\n",
        "    emoji_count = len([char for char in text if char in emoji.EMOJI_DATA])  # Count emojis\n",
        "    avg_word_length = sum(len(word) for word in text.split()) / review_length if review_length > 0 else 0  # Avg word length\n",
        "\n",
        "    return [sentiment_score, vader_score, review_length, exclamation_count, question_count, uppercase_ratio,\n",
        "            duplicate_word_count, emoji_count, avg_word_length]\n",
        "\n",
        "# Apply feature extraction to dataset\n",
        "df_train_features = X_train.apply(extract_features)\n",
        "df_test_features = X_test.apply(extract_features)\n",
        "df_val_features = X_val.apply(extract_features)\n",
        "\n",
        "features_cols = [\"sentiment_score\", \"vader_score\", \"review_length\",\n",
        "                 \"exclamation_count\", \"question_count\", \"uppercase_ratio\",\n",
        "                 \"duplicate_word_count\", \"emoji_count\", \"avg_word_length\"]\n",
        "\n",
        "df_train_features = pd.DataFrame(df_train_features.tolist(), columns=features_cols)\n",
        "df_test_features = pd.DataFrame(df_test_features.tolist(), columns=features_cols)\n",
        "df_val_features = pd.DataFrame(df_val_features.tolist(), columns=features_cols)\n",
        "print(\"Engineered features extracted.\")"
      ]
    },
    {
      "cell_type": "code",
      "execution_count": 7,
      "metadata": {},
      "outputs": [],
      "source": [
        "# Convert sparse TF-IDF matrix to dense NumPy array\n",
        "X_train_tfidf_dense = X_train_tfidf.toarray()\n",
        "X_test_tfidf_dense = X_test_tfidf.toarray()\n",
        "X_val_tfidf_dense = X_val_tfidf.toarray()\n",
        "\n",
        "# Convert TF-IDF dense matrix to DataFrame\n",
        "df_train_tfidf = pd.DataFrame(X_train_tfidf_dense)\n",
        "df_test_tfidf = pd.DataFrame(X_test_tfidf_dense)\n",
        "df_val_tfidf = pd.DataFrame(X_val_tfidf_dense)\n",
        "\n",
        "# **Check if row counts match before merging**\n",
        "assert df_train_tfidf.shape[0] == df_train_features.shape[0], \"Mismatch in train set sizes!\"\n",
        "assert df_test_tfidf.shape[0] == df_test_features.shape[0], \"Mismatch in test set sizes!\"\n",
        "assert df_val_tfidf.shape[0] == df_val_features.shape[0], \"Mismatch in validation set sizes!\""
      ]
    },
    {
      "cell_type": "code",
      "execution_count": 8,
      "metadata": {},
      "outputs": [],
      "source": [
        "# Reset indices for training set\n",
        "df_train_tfidf.reset_index(drop=True, inplace=True)\n",
        "df_train_features.reset_index(drop=True, inplace=True)\n",
        "y_train.reset_index(drop=True, inplace=True)\n",
        "\n",
        "# Reset indices for testing set\n",
        "df_test_tfidf.reset_index(drop=True, inplace=True)\n",
        "df_test_features.reset_index(drop=True, inplace=True)\n",
        "y_test.reset_index(drop=True, inplace=True)\n",
        "\n",
        "# Reset indices for validation set\n",
        "df_val_tfidf.reset_index(drop=True, inplace=True)\n",
        "df_val_features.reset_index(drop=True, inplace=True)\n",
        "y_val.reset_index(drop=True, inplace=True)"
      ]
    },
    {
      "cell_type": "code",
      "execution_count": 9,
      "metadata": {},
      "outputs": [
        {
          "name": "stdout",
          "output_type": "stream",
          "text": [
            "True\n",
            "True\n",
            "True\n"
          ]
        }
      ],
      "source": [
        "df_y_train = pd.DataFrame(y_train, columns=[\"label\"])\n",
        "df_y_test = pd.DataFrame(y_test, columns=[\"label\"])\n",
        "df_y_val = pd.DataFrame(y_val, columns=[\"label\"])\n",
        "\n",
        "# Check if the row counts of y labels match the features before merging\n",
        "assert df_train_tfidf.shape[0] == df_y_train.shape[0], \"Mismatch in train labels!\"\n",
        "assert df_test_tfidf.shape[0] == df_y_test.shape[0], \"Mismatch in test labels!\"\n",
        "assert df_val_tfidf.shape[0] == df_y_val.shape[0], \"Mismatch in validation labels!\"\n",
        "\n",
        "# Check if indices match\n",
        "print(df_train_tfidf.index.equals(df_y_train.index))\n",
        "print(df_test_tfidf.index.equals(df_test_features.index))\n",
        "print(df_val_tfidf.index.equals(df_y_val.index))"
      ]
    },
    {
      "cell_type": "code",
      "execution_count": 10,
      "metadata": {},
      "outputs": [
        {
          "name": "stdout",
          "output_type": "stream",
          "text": [
            "True\n",
            "True\n",
            "True\n"
          ]
        }
      ],
      "source": [
        "# Check if indices match\n",
        "print(df_train_tfidf.index.equals(df_train_features.index))\n",
        "print(df_test_tfidf.index.equals(df_y_test.index))  \n",
        "print(df_val_tfidf.index.equals(df_val_features.index))    "
      ]
    },
    {
      "cell_type": "code",
      "execution_count": 11,
      "metadata": {},
      "outputs": [
        {
          "data": {
            "text/html": [
              "<div>\n",
              "<style scoped>\n",
              "    .dataframe tbody tr th:only-of-type {\n",
              "        vertical-align: middle;\n",
              "    }\n",
              "\n",
              "    .dataframe tbody tr th {\n",
              "        vertical-align: top;\n",
              "    }\n",
              "\n",
              "    .dataframe thead th {\n",
              "        text-align: right;\n",
              "    }\n",
              "</style>\n",
              "<table border=\"1\" class=\"dataframe\">\n",
              "  <thead>\n",
              "    <tr style=\"text-align: right;\">\n",
              "      <th></th>\n",
              "      <th>sentiment_score</th>\n",
              "      <th>vader_score</th>\n",
              "      <th>review_length</th>\n",
              "      <th>exclamation_count</th>\n",
              "      <th>question_count</th>\n",
              "      <th>uppercase_ratio</th>\n",
              "      <th>duplicate_word_count</th>\n",
              "      <th>emoji_count</th>\n",
              "      <th>avg_word_length</th>\n",
              "    </tr>\n",
              "  </thead>\n",
              "  <tbody>\n",
              "    <tr>\n",
              "      <th>0</th>\n",
              "      <td>0.194444</td>\n",
              "      <td>0.9611</td>\n",
              "      <td>73</td>\n",
              "      <td>0</td>\n",
              "      <td>0</td>\n",
              "      <td>0.027708</td>\n",
              "      <td>23</td>\n",
              "      <td>0</td>\n",
              "      <td>4.452055</td>\n",
              "    </tr>\n",
              "    <tr>\n",
              "      <th>1</th>\n",
              "      <td>0.187037</td>\n",
              "      <td>0.9422</td>\n",
              "      <td>46</td>\n",
              "      <td>1</td>\n",
              "      <td>0</td>\n",
              "      <td>0.030534</td>\n",
              "      <td>12</td>\n",
              "      <td>0</td>\n",
              "      <td>4.717391</td>\n",
              "    </tr>\n",
              "    <tr>\n",
              "      <th>2</th>\n",
              "      <td>-0.147253</td>\n",
              "      <td>0.7906</td>\n",
              "      <td>38</td>\n",
              "      <td>0</td>\n",
              "      <td>0</td>\n",
              "      <td>0.031579</td>\n",
              "      <td>9</td>\n",
              "      <td>0</td>\n",
              "      <td>4.026316</td>\n",
              "    </tr>\n",
              "    <tr>\n",
              "      <th>3</th>\n",
              "      <td>0.253842</td>\n",
              "      <td>0.9874</td>\n",
              "      <td>108</td>\n",
              "      <td>8</td>\n",
              "      <td>0</td>\n",
              "      <td>0.076923</td>\n",
              "      <td>41</td>\n",
              "      <td>0</td>\n",
              "      <td>4.185185</td>\n",
              "    </tr>\n",
              "    <tr>\n",
              "      <th>4</th>\n",
              "      <td>0.257143</td>\n",
              "      <td>0.8903</td>\n",
              "      <td>53</td>\n",
              "      <td>0</td>\n",
              "      <td>0</td>\n",
              "      <td>0.040134</td>\n",
              "      <td>21</td>\n",
              "      <td>0</td>\n",
              "      <td>4.660377</td>\n",
              "    </tr>\n",
              "  </tbody>\n",
              "</table>\n",
              "</div>"
            ],
            "text/plain": [
              "   sentiment_score  vader_score  review_length  exclamation_count  \\\n",
              "0         0.194444       0.9611             73                  0   \n",
              "1         0.187037       0.9422             46                  1   \n",
              "2        -0.147253       0.7906             38                  0   \n",
              "3         0.253842       0.9874            108                  8   \n",
              "4         0.257143       0.8903             53                  0   \n",
              "\n",
              "   question_count  uppercase_ratio  duplicate_word_count  emoji_count  \\\n",
              "0               0         0.027708                    23            0   \n",
              "1               0         0.030534                    12            0   \n",
              "2               0         0.031579                     9            0   \n",
              "3               0         0.076923                    41            0   \n",
              "4               0         0.040134                    21            0   \n",
              "\n",
              "   avg_word_length  \n",
              "0         4.452055  \n",
              "1         4.717391  \n",
              "2         4.026316  \n",
              "3         4.185185  \n",
              "4         4.660377  "
            ]
          },
          "execution_count": 11,
          "metadata": {},
          "output_type": "execute_result"
        }
      ],
      "source": [
        "df_train_features.head()"
      ]
    },
    {
      "cell_type": "code",
      "execution_count": 19,
      "metadata": {},
      "outputs": [
        {
          "data": {
            "text/plain": [
              "sentiment_score         float64\n",
              "vader_score             float64\n",
              "review_length             int64\n",
              "exclamation_count         int64\n",
              "question_count            int64\n",
              "uppercase_ratio         float64\n",
              "duplicate_word_count      int64\n",
              "emoji_count               int64\n",
              "avg_word_length         float64\n",
              "dtype: object"
            ]
          },
          "execution_count": 19,
          "metadata": {},
          "output_type": "execute_result"
        }
      ],
      "source": [
        "df_train_features.dtypes"
      ]
    },
    {
      "cell_type": "code",
      "execution_count": 20,
      "metadata": {},
      "outputs": [
        {
          "data": {
            "text/plain": [
              "0       float64\n",
              "1       float64\n",
              "2       float64\n",
              "3       float64\n",
              "4       float64\n",
              "         ...   \n",
              "4995    float64\n",
              "4996    float64\n",
              "4997    float64\n",
              "4998    float64\n",
              "4999    float64\n",
              "Length: 5000, dtype: object"
            ]
          },
          "execution_count": 20,
          "metadata": {},
          "output_type": "execute_result"
        }
      ],
      "source": [
        "df_train_tfidf.dtypes"
      ]
    },
    {
      "cell_type": "code",
      "execution_count": 21,
      "metadata": {},
      "outputs": [
        {
          "data": {
            "text/plain": [
              "label    int64\n",
              "dtype: object"
            ]
          },
          "execution_count": 21,
          "metadata": {},
          "output_type": "execute_result"
        }
      ],
      "source": [
        "df_y_train.dtypes"
      ]
    },
    {
      "cell_type": "code",
      "execution_count": 12,
      "metadata": {},
      "outputs": [
        {
          "name": "stdout",
          "output_type": "stream",
          "text": [
            "sentiment_score         float32\n",
            "vader_score             float32\n",
            "review_length             int16\n",
            "exclamation_count         int16\n",
            "question_count            int16\n",
            "uppercase_ratio         float32\n",
            "duplicate_word_count      int16\n",
            "emoji_count               int16\n",
            "avg_word_length         float32\n",
            "dtype: object\n"
          ]
        }
      ],
      "source": [
        "# Convert TF-IDF matrix to float32 (reduces memory usage by half)\n",
        "df_train_tfidf = df_train_tfidf.astype(np.float32)\n",
        "df_val_tfidf = df_val_tfidf.astype(np.float32)\n",
        "df_test_tfidf = df_test_tfidf.astype(np.float32)\n",
        "\n",
        "df_y_train = df_y_train.astype(np.int16)\n",
        "df_y_val = df_y_val.astype(np.int16)\n",
        "df_y_test = df_y_test.astype(np.int16)\n",
        "\n",
        "# Convert engineered features to float32 and int16\n",
        "float_columns = [\"sentiment_score\", \"vader_score\", \"uppercase_ratio\", \"avg_word_length\"]\n",
        "int_columns = [\"review_length\", \"exclamation_count\", \"question_count\", \"duplicate_word_count\", \"emoji_count\"]\n",
        "\n",
        "# Convert float64 -> float32\n",
        "df_train_features[float_columns] = df_train_features[float_columns].astype(np.float32)\n",
        "df_val_features[float_columns] = df_val_features[float_columns].astype(np.float32)\n",
        "df_test_features[float_columns] = df_test_features[float_columns].astype(np.float32)\n",
        "\n",
        "# Convert int64 -> int16\n",
        "df_train_features[int_columns] = df_train_features[int_columns].astype(np.int16)\n",
        "df_val_features[int_columns] = df_val_features[int_columns].astype(np.int16)\n",
        "df_test_features[int_columns] = df_test_features[int_columns].astype(np.int16)\n",
        "\n",
        "# Check updated data types\n",
        "print(df_train_features.dtypes)\n"
      ]
    },
    {
      "cell_type": "code",
      "execution_count": 13,
      "metadata": {},
      "outputs": [
        {
          "data": {
            "text/plain": [
              "0       float32\n",
              "1       float32\n",
              "2       float32\n",
              "3       float32\n",
              "4       float32\n",
              "         ...   \n",
              "4995    float32\n",
              "4996    float32\n",
              "4997    float32\n",
              "4998    float32\n",
              "4999    float32\n",
              "Length: 5000, dtype: object"
            ]
          },
          "execution_count": 13,
          "metadata": {},
          "output_type": "execute_result"
        }
      ],
      "source": [
        "df_train_tfidf.dtypes"
      ]
    },
    {
      "cell_type": "code",
      "execution_count": 14,
      "metadata": {},
      "outputs": [],
      "source": [
        "# Merge TF-IDF with extracted features\n",
        "df_train_combined = pd.concat([df_train_tfidf, df_train_features, df_y_train], axis=1)\n",
        "df_test_combined = pd.concat([df_test_tfidf, df_test_features, df_y_test], axis=1)\n",
        "df_val_combined = pd.concat([df_val_tfidf, df_val_features, df_y_val], axis=1)"
      ]
    },
    {
      "cell_type": "code",
      "execution_count": 17,
      "metadata": {},
      "outputs": [
        {
          "name": "stdout",
          "output_type": "stream",
          "text": [
            "Features saved successfully\n"
          ]
        }
      ],
      "source": [
        "import pyarrow.parquet\n",
        "\n",
        "df_train_combined.to_parquet(\"00_dataset/without_stopwords/tfidfWithNGram/train_features.parquet\", index=False)\n",
        "df_test_combined.to_parquet(\"00_dataset/without_stopwords/tfidfWithNGram/test_features.parquet\", index=False)\n",
        "df_val_combined.to_parquet(\"00_dataset/without_stopwords/tfidfWithNGram/val_features.parquet\", index=False)\n",
        "\n",
        "print(\"Features saved successfully\")"
      ]
    }
  ],
  "metadata": {
    "colab": {
      "collapsed_sections": [
        "5LAdCfvbsB2Q",
        "kN6Ff2xnpcYW",
        "BRw6BrTTtID5"
      ],
      "provenance": []
    },
    "kernelspec": {
      "display_name": "Python 3",
      "name": "python3"
    },
    "language_info": {
      "codemirror_mode": {
        "name": "ipython",
        "version": 3
      },
      "file_extension": ".py",
      "mimetype": "text/x-python",
      "name": "python",
      "nbconvert_exporter": "python",
      "pygments_lexer": "ipython3",
      "version": "3.12.3"
    }
  },
  "nbformat": 4,
  "nbformat_minor": 0
}
