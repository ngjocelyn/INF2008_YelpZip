{
 "cells": [
  {
   "cell_type": "code",
   "execution_count": 2,
   "metadata": {
    "executionInfo": {
     "elapsed": 5858,
     "status": "ok",
     "timestamp": 1740227595364,
     "user": {
      "displayName": "joc",
      "userId": "03257841468945552602"
     },
     "user_tz": -480
    },
    "id": "-jMIBikVVMBN"
   },
   "outputs": [],
   "source": [
    "# Data Manipulation\n",
    "import pandas as pd\n",
    "import numpy as np\n",
    "\n",
    "# Machine Learning\n",
    "from sklearn.model_selection import train_test_split, cross_val_score\n",
    "from sklearn.feature_extraction.text import TfidfVectorizer\n",
    "from sklearn.linear_model import LogisticRegression\n",
    "from sklearn.ensemble import RandomForestClassifier\n",
    "from sklearn.svm import SVC\n",
    "from sklearn.naive_bayes import MultinomialNB\n",
    "from imblearn.over_sampling import SMOTE\n",
    "from sklearn.metrics import classification_report, accuracy_score, silhouette_score, roc_auc_score, confusion_matrix, ConfusionMatrixDisplay\n",
    "\n",
    "# Visualization\n",
    "import matplotlib.pyplot as plt\n",
    "import seaborn as sns"
   ]
  },
  {
   "cell_type": "markdown",
   "metadata": {
    "id": "pz13AEZyqNEf"
   },
   "source": [
    "# Load Dataset"
   ]
  },
  {
   "cell_type": "code",
   "execution_count": 3,
   "metadata": {
    "executionInfo": {
     "elapsed": 1852,
     "status": "ok",
     "timestamp": 1740227908008,
     "user": {
      "displayName": "joc",
      "userId": "03257841468945552602"
     },
     "user_tz": -480
    },
    "id": "HYeDtjmBqMg2"
   },
   "outputs": [],
   "source": [
    "features = pd.read_csv(\"01_dataset/YelpZip/featureEngineering.csv\")"
   ]
  },
  {
   "cell_type": "markdown",
   "metadata": {
    "id": "E1fPH3dHu_Ws"
   },
   "source": [
    "# Feature Extraction"
   ]
  },
  {
   "cell_type": "code",
   "execution_count": null,
   "metadata": {
    "id": "04qThEmT2eRx"
   },
   "outputs": [],
   "source": [
    "vectorizer = TfidfVectorizer(max_features=5000)  # Top 5000 words\n",
    "X_train_tfidf = vectorizer.fit_transform(X_train)\n",
    "X_val_tfidf = vectorizer.transform(X_val)\n",
    "X_test_tfidf = vectorizer.transform(X_test)"
   ]
  }
 ],
 "metadata": {
  "colab": {
   "authorship_tag": "ABX9TyO6Iv3wImR/68tHMhlvmBj2",
   "collapsed_sections": [
    "5LAdCfvbsB2Q",
    "kN6Ff2xnpcYW",
    "BRw6BrTTtID5"
   ],
   "provenance": []
  },
  "kernelspec": {
   "display_name": "Python 3",
   "name": "python3"
  },
  "language_info": {
   "name": "python"
  }
 },
 "nbformat": 4,
 "nbformat_minor": 0
}
