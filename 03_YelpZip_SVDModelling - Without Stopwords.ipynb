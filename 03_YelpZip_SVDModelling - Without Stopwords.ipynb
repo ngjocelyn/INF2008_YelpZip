{
 "cells": [
  {
   "cell_type": "code",
   "execution_count": 1,
   "metadata": {
    "executionInfo": {
     "elapsed": 5858,
     "status": "ok",
     "timestamp": 1740227595364,
     "user": {
      "displayName": "joc",
      "userId": "03257841468945552602"
     },
     "user_tz": -480
    },
    "id": "-jMIBikVVMBN"
   },
   "outputs": [],
   "source": [
    "# Data Manipulation\n",
    "import pandas as pd\n",
    "import numpy as np\n",
    "import pyarrow.parquet\n",
    "\n",
    "# Machine Learning\n",
    "from sklearn.model_selection import train_test_split, cross_val_score\n",
    "from sklearn.feature_extraction.text import TfidfVectorizer\n",
    "from sklearn.linear_model import LogisticRegression\n",
    "from sklearn.ensemble import RandomForestClassifier\n",
    "from sklearn.svm import SVC\n",
    "from sklearn.naive_bayes import MultinomialNB\n",
    "from imblearn.over_sampling import SMOTE\n",
    "import joblib\n",
    "from sklearn.compose import ColumnTransformer\n",
    "from sklearn.preprocessing import MinMaxScaler\n",
    "from sklearn.metrics import classification_report, accuracy_score, silhouette_score, roc_auc_score, confusion_matrix, ConfusionMatrixDisplay\n",
    "\n",
    "# Visualization\n",
    "import matplotlib.pyplot as plt\n",
    "import seaborn as sns"
   ]
  },
  {
   "cell_type": "markdown",
   "metadata": {
    "id": "pz13AEZyqNEf"
   },
   "source": [
    "# Load Dataset"
   ]
  },
  {
   "cell_type": "code",
   "execution_count": 2,
   "metadata": {},
   "outputs": [],
   "source": [
    "df_train = pd.read_parquet(\"00_dataset/without_stopwords/train_features_svd.parquet\")\n",
    "df_test = pd.read_parquet(\"00_dataset/without_stopwords/test_features_svd.parquet\")\n",
    "df_val = pd.read_parquet(\"00_dataset/without_stopwords/val_features_svd.parquet\")"
   ]
  },
  {
   "cell_type": "code",
   "execution_count": 3,
   "metadata": {},
   "outputs": [],
   "source": [
    "# Separate into X and y\n",
    "X_train = df_train.drop(columns=[\"label\"])\n",
    "y_train = df_train[\"label\"]\n",
    "\n",
    "X_test = df_test.drop(columns=[\"label\"])\n",
    "y_test = df_test[\"label\"]\n",
    "\n",
    "X_val = df_val.drop(columns=[\"label\"])\n",
    "y_val = df_val[\"label\"]"
   ]
  },
  {
   "cell_type": "code",
   "execution_count": null,
   "metadata": {},
   "outputs": [
    {
     "name": "stdout",
     "output_type": "stream",
     "text": [
      "MinMaxScaler saved successfully.\n"
     ]
    }
   ],
   "source": [
    "# Feature Scaling\n",
    "# Initialize MinMaxScaler\n",
    "scaler = MinMaxScaler()\n",
    "\n",
    "# Fit on training data & transform\n",
    "X_train_scaled = scaler.fit_transform(X_train)\n",
    "\n",
    "# Transform test and validation data\n",
    "X_test_scaled = scaler.transform(X_test)\n",
    "X_val_scaled = scaler.transform(X_val)\n",
    "\n",
    "# Convert scaled arrays back to DataFrame\n",
    "X_train_scaled = pd.DataFrame(X_train_scaled, columns=X_train.columns)\n",
    "X_test_scaled = pd.DataFrame(X_test_scaled, columns=X_test.columns)\n",
    "X_val_scaled = pd.DataFrame(X_val_scaled, columns=X_val.columns)\n",
    "\n",
    "# Save the fitted scaler (Optional: for future use)\n",
    "joblib.dump(scaler, \"00_dataset/without_stopwords/minmax_scaler_svd.joblib\")\n",
    "print(\"MinMaxScaler saved successfully.\")"
   ]
  },
  {
   "cell_type": "code",
   "execution_count": 4,
   "metadata": {},
   "outputs": [],
   "source": [
    "# Load Min Max Scaler\n",
    "mms = joblib.load('00_dataset/without_stopwords/minmax_scaler_svd.joblib')\n",
    "X_train_scaled = mms.transform(X_train)\n",
    "X_test_scaled = mms.transform(X_test)\n",
    "X_val_scaled = mms.transform(X_val)"
   ]
  },
  {
   "cell_type": "code",
   "execution_count": 5,
   "metadata": {},
   "outputs": [
    {
     "name": "stdout",
     "output_type": "stream",
     "text": [
      "Train Class Distribution:\n",
      " label\n",
      "0    0.867799\n",
      "1    0.132201\n",
      "Name: proportion, dtype: float64\n",
      "\n",
      "Validation Class Distribution:\n",
      " label\n",
      "0    0.867797\n",
      "1    0.132203\n",
      "Name: proportion, dtype: float64\n",
      "\n",
      "Test Class Distribution:\n",
      " label\n",
      "0    0.867797\n",
      "1    0.132203\n",
      "Name: proportion, dtype: float64\n"
     ]
    }
   ],
   "source": [
    "# Check class distribution after split\n",
    "print(\"Train Class Distribution:\\n\", y_train.value_counts(normalize=True))\n",
    "print(\"\\nValidation Class Distribution:\\n\", y_val.value_counts(normalize=True))\n",
    "print(\"\\nTest Class Distribution:\\n\", y_test.value_counts(normalize=True))"
   ]
  },
  {
   "cell_type": "code",
   "execution_count": 6,
   "metadata": {},
   "outputs": [
    {
     "data": {
      "text/plain": [
       "array([[0.43357685, 0.41259563, 0.14912954, ..., 0.01996528, 0.        ,\n",
       "        0.02968037],\n",
       "       [0.32249627, 0.33943164, 0.279144  , ..., 0.01041667, 0.        ,\n",
       "        0.03144928],\n",
       "       [0.32556587, 0.42764446, 0.14840883, ..., 0.0078125 , 0.        ,\n",
       "        0.02684211],\n",
       "       ...,\n",
       "       [0.4413289 , 0.4105941 , 0.16414492, ..., 0.06597222, 0.        ,\n",
       "        0.02686391],\n",
       "       [0.26518422, 0.35333663, 0.24671173, ..., 0.00694444, 0.        ,\n",
       "        0.02266667],\n",
       "       [0.3415182 , 0.4368719 , 0.15870115, ..., 0.03645833, 0.        ,\n",
       "        0.02673913]], dtype=float32)"
      ]
     },
     "execution_count": 6,
     "metadata": {},
     "output_type": "execute_result"
    }
   ],
   "source": [
    "X_train_scaled"
   ]
  },
  {
   "cell_type": "code",
   "execution_count": 7,
   "metadata": {},
   "outputs": [
    {
     "name": "stdout",
     "output_type": "stream",
     "text": [
      "Contains negative values: False\n"
     ]
    }
   ],
   "source": [
    "print(\"Contains negative values:\", np.any(X_train_scaled < 0))\n"
   ]
  },
  {
   "cell_type": "code",
   "execution_count": 9,
   "metadata": {},
   "outputs": [
    {
     "name": "stdout",
     "output_type": "stream",
     "text": [
      "Naive Bayes training completed and saved.\n"
     ]
    }
   ],
   "source": [
    "nb = MultinomialNB()\n",
    "nb.fit(X_train_scaled, y_train)\n",
    "\n",
    "# Save the model\n",
    "joblib.dump(nb, '00_dataset/without_stopwords/nb/svd_nb.joblib')\n",
    "print(\"Naive Bayes training completed and saved.\")"
   ]
  },
  {
   "cell_type": "code",
   "execution_count": 10,
   "metadata": {},
   "outputs": [
    {
     "name": "stdout",
     "output_type": "stream",
     "text": [
      "Validation Accuracy: 0.8678\n",
      "\n",
      "Classification Report:\n",
      "               precision    recall  f1-score   support\n",
      "\n",
      "           0       0.87      1.00      0.93     52802\n",
      "           1       0.00      0.00      0.00      8044\n",
      "\n",
      "    accuracy                           0.87     60846\n",
      "   macro avg       0.43      0.50      0.46     60846\n",
      "weighted avg       0.75      0.87      0.81     60846\n",
      "\n"
     ]
    },
    {
     "name": "stderr",
     "output_type": "stream",
     "text": [
      "c:\\Python312\\Lib\\site-packages\\sklearn\\metrics\\_classification.py:1517: UndefinedMetricWarning: Precision is ill-defined and being set to 0.0 in labels with no predicted samples. Use `zero_division` parameter to control this behavior.\n",
      "  _warn_prf(average, modifier, f\"{metric.capitalize()} is\", len(result))\n",
      "c:\\Python312\\Lib\\site-packages\\sklearn\\metrics\\_classification.py:1517: UndefinedMetricWarning: Precision is ill-defined and being set to 0.0 in labels with no predicted samples. Use `zero_division` parameter to control this behavior.\n",
      "  _warn_prf(average, modifier, f\"{metric.capitalize()} is\", len(result))\n",
      "c:\\Python312\\Lib\\site-packages\\sklearn\\metrics\\_classification.py:1517: UndefinedMetricWarning: Precision is ill-defined and being set to 0.0 in labels with no predicted samples. Use `zero_division` parameter to control this behavior.\n",
      "  _warn_prf(average, modifier, f\"{metric.capitalize()} is\", len(result))\n"
     ]
    },
    {
     "name": "stdout",
     "output_type": "stream",
     "text": [
      "ROC-AUC Score:  0.662433134746885\n"
     ]
    },
    {
     "data": {
      "text/plain": [
       "<sklearn.metrics._plot.confusion_matrix.ConfusionMatrixDisplay at 0x258a3619550>"
      ]
     },
     "execution_count": 10,
     "metadata": {},
     "output_type": "execute_result"
    },
    {
     "data": {
      "image/png": "[encoded data removed]",
      "text/plain": [
       "<Figure size 640x480 with 2 Axes>"
      ]
     },
     "metadata": {},
     "output_type": "display_data"
    }
   ],
   "source": [
    "# Load the last saved model\n",
    "nb = joblib.load('00_dataset/without_stopwords/nb/svd_nb.joblib')\n",
    "\n",
    "# Predict on validation data\n",
    "y_val_pred = nb.predict(X_val_scaled)\n",
    "\n",
    "# Evaluate performance\n",
    "accuracy = accuracy_score(y_val, y_val_pred)\n",
    "print(f\"Validation Accuracy: {accuracy:.4f}\")\n",
    "\n",
    "print(\"\\nClassification Report:\\n\", classification_report(y_val, y_val_pred))\n",
    "\n",
    "# Compute ROC-AUC\n",
    "y_proba = nb.predict_proba(X_val_scaled)[:, 1]\n",
    "print(\"ROC-AUC Score: \", roc_auc_score(y_val, y_proba))\n",
    "\n",
    "# Generate confusion matrix\n",
    "cm = confusion_matrix(y_val, y_val_pred)\n",
    "\n",
    "# Display confusion matrix\n",
    "disp = ConfusionMatrixDisplay(confusion_matrix=cm, display_labels=[0, 1])\n",
    "disp.plot(cmap=\"Blues\")  # Choose a color map for visualization"
   ]
  },
  {
   "cell_type": "markdown",
   "metadata": {},
   "source": [
    "# Apply SMOTE"
   ]
  },
  {
   "cell_type": "code",
   "execution_count": 8,
   "metadata": {},
   "outputs": [],
   "source": [
    "smote = SMOTE(sampling_strategy='auto', random_state=42)\n",
    "X_train_smote, y_train_smote = smote.fit_resample(X_train_scaled, y_train)"
   ]
  },
  {
   "cell_type": "code",
   "execution_count": 9,
   "metadata": {},
   "outputs": [
    {
     "name": "stdout",
     "output_type": "stream",
     "text": [
      "SMOTE-transformed dataset saved successfully.\n"
     ]
    }
   ],
   "source": [
    "# Save SMOTE-transformed dataset\n",
    "joblib.dump((X_train_smote, y_train_smote), \"smoteAuto_resampled.joblib\")\n",
    "print(\"SMOTE-transformed dataset saved successfully.\")"
   ]
  },
  {
   "cell_type": "code",
   "execution_count": 12,
   "metadata": {},
   "outputs": [
    {
     "name": "stdout",
     "output_type": "stream",
     "text": [
      "Before SMOTE:\n",
      " label\n",
      "0    369613\n",
      "1     56307\n",
      "Name: count, dtype: int64\n",
      "\n",
      "After SMOTE:\n",
      " label\n",
      "0    369613\n",
      "1    369613\n",
      "Name: count, dtype: int64\n"
     ]
    }
   ],
   "source": [
    "# Check class distribution before and after SMOTE\n",
    "print(\"Before SMOTE:\\n\", y_train.value_counts())\n",
    "print(\"\\nAfter SMOTE:\\n\", pd.Series(y_train_smote).value_counts())"
   ]
  },
  {
   "cell_type": "code",
   "execution_count": 13,
   "metadata": {},
   "outputs": [
    {
     "name": "stdout",
     "output_type": "stream",
     "text": [
      "Naive Bayes with SMOTE training completed and saved.\n"
     ]
    }
   ],
   "source": [
    "nbSVD_smote = MultinomialNB(class_prior=[0.5, 0.5])\n",
    "nbSVD_smote.fit(X_train_smote, y_train_smote)\n",
    "\n",
    "# Save the model\n",
    "joblib.dump(nbSVD_smote, '00_dataset/without_stopwords/nb_classweights/nbSVD_smote.joblib')\n",
    "print(\"Naive Bayes with SMOTE training completed and saved.\")"
   ]
  },
  {
   "cell_type": "code",
   "execution_count": 15,
   "metadata": {},
   "outputs": [
    {
     "name": "stdout",
     "output_type": "stream",
     "text": [
      "Validation Accuracy: 0.6701\n",
      "\n",
      "Classification Report:\n",
      "               precision    recall  f1-score   support\n",
      "\n",
      "           0       0.89      0.70      0.79     52802\n",
      "           1       0.19      0.45      0.26      8044\n",
      "\n",
      "    accuracy                           0.67     60846\n",
      "   macro avg       0.54      0.58      0.53     60846\n",
      "weighted avg       0.80      0.67      0.72     60846\n",
      "\n",
      "ROC-AUC Score:  0.6179879291034645\n"
     ]
    },
    {
     "data": {
      "text/plain": [
       "<sklearn.metrics._plot.confusion_matrix.ConfusionMatrixDisplay at 0x258a5d86f30>"
      ]
     },
     "execution_count": 15,
     "metadata": {},
     "output_type": "execute_result"
    },
    {
     "data": {
      "image/png": "[encoded data removed]",
      "text/plain": [
       "<Figure size 640x480 with 2 Axes>"
      ]
     },
     "metadata": {},
     "output_type": "display_data"
    }
   ],
   "source": [
    "# Load the last saved model\n",
    "nbSVD_smote = joblib.load('00_dataset/without_stopwords/nb_classweights/nbSVD_smote.joblib')\n",
    "\n",
    "# Predict on validation data\n",
    "y_val_pred = nbSVD_smote.predict(X_val_scaled)\n",
    "\n",
    "# Evaluate performance\n",
    "accuracy = accuracy_score(y_val, y_val_pred)\n",
    "print(f\"Validation Accuracy: {accuracy:.4f}\")\n",
    "\n",
    "print(\"\\nClassification Report:\\n\", classification_report(y_val, y_val_pred))\n",
    "\n",
    "# Compute ROC-AUC\n",
    "y_proba = nbSVD_smote.predict_proba(X_val_scaled)[:, 1]\n",
    "print(\"ROC-AUC Score: \", roc_auc_score(y_val, y_proba))\n",
    "\n",
    "# Generate confusion matrix\n",
    "cm = confusion_matrix(y_val, y_val_pred)\n",
    "\n",
    "# Display confusion matrix\n",
    "disp = ConfusionMatrixDisplay(confusion_matrix=cm, display_labels=[0, 1])\n",
    "disp.plot(cmap=\"Blues\")  # Choose a color map for visualization"
   ]
  },
  {
   "cell_type": "code",
   "execution_count": 5,
   "metadata": {},
   "outputs": [
    {
     "name": "stdout",
     "output_type": "stream",
     "text": [
      "SMOTE75-transformed dataset saved successfully.\n"
     ]
    }
   ],
   "source": [
    "smote75 = SMOTE(sampling_strategy=0.75, random_state=42)\n",
    "X_train_smote75, y_train_smote75 = smote75.fit_resample(X_train_scaled, y_train)\n",
    "\n",
    "joblib.dump((X_train_smote75, y_train_smote75), \"smote75_resampled.joblib\")\n",
    "print(\"SMOTE75-transformed dataset saved successfully.\")"
   ]
  },
  {
   "cell_type": "code",
   "execution_count": null,
   "metadata": {},
   "outputs": [
    {
     "name": "stdout",
     "output_type": "stream",
     "text": [
      "Validation Accuracy: 0.6628\n",
      "\n",
      "Classification Report:\n",
      "               precision    recall  f1-score   support\n",
      "\n",
      "           0       0.89      0.69      0.78     52802\n",
      "           1       0.19      0.47      0.27      8044\n",
      "\n",
      "    accuracy                           0.66     60846\n",
      "   macro avg       0.54      0.58      0.52     60846\n",
      "weighted avg       0.80      0.66      0.71     60846\n",
      "\n",
      "ROC-AUC Score:  0.6192829988451645\n"
     ]
    },
    {
     "data": {
      "text/plain": [
       "<sklearn.metrics._plot.confusion_matrix.ConfusionMatrixDisplay at 0x22fd750e300>"
      ]
     },
     "execution_count": 8,
     "metadata": {},
     "output_type": "execute_result"
    },
    {
     "data": {
      "image/png": "[encoded data removed]",
      "text/plain": [
       "<Figure size 640x480 with 2 Axes>"
      ]
     },
     "metadata": {},
     "output_type": "display_data"
    }
   ],
   "source": [
    "nbSVD_smote75 = MultinomialNB(class_prior=[0.5, 0.5])\n",
    "nbSVD_smote75.fit(X_train_smote75, y_train_smote75)\n",
    "\n",
    "# Predict on validation data\n",
    "y_val_pred = nbSVD_smote75.predict(X_val_scaled)\n",
    "\n",
    "# Evaluate performance\n",
    "accuracy = accuracy_score(y_val, y_val_pred)\n",
    "print(f\"Validation Accuracy: {accuracy:.4f}\")\n",
    "\n",
    "print(\"\\nClassification Report:\\n\", classification_report(y_val, y_val_pred))\n",
    "\n",
    "# Compute ROC-AUC\n",
    "y_proba = nbSVD_smote75.predict_proba(X_val_scaled)[:, 1]\n",
    "print(\"ROC-AUC Score: \", roc_auc_score(y_val, y_proba))\n",
    "\n",
    "# Generate confusion matrix\n",
    "cm = confusion_matrix(y_val, y_val_pred)\n",
    "\n",
    "# Display confusion matrix\n",
    "disp = ConfusionMatrixDisplay(confusion_matrix=cm, display_labels=[0, 1])\n",
    "disp.plot(cmap=\"Blues\")  # Choose a color map for visualization"
   ]
  },
  {
   "cell_type": "code",
   "execution_count": 10,
   "metadata": {},
   "outputs": [
    {
     "name": "stdout",
     "output_type": "stream",
     "text": [
      "SMOTE50-transformed dataset saved successfully.\n"
     ]
    }
   ],
   "source": [
    "smote50 = SMOTE(sampling_strategy=0.50, random_state=42)\n",
    "X_train_smote50, y_train_smote50 = smote50.fit_resample(X_train_scaled, y_train)\n",
    "\n",
    "joblib.dump((X_train_smote50, y_train_smote50), \"smote50_resampled.joblib\")\n",
    "print(\"SMOTE50-transformed dataset saved successfully.\")"
   ]
  },
  {
   "cell_type": "code",
   "execution_count": null,
   "metadata": {},
   "outputs": [
    {
     "name": "stdout",
     "output_type": "stream",
     "text": [
      "Validation Accuracy: 0.6472\n",
      "\n",
      "Classification Report:\n",
      "               precision    recall  f1-score   support\n",
      "\n",
      "           0       0.90      0.67      0.77     52802\n",
      "           1       0.19      0.50      0.27      8044\n",
      "\n",
      "    accuracy                           0.65     60846\n",
      "   macro avg       0.54      0.58      0.52     60846\n",
      "weighted avg       0.80      0.65      0.70     60846\n",
      "\n",
      "ROC-AUC Score:  0.6221753543081703\n"
     ]
    },
    {
     "data": {
      "text/plain": [
       "<sklearn.metrics._plot.confusion_matrix.ConfusionMatrixDisplay at 0x22fd9b92270>"
      ]
     },
     "execution_count": 10,
     "metadata": {},
     "output_type": "execute_result"
    },
    {
     "data": {
      "image/png": "[encoded data removed]",
      "text/plain": [
       "<Figure size 640x480 with 2 Axes>"
      ]
     },
     "metadata": {},
     "output_type": "display_data"
    }
   ],
   "source": [
    "nbSVD_smote50 = MultinomialNB(class_prior=[0.5, 0.5])\n",
    "nbSVD_smote50.fit(X_train_smote50, y_train_smote50)\n",
    "\n",
    "# Predict on validation data\n",
    "y_val_pred = nbSVD_smote50.predict(X_val_scaled)\n",
    "\n",
    "# Evaluate performance\n",
    "accuracy = accuracy_score(y_val, y_val_pred)\n",
    "print(f\"Validation Accuracy: {accuracy:.4f}\")\n",
    "\n",
    "print(\"\\nClassification Report:\\n\", classification_report(y_val, y_val_pred))\n",
    "\n",
    "# Compute ROC-AUC\n",
    "y_proba = nbSVD_smote50.predict_proba(X_val_scaled)[:, 1]\n",
    "print(\"ROC-AUC Score: \", roc_auc_score(y_val, y_proba))\n",
    "\n",
    "# Generate confusion matrix\n",
    "cm = confusion_matrix(y_val, y_val_pred)\n",
    "\n",
    "# Display confusion matrix\n",
    "disp = ConfusionMatrixDisplay(confusion_matrix=cm, display_labels=[0, 1])\n",
    "disp.plot(cmap=\"Blues\")  # Choose a color map for visualization"
   ]
  },
  {
   "cell_type": "code",
   "execution_count": null,
   "metadata": {},
   "outputs": [
    {
     "name": "stdout",
     "output_type": "stream",
     "text": [
      "Validation Accuracy: 0.6472\n",
      "\n",
      "Classification Report:\n",
      "               precision    recall  f1-score   support\n",
      "\n",
      "           0       0.90      0.67      0.77     52802\n",
      "           1       0.19      0.50      0.27      8044\n",
      "\n",
      "    accuracy                           0.65     60846\n",
      "   macro avg       0.54      0.58      0.52     60846\n",
      "weighted avg       0.80      0.65      0.70     60846\n",
      "\n",
      "ROC-AUC Score:  0.6221617671497344\n"
     ]
    },
    {
     "data": {
      "text/plain": [
       "<sklearn.metrics._plot.confusion_matrix.ConfusionMatrixDisplay at 0x22fd75eec00>"
      ]
     },
     "execution_count": 12,
     "metadata": {},
     "output_type": "execute_result"
    },
    {
     "data": {
      "image/png": "[encoded data removed]",
      "text/plain": [
       "<Figure size 640x480 with 2 Axes>"
      ]
     },
     "metadata": {},
     "output_type": "display_data"
    }
   ],
   "source": [
    "from sklearn.naive_bayes import ComplementNB\n",
    "\n",
    "cnb = ComplementNB(alpha=0.1)\n",
    "cnb.fit(X_train_smote50, y_train_smote50)\n",
    "\n",
    "# Predict on validation data\n",
    "y_val_pred = cnb.predict(X_val_scaled)\n",
    "\n",
    "# Evaluate performance\n",
    "accuracy = accuracy_score(y_val, y_val_pred)\n",
    "print(f\"Validation Accuracy: {accuracy:.4f}\")\n",
    "\n",
    "print(\"\\nClassification Report:\\n\", classification_report(y_val, y_val_pred))\n",
    "\n",
    "# Compute ROC-AUC\n",
    "y_proba = cnb.predict_proba(X_val_scaled)[:, 1]\n",
    "print(\"ROC-AUC Score: \", roc_auc_score(y_val, y_proba))\n",
    "\n",
    "# Generate confusion matrix\n",
    "cm = confusion_matrix(y_val, y_val_pred)\n",
    "\n",
    "# Display confusion matrix\n",
    "disp = ConfusionMatrixDisplay(confusion_matrix=cm, display_labels=[0, 1])\n",
    "disp.plot(cmap=\"Blues\")  # Choose a color map for visualization"
   ]
  },
  {
   "cell_type": "code",
   "execution_count": 7,
   "metadata": {},
   "outputs": [
    {
     "name": "stdout",
     "output_type": "stream",
     "text": [
      "SMOTE30-transformed dataset saved successfully.\n"
     ]
    }
   ],
   "source": [
    "smote30 = SMOTE(sampling_strategy=0.30, random_state=42)\n",
    "X_train_smote30, y_train_smote30 = smote30.fit_resample(X_train_scaled, y_train)\n",
    "\n",
    "joblib.dump((X_train_smote30, y_train_smote30), \"smote30_resampled.joblib\")\n",
    "print(\"SMOTE30-transformed dataset saved successfully.\")"
   ]
  },
  {
   "cell_type": "code",
   "execution_count": 11,
   "metadata": {},
   "outputs": [
    {
     "name": "stdout",
     "output_type": "stream",
     "text": [
      "Before SMOTE: Counter({0: 369613, 1: 56307})\n",
      "After SMOTE: Counter({0: 369613, 1: 110883})\n"
     ]
    }
   ],
   "source": [
    "from collections import Counter\n",
    "\n",
    "# Check class distribution before SMOTE\n",
    "print(\"Before SMOTE:\", Counter(y_train))\n",
    "\n",
    "# Check class distribution after SMOTE\n",
    "print(\"After SMOTE:\", Counter(y_train_smote30))"
   ]
  },
  {
   "cell_type": "code",
   "execution_count": 12,
   "metadata": {},
   "outputs": [
    {
     "name": "stdout",
     "output_type": "stream",
     "text": [
      "Validation Accuracy: 0.6157\n",
      "\n",
      "Classification Report:\n",
      "               precision    recall  f1-score   support\n",
      "\n",
      "           0       0.90      0.62      0.74     52802\n",
      "           1       0.19      0.56      0.28      8044\n",
      "\n",
      "    accuracy                           0.62     60846\n",
      "   macro avg       0.54      0.59      0.51     60846\n",
      "weighted avg       0.81      0.62      0.68     60846\n",
      "\n",
      "ROC-AUC Score:  0.6293680724915657\n"
     ]
    },
    {
     "data": {
      "text/plain": [
       "<sklearn.metrics._plot.confusion_matrix.ConfusionMatrixDisplay at 0x1c8c5f539b0>"
      ]
     },
     "execution_count": 12,
     "metadata": {},
     "output_type": "execute_result"
    },
    {
     "data": {
      "image/png": "[encoded data removed]",
      "text/plain": [
       "<Figure size 640x480 with 2 Axes>"
      ]
     },
     "metadata": {},
     "output_type": "display_data"
    }
   ],
   "source": [
    "nbSVD_smote30 = MultinomialNB(class_prior=[0.5, 0.5])\n",
    "nbSVD_smote30.fit(X_train_smote30, y_train_smote30)\n",
    "\n",
    "# Predict on validation data\n",
    "y_val_pred = nbSVD_smote30.predict(X_val_scaled)\n",
    "\n",
    "# Evaluate performance\n",
    "accuracy = accuracy_score(y_val, y_val_pred)\n",
    "print(f\"Validation Accuracy: {accuracy:.4f}\")\n",
    "\n",
    "print(\"\\nClassification Report:\\n\", classification_report(y_val, y_val_pred))\n",
    "\n",
    "# Compute ROC-AUC\n",
    "y_proba = nbSVD_smote30.predict_proba(X_val_scaled)[:, 1]\n",
    "print(\"ROC-AUC Score: \", roc_auc_score(y_val, y_proba))\n",
    "\n",
    "# Generate confusion matrix\n",
    "cm = confusion_matrix(y_val, y_val_pred)\n",
    "\n",
    "# Display confusion matrix\n",
    "disp = ConfusionMatrixDisplay(confusion_matrix=cm, display_labels=[0, 1])\n",
    "disp.plot(cmap=\"Blues\")  # Choose a color map for visualization"
   ]
  },
  {
   "cell_type": "markdown",
   "metadata": {},
   "source": [
    "## Using SMOTE 30 to test out for the other models"
   ]
  },
  {
   "cell_type": "code",
   "execution_count": 5,
   "metadata": {},
   "outputs": [
    {
     "name": "stdout",
     "output_type": "stream",
     "text": [
      "Before SMOTE: Counter({0: 369613, 1: 56307})\n",
      "After SMOTE: Counter({0: 369613, 1: 110883})\n"
     ]
    }
   ],
   "source": [
    "from collections import Counter\n",
    "\n",
    "# Load Smote 30\n",
    "X_train_smote30, y_train_smote30 = joblib.load('smote30_resampled.joblib')\n",
    "\n",
    "# Check class distribution before SMOTE\n",
    "print(\"Before SMOTE:\", Counter(y_train))\n",
    "\n",
    "# Check class distribution after SMOTE\n",
    "print(\"After SMOTE:\", Counter(y_train_smote30))"
   ]
  },
  {
   "cell_type": "markdown",
   "metadata": {},
   "source": [
    "### Logistic Regression"
   ]
  },
  {
   "cell_type": "code",
   "execution_count": 11,
   "metadata": {},
   "outputs": [
    {
     "name": "stdout",
     "output_type": "stream",
     "text": [
      "Logistic Regression with SMOTE training completed and saved.\n"
     ]
    }
   ],
   "source": [
    "# Train Logistic Regression\n",
    "lr_smote30 = LogisticRegression(class_weight='balanced', max_iter=1000, solver='saga', random_state=42, n_jobs=-1)\n",
    "lr_smote30.fit(X_train_smote30, y_train_smote30)\n",
    "\n",
    "# Save the model\n",
    "joblib.dump(lr_smote30, '00_dataset/without_stopwords/lr_classweights/lr_smote30.joblib')\n",
    "print(\"Logistic Regression with SMOTE training completed and saved.\")"
   ]
  },
  {
   "cell_type": "code",
   "execution_count": 12,
   "metadata": {},
   "outputs": [
    {
     "name": "stdout",
     "output_type": "stream",
     "text": [
      "Validation Accuracy: 0.7225\n",
      "\n",
      "Classification Report:\n",
      "               precision    recall  f1-score   support\n",
      "\n",
      "           0       0.92      0.75      0.82     52802\n",
      "           1       0.25      0.57      0.35      8044\n",
      "\n",
      "    accuracy                           0.72     60846\n",
      "   macro avg       0.59      0.66      0.59     60846\n",
      "weighted avg       0.83      0.72      0.76     60846\n",
      "\n",
      "ROC-AUC Score:  0.7250266203299752\n"
     ]
    },
    {
     "data": {
      "text/plain": [
       "<sklearn.metrics._plot.confusion_matrix.ConfusionMatrixDisplay at 0x28a721f2870>"
      ]
     },
     "execution_count": 12,
     "metadata": {},
     "output_type": "execute_result"
    },
    {
     "data": {
      "image/png": "[encoded data removed]",
      "text/plain": [
       "<Figure size 640x480 with 2 Axes>"
      ]
     },
     "metadata": {},
     "output_type": "display_data"
    }
   ],
   "source": [
    "# Load the last saved model\n",
    "# lr_smote30 = joblib.load('00_dataset/without_stopwords/lr_classweights/lr_smote30.joblib') # Replace X with the last batch number\n",
    "\n",
    "# Predict on validation data\n",
    "y_val_pred = lr_smote30.predict(X_val_scaled)\n",
    "\n",
    "# Evaluate performance\n",
    "accuracy = accuracy_score(y_val, y_val_pred)\n",
    "print(f\"Validation Accuracy: {accuracy:.4f}\")\n",
    "\n",
    "print(\"\\nClassification Report:\\n\", classification_report(y_val, y_val_pred))\n",
    "\n",
    "# Compute ROC-AUC\n",
    "y_proba = lr_smote30.predict_proba(X_val_scaled)[:, 1]\n",
    "print(\"ROC-AUC Score: \", roc_auc_score(y_val, y_proba))\n",
    "\n",
    "# Generate confusion matrix\n",
    "cm = confusion_matrix(y_val, y_val_pred)\n",
    "\n",
    "# Display confusion matrix\n",
    "disp = ConfusionMatrixDisplay(confusion_matrix=cm, display_labels=[0, 1])\n",
    "disp.plot(cmap=\"Blues\")  # Choose a color map for visualization"
   ]
  },
  {
   "cell_type": "markdown",
   "metadata": {},
   "source": [
    "### Random Forest"
   ]
  },
  {
   "cell_type": "code",
   "execution_count": 7,
   "metadata": {},
   "outputs": [
    {
     "name": "stdout",
     "output_type": "stream",
     "text": [
      "Random Forest with SMOTE training completed and saved.\n"
     ]
    }
   ],
   "source": [
    "rf_smote30 = RandomForestClassifier(n_estimators=200, random_state=42, class_weight='balanced', n_jobs=-1)\n",
    "rf_smote30.fit(X_train_smote30, y_train_smote30)\n",
    "\n",
    "# Save the model\n",
    "joblib.dump(rf_smote30, '00_dataset/without_stopwords/rf_smote30_classweights/rf_smote30.joblib')\n",
    "print(\"Random Forest with SMOTE training completed and saved.\")"
   ]
  },
  {
   "cell_type": "code",
   "execution_count": 8,
   "metadata": {},
   "outputs": [
    {
     "name": "stdout",
     "output_type": "stream",
     "text": [
      "Validation Accuracy: 0.8669\n",
      "\n",
      "Classification Report:\n",
      "               precision    recall  f1-score   support\n",
      "\n",
      "           0       0.87      0.99      0.93     52802\n",
      "           1       0.44      0.03      0.05      8044\n",
      "\n",
      "    accuracy                           0.87     60846\n",
      "   macro avg       0.66      0.51      0.49     60846\n",
      "weighted avg       0.81      0.87      0.81     60846\n",
      "\n",
      "ROC-AUC Score:  0.6582948714647749\n"
     ]
    },
    {
     "data": {
      "text/plain": [
       "<sklearn.metrics._plot.confusion_matrix.ConfusionMatrixDisplay at 0x1bcde2173e0>"
      ]
     },
     "execution_count": 8,
     "metadata": {},
     "output_type": "execute_result"
    },
    {
     "data": {
      "image/png": "[encoded data removed]",
      "text/plain": [
       "<Figure size 640x480 with 2 Axes>"
      ]
     },
     "metadata": {},
     "output_type": "display_data"
    }
   ],
   "source": [
    "# Predict on validation data\n",
    "y_val_pred = rf_smote30.predict(X_val_scaled)\n",
    "\n",
    "# Evaluate performance\n",
    "accuracy = accuracy_score(y_val, y_val_pred)\n",
    "print(f\"Validation Accuracy: {accuracy:.4f}\")\n",
    "\n",
    "print(\"\\nClassification Report:\\n\", classification_report(y_val, y_val_pred))\n",
    "\n",
    "# Compute ROC-AUC\n",
    "y_proba = rf_smote30.predict_proba(X_val_scaled)[:, 1]\n",
    "print(\"ROC-AUC Score: \", roc_auc_score(y_val, y_proba))\n",
    "\n",
    "# Generate confusion matrix\n",
    "cm = confusion_matrix(y_val, y_val_pred)\n",
    "\n",
    "# Display confusion matrix\n",
    "disp = ConfusionMatrixDisplay(confusion_matrix=cm, display_labels=[0, 1])\n",
    "disp.plot(cmap=\"Blues\")  # Choose a color map for visualization"
   ]
  },
  {
   "cell_type": "markdown",
   "metadata": {},
   "source": [
    "### SVM\n",
    "\n",
    "running for over 500mins "
   ]
  },
  {
   "cell_type": "code",
   "execution_count": null,
   "metadata": {},
   "outputs": [],
   "source": [
    "svm_smote30 = SVC(kernel='linear', class_weight='balanced', probability=True, random_state=42)\n",
    "svm_smote30.fit(X_train_smote30, y_train_smote30)\n",
    "\n",
    "# Save the model\n",
    "joblib.dump(svm_smote30, '00_dataset/without_stopwords/svm_classweights/svm_smote30.joblib')\n",
    "print(\"SVM with SMOTE training completed and saved.\")"
   ]
  },
  {
   "cell_type": "code",
   "execution_count": null,
   "metadata": {},
   "outputs": [],
   "source": [
    "# Predict on validation data\n",
    "y_val_pred = svm_smote30.predict(X_val_scaled)\n",
    "\n",
    "# Evaluate performance\n",
    "accuracy = accuracy_score(y_val, y_val_pred)\n",
    "print(f\"Validation Accuracy: {accuracy:.4f}\")\n",
    "\n",
    "print(\"\\nClassification Report:\\n\", classification_report(y_val, y_val_pred))\n",
    "\n",
    "# Compute ROC-AUC\n",
    "y_proba = svm_smote30.predict_proba(X_val_scaled)[:, 1]\n",
    "print(\"ROC-AUC Score: \", roc_auc_score(y_val, y_proba))\n",
    "\n",
    "# Generate confusion matrix\n",
    "cm = confusion_matrix(y_val, y_val_pred)\n",
    "\n",
    "# Display confusion matrix\n",
    "disp = ConfusionMatrixDisplay(confusion_matrix=cm, display_labels=[0, 1])\n",
    "disp.plot(cmap=\"Blues\")  # Choose a color map for visualization"
   ]
  },
  {
   "cell_type": "markdown",
   "metadata": {},
   "source": [
    "### Adaboost\n",
    "\n",
    "running for over 700mins --> to try with another model"
   ]
  },
  {
   "cell_type": "code",
   "execution_count": null,
   "metadata": {},
   "outputs": [
    {
     "name": "stderr",
     "output_type": "stream",
     "text": [
      "c:\\Python312\\Lib\\site-packages\\sklearn\\ensemble\\_weight_boosting.py:527: FutureWarning: The SAMME.R algorithm (the default) is deprecated and will be removed in 1.6. Use the SAMME algorithm to circumvent this warning.\n",
      "  warnings.warn(\n"
     ]
    }
   ],
   "source": [
    "from sklearn.ensemble import AdaBoostClassifier\n",
    "import joblib\n",
    "\n",
    "# Train AdaBoost with SMOTE 0.3\n",
    "ab_smote30 = AdaBoostClassifier(n_estimators=200, learning_rate=0.1, random_state=42)\n",
    "ab_smote30.fit(X_train_smote30, y_train_smote30)\n",
    "\n",
    "# Save the model\n",
    "joblib.dump(ab_smote30, '00_dataset/without_stopwords/ab_classweights/ab_smote30.joblib')\n",
    "print(\"AdaBoost with SMOTE training completed and saved.\")"
   ]
  },
  {
   "cell_type": "code",
   "execution_count": null,
   "metadata": {},
   "outputs": [],
   "source": [
    "# Predict on validation data\n",
    "y_val_pred = ab_smote30.predict(X_val_scaled)\n",
    "\n",
    "# Evaluate performance\n",
    "accuracy = accuracy_score(y_val, y_val_pred)\n",
    "print(f\"Validation Accuracy: {accuracy:.4f}\")\n",
    "\n",
    "print(\"\\nClassification Report:\\n\", classification_report(y_val, y_val_pred))\n",
    "\n",
    "# Compute ROC-AUC\n",
    "y_proba = ab_smote30.predict_proba(X_val_scaled)[:, 1]\n",
    "print(\"ROC-AUC Score: \", roc_auc_score(y_val, y_proba))\n",
    "\n",
    "# Generate confusion matrix\n",
    "cm = confusion_matrix(y_val, y_val_pred)\n",
    "\n",
    "# Display confusion matrix\n",
    "disp = ConfusionMatrixDisplay(confusion_matrix=cm, display_labels=[0, 1])\n",
    "disp.plot(cmap=\"Blues\")  # Choose a color map for visualization"
   ]
  },
  {
   "cell_type": "markdown",
   "metadata": {},
   "source": [
    "# Apply SMOTE + Tomek\n",
    "Adds minority samples (SMOTE) & removes noisy majority samples (Tomek)"
   ]
  },
  {
   "cell_type": "code",
   "execution_count": null,
   "metadata": {},
   "outputs": [],
   "source": [
    "from imblearn.combine import SMOTETomek\n",
    "\n",
    "smote_tomek = SMOTETomek(sampling_strategy=0.5, random_state=42, n_jobs=-1)\n",
    "X_train_smote_tomek, y_train_smote_tomek = smote_tomek.fit_resample(X_train_scaled, y_train)\n",
    "\n",
    "joblib.dump((X_train_smote_tomek, y_train_smote_tomek), \"smotetomek50_resampled.joblib\")"
   ]
  },
  {
   "cell_type": "markdown",
   "metadata": {},
   "source": [
    "SMOTE Tomek will be scrape as it is taking too long to compute. (> 160 mins)"
   ]
  },
  {
   "cell_type": "code",
   "execution_count": null,
   "metadata": {},
   "outputs": [],
   "source": [
    "nb_smote_tomek = MultinomialNB(class_prior=[0.5, 0.5])\n",
    "nb_smote_tomek.fit(X_train_smote_tomek, y_train_smote_tomek)\n",
    "\n",
    "# Save the model\n",
    "joblib.dump(nb_smote_tomek, '00_dataset/without_stopwords/nb_classweights/nb_smote_tomek.joblib')\n",
    "print(\"Naive Bayes with SMOTE Tomek training completed and saved.\")"
   ]
  },
  {
   "cell_type": "code",
   "execution_count": null,
   "metadata": {},
   "outputs": [],
   "source": [
    "# Load the last saved model\n",
    "nb_smote_tomek = joblib.load('00_dataset/without_stopwords/nb_classweights/nb_smote_tomek.joblib')\n",
    "\n",
    "# Predict on validation data\n",
    "y_val_pred = nb_smote_tomek.predict(X_val_scaled)\n",
    "\n",
    "# Evaluate performance\n",
    "accuracy = accuracy_score(y_val, y_val_pred)\n",
    "print(f\"Validation Accuracy: {accuracy:.4f}\")\n",
    "\n",
    "print(\"\\nClassification Report:\\n\", classification_report(y_val, y_val_pred))\n",
    "\n",
    "# Compute ROC-AUC\n",
    "y_proba = nb_smote_tomek.predict_proba(X_val_scaled)[:, 1]\n",
    "print(\"ROC-AUC Score: \", roc_auc_score(y_val, y_proba))\n",
    "\n",
    "# Generate confusion matrix\n",
    "cm = confusion_matrix(y_val, y_val_pred)\n",
    "\n",
    "# Display confusion matrix\n",
    "disp = ConfusionMatrixDisplay(confusion_matrix=cm, display_labels=[0, 1])\n",
    "disp.plot(cmap=\"Blues\")  # Choose a color map for visualization"
   ]
  },
  {
   "cell_type": "code",
   "execution_count": null,
   "metadata": {},
   "outputs": [],
   "source": [
    "# Train Logistic Regression\n",
    "lr_smote_tomek = LogisticRegression(class_weight='balanced', max_iter=1000, solver='saga')\n",
    "lr_smote_tomek.fit(X_train_smote_tomek, y_train_smote_tomek)\n",
    "\n",
    "# Save the model\n",
    "joblib.dump(lr_smote_tomek, '00_dataset/without_stopwords/lr_classweights/lr_smote_tomek.joblib')\n",
    "print(\"Logistic Regression with SMOTE Tomek training completed and saved.\")"
   ]
  },
  {
   "cell_type": "markdown",
   "metadata": {},
   "source": [
    "# Apply SMOTE + ENN\n",
    "SMOTE ENN will be scrape as it is taking too long to compute. (> 100 mins)"
   ]
  },
  {
   "cell_type": "code",
   "execution_count": 1,
   "metadata": {},
   "outputs": [
    {
     "ename": "NameError",
     "evalue": "name 'X_train_scaled' is not defined",
     "output_type": "error",
     "traceback": [
      "\u001b[1;31m---------------------------------------------------------------------------\u001b[0m",
      "\u001b[1;31mNameError\u001b[0m                                 Traceback (most recent call last)",
      "Cell \u001b[1;32mIn[1], line 4\u001b[0m\n\u001b[0;32m      1\u001b[0m \u001b[38;5;28;01mfrom\u001b[39;00m \u001b[38;5;21;01mimblearn\u001b[39;00m\u001b[38;5;21;01m.\u001b[39;00m\u001b[38;5;21;01mcombine\u001b[39;00m \u001b[38;5;28;01mimport\u001b[39;00m SMOTEENN\n\u001b[0;32m      3\u001b[0m smote_enn \u001b[38;5;241m=\u001b[39m SMOTEENN(sampling_strategy\u001b[38;5;241m=\u001b[39m\u001b[38;5;241m0.5\u001b[39m, random_state\u001b[38;5;241m=\u001b[39m\u001b[38;5;241m42\u001b[39m, n_jobs\u001b[38;5;241m=\u001b[39m\u001b[38;5;241m-\u001b[39m\u001b[38;5;241m1\u001b[39m)\n\u001b[1;32m----> 4\u001b[0m X_train_smote_enn, y_train_smote_enn \u001b[38;5;241m=\u001b[39m smote_enn\u001b[38;5;241m.\u001b[39mfit_resample(\u001b[43mX_train_scaled\u001b[49m, y_train)\n\u001b[0;32m      6\u001b[0m joblib\u001b[38;5;241m.\u001b[39mdump((X_train_smote_enn, y_train_smote_enn), \u001b[38;5;124m\"\u001b[39m\u001b[38;5;124msmoteenn50_resampled.joblib\u001b[39m\u001b[38;5;124m\"\u001b[39m)\n",
      "\u001b[1;31mNameError\u001b[0m: name 'X_train_scaled' is not defined"
     ]
    }
   ],
   "source": [
    "from imblearn.combine import SMOTEENN\n",
    "\n",
    "smote_enn = SMOTEENN(sampling_strategy=0.5, random_state=42, n_jobs=-1)\n",
    "X_train_smote_enn, y_train_smote_enn = smote_enn.fit_resample(X_train_scaled, y_train)\n",
    "\n",
    "joblib.dump((X_train_smote_enn, y_train_smote_enn), \"smoteenn50_resampled.joblib\")"
   ]
  },
  {
   "cell_type": "code",
   "execution_count": null,
   "metadata": {},
   "outputs": [],
   "source": []
  }
 ],
 "metadata": {
  "colab": {
   "authorship_tag": "ABX9TyO6Iv3wImR/68tHMhlvmBj2",
   "collapsed_sections": [
    "5LAdCfvbsB2Q",
    "kN6Ff2xnpcYW",
    "BRw6BrTTtID5"
   ],
   "provenance": []
  },
  "kernelspec": {
   "display_name": "Python 3",
   "name": "python3"
  },
  "language_info": {
   "codemirror_mode": {
    "name": "ipython",
    "version": 3
   },
   "file_extension": ".py",
   "mimetype": "text/x-python",
   "name": "python",
   "nbconvert_exporter": "python",
   "pygments_lexer": "ipython3",
   "version": "3.12.3"
  }
 },
 "nbformat": 4,
 "nbformat_minor": 0
}
